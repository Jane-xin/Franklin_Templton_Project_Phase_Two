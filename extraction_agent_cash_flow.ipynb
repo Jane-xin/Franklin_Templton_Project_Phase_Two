{
 "cells": [
  {
   "cell_type": "code",
   "execution_count": 90,
   "id": "eebc2532-837f-49ad-9e76-f9edf401ec2d",
   "metadata": {},
   "outputs": [],
   "source": [
    "import os\n",
    "import pandas as pd\n",
    "from llama_cloud_services import LlamaExtract\n",
    "from schemas16 import StatementOfCashFlows2024  #This could be adjusted through schemas2.py\n",
    "from dotenv import load_dotenv"
   ]
  },
  {
   "cell_type": "code",
   "execution_count": 91,
   "id": "7cb28833-17f2-4981-8e3d-3886feb1b2a7",
   "metadata": {},
   "outputs": [],
   "source": [
    "PDF_ROOT = \"private_universities/university_pdfs\"\n",
    "OUTPUT_ROOT = \"output_cash_flow\"\n",
    "os.makedirs(OUTPUT_ROOT, exist_ok=True)  \n",
    "AGENT_ID = \"304914f4-ada4-4c1e-80c9-c0327d46e9ca\" #Different based on your LLamaCloud account"
   ]
  },
  {
   "cell_type": "code",
   "execution_count": null,
   "id": "aae2dfb1-91dd-4575-8177-a151e1a8dc8c",
   "metadata": {},
   "outputs": [],
   "source": [
    "load_dotenv() #make sure the API key is in the .env file\n",
    "extractor = LlamaExtract(project_id = '8c10e62e-3810-4193-915d-d2d11105826d')\n",
    "\n",
    "#uncomment the below line if you are creating the agent for the first time\n",
    "#agent = extractor.create_agent(name = \"statement_of_cash_flows-2024\", data_schema=StatementOfCashFlows2024)\n",
    "#agent = extractor.create_agent(name=\"statement_of_cash_flows-2024-16\", data_schema=StatementOfCashFlows2024)\n",
    "agent = extractor.get_agent(id = AGENT_ID)\n",
    "\n",
    "#uncomment the following lines if you updated the schema\n",
    "agent.data_schema = StatementOfCashFlows2024\n",
    "\n",
    "agent.save()\n"
   ]
  },
  {
   "cell_type": "code",
   "execution_count": 93,
   "id": "b7ac9f60-f02e-4d5c-ad1f-096b32996557",
   "metadata": {},
   "outputs": [
    {
     "data": {
      "text/plain": [
       "{'additionalProperties': False,\n",
       " 'description': \"Statement of Cash Flows for the fiscal year {year}.\\nOnly extract data from the {year} fiscal period (e.g. statements labeled ‘Fiscal Year {year}').\\nIgnore any figures outside this period. Do not extract anything from {year-1}.\\n **Only extract values from the cash flow statement or table corresponding to the current year. Do not extract from the financial statement notes or other financial sections. Do not use unrelated financial statements (e.g., income statement, balance sheet, or footnotes).**\\nDo not extract anything from the condensed or summary table or statement. Only from the long, fully elaborated statement or table.\\nDo not derive or calculate values unless they appear explicitly in the document.\\nExtract the number as it is. Don't convert its unit.\\nNote: In financial tables, values shown in parentheses (e.g., (3,705)) represent negative numbers or cash outflows.\",\n",
       " 'properties': {'total_change_in_net_assets': {'anyOf': [{'type': 'number'},\n",
       "    {'type': 'null'}],\n",
       "   'description': \"Cash amount labeled 'Total Change in Net Assets' for the 2024 fiscal year, in US dollars. Only extract the exact figure for that period.Only extract values from the cash flow statement or table corresponding to the current year. Do not use other sections of the PDF or unrelated financial statements (e.g., income statement, balance sheet, or footnotes)\"},\n",
       "  'total_non_cash_exp': {'anyOf': [{'type': 'number'}, {'type': 'null'}],\n",
       "   'description': \"Total non-cash expenses for the 2024 fiscal year, in US dollars. If the line item 'Total Non-Cash Exp' appears explicitly in the cash flow statement or its related table, extract that value. If not, calculate this as the sum of all clearly labeled non-cash expense items within the operating activities section of the cash flow statement. These may include (but are not limited to): depreciation, amortization, loss on disposal of assets, unrealized (gain)/loss on investments, non-cash interest, bad debt expense, stock-based compensation, and asset impairments. Do not include working capital adjustments, financing or investing non-cash items, or other non-operating accruals. Only extract from the cash flow statement or table corresponding to the current year. Ignore values from income statements, balance sheets, footnotes, or prior years.\"},\n",
       "  'change_in_working_capital': {'anyOf': [{'type': 'number'},\n",
       "    {'type': 'null'}],\n",
       "   'description': \"Total Change in Working Capital for the 2024 fiscal year, in US dollars. Only extract this value from the detailed 'Cash Flows from Operating Activities' section, specifically from the subsection titled 'Change in assets and liabilities', 'Changes in operating assets and liabilities', 'changes in' or any equivalent label. If a line labeled exactly as 'Change in Working Capital' is available, extract that directly. Otherwise, calculate it by summing **all individual line items** listed under this subsection. These typically include:\\n- Accounts receivable (net)\\n- Contributions receivable\\n- Prepaid expenses and other assets\\n- Accounts payable and accrued expenses\\n- Deferred revenue and other liabilities\\n- Deferred charges, deferred benefits\\n- Funds held in trust by others\\n- Obligations under split-interest agreements\\n- Other similar items**Section Identification Instructions:**\\n- Look for a section within the operating cash flow titled 'Change in assets and liabilities', 'Changes in operating assets and liabilities', or similar.\\n- Include **only and all** the rows that are visually indented under this block, up until the next subtotal line (e.g., 'Net cash provided by operating activities').\\n- Include **every line under the block** exactly once; do not omit or duplicate.\\nReturn the final total as a float. Do not perform partial estimation or inference outside this section.\"},\n",
       "  'other_changes_in_operating_activities': {'anyOf': [{'type': 'number'},\n",
       "    {'type': 'null'}],\n",
       "   'description': \"Figure labeled 'Other Changes in Operating Activities' for the 2024 fiscal year, in US dollars. Ignore any amounts outside that period.Only extract values from the cash flow statement or table corresponding to the current year. Do not use other sections of the PDF or unrelated financial statements (e.g., income statement, balance sheet, or footnotes)\"},\n",
       "  'net_cash_from_operating_activities': {'anyOf': [{'type': 'number'},\n",
       "    {'type': 'null'}],\n",
       "   'description': \"Net cash from operating activities labeled 'Net Cash from Operating Activities' for the 2024 fiscal year, in US dollars. Only use the figure for that period.Only extract values from the cash flow statement or table corresponding to the current year. Do not use other sections of the PDF or unrelated financial statements (e.g., income statement, balance sheet, or footnotes)\"},\n",
       "  'capital_expenses': {'anyOf': [{'type': 'number'}, {'type': 'null'}],\n",
       "   'description': \"Cash outflow for capital expenditures labeled 'Capital Expenses' in the 2024 fiscal year, in US dollars. Extract the exact amount for that period.Only extract values from the cash flow statement or table corresponding to the current year. Do not use other sections of the PDF or unrelated financial statements (e.g., income statement, balance sheet, or footnotes)\"},\n",
       "  'other_changes_in_investment_activities': {'anyOf': [{'type': 'number'},\n",
       "    {'type': 'null'}],\n",
       "   'description': \"Line item 'Other Changes in Investment Activities' for the 2024 fiscal year, in US dollars. Ignore entries outside that period.Only extract values from the cash flow statement or table corresponding to the current year. Do not use other sections of the PDF or unrelated financial statements (e.g., income statement, balance sheet, or footnotes)\"},\n",
       "  'net_cash_from_investment_activities': {'anyOf': [{'type': 'number'},\n",
       "    {'type': 'null'}],\n",
       "   'description': \"Net cash from investing activities labeled 'Net Cash from Investment Activities' for the 2024 fiscal year, in US dollars. Use only the figure for that period.Only extract values from the cash flow statement or table corresponding to the current year. Do not use other sections of the PDF or unrelated financial statements (e.g., income statement, balance sheet, or footnotes)\"},\n",
       "  'long_term_debt_net_proceeds': {'anyOf': [{'type': 'number'},\n",
       "    {'type': 'null'}],\n",
       "   'description': \"Net cash inflow from long-term debt activities during the 2024 fiscal year, in US dollars (not in thousands). Extract only from the cash flow statement or detailed cash flow table for the current year. Do not use the income statement, balance sheet, or footnotes. Compute this as the net of long-term debt issuances (e.g., 'Proceeds from Bonds/Notes/Leases') minus repayments or retirements (e.g., 'Repayment of Bonds Payable'). Do not confuse scheduled repayments with early extinguishment or refinancing. Exclude interest payments and non-cash adjustments. Only extract values explicitly labeled for fiscal year {year}. Note: Values in parentheses (e.g., (3,705)) represent negative cash flows and should be treated as such.\"},\n",
       "  'payments_on_bonds_payable': {'anyOf': [{'type': 'number'},\n",
       "    {'type': 'null'}],\n",
       "   'description': \"Cash outflow labeled 'Payments on Bonds Payable' for fiscal year 2024, in US dollars (not in thousands). Extract only from the cash flow statement or detailed cash flow table for the current fiscal year. Do not use other sections of the financial report. Only extract the value corresponding to fiscal year {year}, not prior-year columns or totals. Note: Values in parentheses (e.g., (3,705)) represent negative cash flows and should be treated as such.\"},\n",
       "  'payments_on_notes_payable': {'anyOf': [{'type': 'number'},\n",
       "    {'type': 'null'}],\n",
       "   'description': \"Cash outflow labeled 'Payments on Notes Payable' for fiscal year 2024, in US dollars (not in thousands). Extract only from the cash flow statement or detailed cash flow table for the current fiscal year. Do not use data from the balance sheet, income statement, or footnotes. Ensure the figure is labeled specifically for the {year} period. Note: Values in parentheses (e.g., (3,705)) represent negative cash flows and should be treated as such.\"},\n",
       "  'payments_on_lease_liabilities': {'anyOf': [{'type': 'number'},\n",
       "    {'type': 'null'}],\n",
       "   'description': \"Cash outflow labeled 'Payments on Lease Liabilities (Financing)' for fiscal year 2024, in US dollars (not in thousands). Extract only from the cash flow statement or statement of cash flows or detailed cash flow table for the current year. Do not extract from the financial statement notes or other financial sections，only from cash flow part. Only use the value for fiscal year {year}, and exclude prior year data or total rows. Note: Values in parentheses (e.g., (3,705)) represent negative cash flows and should be treated as such.\"},\n",
       "  'long_term_debt_principal_payments': {'anyOf': [{'type': 'number'},\n",
       "    {'type': 'null'}],\n",
       "   'description': 'Total principal repayments on long-term debt during the 2024 fiscal year, in US dollars (not in thousands). Include all relevant cash outflows clearly identified as long-term debt principal repayments, even if labeled as bonds, notes, leases, or loans. If multiple related line items exist, sum them to obtain the total. if there are proceeds of bond issuance, do not include bond principle paymentsExclude any interest payments, refinancing charges, or non-cash adjustments. Extract only from the cash flow statement or detailed table for the current year. Do not extract from income statement, balance sheet, footnotes, or other sections. Only use the value specifically labeled for the {year} period. Note: Values in parentheses (e.g., (3,705)) represent negative cash flows and should be treated as such.'},\n",
       "  'change_in_long_term_debt': {'anyOf': [{'type': 'number'}, {'type': 'null'}],\n",
       "   'description': \"Net change labeled 'Change in Long-Term Debt' for the 2024 fiscal year, in US dollars. Only extract values from the cash flow statement or table corresponding to the current year. Do not use other sections of the PDF or unrelated financial statements (e.g., income statement, balance sheet, or footnotes)Only extract the figure for that period.\"},\n",
       "  'other_changes_in_financing_activities': {'anyOf': [{'type': 'number'},\n",
       "    {'type': 'null'}],\n",
       "   'description': \"Figure labeled 'Other Changes in Financing Activities' for the 2024 fiscal year, in US dollars. Only extract values from the cash flow statement or table corresponding to the current year. Do not use other sections of the PDF or unrelated financial statements (e.g., income statement, balance sheet, or footnotes)Only use that period's entry.\"},\n",
       "  'cash_flows_from_noncapital_financing_activities': {'anyOf': [{'type': 'number'},\n",
       "    {'type': 'null'}],\n",
       "   'description': \"Figure labeled 'Cash flows from noncapital financing activities' for the 2024 fiscal year, in US dollars. Only extract values from the cash flow statement or table corresponding to the current year. Do not use other sections of the PDF or unrelated financial statements (e.g., income statement, balance sheet, or footnotes)Only use that period's entry.\"},\n",
       "  'cash_flows_from_capital_and_related_financing_activities': {'anyOf': [{'type': 'number'},\n",
       "    {'type': 'null'}],\n",
       "   'description': \"Figure labeled 'Cash flows from capital and related financing activities' for the 2024 fiscal year, in US dollars. Only extract values from the cash flow statement or table corresponding to the current year. Do not use other sections of the PDF or unrelated financial statements (e.g., income statement, balance sheet, or footnotes)Only use that period's entry.\"},\n",
       "  'net_cash_from_financing_activities': {'anyOf': [{'type': 'number'},\n",
       "    {'type': 'null'}],\n",
       "   'description': \"Net cash from financing activities labeled 'Net Cash from Financing Activities' for the 2024 fiscal year, in US dollars. Only extract values from the cash flow statement or table corresponding to the current year. Do not use other sections of the PDF or unrelated financial statements (e.g., income statement, balance sheet, or footnotes)If the both fields 'cash_flows_from_noncapital_financing_activities' and 'cash_flows_from_capital_and_related_financing_activities' are populated, this field should be the combination of these fields.Extract exclusively that period's figure.\"},\n",
       "  'change_in_cash_and_equivalents': {'anyOf': [{'type': 'number'},\n",
       "    {'type': 'null'}],\n",
       "   'description': \"Overall 'Change in Cash & Equivalents' or 'Net change in cash and cash equivalents' for the 2024 fiscal year, in US dollars. Only extract values from the cash flow statement or table corresponding to the current year. Do not use other sections of the PDF or unrelated financial statements (e.g., income statement, balance sheet, or footnotes)Ignore any data from other periods.\"},\n",
       "  'cash_flow_2024_unit_multiplier': {'anyOf': [{'type': 'number'},\n",
       "    {'type': 'null'}],\n",
       "   'description': \"Numeric multiplier corresponding to the unit (e.g., 'in thousands', 'in millions') used in the 2024 fiscal year's Statement of Cash Flows. Only extract values from the cash flow statement or table corresponding to the current year. Do not use other sections of the PDF or unrelated financial statements (e.g., income statement, balance sheet, or footnotes)Return 1 if values are reported in dollars (i.e., no multiplier). Ensure this is strictly from the 2024 period only; ignore units from other years or sections.\"}},\n",
       " 'required': ['total_change_in_net_assets',\n",
       "  'total_non_cash_exp',\n",
       "  'change_in_working_capital',\n",
       "  'other_changes_in_operating_activities',\n",
       "  'net_cash_from_operating_activities',\n",
       "  'capital_expenses',\n",
       "  'other_changes_in_investment_activities',\n",
       "  'net_cash_from_investment_activities',\n",
       "  'long_term_debt_net_proceeds',\n",
       "  'payments_on_bonds_payable',\n",
       "  'payments_on_notes_payable',\n",
       "  'payments_on_lease_liabilities',\n",
       "  'long_term_debt_principal_payments',\n",
       "  'change_in_long_term_debt',\n",
       "  'other_changes_in_financing_activities',\n",
       "  'cash_flows_from_noncapital_financing_activities',\n",
       "  'cash_flows_from_capital_and_related_financing_activities',\n",
       "  'net_cash_from_financing_activities',\n",
       "  'change_in_cash_and_equivalents',\n",
       "  'cash_flow_2024_unit_multiplier'],\n",
       " 'type': 'object'}"
      ]
     },
     "execution_count": 93,
     "metadata": {},
     "output_type": "execute_result"
    }
   ],
   "source": [
    "agent.data_schema"
   ]
  },
  {
   "cell_type": "code",
   "execution_count": 94,
   "id": "0e5d6aea-6a9b-49c8-aaed-c4c09a966766",
   "metadata": {},
   "outputs": [
    {
     "name": "stdout",
     "output_type": "stream",
     "text": [
      "Extracting data from BRADLEY_UNIVERSITY/Annual_Financial_Information_and_Operating_Data__Rule_15c2-12__for_FY24_for_the_year_ended_05_31_2024__227_KB_.pdf\n"
     ]
    },
    {
     "name": "stderr",
     "output_type": "stream",
     "text": [
      "Uploading files: 100%|██████████| 1/1 [00:01<00:00,  1.00s/it]\n",
      "Creating extraction jobs: 100%|██████████| 1/1 [00:01<00:00,  1.63s/it]\n",
      "Extracting files: 100%|██████████| 1/1 [00:09<00:00,  9.07s/it]\n"
     ]
    },
    {
     "name": "stdout",
     "output_type": "stream",
     "text": [
      "Extracting data from BRADLEY_UNIVERSITY/Audited_Financial_Statements_or_ACFR__Rule_15c2-12__for_FY24_for_the_year_ended_05_31_2024__541_KB_.pdf\n"
     ]
    },
    {
     "name": "stderr",
     "output_type": "stream",
     "text": [
      "Uploading files: 100%|██████████| 1/1 [00:00<00:00,  1.08it/s]\n",
      "Creating extraction jobs: 100%|██████████| 1/1 [00:00<00:00,  1.16it/s]\n",
      "Extracting files: 100%|██████████| 1/1 [00:11<00:00, 11.38s/it]\n"
     ]
    },
    {
     "name": "stdout",
     "output_type": "stream",
     "text": [
      "Extracting data from CORNELL_UNIVERSITY/2024_Audited_Financial_Statements_for_the_year_ended_06_30_2024__788_KB_.pdf\n"
     ]
    },
    {
     "name": "stderr",
     "output_type": "stream",
     "text": [
      "Uploading files: 100%|██████████| 1/1 [00:00<00:00,  1.08it/s]\n",
      "Creating extraction jobs: 100%|██████████| 1/1 [00:01<00:00,  1.15s/it]\n",
      "Extracting files: 100%|██████████| 1/1 [00:08<00:00,  8.74s/it]\n"
     ]
    },
    {
     "name": "stdout",
     "output_type": "stream",
     "text": [
      "Extracting data from CULINARY_INSTITUTE_OF_AMERICA_THE/2024_Annual_Report_-_Corrected_for_the_year_ended_05_31_2024__130_KB_.pdf\n"
     ]
    },
    {
     "name": "stderr",
     "output_type": "stream",
     "text": [
      "Uploading files: 100%|██████████| 1/1 [00:00<00:00,  1.28it/s]\n",
      "Creating extraction jobs: 100%|██████████| 1/1 [00:01<00:00,  1.25s/it]\n",
      "Extracting files: 100%|██████████| 1/1 [00:10<00:00, 10.21s/it]\n"
     ]
    },
    {
     "name": "stdout",
     "output_type": "stream",
     "text": [
      "Extracting data from CULINARY_INSTITUTE_OF_AMERICA_THE/2024_Annual_Report_for_the_year_ended_05_31_2024__129_KB_.pdf\n"
     ]
    },
    {
     "name": "stderr",
     "output_type": "stream",
     "text": [
      "Uploading files: 100%|██████████| 1/1 [00:00<00:00,  1.36it/s]\n",
      "Creating extraction jobs: 100%|██████████| 1/1 [00:02<00:00,  2.04s/it]\n",
      "Extracting files: 100%|██████████| 1/1 [00:07<00:00,  7.58s/it]\n"
     ]
    },
    {
     "name": "stdout",
     "output_type": "stream",
     "text": [
      "Extracting data from CULINARY_INSTITUTE_OF_AMERICA_THE/2024_Audited_Financial_Statements_for_the_year_ended_05_31_2024__277_KB_.pdf\n"
     ]
    },
    {
     "name": "stderr",
     "output_type": "stream",
     "text": [
      "Uploading files: 100%|██████████| 1/1 [00:00<00:00,  1.11it/s]\n",
      "Creating extraction jobs: 100%|██████████| 1/1 [00:00<00:00,  2.29it/s]\n",
      "Extracting files: 100%|██████████| 1/1 [00:08<00:00,  8.85s/it]\n"
     ]
    },
    {
     "name": "stdout",
     "output_type": "stream",
     "text": [
      "Extracting data from GANNON_UNIVERSITY/Audited_Financial_Statements_for_the_year_ended_06_30_2024__786_KB_.pdf\n"
     ]
    },
    {
     "name": "stderr",
     "output_type": "stream",
     "text": [
      "Uploading files: 100%|██████████| 1/1 [00:01<00:00,  1.12s/it]\n",
      "Creating extraction jobs: 100%|██████████| 1/1 [00:01<00:00,  1.16s/it]\n",
      "Extracting files: 100%|██████████| 1/1 [00:09<00:00,  9.04s/it]\n"
     ]
    },
    {
     "name": "stdout",
     "output_type": "stream",
     "text": [
      "Extracting data from GANNON_UNIVERSITY/Continued_Disclosures_Fall_2024_for_the_year_ended_06_30_2024_Document1__203_KB_.pdf\n"
     ]
    },
    {
     "name": "stderr",
     "output_type": "stream",
     "text": [
      "Uploading files: 100%|██████████| 1/1 [00:00<00:00,  1.03it/s]\n",
      "Creating extraction jobs: 100%|██████████| 1/1 [00:00<00:00,  1.18it/s]\n",
      "Extracting files: 100%|██████████| 1/1 [00:07<00:00,  7.55s/it]\n"
     ]
    },
    {
     "name": "stdout",
     "output_type": "stream",
     "text": [
      "Extracting data from LEWIS_UNIVERSITY/Audited_Financial_Statements_for_the_year_ended_06_30_2024__430_KB_.pdf\n"
     ]
    },
    {
     "name": "stderr",
     "output_type": "stream",
     "text": [
      "Uploading files: 100%|██████████| 1/1 [00:01<00:00,  1.31s/it]\n",
      "Creating extraction jobs: 100%|██████████| 1/1 [00:00<00:00,  2.82it/s]\n",
      "Extracting files: 100%|██████████| 1/1 [00:19<00:00, 19.61s/it]\n"
     ]
    },
    {
     "name": "stdout",
     "output_type": "stream",
     "text": [
      "Extracting data from LEWIS_UNIVERSITY/Continuing_Disclosure_for_the_year_ended_06_30_2024__298_KB_.pdf\n"
     ]
    },
    {
     "name": "stderr",
     "output_type": "stream",
     "text": [
      "Uploading files: 100%|██████████| 1/1 [00:00<00:00,  1.12it/s]\n",
      "Creating extraction jobs: 100%|██████████| 1/1 [00:01<00:00,  1.64s/it]\n",
      "Extracting files: 100%|██████████| 1/1 [00:10<00:00, 10.43s/it]\n"
     ]
    },
    {
     "name": "stdout",
     "output_type": "stream",
     "text": [
      "Extracting data from MOLLOY_COLLEGE/Financial_Operating_Filing_for_the_year_ended_06_30_2024_Document1__304_KB_.pdf\n"
     ]
    },
    {
     "name": "stderr",
     "output_type": "stream",
     "text": [
      "Uploading files: 100%|██████████| 1/1 [00:00<00:00,  1.13it/s]\n",
      "Creating extraction jobs: 100%|██████████| 1/1 [00:00<00:00,  1.02it/s]\n",
      "Extracting files: 100%|██████████| 1/1 [00:08<00:00,  8.81s/it]\n"
     ]
    },
    {
     "name": "stdout",
     "output_type": "stream",
     "text": [
      "Extracting data from MOLLOY_COLLEGE/Financial_Operating_Filing_for_the_year_ended_06_30_2024_Document2__142_KB_.pdf\n"
     ]
    },
    {
     "name": "stderr",
     "output_type": "stream",
     "text": [
      "Uploading files: 100%|██████████| 1/1 [00:00<00:00,  1.22it/s]\n",
      "Creating extraction jobs: 100%|██████████| 1/1 [00:01<00:00,  1.48s/it]\n",
      "Extracting files: 100%|██████████| 1/1 [00:07<00:00,  7.59s/it]\n"
     ]
    },
    {
     "name": "stdout",
     "output_type": "stream",
     "text": [
      "Extracting data from MOUNT_ST_MARY_S_UNIVERSITY_INC/Audited_Annual_Financials_for_the_year_ended_06_30_2024_Document1__29.1_MB_.pdf\n"
     ]
    },
    {
     "name": "stderr",
     "output_type": "stream",
     "text": [
      "Uploading files: 100%|██████████| 1/1 [00:11<00:00, 11.38s/it]\n",
      "Creating extraction jobs: 100%|██████████| 1/1 [00:01<00:00,  1.81s/it]\n",
      "Extracting files: 100%|██████████| 1/1 [00:19<00:00, 19.77s/it]\n"
     ]
    },
    {
     "name": "stdout",
     "output_type": "stream",
     "text": [
      "Extracting data from MOUNT_ST_MARY_S_UNIVERSITY_INC/Audited_Annual_Financials_for_the_year_ended_06_30_2024_Document2__5_MB_.pdf\n"
     ]
    },
    {
     "name": "stderr",
     "output_type": "stream",
     "text": [
      "Uploading files: 100%|██████████| 1/1 [00:02<00:00,  2.34s/it]\n",
      "Creating extraction jobs: 100%|██████████| 1/1 [00:01<00:00,  1.18s/it]\n",
      "Extracting files: 100%|██████████| 1/1 [00:18<00:00, 18.80s/it]\n"
     ]
    },
    {
     "name": "stdout",
     "output_type": "stream",
     "text": [
      "Extracting data from NEW_YORK_UNIVERSITY/2024_Certificate_of_Compliance_-_Audit_for_the_year_ended_06_30_2024__330_KB_.pdf\n"
     ]
    },
    {
     "name": "stderr",
     "output_type": "stream",
     "text": [
      "Uploading files: 100%|██████████| 1/1 [00:00<00:00,  1.12it/s]\n",
      "Creating extraction jobs: 100%|██████████| 1/1 [00:01<00:00,  1.47s/it]\n",
      "Extracting files: 100%|██████████| 1/1 [00:09<00:00,  9.99s/it]\n"
     ]
    },
    {
     "name": "stdout",
     "output_type": "stream",
     "text": [
      "Extracting data from NEW_YORK_UNIVERSITY/2024_Certificate_of_Compliance_for_the_year_ended_06_30_2024__323_KB_.pdf\n"
     ]
    },
    {
     "name": "stderr",
     "output_type": "stream",
     "text": [
      "Uploading files: 100%|██████████| 1/1 [00:00<00:00,  1.38it/s]\n",
      "Creating extraction jobs: 100%|██████████| 1/1 [00:00<00:00,  1.21it/s]\n",
      "Extracting files: 100%|██████████| 1/1 [00:09<00:00,  9.97s/it]\n"
     ]
    },
    {
     "name": "stdout",
     "output_type": "stream",
     "text": [
      "Extracting data from NEW_YORK_UNIVERSITY/2024_Consolidated_Financial_Statements_New_York_University_for_the_year_ended_06_30_2024__466_KB_.pdf\n"
     ]
    },
    {
     "name": "stderr",
     "output_type": "stream",
     "text": [
      "Uploading files: 100%|██████████| 1/1 [00:00<00:00,  1.18it/s]\n",
      "Creating extraction jobs: 100%|██████████| 1/1 [00:00<00:00,  1.06it/s]\n",
      "Extracting files: 100%|██████████| 1/1 [00:12<00:00, 12.82s/it]\n"
     ]
    },
    {
     "name": "stdout",
     "output_type": "stream",
     "text": [
      "Extracting data from NEW_YORK_UNIVERSITY/2024_Operating_Data_for_the_year_ended_06_30_2024__244_KB_.pdf\n"
     ]
    },
    {
     "name": "stderr",
     "output_type": "stream",
     "text": [
      "Uploading files: 100%|██████████| 1/1 [00:00<00:00,  1.26it/s]\n",
      "Creating extraction jobs: 100%|██████████| 1/1 [00:03<00:00,  3.53s/it]\n",
      "Extracting files: 100%|██████████| 1/1 [00:08<00:00,  8.76s/it]\n"
     ]
    },
    {
     "name": "stdout",
     "output_type": "stream",
     "text": [
      "Extracting data from PRESIDENT___FELLOWS_OF_HARVARD_COLLEGE/Harvard_University_Audited_Financial_Information_for_the_year_ended_06_30_2024__10.6_MB_.pdf\n"
     ]
    },
    {
     "name": "stderr",
     "output_type": "stream",
     "text": [
      "Uploading files: 100%|██████████| 1/1 [00:07<00:00,  7.33s/it]\n",
      "Creating extraction jobs: 100%|██████████| 1/1 [00:00<00:00,  1.10it/s]\n",
      "Extracting files: 100%|██████████| 1/1 [00:14<00:00, 14.86s/it]\n"
     ]
    },
    {
     "name": "stdout",
     "output_type": "stream",
     "text": [
      "Extracting data from PRESIDENT___FELLOWS_OF_HARVARD_COLLEGE/Harvard_University_Financial_Report_for_the_year_ended_06_30_2024__10.6_MB_.pdf\n"
     ]
    },
    {
     "name": "stderr",
     "output_type": "stream",
     "text": [
      "Uploading files: 100%|██████████| 1/1 [00:08<00:00,  8.31s/it]\n",
      "Creating extraction jobs: 100%|██████████| 1/1 [00:01<00:00,  1.29s/it]\n",
      "Extracting files: 100%|██████████| 1/1 [00:13<00:00, 13.83s/it]\n"
     ]
    },
    {
     "name": "stdout",
     "output_type": "stream",
     "text": [
      "Extracting data from PRESIDENT___FELLOWS_OF_HARVARD_COLLEGE/Harvard_University_Student_Applications_and_Enrollment_for_the_year_ended_06_30_2024__557_KB_.pdf\n"
     ]
    },
    {
     "name": "stderr",
     "output_type": "stream",
     "text": [
      "Uploading files: 100%|██████████| 1/1 [00:00<00:00,  1.00it/s]\n",
      "Creating extraction jobs: 100%|██████████| 1/1 [00:01<00:00,  1.09s/it]\n",
      "Extracting files: 100%|██████████| 1/1 [00:09<00:00,  9.04s/it]\n"
     ]
    },
    {
     "name": "stdout",
     "output_type": "stream",
     "text": [
      "Extracting data from STEVENSON_UNIVERSITY_INC/2024_Annual_Compliance_Certificate__EagleBank__for_the_year_ended_06_30_2024__3_MB_.pdf\n"
     ]
    },
    {
     "name": "stderr",
     "output_type": "stream",
     "text": [
      "Uploading files: 100%|██████████| 1/1 [00:01<00:00,  1.40s/it]\n",
      "Creating extraction jobs: 100%|██████████| 1/1 [00:01<00:00,  1.28s/it]\n",
      "Extracting files: 100%|██████████| 1/1 [00:19<00:00, 19.02s/it]\n"
     ]
    },
    {
     "name": "stdout",
     "output_type": "stream",
     "text": [
      "Extracting data from STEVENSON_UNIVERSITY_INC/2024_Annual_Compliance_Certificate_for_the_year_ended_06_30_2024__2.8_MB_.pdf\n"
     ]
    },
    {
     "name": "stderr",
     "output_type": "stream",
     "text": [
      "Uploading files: 100%|██████████| 1/1 [00:01<00:00,  1.09s/it]\n",
      "Creating extraction jobs: 100%|██████████| 1/1 [00:01<00:00,  1.39s/it]\n",
      "Extracting files: 100%|██████████| 1/1 [00:10<00:00, 10.10s/it]\n"
     ]
    },
    {
     "name": "stdout",
     "output_type": "stream",
     "text": [
      "Extracting data from STEVENSON_UNIVERSITY_INC/2024_Audited_Financial_Statements_for_the_year_ended_06_30_2024__348_KB_.pdf\n"
     ]
    },
    {
     "name": "stderr",
     "output_type": "stream",
     "text": [
      "Uploading files: 100%|██████████| 1/1 [00:00<00:00,  1.20it/s]\n",
      "Creating extraction jobs: 100%|██████████| 1/1 [00:00<00:00,  1.21it/s]\n",
      "Extracting files: 100%|██████████| 1/1 [00:10<00:00, 10.12s/it]\n"
     ]
    },
    {
     "name": "stdout",
     "output_type": "stream",
     "text": [
      "Extracting data from STEVENSON_UNIVERSITY_INC/2024_Operating_Data_for_the_year_ended_06_30_2024__196_KB_.pdf\n"
     ]
    },
    {
     "name": "stderr",
     "output_type": "stream",
     "text": [
      "Uploading files: 100%|██████████| 1/1 [00:00<00:00,  1.15it/s]\n",
      "Creating extraction jobs: 100%|██████████| 1/1 [00:01<00:00,  1.22s/it]\n",
      "Extracting files: 100%|██████████| 1/1 [00:07<00:00,  7.50s/it]\n"
     ]
    },
    {
     "name": "stdout",
     "output_type": "stream",
     "text": [
      "Extracting data from STEVENS_INSTITUTE_OF_TECHNOLOGY/Annual_Report_for_the_year_ended_06_30_2024__216_KB_.pdf\n"
     ]
    },
    {
     "name": "stderr",
     "output_type": "stream",
     "text": [
      "Uploading files: 100%|██████████| 1/1 [00:00<00:00,  1.13it/s]\n",
      "Creating extraction jobs: 100%|██████████| 1/1 [00:00<00:00,  1.98it/s]\n",
      "Extracting files: 100%|██████████| 1/1 [00:07<00:00,  7.50s/it]\n"
     ]
    },
    {
     "name": "stdout",
     "output_type": "stream",
     "text": [
      "Extracting data from STEVENS_INSTITUTE_OF_TECHNOLOGY/Audit_Financial_Statement_for_the_year_ended_06_30_2024__626_KB_.pdf\n"
     ]
    },
    {
     "name": "stderr",
     "output_type": "stream",
     "text": [
      "Uploading files: 100%|██████████| 1/1 [00:00<00:00,  1.09it/s]\n",
      "Creating extraction jobs: 100%|██████████| 1/1 [00:01<00:00,  1.96s/it]\n",
      "Extracting files: 100%|██████████| 1/1 [00:09<00:00,  9.04s/it]\n"
     ]
    },
    {
     "name": "stdout",
     "output_type": "stream",
     "text": [
      "Extracting data from ST_LOUIS_UNIVERSITY_US/Amendment_to_Continuing_Disclosure_Undertaking_dated_01_05_2024__392_KB_.pdf\n"
     ]
    },
    {
     "name": "stderr",
     "output_type": "stream",
     "text": [
      "Uploading files: 100%|██████████| 1/1 [00:00<00:00,  1.28it/s]\n",
      "Creating extraction jobs: 100%|██████████| 1/1 [00:01<00:00,  1.29s/it]\n",
      "Extracting files: 100%|██████████| 1/1 [00:07<00:00,  7.58s/it]\n"
     ]
    },
    {
     "name": "stdout",
     "output_type": "stream",
     "text": [
      "Extracting data from ST_LOUIS_UNIVERSITY_US/Audited_Financials_and_Operating_Data_for_the_year_ended_06_30_2024_Document1__561_KB_.pdf\n"
     ]
    },
    {
     "name": "stderr",
     "output_type": "stream",
     "text": [
      "Uploading files: 100%|██████████| 1/1 [00:00<00:00,  1.07it/s]\n",
      "Creating extraction jobs: 100%|██████████| 1/1 [00:00<00:00,  2.66it/s]\n",
      "Extracting files: 100%|██████████| 1/1 [00:10<00:00, 10.00s/it]\n"
     ]
    },
    {
     "name": "stdout",
     "output_type": "stream",
     "text": [
      "Extracting data from ST_LOUIS_UNIVERSITY_US/Audited_Financials_and_Operating_Data_for_the_year_ended_06_30_2024_Document2__174_KB_.pdf\n"
     ]
    },
    {
     "name": "stderr",
     "output_type": "stream",
     "text": [
      "Uploading files: 100%|██████████| 1/1 [00:00<00:00,  1.43it/s]\n",
      "Creating extraction jobs: 100%|██████████| 1/1 [00:02<00:00,  2.05s/it]\n",
      "Extracting files: 100%|██████████| 1/1 [00:07<00:00,  7.49s/it]"
     ]
    },
    {
     "name": "stdout",
     "output_type": "stream",
     "text": [
      "All schools written to output_cash_flow/all_update.xlsx\n"
     ]
    },
    {
     "name": "stderr",
     "output_type": "stream",
     "text": [
      "\n"
     ]
    }
   ],
   "source": [
    "# Set the path to the final Excel output file\n",
    "OUTPUT_FILE = os.path.join(OUTPUT_ROOT, \"all_update.xlsx\")\n",
    "\n",
    "# Create a Pandas Excel writer using openpyxl\n",
    "writer = pd.ExcelWriter(OUTPUT_FILE, engine=\"openpyxl\")\n",
    "\n",
    "# Track schools with mismatch between calculated and reported cash change\n",
    "test = []\n",
    "\n",
    "# Iterate through all schools (each school is a folder inside PDF_ROOT)\n",
    "for school in sorted(os.listdir(PDF_ROOT)):\n",
    "    school_dir = os.path.join(PDF_ROOT, school)\n",
    "    \n",
    "    # Skip if not a directory\n",
    "    if not os.path.isdir(school_dir):\n",
    "        continue\n",
    "\n",
    "    combined   = {}      # Store combined extracted values for the school\n",
    "    first_keys = None    # Store the order of extracted keys\n",
    "\n",
    "    # Loop through PDF files inside the school folder\n",
    "    for fname in sorted(os.listdir(school_dir)):\n",
    "        if not fname.lower().endswith(\".pdf\"):\n",
    "            continue\n",
    "\n",
    "        path = os.path.join(school_dir, fname)\n",
    "        print(f\"Extracting data from {school}/{fname}\")\n",
    "\n",
    "        try:\n",
    "            run  = agent.extract(path)          # Use the agent to extract data\n",
    "            data = run.data or {}               # Fallback to empty if no data\n",
    "\n",
    "            # Initialize keys on the first successful extraction\n",
    "            if first_keys is None:\n",
    "                first_keys = list(data.keys())\n",
    "                combined  = {k: None for k in first_keys}\n",
    "\n",
    "            # Update combined values only with non-empty results\n",
    "            for k, v in data.items():\n",
    "                if v not in (None, \"\", []):\n",
    "                    combined[k] = v\n",
    "\n",
    "        except Exception as err:\n",
    "            print(f\"Skipped {fname}: {err}\")  # Handle and log extraction failures\n",
    "\n",
    "    # Proceed only if we have valid keys\n",
    "    if first_keys:\n",
    "        # Convert combined dictionary to a single-column DataFrame\n",
    "        df = pd.DataFrame.from_dict(combined, orient=\"index\", columns=[\"2023-24\"])\n",
    "        df.index.name = \"Metric\"\n",
    "        \n",
    "        # Sheet names in Excel are limited to 31 characters\n",
    "        sheet_name = school[:31]\n",
    "        df.to_excel(writer, sheet_name=sheet_name)\n",
    "\n",
    "        cap = df.loc['cash_flows_from_capital_and_related_financing_activities'].iloc[0]\n",
    "        noncap = df.loc['cash_flows_from_noncapital_financing_activities'].iloc[0]\n",
    "        \n",
    "        if pd.isna(df.loc['net_cash_from_financing_activities'].iloc[0]) or df.loc['net_cash_from_financing_activities'].iloc[0] == 0:\n",
    "            # Only set if at least one component is not None/NaN\n",
    "            if not pd.isna(cap) or not pd.isna(noncap):\n",
    "                df.loc['net_cash_from_financing_activities'] = (cap or 0) + (noncap or 0)\n",
    "        # Pull out individual cash flow components and fill missing with 0\n",
    "        s_op  = df.loc['net_cash_from_operating_activities'].fillna(0)\n",
    "        s_inv = df.loc['net_cash_from_investment_activities'].fillna(0)\n",
    "        s_fin = df.loc['net_cash_from_financing_activities'].fillna(0)\n",
    "\n",
    "        # Compute total net change in cash (should match reported value)\n",
    "        comb = s_op + s_inv + s_fin\n",
    "        orig = df.loc['change_in_cash_and_equivalents']\n",
    "\n",
    "        # If calculated total doesn't match reported value, flag the school\n",
    "        if not orig.fillna(0).equals(comb):\n",
    "            test.append(school)\n",
    "    else:\n",
    "        print(f\"No data for {school}.\")\n",
    "\n",
    "# Save the Excel file\n",
    "writer.close()\n",
    "print(f\"All schools written to {OUTPUT_FILE}\")\n"
   ]
  },
  {
   "cell_type": "code",
   "execution_count": 95,
   "id": "c704394e-406c-49d0-9254-14754ce4031f",
   "metadata": {},
   "outputs": [
    {
     "name": "stdout",
     "output_type": "stream",
     "text": [
      "Saved: output_cash_flow/all_update_combined.xlsx\n"
     ]
    }
   ],
   "source": [
    "# Set file paths for input Excel (with multiple sheets) and output Excel (with single combined sheet)\n",
    "file_path   = \"output_cash_flow/all_update.xlsx\"\n",
    "output_path = \"output_cash_flow/all_update_combined.xlsx\"\n",
    "\n",
    "# Read all sheets from the Excel file into a dictionary of DataFrames\n",
    "# Each key in `raw` is a sheet name (i.e., school), and the value is its DataFrame\n",
    "raw = pd.read_excel(file_path, sheet_name=None, index_col=0)\n",
    "\n",
    "# Create a dictionary where:\n",
    "# - keys = school names\n",
    "# - values = the first (and only) column of each sheet (Series of metrics)\n",
    "school_series = {\n",
    "    school: df.iloc[:, 0]   # Extract the only column (i.e., \"2023‑24\") as a Series\n",
    "    for school, df in raw.items()\n",
    "}\n",
    "\n",
    "# Combine all school Series into one DataFrame:\n",
    "# - Each row = one school\n",
    "# - Each column = one financial metric\n",
    "df_comb = pd.DataFrame(school_series).T\n",
    "df_comb.index.name = \"School\"  # Name the row index\n",
    "\n",
    "# Insert a \"Year\" column at the front for context\n",
    "df_comb.insert(0, \"Year\", \"2024\")\n",
    "\n",
    "# Write the combined DataFrame to a new Excel file with a single sheet\n",
    "with pd.ExcelWriter(output_path, engine=\"openpyxl\") as writer:\n",
    "    df_comb.to_excel(writer, sheet_name=\"Combined\")\n",
    "\n",
    "# Confirm that the file is saved\n",
    "print(\"Saved:\", output_path)"
   ]
  },
  {
   "cell_type": "code",
   "execution_count": 96,
   "id": "c00a768e-d144-47a0-8e69-d290108687da",
   "metadata": {},
   "outputs": [
    {
     "data": {
      "text/plain": [
       "[]"
      ]
     },
     "execution_count": 96,
     "metadata": {},
     "output_type": "execute_result"
    }
   ],
   "source": [
    "test"
   ]
  }
 ],
 "metadata": {
  "kernelspec": {
   "display_name": "base",
   "language": "python",
   "name": "python3"
  },
  "language_info": {
   "codemirror_mode": {
    "name": "ipython",
    "version": 3
   },
   "file_extension": ".py",
   "mimetype": "text/x-python",
   "name": "python",
   "nbconvert_exporter": "python",
   "pygments_lexer": "ipython3",
   "version": "3.12.7"
  }
 },
 "nbformat": 4,
 "nbformat_minor": 5
}
