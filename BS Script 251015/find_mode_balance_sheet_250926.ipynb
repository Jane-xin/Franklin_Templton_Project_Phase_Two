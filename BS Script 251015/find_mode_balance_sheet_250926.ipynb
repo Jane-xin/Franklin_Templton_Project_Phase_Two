{
 "cells": [
  {
   "cell_type": "code",
   "execution_count": 21,
   "id": "aa3611b3-450b-4afd-940f-33d26a71748b",
   "metadata": {},
   "outputs": [],
   "source": [
    "import pandas as pd\n",
    "from scipy.stats import mode\n",
    "import numpy as np\n",
    "import itertools"
   ]
  },
  {
   "cell_type": "code",
   "execution_count": 22,
   "id": "4779834c",
   "metadata": {},
   "outputs": [],
   "source": [
    "files = [\n",
    "    # \"more_universities_bs_0925.xlsx\",\n",
    "    # \"more_universities_bs_0925_2.xlsx\",\n",
    "    # \"more_universities_bs_0925_3.xlsx\",\n",
    "    # \"more_universities_second_half_bs_0929.xlsx\",\n",
    "    # \"more_universities_second_half_bs_0929_2.xlsx\",\n",
    "    # \"more_universities_second_half_bs_0929_3.xlsx\",\n",
    "    # \"more_universities_second_half_bs_0929_4.xlsx\"\n",
    "    # \"more_universities_second_half_bs_1009.xlsx\",\n",
    "    # \"more_universities_second_half_bs_1009_2.xlsx\",\n",
    "    # \"more_universities_second_half_bs_1009_3.xlsx\"\n",
    "    \"more_universities_second_half_bs_1013.xlsx\",\n",
    "    \"more_universities_second_half_bs_1013_2.xlsx\",\n",
    "    \"more_universities_second_half_bs_1013_3.xlsx\"\n",
    "]\n",
    "\n",
    "dfs = [pd.read_excel(f, index_col=0) for f in files]\n",
    "combined = pd.concat(dfs, keys=range(len(dfs)))\n",
    "\n",
    "\n",
    "def safe_mode(x):\n",
    "    counts = x.value_counts(dropna=True)\n",
    "    if counts.empty:\n",
    "        return 0\n",
    "\n",
    "    # Case 1: No unique mode (tie in counts)\n",
    "    if len(counts) > 1 and counts.iloc[0] == counts.iloc[1:].max():\n",
    "        unique_vals = np.sort(x.dropna().unique())\n",
    "        \n",
    "        # --- Rule A: All 3 values within 1% of their average ---\n",
    "        if len(unique_vals) == 3:\n",
    "            avg_all = np.mean(unique_vals)\n",
    "            diffs = np.abs(unique_vals - avg_all) / avg_all\n",
    "            if (diffs < 0.01).all():\n",
    "                return avg_all\n",
    "\n",
    "            # --- Rule B: Any 2 of 3 values within 5% of each other ---\n",
    "            for a, b in itertools.combinations(unique_vals, 2):  # all (n choose 2) pairs\n",
    "                if abs(a - b) / np.mean([a, b]) < 0.05:\n",
    "                    return np.mean([a, b])\n",
    "                \n",
    "        # --- Rule C: if no mode is found, return the latest one\n",
    "        return x.iloc[-1]\n",
    "\n",
    "    return counts.idxmax()"
   ]
  },
  {
   "cell_type": "code",
   "execution_count": 23,
   "id": "3ad45ca0",
   "metadata": {},
   "outputs": [],
   "source": [
    "combined = combined.copy()\n",
    "combined[\"RowType\"] = \"data\"\n",
    "combined = combined.reset_index(level=0, drop=True)"
   ]
  },
  {
   "cell_type": "code",
   "execution_count": 24,
   "id": "b77ba26a",
   "metadata": {},
   "outputs": [],
   "source": [
    "if isinstance(combined.columns, pd.MultiIndex):\n",
    "    combined.columns = combined.columns.droplevel(0)\n",
    "if 'school' in combined.index.names:\n",
    "    combined = combined.reset_index(level='school')"
   ]
  },
  {
   "cell_type": "code",
   "execution_count": 25,
   "id": "49cb0226",
   "metadata": {},
   "outputs": [],
   "source": [
    "# combined['receivables_leftover'].fillna(combined['receivables_leftover_calculated'])\n",
    "\n",
    "net_receivables_components = [\n",
    "        \"accounts_receivable\",\n",
    "        \"pledges_receivable\",\n",
    "        \"government_grants_and_other_receivables\",\n",
    "        \"loans_receivable\",\n",
    "        # \"receivables_leftover\"\n",
    "        \"receivables_leftover_calculated\"\n",
    "    ]\n",
    "\n",
    "combined['net_receivables'] = combined[net_receivables_components].fillna(0).sum(axis=1)"
   ]
  },
  {
   "cell_type": "code",
   "execution_count": 26,
   "id": "aa555132",
   "metadata": {},
   "outputs": [],
   "source": [
    "cols = [\n",
    "    \"accumulated_depreciation_bs\",\n",
    "    \"accumulated_depreciation_notes\",\n",
    "    \"accumulated_amortization_bs\",\n",
    "    \"accumulated_amortization_notes\"\n",
    "]\n",
    "for col in cols:\n",
    "    combined[col] = pd.to_numeric(combined[col], errors=\"coerce\").fillna(0)\n",
    "\n",
    "combined[\"accumulated_depreciation\"] = (\n",
    "    combined[[\"accumulated_depreciation_bs\", \"accumulated_depreciation_notes\"]]\n",
    "    .replace(0, np.nan)\n",
    "    .bfill(axis=1)\n",
    "    .iloc[:, 0]\n",
    "    .fillna(0)\n",
    "    +\n",
    "    combined[[\"accumulated_amortization_bs\", \"accumulated_amortization_notes\"]]\n",
    "    .replace(0, np.nan)\n",
    "    .bfill(axis=1)\n",
    "    .iloc[:, 0]\n",
    "    .fillna(0)\n",
    ")"
   ]
  },
  {
   "cell_type": "code",
   "execution_count": 27,
   "id": "f2f86164",
   "metadata": {},
   "outputs": [],
   "source": [
    "mode_df = combined.groupby(['school'], dropna=False).agg(safe_mode).reset_index()\n",
    "mode_df[\"RowType\"] = \"mode\""
   ]
  },
  {
   "cell_type": "code",
   "execution_count": 28,
   "id": "d48dbe3c",
   "metadata": {},
   "outputs": [],
   "source": [
    "final_df = pd.concat([combined, mode_df], axis=0)"
   ]
  },
  {
   "cell_type": "code",
   "execution_count": 29,
   "id": "18afc2e4",
   "metadata": {},
   "outputs": [],
   "source": [
    "# final_df[\"_sort_key\"] = final_df.index.astype(str) + final_df[\"RowType\"].map(lambda x: \"zzz\" if x==\"mode\" else \"aaa\")\n",
    "# final_df = final_df.sort_values(by=[\"_sort_key\"], kind=\"mergesort\").drop(columns=\"_sort_key\")\n",
    "\n",
    "final_df[\"_sort_key\"] = final_df[\"RowType\"].map(lambda x: 1 if x == \"data\" else 2)\n",
    "final_df = (\n",
    "    final_df.sort_values(by=[\"school\", \"_sort_key\"], kind=\"mergesort\")\n",
    "             .drop(columns=\"_sort_key\")\n",
    "             .reset_index(drop=True)\n",
    ")"
   ]
  },
  {
   "cell_type": "code",
   "execution_count": 30,
   "id": "ceeda593",
   "metadata": {},
   "outputs": [],
   "source": [
    "asset_components = [\n",
    "    \"cash_and_short_term_investments_unrestricted\",\n",
    "    \"net_receivables\",\n",
    "    \"net_fixed_assets\",\n",
    "    \"long_term_investments_unrestricted_and_restricted\",\n",
    "    \"rou_assets_operating_lease\"\n",
    "]\n",
    "\n",
    "liability_components = [\n",
    "    \"short_term_debt\",\n",
    "    # \"current_portion_finance_lease\",\n",
    "    # \"current_portion_long_term_debt\",\n",
    "    # \"current_portion_operating_lease\",\n",
    "    \"accounts_payable\",\n",
    "    \"deferred_revenue\",\n",
    "    \"long_term_debt\",\n",
    "    \"finance_lease_liability\",\n",
    "    \"operating_lease_liability\",\n",
    "    \"swap_obligation_fmv\",\n",
    "    \"pension_and_opeb_liability\"\n",
    "]\n",
    "\n",
    "final_df[\"sum_asset_components\"] = final_df[asset_components].fillna(0).sum(axis=1)\n",
    "final_df[\"sum_liability_components\"] = final_df[liability_components].fillna(0).sum(axis=1)\n",
    "\n",
    "mask_mode = final_df[\"RowType\"] == \"mode\"\n",
    "\n",
    "final_df.loc[mask_mode, \"other_assets_plug\"] = (\n",
    "    final_df.loc[mask_mode, \"total_assets\"] \n",
    "    - final_df.loc[mask_mode, \"sum_asset_components\"]\n",
    ")\n",
    "\n",
    "final_df.loc[mask_mode, \"other_liabilities_plug\"] = (\n",
    "    final_df.loc[mask_mode, \"total_liabilities\"] \n",
    "    - final_df.loc[mask_mode, \"sum_liability_components\"]\n",
    ")\n",
    "\n",
    "final_df.drop(columns=[\"sum_asset_components\", \"sum_liability_components\"], inplace=True)"
   ]
  },
  {
   "cell_type": "code",
   "execution_count": 31,
   "id": "68c55749",
   "metadata": {},
   "outputs": [],
   "source": [
    "order = ['RowType']+[col for col in final_df.columns if col != 'RowType']\n",
    "final_df_ordered = final_df[order]\n",
    "final_df_ordered.to_excel(\"combined_with_modes_1012.xlsx\",index=False)"
   ]
  },
  {
   "cell_type": "code",
   "execution_count": null,
   "id": "c1bf26ce",
   "metadata": {},
   "outputs": [],
   "source": []
  }
 ],
 "metadata": {
  "kernelspec": {
   "display_name": "Python 3",
   "language": "python",
   "name": "python3"
  },
  "language_info": {
   "codemirror_mode": {
    "name": "ipython",
    "version": 3
   },
   "file_extension": ".py",
   "mimetype": "text/x-python",
   "name": "python",
   "nbconvert_exporter": "python",
   "pygments_lexer": "ipython3",
   "version": "3.13.5"
  }
 },
 "nbformat": 4,
 "nbformat_minor": 5
}
