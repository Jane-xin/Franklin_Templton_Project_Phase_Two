{
 "cells": [
  {
   "cell_type": "code",
   "execution_count": 45,
   "id": "aa3611b3-450b-4afd-940f-33d26a71748b",
   "metadata": {},
   "outputs": [],
   "source": [
    "import os\n",
    "import pandas as pd\n",
    "from llama_cloud_services import LlamaExtract\n",
    "from dotenv import load_dotenv\n",
    "from typing import Optional\n",
    "from pydantic import ValidationError\n",
    "\n",
    "from pydantic import BaseModel, Field\n",
    "from typing import Optional, Type\n",
    "\n",
    "from BS_Schema import make_StatementOfFinancialPosition_model\n",
    "\n",
    "import BS_Schema\n",
    "from importlib import reload\n",
    "\n",
    "BS_Schema = reload(BS_Schema)"
   ]
  },
  {
   "cell_type": "code",
   "execution_count": 47,
   "id": "e1a40dea-7154-4af1-bb26-8456517de462",
   "metadata": {},
   "outputs": [
    {
     "name": "stdout",
     "output_type": "stream",
     "text": [
      "StatementOfFinancialPosition_2024\n",
      "['year', 'cash_and_short_term_investments_unrestricted_and_restricted', 'accumulated_depreciation', 'net_fixed_assets', 'long_term_investments_unrestricted_and_restricted', 'total_assets', 'short_term_debt', 'long_term_debt', 'pension_and_opeb_liability', 'total_liabilities', 'net_assets_without_donor_restrictions', 'expendable_net_assets_with_donor_restrictions', 'perpetual_net_assets_with_donor_restrictions', 'net_assets_with_donor_restrictions', 'total_net_assets', 'total_liabilities_and_net_assets', 'net_receivables', 'rou_assets_finance_lease', 'rou_assets_operating_lease', 'other_assets', 'current_portion_finance_lease', 'current_portion_long_term_debt', 'current_portion_operating_lease', 'accounts_payable', 'deferred_revenue', 'long_term_finance_lease', 'long_term_operating_lease', 'swap_obligation_fmv', 'pension_liability', 'opeb_liability', 'other_liabilities', 'net_assets', 'noncontrolling_interest']\n"
     ]
    }
   ],
   "source": [
    "## Import Class\n",
    "SFP = make_StatementOfFinancialPosition_model(2024)\n",
    "# 4.2) Inspect its name and fields\n",
    "print(SFP.__name__)           # → \"StatementOfFinancialPosition_2024\"\n",
    "print(list(SFP.__fields__.keys()))"
   ]
  },
  {
   "cell_type": "code",
   "execution_count": 49,
   "id": "85b3ea7f-3210-4984-9dde-12cff5161396",
   "metadata": {},
   "outputs": [],
   "source": []
  },
  {
   "cell_type": "code",
   "execution_count": 51,
   "id": "23352f38-f6d5-4722-92a6-1920e220346e",
   "metadata": {},
   "outputs": [],
   "source": [
    "PDF_ROOT = \"scrapping/university_pdfs/\"\n",
    "OUTPUT_ROOT = \"output_Balance_Sheet_DS\"\n",
    "os.makedirs(OUTPUT_ROOT, exist_ok=True)  \n",
    "AGENT_ID = \"bcb15a18-67ac-4772-9965-2654ecaff88c\" #Different based on your LLamaCloud account\n",
    "load_dotenv() #make sure the API key is in the .env file\n",
    "Year = 2024\n",
    "extractor = LlamaExtract(api_key='llx-jlyOr0ZQwOzn0BPYgzggmo6mFShTLTsxdrXGviOaBf6IDnHG',project_id = '8c10e62e-3810-4193-915d-d2d11105826d')# LlamaExtract(project_id = '8c10e62e-3810-4193-915d-d2d11105826d')\n",
    "\n",
    "# #uncomment the below line if you are creating the agent for the first time\n",
    "# agent = extractor.create_agent(name = \"balance-sheet-parser-v1\", data_schema=SFP)\n",
    "\n",
    "agent = extractor.get_agent(id = AGENT_ID)\n",
    "\n",
    "# uncomment the following lines if you updated the schema\n",
    "agent.data_schema = SFP\n",
    "agent.save()\n",
    "agent = extractor.get_agent(id = AGENT_ID)"
   ]
  },
  {
   "cell_type": "code",
   "execution_count": 53,
   "id": "5c10a8e5-afe8-4f3c-ba6e-f852ece7edf2",
   "metadata": {},
   "outputs": [
    {
     "data": {
      "text/plain": [
       "{'additionalProperties': False,\n",
       " 'properties': {'year': {'description': 'Only extract from the full Statement of Financial Position (Balance Sheet); do not use condensed or net financial position tables, and do not perform any calculations—capture the number exactly as shown. The fiscal year for all line‐items: 2024.',\n",
       "   'type': 'integer'},\n",
       "  'cash_and_short_term_investments_unrestricted_and_restricted': {'anyOf': [{'type': 'integer'},\n",
       "    {'type': 'null'}],\n",
       "   'description': 'Only extract from the full Statement of Financial Position (Balance Sheet); do not use condensed or net financial position tables, and do not perform any calculations—capture the number exactly as shown. Cash & Short-Term Investments (both unrestricted & restricted) as of June 30, 2024.'},\n",
       "  'accumulated_depreciation': {'anyOf': [{'type': 'integer'},\n",
       "    {'type': 'null'}],\n",
       "   'description': 'Only extract from the full Statement of Financial Position (Balance Sheet); do not use condensed or net financial position tables, and do not perform any calculations—capture the number exactly as shown. Accumulated Depreciation as of June 30, 2024.'},\n",
       "  'net_fixed_assets': {'anyOf': [{'type': 'integer'}, {'type': 'null'}],\n",
       "   'description': 'Only extract from the full Statement of Financial Position (Balance Sheet); do not use condensed or net financial position tables, and do not perform any calculations—capture the number exactly as shown. Net Fixed Assets as of June 30, 2024.'},\n",
       "  'long_term_investments_unrestricted_and_restricted': {'anyOf': [{'type': 'integer'},\n",
       "    {'type': 'null'}],\n",
       "   'description': 'Only extract from the full Statement of Financial Position (Balance Sheet); do not use condensed or net financial position tables, and do not perform any calculations—capture the number exactly as shown. Long-Term Investments (unrestricted & restricted) as of June 30, 2024.'},\n",
       "  'total_assets': {'anyOf': [{'type': 'integer'}, {'type': 'null'}],\n",
       "   'description': 'Only extract from the full Statement of Financial Position (Balance Sheet); do not use condensed or net financial position tables, and do not perform any calculations—capture the number exactly as shown. Total Assets as of June 30, 2024.'},\n",
       "  'short_term_debt': {'anyOf': [{'type': 'integer'}, {'type': 'null'}],\n",
       "   'description': 'Only extract from the full Statement of Financial Position (Balance Sheet); do not use condensed or net financial position tables, and do not perform any calculations—capture the number exactly as shown. Short-Term Debt as of June 30, 2024.'},\n",
       "  'long_term_debt': {'anyOf': [{'type': 'integer'}, {'type': 'null'}],\n",
       "   'description': 'Only extract from the full Statement of Financial Position (Balance Sheet); do not use condensed or net financial position tables, and do not perform any calculations—capture the number exactly as shown. Long-Term Debt as of June 30, 2024.'},\n",
       "  'pension_and_opeb_liability': {'anyOf': [{'type': 'integer'},\n",
       "    {'type': 'null'}],\n",
       "   'description': 'Only extract from the full Statement of Financial Position (Balance Sheet); do not use condensed or net financial position tables, and do not perform any calculations—capture the number exactly as shown. Pension & OPEB Liability as of June 30, 2024.'},\n",
       "  'total_liabilities': {'anyOf': [{'type': 'integer'}, {'type': 'null'}],\n",
       "   'description': 'Only extract from the full Statement of Financial Position (Balance Sheet); do not use condensed or net financial position tables, and do not perform any calculations—capture the number exactly as shown. Total Liabilities as of June 30, 2024.'},\n",
       "  'net_assets_without_donor_restrictions': {'anyOf': [{'type': 'integer'},\n",
       "    {'type': 'null'}],\n",
       "   'description': 'Only extract from the full Statement of Financial Position (Balance Sheet); do not use condensed or net financial position tables, and do not perform any calculations—capture the number exactly as shown. Net Assets without Donor Restrictions as of June 30, 2024.'},\n",
       "  'expendable_net_assets_with_donor_restrictions': {'anyOf': [{'type': 'integer'},\n",
       "    {'type': 'null'}],\n",
       "   'description': 'Only extract from the full Statement of Financial Position (Balance Sheet); do not use condensed or net financial position tables, and do not perform any calculations—capture the number exactly as shown. Expendable Net Assets with Donor Restrictions as of June 30, 2024.'},\n",
       "  'perpetual_net_assets_with_donor_restrictions': {'anyOf': [{'type': 'integer'},\n",
       "    {'type': 'null'}],\n",
       "   'description': 'Only extract from the full Statement of Financial Position (Balance Sheet); do not use condensed or net financial position tables, and do not perform any calculations—capture the number exactly as shown. Perpetual Net Assets with Donor Restrictions as of June 30, 2024.'},\n",
       "  'net_assets_with_donor_restrictions': {'anyOf': [{'type': 'integer'},\n",
       "    {'type': 'null'}],\n",
       "   'description': 'Only extract from the full Statement of Financial Position (Balance Sheet); do not use condensed or net financial position tables, and do not perform any calculations—capture the number exactly as shown. Total Net Assets with Donor Restrictions as of June 30, 2024.'},\n",
       "  'total_net_assets': {'anyOf': [{'type': 'integer'}, {'type': 'null'}],\n",
       "   'description': 'Only extract from the full Statement of Financial Position (Balance Sheet); do not use condensed or net financial position tables, and do not perform any calculations—capture the number exactly as shown. Total Net Assets as of June 30, 2024.'},\n",
       "  'total_liabilities_and_net_assets': {'anyOf': [{'type': 'integer'},\n",
       "    {'type': 'null'}],\n",
       "   'description': 'Only extract from the full Statement of Financial Position (Balance Sheet); do not use condensed or net financial position tables, and do not perform any calculations—capture the number exactly as shown. Total Liabilities & Net Assets as of June 30, 2024.'},\n",
       "  'net_receivables': {'anyOf': [{'type': 'integer'}, {'type': 'null'}],\n",
       "   'description': \"Only extract from the full Statement of Financial Position (Balance Sheet); do not use condensed or net financial position tables, and do not perform any calculations—capture the number exactly as shown. Net Receivables as of June 30, 2024. May be labeled 'Net Receivables'.\"},\n",
       "  'rou_assets_finance_lease': {'anyOf': [{'type': 'integer'},\n",
       "    {'type': 'null'}],\n",
       "   'description': 'Only extract from the full Statement of Financial Position (Balance Sheet); do not use condensed or net financial position tables, and do not perform any calculations—capture the number exactly as shown. ROU Assets – Finance Lease as of June 30, 2024.'},\n",
       "  'rou_assets_operating_lease': {'anyOf': [{'type': 'integer'},\n",
       "    {'type': 'null'}],\n",
       "   'description': 'Only extract from the full Statement of Financial Position (Balance Sheet); do not use condensed or net financial position tables, and do not perform any calculations—capture the number exactly as shown. ROU Assets – Operating Lease as of June 30, 2024.'},\n",
       "  'other_assets': {'anyOf': [{'type': 'integer'}, {'type': 'null'}],\n",
       "   'description': 'Only extract from the full Statement of Financial Position (Balance Sheet); do not use condensed or net financial position tables, and do not perform any calculations—capture the number exactly as shown. Other Assets as of June 30, 2024.'},\n",
       "  'current_portion_finance_lease': {'anyOf': [{'type': 'integer'},\n",
       "    {'type': 'null'}],\n",
       "   'description': 'Only extract from the full Statement of Financial Position (Balance Sheet); do not use condensed or net financial position tables, and do not perform any calculations—capture the number exactly as shown. Current Portion of Finance Lease as of June 30, 2024.'},\n",
       "  'current_portion_long_term_debt': {'anyOf': [{'type': 'integer'},\n",
       "    {'type': 'null'}],\n",
       "   'description': 'Only extract from the full Statement of Financial Position (Balance Sheet); do not use condensed or net financial position tables, and do not perform any calculations—capture the number exactly as shown. Current Portion of Long-Term Debt as of June 30, 2024.'},\n",
       "  'current_portion_operating_lease': {'anyOf': [{'type': 'integer'},\n",
       "    {'type': 'null'}],\n",
       "   'description': 'Only extract from the full Statement of Financial Position (Balance Sheet); do not use condensed or net financial position tables, and do not perform any calculations—capture the number exactly as shown. Current Portion of Operating Lease as of June 30, 2024.'},\n",
       "  'accounts_payable': {'anyOf': [{'type': 'integer'}, {'type': 'null'}],\n",
       "   'description': 'Only extract from the full Statement of Financial Position (Balance Sheet); do not use condensed or net financial position tables, and do not perform any calculations—capture the number exactly as shown. Accounts Payable as of June 30, 2024.'},\n",
       "  'deferred_revenue': {'anyOf': [{'type': 'integer'}, {'type': 'null'}],\n",
       "   'description': 'Only extract from the full Statement of Financial Position (Balance Sheet); do not use condensed or net financial position tables, and do not perform any calculations—capture the number exactly as shown. Deferred Revenue as of June 30, 2024.'},\n",
       "  'long_term_finance_lease': {'anyOf': [{'type': 'integer'}, {'type': 'null'}],\n",
       "   'description': 'Only extract from the full Statement of Financial Position (Balance Sheet); do not use condensed or net financial position tables, and do not perform any calculations—capture the number exactly as shown. Long-Term Finance Lease as of June 30, 2024.'},\n",
       "  'long_term_operating_lease': {'anyOf': [{'type': 'integer'},\n",
       "    {'type': 'null'}],\n",
       "   'description': 'Only extract from the full Statement of Financial Position (Balance Sheet); do not use condensed or net financial position tables, and do not perform any calculations—capture the number exactly as shown. Long-Term Operating Lease as of June 30, 2024.'},\n",
       "  'swap_obligation_fmv': {'anyOf': [{'type': 'integer'}, {'type': 'null'}],\n",
       "   'description': 'Only extract from the full Statement of Financial Position (Balance Sheet); do not use condensed or net financial position tables, and do not perform any calculations—capture the number exactly as shown. Swap Obligation (FMV) as of June 30, 2024.'},\n",
       "  'pension_liability': {'anyOf': [{'type': 'integer'}, {'type': 'null'}],\n",
       "   'description': 'Only extract from the full Statement of Financial Position (Balance Sheet); do not use condensed or net financial position tables, and do not perform any calculations—capture the number exactly as shown. Pension Liability as of June 30, 2024.'},\n",
       "  'opeb_liability': {'anyOf': [{'type': 'integer'}, {'type': 'null'}],\n",
       "   'description': 'Only extract from the full Statement of Financial Position (Balance Sheet); do not use condensed or net financial position tables, and do not perform any calculations—capture the number exactly as shown. OPEB Liability as of June 30, 2024.'},\n",
       "  'other_liabilities': {'anyOf': [{'type': 'integer'}, {'type': 'null'}],\n",
       "   'description': 'Only extract from the full Statement of Financial Position (Balance Sheet); do not use condensed or net financial position tables, and do not perform any calculations—capture the number exactly as shown. Other Liabilities as of June 30, 2024.'},\n",
       "  'net_assets': {'anyOf': [{'type': 'integer'}, {'type': 'null'}],\n",
       "   'description': 'Only extract from the full Statement of Financial Position (Balance Sheet); do not use condensed or net financial position tables, and do not perform any calculations—capture the number exactly as shown. Net Assets as of June 30, 2024.'},\n",
       "  'noncontrolling_interest': {'anyOf': [{'type': 'integer'}, {'type': 'null'}],\n",
       "   'description': 'Only extract from the full Statement of Financial Position (Balance Sheet); do not use condensed or net financial position tables, and do not perform any calculations—capture the number exactly as shown. Noncontrolling Interest as of June 30, 2024.'}},\n",
       " 'required': ['year',\n",
       "  'cash_and_short_term_investments_unrestricted_and_restricted',\n",
       "  'accumulated_depreciation',\n",
       "  'net_fixed_assets',\n",
       "  'long_term_investments_unrestricted_and_restricted',\n",
       "  'total_assets',\n",
       "  'short_term_debt',\n",
       "  'long_term_debt',\n",
       "  'pension_and_opeb_liability',\n",
       "  'total_liabilities',\n",
       "  'net_assets_without_donor_restrictions',\n",
       "  'expendable_net_assets_with_donor_restrictions',\n",
       "  'perpetual_net_assets_with_donor_restrictions',\n",
       "  'net_assets_with_donor_restrictions',\n",
       "  'total_net_assets',\n",
       "  'total_liabilities_and_net_assets',\n",
       "  'net_receivables',\n",
       "  'rou_assets_finance_lease',\n",
       "  'rou_assets_operating_lease',\n",
       "  'other_assets',\n",
       "  'current_portion_finance_lease',\n",
       "  'current_portion_long_term_debt',\n",
       "  'current_portion_operating_lease',\n",
       "  'accounts_payable',\n",
       "  'deferred_revenue',\n",
       "  'long_term_finance_lease',\n",
       "  'long_term_operating_lease',\n",
       "  'swap_obligation_fmv',\n",
       "  'pension_liability',\n",
       "  'opeb_liability',\n",
       "  'other_liabilities',\n",
       "  'net_assets',\n",
       "  'noncontrolling_interest'],\n",
       " 'type': 'object'}"
      ]
     },
     "execution_count": 53,
     "metadata": {},
     "output_type": "execute_result"
    }
   ],
   "source": [
    "#check data schema\n",
    "agent.data_schema"
   ]
  },
  {
   "cell_type": "code",
   "execution_count": 57,
   "id": "b18275c4-4f9c-4a7b-9f49-9716a7db5be3",
   "metadata": {},
   "outputs": [],
   "source": [
    "def process_school(school_name, school_dir):\n",
    "    combined   = {}\n",
    "    first_keys = None\n",
    "\n",
    "    for fname in sorted(os.listdir(school_dir)):\n",
    "        if not fname.lower().endswith(\".pdf\"):\n",
    "            continue\n",
    "        path = os.path.join(school_dir, fname)\n",
    "        print(f\"Extracting data from {fname}\")\n",
    "        try:\n",
    "            run  = agent.extract(path)\n",
    "            data = run.data or {}\n",
    "            if first_keys is None:\n",
    "                first_keys = list(data.keys())\n",
    "                combined  = {k: None for k in first_keys}\n",
    "            for k, v in data.items():\n",
    "                if v not in (None, \"\", []):\n",
    "                    combined[k] = v\n",
    "        except Exception as err:\n",
    "            print(f\"Skipped {fname}: {err}\")\n",
    "\n",
    "    if first_keys:\n",
    "        df = pd.DataFrame.from_dict(combined, orient=\"index\", columns=[\"2024-25\"])\n",
    "        df.index.name = \"Metric\"\n",
    "        outfile = os.path.join(OUTPUT_ROOT, f\"{school_name}.xlsx\")\n",
    "        df.to_excel(outfile)\n",
    "        print(f\"Saved output to {outfile}\")\n",
    "    else:\n",
    "        print(f\"No PDF data found for {school_name}\")"
   ]
  },
  {
   "cell_type": "code",
   "execution_count": null,
   "id": "00b8b2fe-147d-4668-b359-5b48a56a9184",
   "metadata": {},
   "outputs": [],
   "source": []
  },
  {
   "cell_type": "code",
   "execution_count": 65,
   "id": "259ae70f-b030-4079-a7af-fc46f5e69d08",
   "metadata": {},
   "outputs": [
    {
     "name": "stdout",
     "output_type": "stream",
     "text": [
      "Extracting data from ARIZONA_STATE_UNIVERSITY/FY_2024_Arizona_State_University_Annual_Comprehensive_Financial_Report_for_the_year_ended_06_30_2024__4.1_MB_.pdf\n"
     ]
    },
    {
     "name": "stderr",
     "output_type": "stream",
     "text": [
      "Uploading files: 100%|████████████████████████████| 1/1 [00:01<00:00,  1.11s/it]\n",
      "Creating extraction jobs: 100%|███████████████████| 1/1 [00:01<00:00,  1.24s/it]\n",
      "Extracting files: 100%|███████████████████████████| 1/1 [00:24<00:00, 24.51s/it]\n"
     ]
    },
    {
     "name": "stdout",
     "output_type": "stream",
     "text": [
      "Extracting data from BRADLEY_UNIVERSITY/Annual_Financial_Information_and_Operating_Data__Rule_15c2-12__for_FY24_for_the_year_ended_05_31_2024__227_KB_.pdf\n"
     ]
    },
    {
     "name": "stderr",
     "output_type": "stream",
     "text": [
      "Uploading files: 100%|████████████████████████████| 1/1 [00:00<00:00,  1.39it/s]\n",
      "Creating extraction jobs: 100%|███████████████████| 1/1 [00:01<00:00,  1.76s/it]\n",
      "Extracting files: 100%|███████████████████████████| 1/1 [00:10<00:00, 10.21s/it]\n"
     ]
    },
    {
     "name": "stdout",
     "output_type": "stream",
     "text": [
      "Extracting data from BRADLEY_UNIVERSITY/Audited_Financial_Statements_or_ACFR__Rule_15c2-12__for_FY24_for_the_year_ended_05_31_2024__541_KB_.pdf\n"
     ]
    },
    {
     "name": "stderr",
     "output_type": "stream",
     "text": [
      "Uploading files: 100%|████████████████████████████| 1/1 [00:00<00:00,  1.29it/s]\n",
      "Creating extraction jobs: 100%|███████████████████| 1/1 [00:02<00:00,  2.97s/it]\n",
      "Extracting files: 100%|███████████████████████████| 1/1 [00:15<00:00, 15.05s/it]\n"
     ]
    },
    {
     "name": "stdout",
     "output_type": "stream",
     "text": [
      "Extracting data from CALIFORNIA_STATE_UNIVERSITY/Exhibit_1_CSU_Combined_Financial_Stmts_6-30-24_for_the_year_ended_06_30_2024__15.6_MB_.pdf\n"
     ]
    },
    {
     "name": "stderr",
     "output_type": "stream",
     "text": [
      "Uploading files: 100%|████████████████████████████| 1/1 [00:01<00:00,  1.90s/it]\n",
      "Creating extraction jobs: 100%|███████████████████| 1/1 [00:01<00:00,  1.85s/it]\n",
      "Extracting files: 100%|███████████████████████████| 1/1 [00:23<00:00, 23.64s/it]\n"
     ]
    },
    {
     "name": "stdout",
     "output_type": "stream",
     "text": [
      "Extracting data from CALIFORNIA_STATE_UNIVERSITY/Exhibit_1_CSU_Combined_Financial_Stmts_6-30-24_for_the_year_ended_06_30_2024__308_KB_.pdf\n"
     ]
    },
    {
     "name": "stderr",
     "output_type": "stream",
     "text": [
      "Uploading files: 100%|████████████████████████████| 1/1 [00:00<00:00,  1.76it/s]\n",
      "Creating extraction jobs: 100%|███████████████████| 1/1 [00:02<00:00,  2.15s/it]\n",
      "Extracting files: 100%|███████████████████████████| 1/1 [00:09<00:00,  9.01s/it]\n"
     ]
    },
    {
     "name": "stdout",
     "output_type": "stream",
     "text": [
      "Extracting data from CALIFORNIA_STATE_UNIVERSITY/Exhibit_1_DRAFT_UNAUDITED_CSU_Combined_Financial_Statements_6-30-24_for_the_year_ended_06_30_2024__1.2_MB_.pdf\n"
     ]
    },
    {
     "name": "stderr",
     "output_type": "stream",
     "text": [
      "Uploading files: 100%|████████████████████████████| 1/1 [00:00<00:00,  1.30it/s]\n",
      "Creating extraction jobs: 100%|███████████████████| 1/1 [00:00<00:00,  1.23it/s]\n",
      "Extracting files: 100%|███████████████████████████| 1/1 [00:15<00:00, 15.36s/it]\n"
     ]
    },
    {
     "name": "stdout",
     "output_type": "stream",
     "text": [
      "Extracting data from CALIFORNIA_STATE_UNIVERSITY/Exhibit_1_DRAFT_UNAUDITED_CSU_Combined_Financial_Statements_6-30-24_for_the_year_ended_06_30_2024__298_KB_.pdf\n"
     ]
    },
    {
     "name": "stderr",
     "output_type": "stream",
     "text": [
      "Uploading files: 100%|████████████████████████████| 1/1 [00:00<00:00,  1.76it/s]\n",
      "Creating extraction jobs: 100%|███████████████████| 1/1 [00:02<00:00,  2.36s/it]\n",
      "Extracting files: 100%|███████████████████████████| 1/1 [00:09<00:00,  9.11s/it]\n"
     ]
    },
    {
     "name": "stdout",
     "output_type": "stream",
     "text": [
      "Extracting data from CORNELL_UNIVERSITY/2024_Audited_Financial_Statements_for_the_year_ended_06_30_2024__788_KB_.pdf\n"
     ]
    },
    {
     "name": "stderr",
     "output_type": "stream",
     "text": [
      "Uploading files: 100%|████████████████████████████| 1/1 [00:01<00:00,  1.28s/it]\n",
      "Creating extraction jobs: 100%|███████████████████| 1/1 [00:01<00:00,  1.56s/it]\n",
      "Extracting files: 100%|███████████████████████████| 1/1 [00:11<00:00, 11.14s/it]\n"
     ]
    },
    {
     "name": "stdout",
     "output_type": "stream",
     "text": [
      "Extracting data from CULINARY_INSTITUTE_OF_AMERICA_THE/2024_Audited_Financial_Statements_for_the_year_ended_05_31_2024__277_KB_.pdf\n"
     ]
    },
    {
     "name": "stderr",
     "output_type": "stream",
     "text": [
      "Uploading files: 100%|████████████████████████████| 1/1 [00:00<00:00,  1.76it/s]\n",
      "Creating extraction jobs: 100%|███████████████████| 1/1 [00:01<00:00,  1.02s/it]\n",
      "Extracting files: 100%|███████████████████████████| 1/1 [00:10<00:00, 10.72s/it]\n"
     ]
    },
    {
     "name": "stdout",
     "output_type": "stream",
     "text": [
      "Extracting data from GANNON_UNIVERSITY/Audited_Financial_Statements_for_the_year_ended_06_30_2024__786_KB_.pdf\n"
     ]
    },
    {
     "name": "stderr",
     "output_type": "stream",
     "text": [
      "Uploading files: 100%|████████████████████████████| 1/1 [00:00<00:00,  1.64it/s]\n",
      "Creating extraction jobs: 100%|███████████████████| 1/1 [00:01<00:00,  1.33s/it]\n",
      "Extracting files: 100%|███████████████████████████| 1/1 [00:09<00:00,  9.82s/it]\n"
     ]
    },
    {
     "name": "stdout",
     "output_type": "stream",
     "text": [
      "Extracting data from LEWIS_UNIVERSITY/Audited_Financial_Statements_for_the_year_ended_06_30_2024__430_KB_.pdf\n"
     ]
    },
    {
     "name": "stderr",
     "output_type": "stream",
     "text": [
      "Uploading files: 100%|████████████████████████████| 1/1 [00:00<00:00,  1.50it/s]\n",
      "Creating extraction jobs: 100%|███████████████████| 1/1 [00:02<00:00,  2.05s/it]\n",
      "Extracting files: 100%|███████████████████████████| 1/1 [00:12<00:00, 12.09s/it]\n"
     ]
    },
    {
     "name": "stdout",
     "output_type": "stream",
     "text": [
      "Extracting data from MICHIGAN_STATE_UNIVERSITY/Updates_of_Tables_of_Operating_Information_for_the_year_ended_06_30_2024_Document1__143_KB_.pdf\n"
     ]
    },
    {
     "name": "stderr",
     "output_type": "stream",
     "text": [
      "Uploading files: 100%|████████████████████████████| 1/1 [00:00<00:00,  1.51it/s]\n",
      "Creating extraction jobs: 100%|███████████████████| 1/1 [00:01<00:00,  1.33s/it]\n",
      "Extracting files: 100%|███████████████████████████| 1/1 [00:08<00:00,  8.70s/it]\n"
     ]
    },
    {
     "name": "stdout",
     "output_type": "stream",
     "text": [
      "Extracting data from MICHIGAN_STATE_UNIVERSITY/Updates_of_Tables_of_Operating_Information_for_the_year_ended_06_30_2024_Document2__8.4_MB_.pdf\n"
     ]
    },
    {
     "name": "stderr",
     "output_type": "stream",
     "text": [
      "Uploading files: 100%|████████████████████████████| 1/1 [00:01<00:00,  1.28s/it]\n",
      "Creating extraction jobs: 100%|███████████████████| 1/1 [00:00<00:00,  1.18it/s]\n",
      "Extracting files: 100%|███████████████████████████| 1/1 [00:30<00:00, 30.82s/it]\n"
     ]
    },
    {
     "name": "stdout",
     "output_type": "stream",
     "text": [
      "Extracting data from MOLLOY_COLLEGE/Financial_Operating_Filing_for_the_year_ended_06_30_2024_Document1__304_KB_.pdf\n"
     ]
    },
    {
     "name": "stderr",
     "output_type": "stream",
     "text": [
      "Uploading files: 100%|████████████████████████████| 1/1 [00:01<00:00,  1.06s/it]\n",
      "Creating extraction jobs: 100%|███████████████████| 1/1 [00:01<00:00,  1.12s/it]\n",
      "Extracting files: 100%|██████████████████████████| 1/1 [05:14<00:00, 314.78s/it]\n"
     ]
    },
    {
     "name": "stdout",
     "output_type": "stream",
     "text": [
      "Extracting data from MOLLOY_COLLEGE/Financial_Operating_Filing_for_the_year_ended_06_30_2024_Document2__142_KB_.pdf\n"
     ]
    },
    {
     "name": "stderr",
     "output_type": "stream",
     "text": [
      "Uploading files: 100%|████████████████████████████| 1/1 [00:01<00:00,  1.08s/it]\n",
      "Creating extraction jobs: 100%|███████████████████| 1/1 [00:01<00:00,  1.14s/it]\n",
      "Extracting files: 100%|███████████████████████████| 1/1 [00:09<00:00,  9.70s/it]\n"
     ]
    },
    {
     "name": "stdout",
     "output_type": "stream",
     "text": [
      "Extracting data from MOUNT_ST_MARY_S_UNIVERSITY_INC/Audited_Annual_Financials_for_the_year_ended_06_30_2024_Document1__29.1_MB_.pdf\n"
     ]
    },
    {
     "name": "stderr",
     "output_type": "stream",
     "text": [
      "Uploading files: 100%|████████████████████████████| 1/1 [00:02<00:00,  2.52s/it]\n",
      "Creating extraction jobs: 100%|███████████████████| 1/1 [00:02<00:00,  2.04s/it]\n",
      "Extracting files: 100%|███████████████████████████| 1/1 [00:24<00:00, 24.57s/it]\n"
     ]
    },
    {
     "name": "stdout",
     "output_type": "stream",
     "text": [
      "Extracting data from MOUNT_ST_MARY_S_UNIVERSITY_INC/Audited_Annual_Financials_for_the_year_ended_06_30_2024_Document2__5_MB_.pdf\n"
     ]
    },
    {
     "name": "stderr",
     "output_type": "stream",
     "text": [
      "Uploading files: 100%|████████████████████████████| 1/1 [00:00<00:00,  1.02it/s]\n",
      "Creating extraction jobs: 100%|███████████████████| 1/1 [00:01<00:00,  1.55s/it]\n",
      "Extracting files: 100%|███████████████████████████| 1/1 [00:24<00:00, 24.45s/it]\n"
     ]
    },
    {
     "name": "stdout",
     "output_type": "stream",
     "text": [
      "Extracting data from NEW_YORK_UNIVERSITY/2024_Consolidated_Financial_Statements_New_York_University_for_the_year_ended_06_30_2024__466_KB_.pdf\n"
     ]
    },
    {
     "name": "stderr",
     "output_type": "stream",
     "text": [
      "Uploading files: 100%|████████████████████████████| 1/1 [00:00<00:00,  1.75it/s]\n",
      "Creating extraction jobs: 100%|███████████████████| 1/1 [00:00<00:00,  1.10it/s]\n",
      "Extracting files: 100%|███████████████████████████| 1/1 [00:15<00:00, 15.98s/it]\n"
     ]
    },
    {
     "name": "stdout",
     "output_type": "stream",
     "text": [
      "Extracting data from OHIO_STATE_UNIVERSITY_THE/The_Ohio_State_University_Annual_Update_to_Bondholders_for_the_year_ended_06_30_2024__577_KB_.pdf\n"
     ]
    },
    {
     "name": "stderr",
     "output_type": "stream",
     "text": [
      "Uploading files: 100%|████████████████████████████| 1/1 [00:00<00:00,  1.14it/s]\n",
      "Creating extraction jobs: 100%|███████████████████| 1/1 [00:02<00:00,  2.66s/it]\n",
      "Extracting files: 100%|███████████████████████████| 1/1 [00:10<00:00, 10.85s/it]\n"
     ]
    },
    {
     "name": "stdout",
     "output_type": "stream",
     "text": [
      "Extracting data from OHIO_STATE_UNIVERSITY_THE/The_Ohio_State_University_Quarterly_Update_to_Bondholders_for_the_quarter_ended_03_31_2024__577_KB_.pdf\n"
     ]
    },
    {
     "name": "stderr",
     "output_type": "stream",
     "text": [
      "Uploading files: 100%|████████████████████████████| 1/1 [00:00<00:00,  1.30it/s]\n",
      "Creating extraction jobs: 100%|███████████████████| 1/1 [00:00<00:00,  1.09it/s]\n",
      "Extracting files: 100%|███████████████████████████| 1/1 [00:43<00:00, 43.32s/it]\n"
     ]
    },
    {
     "name": "stdout",
     "output_type": "stream",
     "text": [
      "Extracting data from OHIO_STATE_UNIVERSITY_THE/The_Ohio_State_University_Quarterly_Update_to_Bondholders_for_the_quarter_ended_06_30_2024__576_KB_.pdf\n"
     ]
    },
    {
     "name": "stderr",
     "output_type": "stream",
     "text": [
      "Uploading files: 100%|████████████████████████████| 1/1 [00:00<00:00,  1.50it/s]\n",
      "Creating extraction jobs: 100%|███████████████████| 1/1 [00:01<00:00,  1.54s/it]\n",
      "Extracting files: 100%|███████████████████████████| 1/1 [00:10<00:00, 10.54s/it]\n"
     ]
    },
    {
     "name": "stdout",
     "output_type": "stream",
     "text": [
      "Extracting data from OHIO_STATE_UNIVERSITY_THE/The_Ohio_State_University_Quarterly_Update_to_Bondholders_for_the_quarter_ended_09_30_2024__574_KB_.pdf\n"
     ]
    },
    {
     "name": "stderr",
     "output_type": "stream",
     "text": [
      "Uploading files: 100%|████████████████████████████| 1/1 [00:00<00:00,  1.48it/s]\n",
      "Creating extraction jobs: 100%|███████████████████| 1/1 [00:01<00:00,  1.23s/it]\n",
      "Extracting files: 100%|███████████████████████████| 1/1 [00:09<00:00,  9.61s/it]\n"
     ]
    },
    {
     "name": "stdout",
     "output_type": "stream",
     "text": [
      "Extracting data from OHIO_STATE_UNIVERSITY_THE/The_Ohio_State_University_Quarterly_Update_to_Bondholders_for_the_quarter_ended_12_31_2024__815_KB_.pdf\n"
     ]
    },
    {
     "name": "stderr",
     "output_type": "stream",
     "text": [
      "Uploading files: 100%|████████████████████████████| 1/1 [00:00<00:00,  1.47it/s]\n",
      "Creating extraction jobs: 100%|███████████████████| 1/1 [00:01<00:00,  1.25s/it]\n",
      "Extracting files: 100%|███████████████████████████| 1/1 [00:11<00:00, 11.14s/it]\n"
     ]
    },
    {
     "name": "stdout",
     "output_type": "stream",
     "text": [
      "Extracting data from PRESIDENT___FELLOWS_OF_HARVARD_COLLEGE/Harvard_University_Audited_Financial_Information_for_the_year_ended_06_30_2024__10.6_MB_.pdf\n"
     ]
    },
    {
     "name": "stderr",
     "output_type": "stream",
     "text": [
      "Uploading files: 100%|████████████████████████████| 1/1 [00:01<00:00,  1.69s/it]\n",
      "Creating extraction jobs: 100%|███████████████████| 1/1 [00:01<00:00,  1.53s/it]\n",
      "Extracting files: 100%|███████████████████████████| 1/1 [00:15<00:00, 15.98s/it]\n"
     ]
    },
    {
     "name": "stdout",
     "output_type": "stream",
     "text": [
      "Extracting data from PRESIDENT___FELLOWS_OF_HARVARD_COLLEGE/Harvard_University_Financial_Report_for_the_year_ended_06_30_2024__10.6_MB_.pdf\n"
     ]
    },
    {
     "name": "stderr",
     "output_type": "stream",
     "text": [
      "Uploading files: 100%|████████████████████████████| 1/1 [00:02<00:00,  2.00s/it]\n",
      "Creating extraction jobs: 100%|███████████████████| 1/1 [00:02<00:00,  2.86s/it]\n",
      "Extracting files: 100%|███████████████████████████| 1/1 [00:22<00:00, 22.22s/it]\n"
     ]
    },
    {
     "name": "stdout",
     "output_type": "stream",
     "text": [
      "Extracting data from STEVENSON_UNIVERSITY_INC/2024_Audited_Financial_Statements_for_the_year_ended_06_30_2024__348_KB_.pdf\n"
     ]
    },
    {
     "name": "stderr",
     "output_type": "stream",
     "text": [
      "Uploading files: 100%|████████████████████████████| 1/1 [00:01<00:00,  1.28s/it]\n",
      "Creating extraction jobs: 100%|███████████████████| 1/1 [00:02<00:00,  2.66s/it]\n",
      "Extracting files: 100%|███████████████████████████| 1/1 [00:10<00:00, 10.13s/it]\n"
     ]
    },
    {
     "name": "stdout",
     "output_type": "stream",
     "text": [
      "Extracting data from STEVENS_INSTITUTE_OF_TECHNOLOGY/Audit_Financial_Statement_for_the_year_ended_06_30_2024__626_KB_.pdf\n"
     ]
    },
    {
     "name": "stderr",
     "output_type": "stream",
     "text": [
      "Uploading files: 100%|████████████████████████████| 1/1 [00:00<00:00,  1.48it/s]\n",
      "Creating extraction jobs: 100%|███████████████████| 1/1 [00:01<00:00,  1.64s/it]\n",
      "Extracting files: 100%|███████████████████████████| 1/1 [00:14<00:00, 14.44s/it]\n"
     ]
    },
    {
     "name": "stdout",
     "output_type": "stream",
     "text": [
      "Extracting data from ST_LOUIS_UNIVERSITY_US/Audited_Financials_and_Operating_Data_for_the_year_ended_06_30_2024_Document1__561_KB_.pdf\n"
     ]
    },
    {
     "name": "stderr",
     "output_type": "stream",
     "text": [
      "Uploading files: 100%|████████████████████████████| 1/1 [00:01<00:00,  1.39s/it]\n",
      "Creating extraction jobs: 100%|███████████████████| 1/1 [00:01<00:00,  1.43s/it]\n",
      "Extracting files: 100%|███████████████████████████| 1/1 [00:11<00:00, 11.57s/it]\n"
     ]
    },
    {
     "name": "stdout",
     "output_type": "stream",
     "text": [
      "Extracting data from ST_LOUIS_UNIVERSITY_US/Audited_Financials_and_Operating_Data_for_the_year_ended_06_30_2024_Document2__174_KB_.pdf\n"
     ]
    },
    {
     "name": "stderr",
     "output_type": "stream",
     "text": [
      "Uploading files: 100%|████████████████████████████| 1/1 [00:00<00:00,  1.50it/s]\n",
      "Creating extraction jobs: 100%|███████████████████| 1/1 [00:01<00:00,  1.04s/it]\n",
      "Extracting files: 100%|███████████████████████████| 1/1 [00:08<00:00,  8.49s/it]\n"
     ]
    },
    {
     "name": "stdout",
     "output_type": "stream",
     "text": [
      "Extracting data from TEXAS_A_M_UNIVERSITY/Texas_A_M_University_System_Unaudited_Annual_Financial_Reports_for_the_year_ended_08_31_2024__2_MB_.pdf\n"
     ]
    },
    {
     "name": "stderr",
     "output_type": "stream",
     "text": [
      "Uploading files: 100%|████████████████████████████| 1/1 [00:00<00:00,  1.50it/s]\n",
      "Creating extraction jobs: 100%|███████████████████| 1/1 [00:00<00:00,  1.94it/s]\n",
      "Extracting files: 100%|███████████████████████████| 1/1 [00:36<00:00, 36.42s/it]\n"
     ]
    },
    {
     "name": "stdout",
     "output_type": "stream",
     "text": [
      "Extracting data from UNIVERSITY_OF_COLORADO/Financial_and_Operating_Data__Fiscal_Year_2024_for_the_year_ended_06_30_2024__278_KB_.pdf\n"
     ]
    },
    {
     "name": "stderr",
     "output_type": "stream",
     "text": [
      "Uploading files: 100%|████████████████████████████| 1/1 [00:02<00:00,  2.42s/it]\n",
      "Creating extraction jobs: 100%|███████████████████| 1/1 [00:02<00:00,  2.05s/it]\n",
      "Extracting files: 100%|███████████████████████████| 1/1 [00:07<00:00,  7.40s/it]\n"
     ]
    },
    {
     "name": "stdout",
     "output_type": "stream",
     "text": [
      "Extracting data from UNIVERSITY_OF_MINNESOTA/Annual_Financial_Information_and_Operating_Data_for_the_year_ended_06_30_2024_Document1__1.3_MB_.pdf\n"
     ]
    },
    {
     "name": "stderr",
     "output_type": "stream",
     "text": [
      "Uploading files: 100%|████████████████████████████| 1/1 [00:01<00:00,  1.59s/it]\n",
      "Creating extraction jobs: 100%|███████████████████| 1/1 [00:02<00:00,  2.23s/it]\n",
      "Extracting files: 100%|███████████████████████████| 1/1 [00:15<00:00, 15.79s/it]\n"
     ]
    },
    {
     "name": "stdout",
     "output_type": "stream",
     "text": [
      "Extracting data from UNIVERSITY_OF_MINNESOTA/Annual_Financial_Information_and_Operating_Data_for_the_year_ended_06_30_2024_Document2__315_KB_.pdf\n"
     ]
    },
    {
     "name": "stderr",
     "output_type": "stream",
     "text": [
      "Uploading files: 100%|████████████████████████████| 1/1 [00:01<00:00,  1.08s/it]\n",
      "Creating extraction jobs: 100%|███████████████████| 1/1 [00:02<00:00,  2.87s/it]\n",
      "Extracting files: 100%|███████████████████████████| 1/1 [00:14<00:00, 14.37s/it]\n"
     ]
    }
   ],
   "source": [
    "results = {}\n",
    "\n",
    "for school in sorted(os.listdir(PDF_ROOT)):\n",
    "    school_dir = os.path.join(PDF_ROOT, school)\n",
    "    if not os.path.isdir(school_dir):\n",
    "        continue\n",
    "\n",
    "    # 1) Gather all PDFs in the directory\n",
    "    pdf_files = [\n",
    "        f for f in sorted(os.listdir(school_dir))\n",
    "        if f.lower().endswith(\".pdf\")\n",
    "    ]\n",
    "\n",
    "    # 2) Decide which PDFs to read:\n",
    "    if len(pdf_files) == 1:\n",
    "        to_read = pdf_files\n",
    "    else:\n",
    "        financial_only = [f for f in pdf_files if \"financial\" in f.lower()]\n",
    "        to_read = financial_only if financial_only else pdf_files\n",
    "\n",
    "    combined   = {}\n",
    "    first_keys = None\n",
    "\n",
    "    for fname in to_read:\n",
    "        path = os.path.join(school_dir, fname)\n",
    "        print(f\"Extracting data from {school}/{fname}\")\n",
    "        try:\n",
    "            run  = agent.extract(path)\n",
    "            data = run.data or {}\n",
    "            if first_keys is None:\n",
    "                first_keys = list(data.keys())\n",
    "                combined  = {k: None for k in first_keys}\n",
    "            for k, v in data.items():\n",
    "                if v not in (None, \"\", []):\n",
    "                    combined[k] = v\n",
    "        except Exception as err:\n",
    "            print(f\"Skipped {fname}: {err}\")\n",
    "\n",
    "    if first_keys:\n",
    "        # store this school's combined dict in results\n",
    "        results[school] = combined\n",
    "    else:\n",
    "        print(f\"No data for {school}.\")\n",
    "\n",
    "\n",
    "# Build one DataFrame: rows=schools, columns=metrics\n",
    "df_all = pd.DataFrame.from_dict(results, orient=\"index\")\n",
    "\n",
    "\n"
   ]
  },
  {
   "cell_type": "code",
   "execution_count": 83,
   "id": "a1723148-df6b-4506-bfb8-c10e45df23b9",
   "metadata": {},
   "outputs": [],
   "source": [
    "\n",
    "from typing import List\n",
    "\n",
    "def add_plug_accounts(df: pd.DataFrame) -> pd.DataFrame:\n",
    "    \"\"\"\n",
    "    Given a DataFrame where each row is a university and columns include:\n",
    "      - 'total_assets', 'other_assets', [various asset components…]\n",
    "      - 'total_liabilities', 'other_liabilities', [various liability components…]\n",
    "    this will compute two new columns:\n",
    "    \n",
    "      * other_assets_plug      = total_assets - sum(all other asset components)\n",
    "      * other_liabilities_plug  = total_liabilities - sum(all other liability components)\n",
    "    \n",
    "    so that:\n",
    "      sum(assets components) + other_assets_plug == total_assets\n",
    "      sum(liability components) + other_liabilities_plug == total_liabilities\n",
    "    \n",
    "    Returns the DataFrame with these two new columns.\n",
    "    \"\"\"\n",
    "    # define the “known” component column names\n",
    "    asset_components = [\n",
    "        \"cash_and_short_term_investments_unrestricted_and_restricted\",\n",
    "        \"net_receivables\",\n",
    "        \"net_fixed_assets\",\n",
    "        \"long_term_investments_unrestricted_and_restricted\",\n",
    "        \"rou_assets_finance_lease\",\n",
    "        \"rou_assets_operating_lease\"\n",
    "    ]\n",
    "    liability_components = [\n",
    "        \"short_term_debt\",\n",
    "        \"current_portion_finance_lease\",\n",
    "        \"current_portion_long_term_debt\",\n",
    "        \"current_portion_operating_lease\",\n",
    "        \"accounts_payable\",\n",
    "        \"deferred_revenue\",\n",
    "        \"long_term_debt\",\n",
    "        \"long_term_finance_lease\",\n",
    "        \"long_term_operating_lease\",\n",
    "        \"swap_obligation_fmv\",\n",
    "        \"pension_and_opeb_liability\",\n",
    "        \"pension_liability\",\n",
    "        \"opeb_liability\"\n",
    "    ]\n",
    "    \n",
    "    # pick only those actually in the DataFrame\n",
    "    assets_cols = [c for c in asset_components if c in df.columns]\n",
    "    liabs_cols  = [c for c in liability_components if c in df.columns]\n",
    "    \n",
    "    # compute the sum of components (skip NaNs)\n",
    "    df[\"sum_asset_components\"]     = df[assets_cols].sum(axis=1, skipna=True)\n",
    "    df[\"sum_liability_components\"] = df[liabs_cols].sum(axis=1, skipna=True)\n",
    "    \n",
    "    # now compute the plugs\n",
    "    df[\"other_assets_plug\"]     = df[\"total_assets\"] - df[\"sum_asset_components\"]\n",
    "    df[\"other_liabilities_plug\"] = df[\"total_liabilities\"] - df[\"sum_liability_components\"]\n",
    "    \n",
    "    # (optional) drop the intermediate sum columns if you like\n",
    "    df.drop(columns=[\"sum_asset_components\", \"sum_liability_components\"], inplace=True)\n",
    "    \n",
    "    return df\n"
   ]
  },
  {
   "cell_type": "code",
   "execution_count": 99,
   "id": "e15152a0-6a0b-4f7c-8eda-5d8cb3b111b3",
   "metadata": {},
   "outputs": [],
   "source": [
    "# add plug accounts and make adjustment for expendable assets\n",
    "df_allv1 = add_plug_accounts(df_all)\n",
    "df_allv1['expendable_net_assets_with_donor_restrictions_calculated']=df_allv1['net_assets_with_donor_restrictions'] - df_allv1['perpetual_net_assets_with_donor_restrictions']\n",
    "df_allv1.rename(columns={'expendable_net_assets_with_donor_restrictions':'expendable_net_assets_with_donor_restrictions_extracted'},inplace=True)"
   ]
  },
  {
   "cell_type": "code",
   "execution_count": 101,
   "id": "5f56da30-08ec-41e6-a102-5013a1958a94",
   "metadata": {},
   "outputs": [],
   "source": [
    "# save output\n",
    "df_allv1.to_excel(OUTPUT_FILE)"
   ]
  },
  {
   "cell_type": "code",
   "execution_count": null,
   "id": "454fd46d-c4e2-466f-a405-21421c929244",
   "metadata": {},
   "outputs": [],
   "source": []
  },
  {
   "cell_type": "code",
   "execution_count": null,
   "id": "5f9ceb65-bf2b-4120-89c4-4201c56dcb05",
   "metadata": {},
   "outputs": [],
   "source": []
  }
 ],
 "metadata": {
  "kernelspec": {
   "display_name": "Python [conda env:base] *",
   "language": "python",
   "name": "conda-base-py"
  },
  "language_info": {
   "codemirror_mode": {
    "name": "ipython",
    "version": 3
   },
   "file_extension": ".py",
   "mimetype": "text/x-python",
   "name": "python",
   "nbconvert_exporter": "python",
   "pygments_lexer": "ipython3",
   "version": "3.12.7"
  }
 },
 "nbformat": 4,
 "nbformat_minor": 5
}
