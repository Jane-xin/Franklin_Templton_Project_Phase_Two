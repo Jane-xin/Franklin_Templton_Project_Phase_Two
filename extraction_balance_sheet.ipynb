{
 "cells": [
  {
   "cell_type": "code",
   "execution_count": 147,
   "id": "aa3611b3-450b-4afd-940f-33d26a71748b",
   "metadata": {},
   "outputs": [],
   "source": [
    "import os\n",
    "import pandas as pd\n",
    "from llama_cloud_services import LlamaExtract\n",
    "from dotenv import load_dotenv\n",
    "from typing import Optional\n",
    "from pydantic import ValidationError\n",
    "from BS_Schema import make_StatementOfFinancialPosition_model"
   ]
  },
  {
   "cell_type": "code",
   "execution_count": 149,
   "id": "e1a40dea-7154-4af1-bb26-8456517de462",
   "metadata": {},
   "outputs": [
    {
     "name": "stdout",
     "output_type": "stream",
     "text": [
      "StatementOfFinancialPosition_2024\n",
      "['year', 'cash_and_short_term_investments_unrestricted_and_restricted', 'accumulated_depreciation', 'net_fixed_assets', 'long_term_investments_unrestricted_and_restricted', 'total_assets', 'short_term_debt', 'long_term_debt', 'pension_and_opeb_liability', 'total_liabilities', 'net_assets_without_donor_restrictions', 'expendable_net_assets_with_donor_restrictions', 'perpetual_net_assets_with_donor_restrictions', 'net_assets_with_donor_restrictions', 'total_net_assets', 'total_liabilities_and_net_assets']\n"
     ]
    }
   ],
   "source": [
    "## Import Class\n",
    "SFP = make_StatementOfFinancialPosition_model(2024)\n",
    "# 4.2) Inspect its name and fields\n",
    "print(SFP.__name__)           # → \"StatementOfFinancialPosition_2024\"\n",
    "print(list(SFP.__fields__.keys()))"
   ]
  },
  {
   "cell_type": "code",
   "execution_count": 151,
   "id": "f2517e2c-2ff3-4dc1-8619-fa94d503a872",
   "metadata": {},
   "outputs": [
    {
     "name": "stdout",
     "output_type": "stream",
     "text": [
      "No project_id provided, fetching default project.\n"
     ]
    },
    {
     "data": {
      "text/plain": [
       "LlamaExtract(api_key='llx-zKFsBQYVXG6DqlTVV2yi3xpkS8nePwYvgOeYoMzJ04RBpgYw', base_url='https://api.cloud.llamaindex.ai', check_interval=1, max_timeout=2000, num_workers=4, show_progress=True, verbose=False, verify=True, httpx_timeout=60)"
      ]
     },
     "execution_count": 151,
     "metadata": {},
     "output_type": "execute_result"
    }
   ],
   "source": [
    "LlamaExtract(api_key='llx-zKFsBQYVXG6DqlTVV2yi3xpkS8nePwYvgOeYoMzJ04RBpgYw')"
   ]
  },
  {
   "cell_type": "code",
   "execution_count": null,
   "id": "85b3ea7f-3210-4984-9dde-12cff5161396",
   "metadata": {},
   "outputs": [],
   "source": [
    "ee231c03c0cf6607315be41f48f2ca75503002282bb13f37ff28a6197360edcd\n",
    "\n",
    "llx-zKFsBQYVXG6DqlTVV2yi3xpkS8nePwYvgOeYoMzJ04RBpgYw"
   ]
  },
  {
   "cell_type": "code",
   "execution_count": 157,
   "id": "23352f38-f6d5-4722-92a6-1920e220346e",
   "metadata": {},
   "outputs": [
    {
     "name": "stdout",
     "output_type": "stream",
     "text": [
      "No project_id provided, fetching default project.\n"
     ]
    }
   ],
   "source": [
    "PDF_ROOT = \"scrapping/university_pdfs/\"\n",
    "OUTPUT_ROOT = \"output_Balance_Sheet_DS\"\n",
    "os.makedirs(OUTPUT_ROOT, exist_ok=True)  \n",
    "AGENT_ID = \"83849ea7-429e-48b6-b538-7a8425da77b3\" #Different based on your LLamaCloud account\n",
    "load_dotenv() #make sure the API key is in the .env file\n",
    "Year = 2024\n",
    "\n",
    "extractor = LlamaExtract(api_key='llx-zKFsBQYVXG6DqlTVV2yi3xpkS8nePwYvgOeYoMzJ04RBpgYw')# LlamaExtract(project_id = '8c10e62e-3810-4193-915d-d2d11105826d')\n",
    "\n",
    "# #uncomment the below line if you are creating the agent for the first time\n",
    "# agent = extractor.create_agent(name = \"balance-sheet-parser\", data_schema=SFP)\n",
    "\n",
    "agent = extractor.get_agent(id = AGENT_ID)\n",
    "\n",
    "# #uncomment the following lines if you updated the schema\n",
    "# agent.data_schema = SFP\n",
    "# agent.save()\n",
    "# agent = extractor.get_agent(id = AGENT_ID)"
   ]
  },
  {
   "cell_type": "code",
   "execution_count": 155,
   "id": "5c10a8e5-afe8-4f3c-ba6e-f852ece7edf2",
   "metadata": {},
   "outputs": [
    {
     "data": {
      "text/plain": [
       "{'additionalProperties': False,\n",
       " 'properties': {'year': {'description': \"The fiscal year to which all other line‐items refer. E.g. '2024' means every balance (Cash, Liabilities, Net Assets, etc.) is 'as of June 30, 2024'.\",\n",
       "   'type': 'integer'},\n",
       "  'cash_and_short_term_investments_unrestricted_and_restricted': {'anyOf': [{'type': 'integer'},\n",
       "    {'type': 'null'}],\n",
       "   'description': \"Total of Cash & Short-Term Investments (both unrestricted and restricted) as of June 30, 2024. May be labeled 'Cash & Short-Term Investments (Unrestricted & Restricted)', 'Cash and investments', or similar. Only extract if this amount clearly refers to year-end 2024. Do not include petty cash or illiquid equivalents.\"},\n",
       "  'accumulated_depreciation': {'anyOf': [{'type': 'integer'},\n",
       "    {'type': 'null'}],\n",
       "   'description': \"Accumulated Depreciation as of June 30, 2024. May be labeled 'Accumulated Depreciation', 'Allowance for Depreciation', or similar. Only extract if explicitly shown on the Statement of Financial Position for 2024.\"},\n",
       "  'net_fixed_assets': {'anyOf': [{'type': 'integer'}, {'type': 'null'}],\n",
       "   'description': \"Net Fixed Assets (often reported below Accumulated Depreciation) as of June 30, 2024. May appear as 'Net Fixed Assets', 'Property, Plant & Equipment, Net', or similar. Only extract if the 2024 figure is explicitly shown; do not calculate by subtracting.\"},\n",
       "  'long_term_investments_unrestricted_and_restricted': {'anyOf': [{'type': 'integer'},\n",
       "    {'type': 'null'}],\n",
       "   'description': \"Fair value or carrying value of Long-Term Investments (unrestricted & restricted) as of June 30, 2024. May be labeled 'Long-Term Investments (Unrestricted & Restricted)', 'Investments – Long-Term', or 'Noncurrent Investments'. Only extract if explicitly presented for that year.\"},\n",
       "  'total_assets': {'anyOf': [{'type': 'integer'}, {'type': 'null'}],\n",
       "   'description': \"Total Assets as of June 30, 2024. May be labeled 'Total Assets', 'Assets – Total', or similar. Only extract if explicitly provided; do not sum individual asset line‐items.\"},\n",
       "  'short_term_debt': {'anyOf': [{'type': 'integer'}, {'type': 'null'}],\n",
       "   'description': \"Short-Term Debt (current portion of borrowings) as of June 30, 2024. May be labeled 'Short-Term Debt', 'Current Portion of Long-Term Debt', or similar. Only extract if explicitly stated for 2024; do not infer or derive.\"},\n",
       "  'long_term_debt': {'anyOf': [{'type': 'integer'}, {'type': 'null'}],\n",
       "   'description': \"Long-Term Debt (noncurrent portion) as of June 30, 2024. May appear as 'Long-Term Debt', 'Bonds and Notes Payable, net of current portion', or similar. Only extract if explicitly reported for 2024; do not calculate by subtraction.\"},\n",
       "  'pension_and_opeb_liability': {'anyOf': [{'type': 'integer'},\n",
       "    {'type': 'null'}],\n",
       "   'description': \"Combined Pension & OPEB Liability as of June 30, 2024. May be labeled 'Pension & OPEB Liability', 'Postretirement Benefit Obligations', or similar. Only extract if explicitly shown for {year}.\"},\n",
       "  'total_liabilities': {'anyOf': [{'type': 'integer'}, {'type': 'null'}],\n",
       "   'description': \"Total Liabilities as of June 30, 2024. May be labeled 'Total Liabilities', 'Liabilities – Total', or similar. Only extract if explicitly provided; do not sum individual line‐items.\"},\n",
       "  'net_assets_without_donor_restrictions': {'anyOf': [{'type': 'integer'},\n",
       "    {'type': 'null'}],\n",
       "   'description': \"Net Assets without Donor Restrictions as of June 30, 2024. May be labeled 'Net Assets without Donor Restrictions', 'Unrestricted Net Assets', or similar. Only extract if explicitly reported for {year}.\"},\n",
       "  'expendable_net_assets_with_donor_restrictions': {'anyOf': [{'type': 'integer'},\n",
       "    {'type': 'null'}],\n",
       "   'description': \"Expendable Net Assets with Donor Restrictions as of June 30, 2024. May appear as 'Expendable Net Assets with Donor Restrictions', 'Net Assets with Donor Restrictions – Expendable', or similar. Only extract if explicitly shown for 2024; do not include nonexpendable portions.\"},\n",
       "  'perpetual_net_assets_with_donor_restrictions': {'anyOf': [{'type': 'integer'},\n",
       "    {'type': 'null'}],\n",
       "   'description': \"Perpetual Net Assets with Donor Restrictions (including any earnings) as of June 30, 2024. May be labeled 'Perpetual Net Assets with Donor Restrictions', 'Restricted Endowment (Perpetual)', or similar. Only extract if explicitly shown for 2024.\"},\n",
       "  'net_assets_with_donor_restrictions': {'anyOf': [{'type': 'integer'},\n",
       "    {'type': 'null'}],\n",
       "   'description': \"Total Net Assets with Donor Restrictions as of June 30, 2024, including both expendable and perpetual. May be labeled 'Net Assets with Donor Restrictions', 'Restricted Net Assets – Total', or similar. Only extract if explicitly reported for 2024; do not sum sub-components unless confirmed.\"},\n",
       "  'total_net_assets': {'anyOf': [{'type': 'integer'}, {'type': 'null'}],\n",
       "   'description': \"Total Net Assets (sum of Net Assets without Donor Restrictions and Net Assets with Donor Restrictions) as of June 30, 2024. May be labeled 'Total Net Assets' or similar. Only extract if explicitly provided for that year; do not sum unless the document confirms it.\"},\n",
       "  'total_liabilities_and_net_assets': {'anyOf': [{'type': 'integer'},\n",
       "    {'type': 'null'}],\n",
       "   'description': \"Total Liabilities & Net Assets as of June 30, 2024 (should equal Total Assets). May appear as 'Total Liabilities & Net Assets', 'Liabilities and Net Assets – Total', or similar. Only extract if explicitly reported for 2024; do not infer.\"}},\n",
       " 'required': ['year',\n",
       "  'cash_and_short_term_investments_unrestricted_and_restricted',\n",
       "  'accumulated_depreciation',\n",
       "  'net_fixed_assets',\n",
       "  'long_term_investments_unrestricted_and_restricted',\n",
       "  'total_assets',\n",
       "  'short_term_debt',\n",
       "  'long_term_debt',\n",
       "  'pension_and_opeb_liability',\n",
       "  'total_liabilities',\n",
       "  'net_assets_without_donor_restrictions',\n",
       "  'expendable_net_assets_with_donor_restrictions',\n",
       "  'perpetual_net_assets_with_donor_restrictions',\n",
       "  'net_assets_with_donor_restrictions',\n",
       "  'total_net_assets',\n",
       "  'total_liabilities_and_net_assets'],\n",
       " 'type': 'object'}"
      ]
     },
     "execution_count": 155,
     "metadata": {},
     "output_type": "execute_result"
    }
   ],
   "source": [
    "agent.data_schema"
   ]
  },
  {
   "cell_type": "code",
   "execution_count": 159,
   "id": "b18275c4-4f9c-4a7b-9f49-9716a7db5be3",
   "metadata": {},
   "outputs": [],
   "source": [
    "def process_school(school_name, school_dir):\n",
    "    combined   = {}\n",
    "    first_keys = None\n",
    "\n",
    "    for fname in sorted(os.listdir(school_dir)):\n",
    "        if not fname.lower().endswith(\".pdf\"):\n",
    "            continue\n",
    "        path = os.path.join(school_dir, fname)\n",
    "        print(f\"Extracting data from {fname}\")\n",
    "        try:\n",
    "            run  = agent.extract(path)\n",
    "            data = run.data or {}\n",
    "            if first_keys is None:\n",
    "                first_keys = list(data.keys())\n",
    "                combined  = {k: None for k in first_keys}\n",
    "            for k, v in data.items():\n",
    "                if v not in (None, \"\", []):\n",
    "                    combined[k] = v\n",
    "        except Exception as err:\n",
    "            print(f\"Skipped {fname}: {err}\")\n",
    "\n",
    "    if first_keys:\n",
    "        df = pd.DataFrame.from_dict(combined, orient=\"index\", columns=[\"2024-25\"])\n",
    "        df.index.name = \"Metric\"\n",
    "        outfile = os.path.join(OUTPUT_ROOT, f\"{school_name}.xlsx\")\n",
    "        df.to_excel(outfile)\n",
    "        print(f\"Saved output to {outfile}\")\n",
    "    else:\n",
    "        print(f\"No PDF data found for {school_name}\")"
   ]
  },
  {
   "cell_type": "code",
   "execution_count": 161,
   "id": "00b8b2fe-147d-4668-b359-5b48a56a9184",
   "metadata": {},
   "outputs": [],
   "source": [
    "# os.listdir('/Users/danyalsoomro/Desktop/Python_Projects/Industry_projects/Franklin_Templton_Industry_Project/scrapping/university_pdfs')"
   ]
  },
  {
   "cell_type": "code",
   "execution_count": 163,
   "id": "259ae70f-b030-4079-a7af-fc46f5e69d08",
   "metadata": {},
   "outputs": [
    {
     "name": "stdout",
     "output_type": "stream",
     "text": [
      "Processing school: ARIZONA_STATE_UNIVERSITY\n",
      "Extracting data from FY_2024_Arizona_State_University_Annual_Comprehensive_Financial_Report_for_the_year_ended_06_30_2024__4.1_MB_.pdf\n"
     ]
    },
    {
     "name": "stderr",
     "output_type": "stream",
     "text": [
      "Uploading files: 100%|████████████████████████████| 1/1 [00:05<00:00,  5.80s/it]\n",
      "Creating extraction jobs: 100%|███████████████████| 1/1 [00:00<00:00,  1.71it/s]\n",
      "Extracting files: 100%|██████████████████████████| 1/1 [02:06<00:00, 126.42s/it]\n"
     ]
    },
    {
     "name": "stdout",
     "output_type": "stream",
     "text": [
      "Extracting data from FY_2024_Arizona_State_University_Continuing_Disclosure_Undertaking_for_the_year_ended_06_30_2024__160_KB_.pdf\n"
     ]
    },
    {
     "name": "stderr",
     "output_type": "stream",
     "text": [
      "Uploading files: 100%|████████████████████████████| 1/1 [00:01<00:00,  1.28s/it]\n",
      "Creating extraction jobs: 100%|███████████████████| 1/1 [00:04<00:00,  4.01s/it]\n",
      "Extracting files: 100%|███████████████████████████| 1/1 [00:09<00:00,  9.25s/it]\n"
     ]
    },
    {
     "name": "stdout",
     "output_type": "stream",
     "text": [
      "Saved output to output_Balance_Sheet_DS/ARIZONA_STATE_UNIVERSITY.xlsx\n",
      "Processing school: BRADLEY_UNIVERSITY\n",
      "Extracting data from Annual_Financial_Information_and_Operating_Data__Rule_15c2-12__for_FY24_for_the_year_ended_05_31_2024__227_KB_.pdf\n"
     ]
    },
    {
     "name": "stderr",
     "output_type": "stream",
     "text": [
      "Uploading files: 100%|████████████████████████████| 1/1 [00:00<00:00,  1.03it/s]\n",
      "Creating extraction jobs: 100%|███████████████████| 1/1 [00:01<00:00,  1.38s/it]\n",
      "Extracting files: 100%|███████████████████████████| 1/1 [00:06<00:00,  6.81s/it]\n"
     ]
    },
    {
     "name": "stdout",
     "output_type": "stream",
     "text": [
      "Extracting data from Audited_Financial_Statements_or_ACFR__Rule_15c2-12__for_FY24_for_the_year_ended_05_31_2024__541_KB_.pdf\n"
     ]
    },
    {
     "name": "stderr",
     "output_type": "stream",
     "text": [
      "Uploading files: 100%|████████████████████████████| 1/1 [00:01<00:00,  1.18s/it]\n",
      "Creating extraction jobs: 100%|███████████████████| 1/1 [00:01<00:00,  1.18s/it]\n",
      "Extracting files: 100%|███████████████████████████| 1/1 [00:11<00:00, 11.84s/it]\n"
     ]
    },
    {
     "name": "stdout",
     "output_type": "stream",
     "text": [
      "Saved output to output_Balance_Sheet_DS/BRADLEY_UNIVERSITY.xlsx\n",
      "Processing school: CALIFORNIA_STATE_UNIVERSITY\n",
      "Extracting data from Exhibit_1_CSU_Combined_Financial_Stmts_6-30-24_for_the_year_ended_06_30_2024__15.6_MB_.pdf\n"
     ]
    },
    {
     "name": "stderr",
     "output_type": "stream",
     "text": [
      "Uploading files: 100%|████████████████████████████| 1/1 [00:12<00:00, 12.77s/it]\n",
      "Creating extraction jobs: 100%|███████████████████| 1/1 [00:01<00:00,  1.08s/it]\n",
      "Extracting files: 100%|███████████████████████████| 1/1 [00:16<00:00, 16.99s/it]\n"
     ]
    },
    {
     "name": "stdout",
     "output_type": "stream",
     "text": [
      "Extracting data from Exhibit_1_CSU_Combined_Financial_Stmts_6-30-24_for_the_year_ended_06_30_2024__308_KB_.pdf\n"
     ]
    },
    {
     "name": "stderr",
     "output_type": "stream",
     "text": [
      "Uploading files: 100%|████████████████████████████| 1/1 [00:01<00:00,  1.18s/it]\n",
      "Creating extraction jobs: 100%|███████████████████| 1/1 [00:00<00:00,  2.96it/s]\n",
      "Extracting files: 100%|███████████████████████████| 1/1 [00:10<00:00, 10.40s/it]\n"
     ]
    },
    {
     "name": "stdout",
     "output_type": "stream",
     "text": [
      "Extracting data from Exhibit_1_DRAFT_UNAUDITED_CSU_Combined_Financial_Statements_6-30-24_for_the_year_ended_06_30_2024__1.2_MB_.pdf\n"
     ]
    },
    {
     "name": "stderr",
     "output_type": "stream",
     "text": [
      "Uploading files: 100%|████████████████████████████| 1/1 [00:02<00:00,  2.27s/it]\n",
      "Creating extraction jobs: 100%|███████████████████| 1/1 [00:00<00:00,  1.81it/s]\n",
      "Extracting files: 100%|███████████████████████████| 1/1 [00:16<00:00, 16.22s/it]\n"
     ]
    },
    {
     "name": "stdout",
     "output_type": "stream",
     "text": [
      "Extracting data from Exhibit_1_DRAFT_UNAUDITED_CSU_Combined_Financial_Statements_6-30-24_for_the_year_ended_06_30_2024__298_KB_.pdf\n"
     ]
    },
    {
     "name": "stderr",
     "output_type": "stream",
     "text": [
      "Uploading files: 100%|████████████████████████████| 1/1 [00:01<00:00,  1.86s/it]\n",
      "Creating extraction jobs: 100%|███████████████████| 1/1 [00:01<00:00,  1.33s/it]\n",
      "Extracting files: 100%|███████████████████████████| 1/1 [00:15<00:00, 15.33s/it]"
     ]
    },
    {
     "name": "stdout",
     "output_type": "stream",
     "text": [
      "Saved output to output_Balance_Sheet_DS/CALIFORNIA_STATE_UNIVERSITY.xlsx\n",
      "Extraction complete.\n"
     ]
    },
    {
     "name": "stderr",
     "output_type": "stream",
     "text": [
      "\n"
     ]
    }
   ],
   "source": [
    "# Loop over schools\n",
    "for school in sorted(os.listdir(PDF_ROOT))[0:4]:\n",
    "    school_dir = os.path.join(PDF_ROOT, school)\n",
    "    if not os.path.isdir(school_dir):\n",
    "        continue\n",
    "    print(f\"Processing school: {school}\")\n",
    "    process_school(school, school_dir)\n",
    "\n",
    "print(\"Extraction complete.\")"
   ]
  },
  {
   "cell_type": "code",
   "execution_count": 165,
   "id": "1d599516-f027-43b9-ba6d-9338a609da58",
   "metadata": {},
   "outputs": [
    {
     "name": "stdout",
     "output_type": "stream",
     "text": [
      "Extracting data from ARIZONA_STATE_UNIVERSITY/FY_2024_Arizona_State_University_Annual_Comprehensive_Financial_Report_for_the_year_ended_06_30_2024__4.1_MB_.pdf\n"
     ]
    },
    {
     "name": "stderr",
     "output_type": "stream",
     "text": [
      "Uploading files: 100%|████████████████████████████| 1/1 [00:05<00:00,  5.25s/it]\n",
      "Creating extraction jobs: 100%|███████████████████| 1/1 [00:00<00:00,  1.98it/s]\n",
      "Extracting files: 100%|███████████████████████████| 1/1 [00:43<00:00, 43.27s/it]\n"
     ]
    },
    {
     "name": "stdout",
     "output_type": "stream",
     "text": [
      "Extracting data from ARIZONA_STATE_UNIVERSITY/FY_2024_Arizona_State_University_Continuing_Disclosure_Undertaking_for_the_year_ended_06_30_2024__160_KB_.pdf\n"
     ]
    },
    {
     "name": "stderr",
     "output_type": "stream",
     "text": [
      "Uploading files: 100%|████████████████████████████| 1/1 [00:01<00:00,  1.55s/it]\n",
      "Creating extraction jobs: 100%|███████████████████| 1/1 [00:06<00:00,  6.66s/it]\n",
      "Extracting files:   0%|                                   | 0/1 [00:00<?, ?it/s]/opt/anaconda3/lib/python3.12/site-packages/llama_cloud_services/extract/extract.py:315: UserWarning: Failure in job: 5901ff05-736c-455f-9ac5-aca72a315c94, status: StatusEnum.ERROR, error: parsing_error: Error on parsing: Organization Quota exceeded.\n",
      "  warnings.warn(\n",
      "Extracting files: 100%|███████████████████████████| 1/1 [00:02<00:00,  2.53s/it]\n"
     ]
    },
    {
     "name": "stdout",
     "output_type": "stream",
     "text": [
      "Extracting data from BRADLEY_UNIVERSITY/Annual_Financial_Information_and_Operating_Data__Rule_15c2-12__for_FY24_for_the_year_ended_05_31_2024__227_KB_.pdf\n"
     ]
    },
    {
     "name": "stderr",
     "output_type": "stream",
     "text": [
      "Uploading files: 100%|████████████████████████████| 1/1 [00:01<00:00,  1.30s/it]\n",
      "Creating extraction jobs: 100%|███████████████████| 1/1 [00:01<00:00,  1.01s/it]\n",
      "Extracting files:   0%|                                   | 0/1 [00:00<?, ?it/s]/opt/anaconda3/lib/python3.12/site-packages/llama_cloud_services/extract/extract.py:315: UserWarning: Failure in job: 90083948-18a9-4804-9a04-c284e69e4231, status: StatusEnum.ERROR, error: parsing_error: Error on parsing: Organization Quota exceeded.\n",
      "  warnings.warn(\n",
      "Extracting files: 100%|███████████████████████████| 1/1 [00:01<00:00,  1.77s/it]\n"
     ]
    },
    {
     "name": "stdout",
     "output_type": "stream",
     "text": [
      "Extracting data from BRADLEY_UNIVERSITY/Audited_Financial_Statements_or_ACFR__Rule_15c2-12__for_FY24_for_the_year_ended_05_31_2024__541_KB_.pdf\n"
     ]
    },
    {
     "name": "stderr",
     "output_type": "stream",
     "text": [
      "Uploading files: 100%|████████████████████████████| 1/1 [00:01<00:00,  1.17s/it]\n",
      "Creating extraction jobs: 100%|███████████████████| 1/1 [00:03<00:00,  3.77s/it]\n",
      "Extracting files:   0%|                                   | 0/1 [00:00<?, ?it/s]/opt/anaconda3/lib/python3.12/site-packages/llama_cloud_services/extract/extract.py:315: UserWarning: Failure in job: b353e4d5-a343-4921-823a-9e4a1e8b6e81, status: StatusEnum.ERROR, error: parsing_error: Error on parsing: Organization Quota exceeded.\n",
      "  warnings.warn(\n",
      "Extracting files: 100%|███████████████████████████| 1/1 [00:04<00:00,  4.70s/it]\n"
     ]
    },
    {
     "name": "stdout",
     "output_type": "stream",
     "text": [
      "No data for BRADLEY_UNIVERSITY.\n",
      "Extracting data from CALIFORNIA_STATE_UNIVERSITY/Exhibit_1_CSU_Combined_Financial_Stmts_6-30-24_for_the_year_ended_06_30_2024__15.6_MB_.pdf\n"
     ]
    },
    {
     "name": "stderr",
     "output_type": "stream",
     "text": [
      "Uploading files: 100%|████████████████████████████| 1/1 [00:08<00:00,  8.76s/it]\n",
      "Creating extraction jobs: 100%|███████████████████| 1/1 [00:00<00:00,  1.77it/s]\n",
      "Extracting files:   0%|                                   | 0/1 [00:00<?, ?it/s]/opt/anaconda3/lib/python3.12/site-packages/llama_cloud_services/extract/extract.py:315: UserWarning: Failure in job: 598e0558-0df5-4586-9aaf-cb52fd88e288, status: StatusEnum.ERROR, error: parsing_error: Error on parsing: Organization Quota exceeded.\n",
      "  warnings.warn(\n",
      "Extracting files: 100%|███████████████████████████| 1/1 [00:02<00:00,  2.03s/it]\n"
     ]
    },
    {
     "name": "stdout",
     "output_type": "stream",
     "text": [
      "Extracting data from CALIFORNIA_STATE_UNIVERSITY/Exhibit_1_CSU_Combined_Financial_Stmts_6-30-24_for_the_year_ended_06_30_2024__308_KB_.pdf\n"
     ]
    },
    {
     "name": "stderr",
     "output_type": "stream",
     "text": [
      "Uploading files: 100%|████████████████████████████| 1/1 [00:01<00:00,  1.35s/it]\n",
      "Creating extraction jobs: 100%|███████████████████| 1/1 [00:00<00:00,  1.23it/s]\n",
      "Extracting files:   0%|                                   | 0/1 [00:00<?, ?it/s]/opt/anaconda3/lib/python3.12/site-packages/llama_cloud_services/extract/extract.py:315: UserWarning: Failure in job: abb974f3-5d4b-4bb3-b0ef-2e4928bd78c9, status: StatusEnum.ERROR, error: parsing_error: Error on parsing: Organization Quota exceeded.\n",
      "  warnings.warn(\n",
      "Extracting files: 100%|███████████████████████████| 1/1 [00:01<00:00,  1.64s/it]\n"
     ]
    },
    {
     "name": "stdout",
     "output_type": "stream",
     "text": [
      "Extracting data from CALIFORNIA_STATE_UNIVERSITY/Exhibit_1_DRAFT_UNAUDITED_CSU_Combined_Financial_Statements_6-30-24_for_the_year_ended_06_30_2024__1.2_MB_.pdf\n"
     ]
    },
    {
     "name": "stderr",
     "output_type": "stream",
     "text": [
      "Uploading files: 100%|████████████████████████████| 1/1 [00:02<00:00,  2.10s/it]\n",
      "Creating extraction jobs: 100%|███████████████████| 1/1 [00:01<00:00,  1.24s/it]\n",
      "Extracting files:   0%|                                   | 0/1 [00:00<?, ?it/s]/opt/anaconda3/lib/python3.12/site-packages/llama_cloud_services/extract/extract.py:315: UserWarning: Failure in job: e1403c0f-2fd1-4faf-92a6-3898ee323e00, status: StatusEnum.ERROR, error: parsing_error: Error on parsing: Organization Quota exceeded.\n",
      "  warnings.warn(\n",
      "Extracting files: 100%|███████████████████████████| 1/1 [00:02<00:00,  2.04s/it]\n"
     ]
    },
    {
     "name": "stdout",
     "output_type": "stream",
     "text": [
      "Extracting data from CALIFORNIA_STATE_UNIVERSITY/Exhibit_1_DRAFT_UNAUDITED_CSU_Combined_Financial_Statements_6-30-24_for_the_year_ended_06_30_2024__298_KB_.pdf\n"
     ]
    },
    {
     "name": "stderr",
     "output_type": "stream",
     "text": [
      "Uploading files: 100%|████████████████████████████| 1/1 [00:09<00:00,  9.02s/it]\n",
      "Creating extraction jobs: 100%|███████████████████| 1/1 [00:00<00:00,  1.23it/s]\n",
      "Extracting files:   0%|                                   | 0/1 [00:00<?, ?it/s]/opt/anaconda3/lib/python3.12/site-packages/llama_cloud_services/extract/extract.py:315: UserWarning: Failure in job: ccbda5bc-f0b4-44e5-8bb8-6f504f790667, status: StatusEnum.ERROR, error: parsing_error: Error on parsing: Organization Quota exceeded.\n",
      "  warnings.warn(\n",
      "Extracting files: 100%|███████████████████████████| 1/1 [00:01<00:00,  1.89s/it]\n"
     ]
    },
    {
     "name": "stdout",
     "output_type": "stream",
     "text": [
      "No data for CALIFORNIA_STATE_UNIVERSITY.\n",
      "Extracting data from CORNELL_UNIVERSITY/2024_Audited_Financial_Statements_for_the_year_ended_06_30_2024__788_KB_.pdf\n"
     ]
    },
    {
     "name": "stderr",
     "output_type": "stream",
     "text": [
      "Uploading files: 100%|████████████████████████████| 1/1 [00:01<00:00,  1.39s/it]\n",
      "Creating extraction jobs: 100%|███████████████████| 1/1 [00:01<00:00,  1.12s/it]\n",
      "Extracting files:   0%|                                   | 0/1 [00:00<?, ?it/s]/opt/anaconda3/lib/python3.12/site-packages/llama_cloud_services/extract/extract.py:315: UserWarning: Failure in job: aa29675a-6a00-4c71-b5aa-4dc8fc2af7cc, status: StatusEnum.ERROR, error: parsing_error: Error on parsing: Organization Quota exceeded.\n",
      "  warnings.warn(\n",
      "Extracting files: 100%|███████████████████████████| 1/1 [00:02<00:00,  2.35s/it]\n"
     ]
    },
    {
     "name": "stdout",
     "output_type": "stream",
     "text": [
      "Extracting data from CORNELL_UNIVERSITY/2024_Operating_Data_for_the_year_ended_06_30_2024__109_KB_.pdf\n"
     ]
    },
    {
     "name": "stderr",
     "output_type": "stream",
     "text": [
      "Uploading files: 100%|████████████████████████████| 1/1 [00:01<00:00,  1.74s/it]\n",
      "Creating extraction jobs: 100%|███████████████████| 1/1 [00:07<00:00,  7.75s/it]\n",
      "Extracting files:   0%|                                   | 0/1 [00:00<?, ?it/s]/opt/anaconda3/lib/python3.12/site-packages/llama_cloud_services/extract/extract.py:315: UserWarning: Failure in job: 4c4c79ee-7dcc-42f0-ae42-ffefe4aff108, status: StatusEnum.ERROR, error: parsing_error: Error on parsing: Organization Quota exceeded.\n",
      "  warnings.warn(\n",
      "Extracting files: 100%|███████████████████████████| 1/1 [00:01<00:00,  1.75s/it]\n"
     ]
    },
    {
     "name": "stdout",
     "output_type": "stream",
     "text": [
      "Extracting data from CORNELL_UNIVERSITY/Incorporate_OS_by_Reference_as_of_04_25_2024__2.4_MB_.pdf\n"
     ]
    },
    {
     "name": "stderr",
     "output_type": "stream",
     "text": [
      "Uploading files: 100%|████████████████████████████| 1/1 [00:02<00:00,  2.29s/it]\n",
      "Creating extraction jobs: 100%|███████████████████| 1/1 [00:01<00:00,  1.11s/it]\n",
      "Extracting files:   0%|                                   | 0/1 [00:00<?, ?it/s]/opt/anaconda3/lib/python3.12/site-packages/llama_cloud_services/extract/extract.py:315: UserWarning: Failure in job: a9fd738c-fb95-40ae-a601-80a47fa22410, status: StatusEnum.ERROR, error: parsing_error: Error on parsing: Organization Quota exceeded.\n",
      "  warnings.warn(\n",
      "Extracting files: 100%|███████████████████████████| 1/1 [00:01<00:00,  1.79s/it]\n"
     ]
    },
    {
     "name": "stdout",
     "output_type": "stream",
     "text": [
      "No data for CORNELL_UNIVERSITY.\n",
      "Extracting data from CULINARY_INSTITUTE_OF_AMERICA_THE/2024_Annual_Report_-_Corrected_for_the_year_ended_05_31_2024__130_KB_.pdf\n"
     ]
    },
    {
     "name": "stderr",
     "output_type": "stream",
     "text": [
      "Uploading files: 100%|████████████████████████████| 1/1 [00:00<00:00,  1.26it/s]\n",
      "Creating extraction jobs: 100%|███████████████████| 1/1 [00:00<00:00,  1.80it/s]\n",
      "Extracting files:   0%|                                   | 0/1 [00:00<?, ?it/s]/opt/anaconda3/lib/python3.12/site-packages/llama_cloud_services/extract/extract.py:315: UserWarning: Failure in job: 8b821b58-809e-49bc-ac27-995a5e77f416, status: StatusEnum.ERROR, error: parsing_error: Error on parsing: Organization Quota exceeded.\n",
      "  warnings.warn(\n",
      "Extracting files: 100%|███████████████████████████| 1/1 [00:01<00:00,  1.72s/it]\n"
     ]
    },
    {
     "name": "stdout",
     "output_type": "stream",
     "text": [
      "Extracting data from CULINARY_INSTITUTE_OF_AMERICA_THE/2024_Annual_Report_for_the_year_ended_05_31_2024__129_KB_.pdf\n"
     ]
    },
    {
     "name": "stderr",
     "output_type": "stream",
     "text": [
      "Uploading files: 100%|████████████████████████████| 1/1 [00:00<00:00,  1.02it/s]\n",
      "Creating extraction jobs: 100%|███████████████████| 1/1 [00:00<00:00,  1.99it/s]\n",
      "Extracting files:   0%|                                   | 0/1 [00:00<?, ?it/s]/opt/anaconda3/lib/python3.12/site-packages/llama_cloud_services/extract/extract.py:315: UserWarning: Failure in job: c9349924-ad02-489a-b917-02c959c6ad07, status: StatusEnum.ERROR, error: parsing_error: Error on parsing: Organization Quota exceeded.\n",
      "  warnings.warn(\n",
      "Extracting files: 100%|███████████████████████████| 1/1 [00:01<00:00,  1.81s/it]\n"
     ]
    },
    {
     "name": "stdout",
     "output_type": "stream",
     "text": [
      "Extracting data from CULINARY_INSTITUTE_OF_AMERICA_THE/2024_Audited_Financial_Statements_for_the_year_ended_05_31_2024__277_KB_.pdf\n"
     ]
    },
    {
     "name": "stderr",
     "output_type": "stream",
     "text": [
      "Uploading files: 100%|████████████████████████████| 1/1 [00:01<00:00,  1.02s/it]\n",
      "Creating extraction jobs: 100%|███████████████████| 1/1 [00:00<00:00,  2.34it/s]\n",
      "Extracting files:   0%|                                   | 0/1 [00:00<?, ?it/s]/opt/anaconda3/lib/python3.12/site-packages/llama_cloud_services/extract/extract.py:315: UserWarning: Failure in job: 03b0979c-b279-45de-b10f-e0f5df8c159b, status: StatusEnum.ERROR, error: parsing_error: Error on parsing: Organization Quota exceeded.\n",
      "  warnings.warn(\n",
      "Extracting files: 100%|███████████████████████████| 1/1 [00:01<00:00,  1.65s/it]\n"
     ]
    },
    {
     "name": "stdout",
     "output_type": "stream",
     "text": [
      "No data for CULINARY_INSTITUTE_OF_AMERICA_THE.\n",
      "Extracting data from GANNON_UNIVERSITY/Audited_Financial_Statements_for_the_year_ended_06_30_2024__786_KB_.pdf\n"
     ]
    },
    {
     "name": "stderr",
     "output_type": "stream",
     "text": [
      "Uploading files:   0%|                                    | 0/1 [00:01<?, ?it/s]\n"
     ]
    },
    {
     "name": "stdout",
     "output_type": "stream",
     "text": [
      "Skipped Audited_Financial_Statements_for_the_year_ended_06_30_2024__786_KB_.pdf: status_code: 429, body: {'detail': 'Rate limit exceeded. Please try again later.'}\n",
      "Extracting data from GANNON_UNIVERSITY/Continued_Disclosures_Fall_2024_for_the_year_ended_06_30_2024_Document1__203_KB_.pdf\n"
     ]
    },
    {
     "name": "stderr",
     "output_type": "stream",
     "text": [
      "Uploading files:   0%|                                    | 0/1 [00:00<?, ?it/s]\n"
     ]
    },
    {
     "name": "stdout",
     "output_type": "stream",
     "text": [
      "Skipped Continued_Disclosures_Fall_2024_for_the_year_ended_06_30_2024_Document1__203_KB_.pdf: status_code: 429, body: {'detail': 'Rate limit exceeded. Please try again later.'}\n",
      "No data for GANNON_UNIVERSITY.\n",
      "Extracting data from LEWIS_UNIVERSITY/Audited_Financial_Statements_for_the_year_ended_06_30_2024__430_KB_.pdf\n"
     ]
    },
    {
     "name": "stderr",
     "output_type": "stream",
     "text": [
      "Uploading files:   0%|                                    | 0/1 [00:01<?, ?it/s]\n"
     ]
    },
    {
     "name": "stdout",
     "output_type": "stream",
     "text": [
      "Skipped Audited_Financial_Statements_for_the_year_ended_06_30_2024__430_KB_.pdf: status_code: 429, body: {'detail': 'Rate limit exceeded. Please try again later.'}\n",
      "Extracting data from LEWIS_UNIVERSITY/Continuing_Disclosure_for_the_year_ended_06_30_2024__298_KB_.pdf\n"
     ]
    },
    {
     "name": "stderr",
     "output_type": "stream",
     "text": [
      "Uploading files:   0%|                                    | 0/1 [00:00<?, ?it/s]\n"
     ]
    },
    {
     "name": "stdout",
     "output_type": "stream",
     "text": [
      "Skipped Continuing_Disclosure_for_the_year_ended_06_30_2024__298_KB_.pdf: status_code: 429, body: {'detail': 'Rate limit exceeded. Please try again later.'}\n",
      "No data for LEWIS_UNIVERSITY.\n",
      "Extracting data from MICHIGAN_STATE_UNIVERSITY/Updates_of_Tables_of_Operating_Information_for_the_year_ended_06_30_2024_Document1__143_KB_.pdf\n"
     ]
    },
    {
     "name": "stderr",
     "output_type": "stream",
     "text": [
      "Uploading files:   0%|                                    | 0/1 [00:00<?, ?it/s]\n"
     ]
    },
    {
     "name": "stdout",
     "output_type": "stream",
     "text": [
      "Skipped Updates_of_Tables_of_Operating_Information_for_the_year_ended_06_30_2024_Document1__143_KB_.pdf: status_code: 429, body: {'detail': 'Rate limit exceeded. Please try again later.'}\n",
      "Extracting data from MICHIGAN_STATE_UNIVERSITY/Updates_of_Tables_of_Operating_Information_for_the_year_ended_06_30_2024_Document2__8.4_MB_.pdf\n"
     ]
    },
    {
     "name": "stderr",
     "output_type": "stream",
     "text": [
      "Uploading files:   0%|                                    | 0/1 [00:00<?, ?it/s]"
     ]
    },
    {
     "ename": "KeyboardInterrupt",
     "evalue": "",
     "output_type": "error",
     "traceback": [
      "\u001b[0;31m---------------------------------------------------------------------------\u001b[0m",
      "\u001b[0;31mKeyboardInterrupt\u001b[0m                         Traceback (most recent call last)",
      "Cell \u001b[0;32mIn[165], line 18\u001b[0m\n\u001b[1;32m     16\u001b[0m \u001b[38;5;28mprint\u001b[39m(\u001b[38;5;124mf\u001b[39m\u001b[38;5;124m\"\u001b[39m\u001b[38;5;124mExtracting data from \u001b[39m\u001b[38;5;132;01m{\u001b[39;00mschool\u001b[38;5;132;01m}\u001b[39;00m\u001b[38;5;124m/\u001b[39m\u001b[38;5;132;01m{\u001b[39;00mfname\u001b[38;5;132;01m}\u001b[39;00m\u001b[38;5;124m\"\u001b[39m)\n\u001b[1;32m     17\u001b[0m \u001b[38;5;28;01mtry\u001b[39;00m:\n\u001b[0;32m---> 18\u001b[0m     run  \u001b[38;5;241m=\u001b[39m agent\u001b[38;5;241m.\u001b[39mextract(path)\n\u001b[1;32m     19\u001b[0m     data \u001b[38;5;241m=\u001b[39m run\u001b[38;5;241m.\u001b[39mdata \u001b[38;5;129;01mor\u001b[39;00m {}\n\u001b[1;32m     20\u001b[0m     \u001b[38;5;28;01mif\u001b[39;00m first_keys \u001b[38;5;129;01mis\u001b[39;00m \u001b[38;5;28;01mNone\u001b[39;00m:\n",
      "File \u001b[0;32m/opt/anaconda3/lib/python3.12/site-packages/llama_cloud_services/extract/extract.py:487\u001b[0m, in \u001b[0;36mExtractionAgent.extract\u001b[0;34m(self, files)\u001b[0m\n\u001b[1;32m    476\u001b[0m \u001b[38;5;28;01mdef\u001b[39;00m \u001b[38;5;21mextract\u001b[39m(\n\u001b[1;32m    477\u001b[0m     \u001b[38;5;28mself\u001b[39m, files: Union[FileInput, List[FileInput]]\n\u001b[1;32m    478\u001b[0m ) \u001b[38;5;241m-\u001b[39m\u001b[38;5;241m>\u001b[39m Union[ExtractRun, List[ExtractRun]]:\n\u001b[1;32m    479\u001b[0m \u001b[38;5;250m    \u001b[39m\u001b[38;5;124;03m\"\"\"Synchronously extract data from one or more files using this agent.\u001b[39;00m\n\u001b[1;32m    480\u001b[0m \n\u001b[1;32m    481\u001b[0m \u001b[38;5;124;03m    Args:\u001b[39;00m\n\u001b[0;32m   (...)\u001b[0m\n\u001b[1;32m    485\u001b[0m \u001b[38;5;124;03m        Union[ExtractRun, List[ExtractRun]]: The extraction results\u001b[39;00m\n\u001b[1;32m    486\u001b[0m \u001b[38;5;124;03m    \"\"\"\u001b[39;00m\n\u001b[0;32m--> 487\u001b[0m     \u001b[38;5;28;01mreturn\u001b[39;00m \u001b[38;5;28mself\u001b[39m\u001b[38;5;241m.\u001b[39m_run_in_thread(\u001b[38;5;28mself\u001b[39m\u001b[38;5;241m.\u001b[39maextract(files))\n",
      "File \u001b[0;32m/opt/anaconda3/lib/python3.12/site-packages/llama_cloud_services/extract/extract.py:217\u001b[0m, in \u001b[0;36mExtractionAgent._run_in_thread\u001b[0;34m(self, coro)\u001b[0m\n\u001b[1;32m    215\u001b[0m \u001b[38;5;28;01mdef\u001b[39;00m \u001b[38;5;21m_run_in_thread\u001b[39m(\u001b[38;5;28mself\u001b[39m, coro: Coroutine[Any, Any, T]) \u001b[38;5;241m-\u001b[39m\u001b[38;5;241m>\u001b[39m T:\n\u001b[1;32m    216\u001b[0m \u001b[38;5;250m    \u001b[39m\u001b[38;5;124;03m\"\"\"Run coroutine in a separate thread to avoid event loop issues\"\"\"\u001b[39;00m\n\u001b[0;32m--> 217\u001b[0m     \u001b[38;5;28;01mreturn\u001b[39;00m run_in_thread(\n\u001b[1;32m    218\u001b[0m         coro,\n\u001b[1;32m    219\u001b[0m         \u001b[38;5;28mself\u001b[39m\u001b[38;5;241m.\u001b[39m_thread_pool,\n\u001b[1;32m    220\u001b[0m         \u001b[38;5;28mself\u001b[39m\u001b[38;5;241m.\u001b[39mverify,  \u001b[38;5;66;03m# type: ignore\u001b[39;00m\n\u001b[1;32m    221\u001b[0m         \u001b[38;5;28mself\u001b[39m\u001b[38;5;241m.\u001b[39mhttpx_timeout,  \u001b[38;5;66;03m# type: ignore\u001b[39;00m\n\u001b[1;32m    222\u001b[0m         \u001b[38;5;28mself\u001b[39m\u001b[38;5;241m.\u001b[39m_client\u001b[38;5;241m.\u001b[39m_client_wrapper,\n\u001b[1;32m    223\u001b[0m     )\n",
      "File \u001b[0;32m/opt/anaconda3/lib/python3.12/site-packages/llama_cloud_services/extract/extract.py:119\u001b[0m, in \u001b[0;36mrun_in_thread\u001b[0;34m(coro, thread_pool, verify, httpx_timeout, client_wrapper)\u001b[0m\n\u001b[1;32m    116\u001b[0m     \u001b[38;5;28;01mexcept\u001b[39;00m httpx\u001b[38;5;241m.\u001b[39mNetworkError \u001b[38;5;28;01mas\u001b[39;00m e:\n\u001b[1;32m    117\u001b[0m         \u001b[38;5;28;01mraise\u001b[39;00m \u001b[38;5;167;01mConnectionError\u001b[39;00m(\u001b[38;5;124mf\u001b[39m\u001b[38;5;124m\"\u001b[39m\u001b[38;5;124mNetwork error: \u001b[39m\u001b[38;5;132;01m{\u001b[39;00m\u001b[38;5;28mstr\u001b[39m(e)\u001b[38;5;132;01m}\u001b[39;00m\u001b[38;5;124m\"\u001b[39m) \u001b[38;5;28;01mfrom\u001b[39;00m \u001b[38;5;21;01me\u001b[39;00m\n\u001b[0;32m--> 119\u001b[0m \u001b[38;5;28;01mreturn\u001b[39;00m thread_pool\u001b[38;5;241m.\u001b[39msubmit(run_coro)\u001b[38;5;241m.\u001b[39mresult()\n",
      "File \u001b[0;32m/opt/anaconda3/lib/python3.12/concurrent/futures/_base.py:451\u001b[0m, in \u001b[0;36mFuture.result\u001b[0;34m(self, timeout)\u001b[0m\n\u001b[1;32m    448\u001b[0m \u001b[38;5;28;01melif\u001b[39;00m \u001b[38;5;28mself\u001b[39m\u001b[38;5;241m.\u001b[39m_state \u001b[38;5;241m==\u001b[39m FINISHED:\n\u001b[1;32m    449\u001b[0m     \u001b[38;5;28;01mreturn\u001b[39;00m \u001b[38;5;28mself\u001b[39m\u001b[38;5;241m.\u001b[39m__get_result()\n\u001b[0;32m--> 451\u001b[0m \u001b[38;5;28mself\u001b[39m\u001b[38;5;241m.\u001b[39m_condition\u001b[38;5;241m.\u001b[39mwait(timeout)\n\u001b[1;32m    453\u001b[0m \u001b[38;5;28;01mif\u001b[39;00m \u001b[38;5;28mself\u001b[39m\u001b[38;5;241m.\u001b[39m_state \u001b[38;5;129;01min\u001b[39;00m [CANCELLED, CANCELLED_AND_NOTIFIED]:\n\u001b[1;32m    454\u001b[0m     \u001b[38;5;28;01mraise\u001b[39;00m CancelledError()\n",
      "File \u001b[0;32m/opt/anaconda3/lib/python3.12/threading.py:355\u001b[0m, in \u001b[0;36mCondition.wait\u001b[0;34m(self, timeout)\u001b[0m\n\u001b[1;32m    353\u001b[0m \u001b[38;5;28;01mtry\u001b[39;00m:    \u001b[38;5;66;03m# restore state no matter what (e.g., KeyboardInterrupt)\u001b[39;00m\n\u001b[1;32m    354\u001b[0m     \u001b[38;5;28;01mif\u001b[39;00m timeout \u001b[38;5;129;01mis\u001b[39;00m \u001b[38;5;28;01mNone\u001b[39;00m:\n\u001b[0;32m--> 355\u001b[0m         waiter\u001b[38;5;241m.\u001b[39macquire()\n\u001b[1;32m    356\u001b[0m         gotit \u001b[38;5;241m=\u001b[39m \u001b[38;5;28;01mTrue\u001b[39;00m\n\u001b[1;32m    357\u001b[0m     \u001b[38;5;28;01melse\u001b[39;00m:\n",
      "\u001b[0;31mKeyboardInterrupt\u001b[0m: "
     ]
    }
   ],
   "source": [
    "OUTPUT_FILE = os.path.join(OUTPUT_ROOT, \"all_schools.xlsx\")\n",
    "\n",
    "writer = pd.ExcelWriter(OUTPUT_FILE, engine=\"openpyxl\")\n",
    "\n",
    "for school in sorted(os.listdir(PDF_ROOT)):\n",
    "    school_dir = os.path.join(PDF_ROOT, school)\n",
    "    if not os.path.isdir(school_dir):\n",
    "        continue\n",
    "\n",
    "    combined   = {}\n",
    "    first_keys = None\n",
    "    for fname in sorted(os.listdir(school_dir)):\n",
    "        if not fname.lower().endswith(\".pdf\"):\n",
    "            continue\n",
    "        path = os.path.join(school_dir, fname)\n",
    "        print(f\"Extracting data from {school}/{fname}\")\n",
    "        try:\n",
    "            run  = agent.extract(path)\n",
    "            data = run.data or {}\n",
    "            if first_keys is None:\n",
    "                first_keys = list(data.keys())\n",
    "                combined  = {k: None for k in first_keys}\n",
    "            for k, v in data.items():\n",
    "                if v not in (None, \"\", []):\n",
    "                    combined[k] = v\n",
    "        except Exception as err:\n",
    "            print(f\"Skipped {fname}: {err}\")\n",
    "\n",
    "    if first_keys:\n",
    "        df = pd.DataFrame.from_dict(combined, orient=\"index\", columns=[\"2024-25\"])\n",
    "        df.index.name = \"Metric\"\n",
    "        sheet_name = school[:31]\n",
    "        df.to_excel(writer, sheet_name=sheet_name)\n",
    "    else:\n",
    "        print(f\"No data for {school}.\")\n",
    "\n",
    "writer.close()\n",
    "print(f\"All schools written to {OUTPUT_FILE}\")"
   ]
  },
  {
   "cell_type": "code",
   "execution_count": null,
   "id": "9eb0da23-d7a9-4494-82e8-03fab3c1e98b",
   "metadata": {},
   "outputs": [],
   "source": []
  },
  {
   "cell_type": "code",
   "execution_count": null,
   "id": "a1723148-df6b-4506-bfb8-c10e45df23b9",
   "metadata": {},
   "outputs": [],
   "source": []
  }
 ],
 "metadata": {
  "kernelspec": {
   "display_name": "Python [conda env:base] *",
   "language": "python",
   "name": "conda-base-py"
  },
  "language_info": {
   "codemirror_mode": {
    "name": "ipython",
    "version": 3
   },
   "file_extension": ".py",
   "mimetype": "text/x-python",
   "name": "python",
   "nbconvert_exporter": "python",
   "pygments_lexer": "ipython3",
   "version": "3.12.7"
  }
 },
 "nbformat": 4,
 "nbformat_minor": 5
}
