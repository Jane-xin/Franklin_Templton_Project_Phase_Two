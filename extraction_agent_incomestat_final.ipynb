{
 "cells": [
  {
   "cell_type": "code",
   "execution_count": 2,
   "id": "639b49a1",
   "metadata": {},
   "outputs": [
    {
     "name": "stdout",
     "output_type": "stream",
     "text": [
      "2.11.5\n"
     ]
    }
   ],
   "source": [
    "import pydantic\n",
    "print(pydantic.__version__)\n",
    "from pydantic import BaseModel, Field, model_validator\n",
    "\n"
   ]
  },
  {
   "cell_type": "code",
   "execution_count": null,
   "id": "5c9627dd-5608-4da8-9f1a-8ea9589a003b",
   "metadata": {},
   "outputs": [],
   "source": [
    "import os\n",
    "import pandas as pd\n",
    "from llama_cloud_services import LlamaExtract\n",
    "from pydantic import BaseModel, Field, model_validator\n",
    "from financial_schemas_incomestatement_final import generate_income_statement_schema \n",
    "#from dotenv import load_dotenv\n"
   ]
  },
  {
   "cell_type": "code",
   "execution_count": null,
   "id": "cf875a82-1028-4b54-8807-1d1dde9cca33",
   "metadata": {},
   "outputs": [],
   "source": [
    "FISCAL_YEAR = 2024  #Change the year if you want different years\n",
    "IncomeStatement_2024_25 = generate_income_statement_schema(FISCAL_YEAR)\n",
    "\n",
    "PDF_ROOT = \"private_universities/university_pdfs\"  # Change this to the point to the directory where you are storing the pdfs after scraping\n",
    "OUTPUT_ROOT = \"output_incomestatement_final\"  # Make this point to the directory/folder where you want to store the excel files with information extracted\n",
    "os.makedirs(OUTPUT_ROOT, exist_ok=True)  \n",
    "AGENT_ID = \"43c63d27-55a6-4268-abb4-26d9ed82480f\" #Different based on what agent you are using. Check llamacloud for the list of agents we have under the pro account\n",
    "api_key = os.getenv(\"LLAMACLOUD_API_KEY\")"
   ]
  },
  {
   "cell_type": "code",
   "execution_count": null,
   "id": "47855a29-4fc8-4dae-b036-4626be1954da",
   "metadata": {},
   "outputs": [
    {
     "name": "stderr",
     "output_type": "stream",
     "text": [
      "/var/folders/m1/8j3nd3m95y1brb0j52fx43fr0000gn/T/ipykernel_70379/2163845701.py:12: PydanticDeprecatedSince20: The `schema` method is deprecated; use `model_json_schema` instead. Deprecated in Pydantic V2.0 to be removed in V3.0. See Pydantic V2 Migration Guide at https://errors.pydantic.dev/2.11/migration/\n",
      "  agent.data_schema = IncomeStatement_2024_25.schema()\n"
     ]
    }
   ],
   "source": [
    "extractor = LlamaExtract(\n",
    "    api_key=\"llx-63CU3PdyDo0d230ureocmy9JOHgnPwYgE2HETi55DqzYCIpy\", # Add your Llamacloud API Key \n",
    "    project_id=\"8c10e62e-3810-4193-915d-d2d11105826d\"   #Change the project ID only if Luis has asked you. This is dependent on the llamacloud account\n",
    ")\n",
    "\n",
    "\n",
    "#agent = extractor.create_agent(name = \"endowment-parser-2024\", data_schema=EndowmentAndInvestmentLevels_2024_25)\n",
    "\n",
    "agent = extractor.get_agent(id = AGENT_ID)\n",
    "\n",
    "#uncomment the following lines if you updated the schema\n",
    "agent.data_schema = IncomeStatement_2024_25.schema()\n",
    "agent.save()\n",
    "agent = extractor.get_agent(id = AGENT_ID)\n"
   ]
  },
  {
   "cell_type": "code",
   "execution_count": 6,
   "id": "f81a8d24-9e3e-40eb-a1c0-9fe4e2025a35",
   "metadata": {},
   "outputs": [
    {
     "data": {
      "text/plain": [
       "{'additionalProperties': False,\n",
       " 'properties': {'gross_tuition_revenue': {'anyOf': [{'type': 'integer'},\n",
       "    {'type': 'null'}],\n",
       "   'description': \"Gross tuition revenue before financial aid for 2024. Look for labels like 'Gross Tuition and Fees'. Exclude net tuition or post-discounted amounts.\"},\n",
       "  'financial_aid': {'anyOf': [{'type': 'integer'}, {'type': 'null'}],\n",
       "   'description': \"Institutional financial aid or tuition discounts for 2024. Labeled 'Scholarships', 'Grants', or 'Financial Aid'. Do not include federal aid.\"},\n",
       "  'net_tuition_revenue': {'anyOf': [{'type': 'integer'}, {'type': 'null'}],\n",
       "   'description': \"Tuition revenue net of financial aid for 2024. Must be explicitly labeled as 'Net Tuition Revenue' or equivalent. Do not compute manually.\"},\n",
       "  'federal_grants_contracts': {'anyOf': [{'type': 'integer'},\n",
       "    {'type': 'null'}],\n",
       "   'description': \"Federal operating grants and contracts for 2024. Look for 'Federal Grants & Contracts' in operating revenue section. Exclude capital grants.\"},\n",
       "  'state_local_grants_contracts': {'anyOf': [{'type': 'integer'},\n",
       "    {'type': 'null'}],\n",
       "   'description': 'State or local government operating grants and contracts for 2024. Exclude restricted or capital-only support.'},\n",
       "  'government_grants_contracts_total': {'anyOf': [{'type': 'integer'},\n",
       "    {'type': 'null'}],\n",
       "   'description': 'Combined federal, state, and local grants/contracts for 2024, if labeled as a total. Do not compute unless explicitly stated.'},\n",
       "  'state_appropriations': {'anyOf': [{'type': 'integer'}, {'type': 'null'}],\n",
       "   'description': 'Base state funding or appropriations for 2024. Exclude capital-specific appropriations unless labeled as operating.'},\n",
       "  'private_gifts_grants_contracts': {'anyOf': [{'type': 'integer'},\n",
       "    {'type': 'null'}],\n",
       "   'description': 'Private support for operations for 2024. Includes gifts, contributions, grants. Must be unrestricted or labeled for current use.'},\n",
       "  'total_gifts_contracts_other_support': {'anyOf': [{'type': 'integer'},\n",
       "    {'type': 'null'}],\n",
       "   'description': 'Total of all gifts, grants, and other support for operations for 2024. Only extract if explicitly labeled as total. Do not sum manually.'},\n",
       "  'private_gifts_with_donor_restrictions': {'anyOf': [{'type': 'integer'},\n",
       "    {'type': 'null'}],\n",
       "   'description': 'Gifts or grants with donor restrictions for time or purpose, applicable to 2024. Must be clearly labeled. Do not infer from general private support.'},\n",
       "  'investment_income_operations': {'anyOf': [{'type': 'integer'},\n",
       "    {'type': 'null'}],\n",
       "   'description': \"Investment income available for operational use during 2024. May be labeled 'Operating Investment Income'. Exclude restricted or unrealized returns.\"},\n",
       "  'investment_income_total': {'anyOf': [{'type': 'integer'}, {'type': 'null'}],\n",
       "   'description': 'Total investment income (dividends + interest) for 2024. Exclude gains/losses unless stated as included.'},\n",
       "  'realized_gains_losses': {'anyOf': [{'type': 'integer'}, {'type': 'null'}],\n",
       "   'description': 'Realized gains or losses on investments for 2024. Include only if specifically labeled. Do not combine with unrealized.'},\n",
       "  'unrealized_gains_losses': {'anyOf': [{'type': 'integer'}, {'type': 'null'}],\n",
       "   'description': \"Unrealized gains or losses for 2024, typically due to fair value changes. Must be labeled 'Unrealized'.\"},\n",
       "  'realized_unrealized_gains_combined': {'anyOf': [{'type': 'integer'},\n",
       "    {'type': 'null'}],\n",
       "   'description': 'Combined realized/unrealized gains or losses for 2024, if labeled together. Exclude if the document breaks them out separately.'},\n",
       "  'total_operating_investment_return': {'anyOf': [{'type': 'integer'},\n",
       "    {'type': 'null'}],\n",
       "   'description': \"Total investment return used for operations, including realized/unrealized, for 2024. Only extract if labeled as 'Operating Investment Return' or equivalent.\"},\n",
       "  'investment_income_with_donor_restrictions': {'anyOf': [{'type': 'integer'},\n",
       "    {'type': 'null'}],\n",
       "   'description': 'Operating investment income with donor restrictions for 2024. Must be explicitly labeled. Do not assume based on other investment lines.'},\n",
       "  'auxiliary_enterprise_revenue': {'anyOf': [{'type': 'integer'},\n",
       "    {'type': 'null'}],\n",
       "   'description': 'Revenue from auxiliary operations (e.g., housing, dining, parking) in 2024. Must be clearly labeled.'},\n",
       "  'healthcare_clinical_revenue': {'anyOf': [{'type': 'integer'},\n",
       "    {'type': 'null'}],\n",
       "   'description': 'Revenue from healthcare or clinical activities for 2024. Include only if clearly identified.'},\n",
       "  'net_assets_released_from_restrictions': {'anyOf': [{'type': 'integer'},\n",
       "    {'type': 'null'}],\n",
       "   'description': \"Net assets released from donor or legal restrictions in 2024. Labeled 'Net Assets Released from Restrictions'.\"},\n",
       "  'total_operating_revenue': {'anyOf': [{'type': 'integer'}, {'type': 'null'}],\n",
       "   'description': 'Total operating revenue for 2024. Only extract if labeled. Do not compute.'},\n",
       "  'instructional_expense': {'anyOf': [{'type': 'integer'}, {'type': 'null'}],\n",
       "   'description': 'Instructional expenses for 2024. Include direct academic instruction.'},\n",
       "  'research_expense': {'anyOf': [{'type': 'integer'}, {'type': 'null'}],\n",
       "   'description': 'Research-related operational expenses for 2024. Exclude capitalized research infrastructure unless operational.'},\n",
       "  'instructional_research_expense': {'anyOf': [{'type': 'integer'},\n",
       "    {'type': 'null'}],\n",
       "   'description': 'Combined instruction & research expense line for 2024, if labeled together. Only use this if reported as one item.'},\n",
       "  'auxiliary_enterprise_expense': {'anyOf': [{'type': 'integer'},\n",
       "    {'type': 'null'}],\n",
       "   'description': 'Expenses related to auxiliary operations (e.g., dorms, food) for 2024.'},\n",
       "  'healthcare_clinical_expense': {'anyOf': [{'type': 'integer'},\n",
       "    {'type': 'null'}],\n",
       "   'description': 'Clinical and healthcare expense for 2024. Include only if labeled clearly.'},\n",
       "  'academic_support': {'anyOf': [{'type': 'integer'}, {'type': 'null'}],\n",
       "   'description': 'Academic support services expenses (libraries, curriculum dev) in 2024.'},\n",
       "  'student_services': {'anyOf': [{'type': 'integer'}, {'type': 'null'}],\n",
       "   'description': 'Expenses related to student services (advising, career, etc.) for 2024.'},\n",
       "  'institutional_support': {'anyOf': [{'type': 'integer'}, {'type': 'null'}],\n",
       "   'description': 'Institutional overhead and general administrative expenses for 2024.'},\n",
       "  'public_service_expense': {'anyOf': [{'type': 'integer'}, {'type': 'null'}],\n",
       "   'description': 'Public/community service operating expenses for 2024.'},\n",
       "  'student_aid_expense': {'anyOf': [{'type': 'integer'}, {'type': 'null'}],\n",
       "   'description': 'Scholarships and fellowships recognized as expense, not offsets to revenue, for 2024.'},\n",
       "  'total_operating_expense': {'anyOf': [{'type': 'integer'}, {'type': 'null'}],\n",
       "   'description': 'Total of all functional operating expenses for 2024. Only extract if labeled.'},\n",
       "  'net_operating_income': {'anyOf': [{'type': 'integer'}, {'type': 'null'}],\n",
       "   'description': \"Net income from operations for 2024 (Total Revenue - Total Expenses). Do not compute. Only extract if labeled 'Net Operating Income' or equivalent.\"},\n",
       "  'non_op_realized_gains': {'anyOf': [{'type': 'integer'}, {'type': 'null'}],\n",
       "   'description': 'Realized gains from investments reported as non-operating in 2024.'},\n",
       "  'non_operating_revenue': {'anyOf': [{'type': 'integer'}, {'type': 'null'}],\n",
       "   'description': 'Total non-operating revenue for 2024, if explicitly labeled.'},\n",
       "  'non_op_realized_losses': {'anyOf': [{'type': 'integer'}, {'type': 'null'}],\n",
       "   'description': 'Realized losses from investments reported as non-operating in 2024.'},\n",
       "  'non_operating_expense': {'anyOf': [{'type': 'integer'}, {'type': 'null'}],\n",
       "   'description': 'Total non-operating expenses for 2024, if explicitly labeled.'},\n",
       "  'non_op_realized_gains_with_restrictions': {'anyOf': [{'type': 'integer'},\n",
       "    {'type': 'null'}],\n",
       "   'description': 'Realized investment gains with donor restrictions in 2024. Only extract if explicitly labeled with restrictions.'},\n",
       "  'extraordinary_gain_or_loss': {'anyOf': [{'type': 'integer'},\n",
       "    {'type': 'null'}],\n",
       "   'description': 'Extraordinary or one-time gain/loss for 2024.'},\n",
       "  'net_assets_released_for_capital': {'anyOf': [{'type': 'integer'},\n",
       "    {'type': 'null'}],\n",
       "   'description': 'Net assets released from restriction for capital use in 2024.'},\n",
       "  'change_fair_value_derivatives': {'anyOf': [{'type': 'integer'},\n",
       "    {'type': 'null'}],\n",
       "   'description': 'Change in fair market value of derivative instruments in 2024.'},\n",
       "  'capital_grants_gifts': {'anyOf': [{'type': 'integer'}, {'type': 'null'}],\n",
       "   'description': 'Capital grants and gifts received during 2024.'},\n",
       "  'net_unrealized_investment_income': {'anyOf': [{'type': 'integer'},\n",
       "    {'type': 'null'}],\n",
       "   'description': 'Net unrealized gains/losses on investments not included elsewhere in 2024.'},\n",
       "  'change_net_assets_without_donor_restrictions': {'anyOf': [{'type': 'integer'},\n",
       "    {'type': 'null'}],\n",
       "   'description': 'Net change in unrestricted net assets for 2024.'},\n",
       "  'change_net_assets_with_donor_restrictions': {'anyOf': [{'type': 'integer'},\n",
       "    {'type': 'null'}],\n",
       "   'description': 'Net change in restricted net assets for 2024.'},\n",
       "  'change_temp_restricted_net_assets': {'anyOf': [{'type': 'integer'},\n",
       "    {'type': 'null'}],\n",
       "   'description': 'Change in temporarily restricted net assets for 2024.'},\n",
       "  'change_perm_restricted_net_assets': {'anyOf': [{'type': 'integer'},\n",
       "    {'type': 'null'}],\n",
       "   'description': 'Change in permanently restricted net assets for 2024.'},\n",
       "  'total_change_in_net_assets': {'anyOf': [{'type': 'integer'},\n",
       "    {'type': 'null'}],\n",
       "   'description': 'Final bottom-line change in total net assets for 2024. Only extract if explicitly stated. Do not derive.'}},\n",
       " 'required': ['gross_tuition_revenue',\n",
       "  'financial_aid',\n",
       "  'net_tuition_revenue',\n",
       "  'federal_grants_contracts',\n",
       "  'state_local_grants_contracts',\n",
       "  'government_grants_contracts_total',\n",
       "  'state_appropriations',\n",
       "  'private_gifts_grants_contracts',\n",
       "  'total_gifts_contracts_other_support',\n",
       "  'private_gifts_with_donor_restrictions',\n",
       "  'investment_income_operations',\n",
       "  'investment_income_total',\n",
       "  'realized_gains_losses',\n",
       "  'unrealized_gains_losses',\n",
       "  'realized_unrealized_gains_combined',\n",
       "  'total_operating_investment_return',\n",
       "  'investment_income_with_donor_restrictions',\n",
       "  'auxiliary_enterprise_revenue',\n",
       "  'healthcare_clinical_revenue',\n",
       "  'net_assets_released_from_restrictions',\n",
       "  'total_operating_revenue',\n",
       "  'instructional_expense',\n",
       "  'research_expense',\n",
       "  'instructional_research_expense',\n",
       "  'auxiliary_enterprise_expense',\n",
       "  'healthcare_clinical_expense',\n",
       "  'academic_support',\n",
       "  'student_services',\n",
       "  'institutional_support',\n",
       "  'public_service_expense',\n",
       "  'student_aid_expense',\n",
       "  'total_operating_expense',\n",
       "  'net_operating_income',\n",
       "  'non_op_realized_gains',\n",
       "  'non_operating_revenue',\n",
       "  'non_op_realized_losses',\n",
       "  'non_operating_expense',\n",
       "  'non_op_realized_gains_with_restrictions',\n",
       "  'extraordinary_gain_or_loss',\n",
       "  'net_assets_released_for_capital',\n",
       "  'change_fair_value_derivatives',\n",
       "  'capital_grants_gifts',\n",
       "  'net_unrealized_investment_income',\n",
       "  'change_net_assets_without_donor_restrictions',\n",
       "  'change_net_assets_with_donor_restrictions',\n",
       "  'change_temp_restricted_net_assets',\n",
       "  'change_perm_restricted_net_assets',\n",
       "  'total_change_in_net_assets'],\n",
       " 'type': 'object'}"
      ]
     },
     "execution_count": 6,
     "metadata": {},
     "output_type": "execute_result"
    }
   ],
   "source": [
    "agent.data_schema"
   ]
  },
  {
   "cell_type": "markdown",
   "id": "6449229a-af1c-4e6f-8219-6497a0a1bc94",
   "metadata": {},
   "source": [
    "The following two cell blocks extract all schools' info into one excel file per school."
   ]
  },
  {
   "cell_type": "code",
   "execution_count": 7,
   "id": "36077e96-e5ec-4352-afef-d76b8f78be2d",
   "metadata": {},
   "outputs": [],
   "source": [
    "def process_school(school_name, school_dir):\n",
    "    combined   = {}\n",
    "    first_keys = None\n",
    "\n",
    "    for fname in sorted(os.listdir(school_dir)):\n",
    "        if not fname.lower().endswith(\".pdf\"):\n",
    "            continue\n",
    "        path = os.path.join(school_dir, fname)\n",
    "        print(f\"Extracting data from {fname}\")\n",
    "        try:\n",
    "            run  = agent.extract(path)\n",
    "            data = run.data or {}\n",
    "            if first_keys is None:\n",
    "                first_keys = list(data.keys())\n",
    "                combined  = {k: None for k in first_keys}\n",
    "            for k, v in data.items():\n",
    "                if v not in (None, \"\", []):\n",
    "                    combined[k] = v\n",
    "        except Exception as err:\n",
    "            print(f\"Skipped {fname}: {err}\")\n",
    "\n",
    "    if first_keys:\n",
    "        df = pd.DataFrame.from_dict(combined, orient=\"index\", columns=[f\"{FISCAL_YEAR - 1}-{str(FISCAL_YEAR)[-2:]}\"])\n",
    "        df.index.name = \"Metric\"\n",
    "        outfile = os.path.join(OUTPUT_ROOT, f\"{school_name}.xlsx\")\n",
    "        df.to_excel(outfile)\n",
    "        print(f\"Saved output to {outfile}\")\n",
    "    else:\n",
    "        print(f\"No PDF data found for {school_name}\")"
   ]
  },
  {
   "cell_type": "code",
   "execution_count": null,
   "id": "a7256b8f-8158-48f2-8b89-5e1ae36760c1",
   "metadata": {},
   "outputs": [
    {
     "name": "stdout",
     "output_type": "stream",
     "text": [
      "Processing school: BRADLEY_UNIVERSITY\n",
      "Extracting data from Annual_Financial_Information_and_Operating_Data__Rule_15c2-12__for_FY24_for_the_year_ended_05_31_2024__227_KB_.pdf\n"
     ]
    },
    {
     "name": "stderr",
     "output_type": "stream",
     "text": [
      "Uploading files: 100%|██████████| 1/1 [00:01<00:00,  1.27s/it]\n",
      "Creating extraction jobs: 100%|██████████| 1/1 [00:01<00:00,  1.74s/it]\n",
      "Extracting files: 100%|██████████| 1/1 [00:48<00:00, 48.44s/it]\n"
     ]
    },
    {
     "name": "stdout",
     "output_type": "stream",
     "text": [
      "Extracting data from Audited_Financial_Statements_or_ACFR__Rule_15c2-12__for_FY24_for_the_year_ended_05_31_2024__541_KB_.pdf\n"
     ]
    },
    {
     "name": "stderr",
     "output_type": "stream",
     "text": [
      "Uploading files: 100%|██████████| 1/1 [00:01<00:00,  1.20s/it]\n",
      "Creating extraction jobs: 100%|██████████| 1/1 [00:01<00:00,  1.23s/it]\n",
      "Extracting files: 100%|██████████| 1/1 [00:15<00:00, 15.46s/it]\n"
     ]
    },
    {
     "name": "stdout",
     "output_type": "stream",
     "text": [
      "Saved output to output_incomestatement_final/BRADLEY_UNIVERSITY.xlsx\n",
      "Processing school: CORNELL_UNIVERSITY\n",
      "Extracting data from 2024_Audited_Financial_Statements_for_the_year_ended_06_30_2024__788_KB_.pdf\n"
     ]
    },
    {
     "name": "stderr",
     "output_type": "stream",
     "text": [
      "Uploading files: 100%|██████████| 1/1 [00:01<00:00,  1.01s/it]\n",
      "Creating extraction jobs: 100%|██████████| 1/1 [00:01<00:00,  1.88s/it]\n",
      "Extracting files: 100%|██████████| 1/1 [00:20<00:00, 20.38s/it]\n"
     ]
    },
    {
     "name": "stdout",
     "output_type": "stream",
     "text": [
      "Extracting data from 2024_Operating_Data_for_the_year_ended_06_30_2024__109_KB_.pdf\n"
     ]
    },
    {
     "name": "stderr",
     "output_type": "stream",
     "text": [
      "Uploading files: 100%|██████████| 1/1 [00:01<00:00,  1.01s/it]\n",
      "Creating extraction jobs: 100%|██████████| 1/1 [00:01<00:00,  1.95s/it]\n",
      "Extracting files: 100%|██████████| 1/1 [00:07<00:00,  7.99s/it]\n"
     ]
    },
    {
     "name": "stdout",
     "output_type": "stream",
     "text": [
      "Extracting data from Incorporate_OS_by_Reference_as_of_04_25_2024__2.4_MB_.pdf\n"
     ]
    },
    {
     "name": "stderr",
     "output_type": "stream",
     "text": [
      "Uploading files: 100%|██████████| 1/1 [00:01<00:00,  1.23s/it]\n",
      "Creating extraction jobs: 100%|██████████| 1/1 [00:00<00:00,  2.73it/s]\n",
      "Extracting files: 100%|██████████| 1/1 [00:17<00:00, 17.68s/it]\n"
     ]
    },
    {
     "name": "stdout",
     "output_type": "stream",
     "text": [
      "Saved output to output_incomestatement_final/CORNELL_UNIVERSITY.xlsx\n",
      "Processing school: CULINARY_INSTITUTE_OF_AMERICA_THE\n",
      "Extracting data from 2024_Annual_Report_-_Corrected_for_the_year_ended_05_31_2024__130_KB_.pdf\n"
     ]
    },
    {
     "name": "stderr",
     "output_type": "stream",
     "text": [
      "Uploading files: 100%|██████████| 1/1 [00:00<00:00,  1.33it/s]\n",
      "Creating extraction jobs: 100%|██████████| 1/1 [00:01<00:00,  1.44s/it]\n",
      "Extracting files: 100%|██████████| 1/1 [00:10<00:00, 10.13s/it]\n"
     ]
    },
    {
     "name": "stdout",
     "output_type": "stream",
     "text": [
      "Extracting data from 2024_Annual_Report_for_the_year_ended_05_31_2024__129_KB_.pdf\n"
     ]
    },
    {
     "name": "stderr",
     "output_type": "stream",
     "text": [
      "Uploading files: 100%|██████████| 1/1 [00:00<00:00,  1.25it/s]\n",
      "Creating extraction jobs: 100%|██████████| 1/1 [00:03<00:00,  3.07s/it]\n",
      "Extracting files: 100%|██████████| 1/1 [00:10<00:00, 10.08s/it]\n"
     ]
    },
    {
     "name": "stdout",
     "output_type": "stream",
     "text": [
      "Extracting data from 2024_Audited_Financial_Statements_for_the_year_ended_05_31_2024__277_KB_.pdf\n"
     ]
    },
    {
     "name": "stderr",
     "output_type": "stream",
     "text": [
      "Uploading files: 100%|██████████| 1/1 [00:00<00:00,  1.04it/s]\n",
      "Creating extraction jobs: 100%|██████████| 1/1 [00:00<00:00,  1.10it/s]\n",
      "Extracting files: 100%|██████████| 1/1 [00:11<00:00, 11.50s/it]\n"
     ]
    },
    {
     "name": "stdout",
     "output_type": "stream",
     "text": [
      "Saved output to output_incomestatement_final/CULINARY_INSTITUTE_OF_AMERICA_THE.xlsx\n",
      "Processing school: GANNON_UNIVERSITY\n",
      "Extracting data from Audited_Financial_Statements_for_the_year_ended_06_30_2024__786_KB_.pdf\n"
     ]
    },
    {
     "name": "stderr",
     "output_type": "stream",
     "text": [
      "Uploading files: 100%|██████████| 1/1 [00:01<00:00,  1.04s/it]\n",
      "Creating extraction jobs: 100%|██████████| 1/1 [00:01<00:00,  1.05s/it]\n",
      "Extracting files: 100%|██████████| 1/1 [00:18<00:00, 18.24s/it]\n"
     ]
    },
    {
     "name": "stdout",
     "output_type": "stream",
     "text": [
      "Extracting data from Continued_Disclosures_Fall_2024_for_the_year_ended_06_30_2024_Document1__203_KB_.pdf\n"
     ]
    },
    {
     "name": "stderr",
     "output_type": "stream",
     "text": [
      "Uploading files: 100%|██████████| 1/1 [00:00<00:00,  1.25it/s]\n",
      "Creating extraction jobs: 100%|██████████| 1/1 [00:01<00:00,  1.40s/it]\n",
      "Extracting files: 100%|██████████| 1/1 [00:10<00:00, 10.27s/it]\n"
     ]
    },
    {
     "name": "stdout",
     "output_type": "stream",
     "text": [
      "Saved output to output_incomestatement_final/GANNON_UNIVERSITY.xlsx\n",
      "Processing school: LEWIS_UNIVERSITY\n",
      "Extracting data from Audited_Financial_Statements_for_the_year_ended_06_30_2024__430_KB_.pdf\n"
     ]
    },
    {
     "name": "stderr",
     "output_type": "stream",
     "text": [
      "Uploading files: 100%|██████████| 1/1 [00:01<00:00,  1.07s/it]\n",
      "Creating extraction jobs: 100%|██████████| 1/1 [00:00<00:00,  1.06it/s]\n",
      "Extracting files: 100%|██████████| 1/1 [00:13<00:00, 13.93s/it]\n"
     ]
    },
    {
     "name": "stdout",
     "output_type": "stream",
     "text": [
      "Extracting data from Continuing_Disclosure_for_the_year_ended_06_30_2024__298_KB_.pdf\n"
     ]
    },
    {
     "name": "stderr",
     "output_type": "stream",
     "text": [
      "Uploading files: 100%|██████████| 1/1 [00:00<00:00,  1.11it/s]\n",
      "Creating extraction jobs: 100%|██████████| 1/1 [00:01<00:00,  1.03s/it]\n",
      "Extracting files: 100%|██████████| 1/1 [00:11<00:00, 11.51s/it]\n"
     ]
    },
    {
     "name": "stdout",
     "output_type": "stream",
     "text": [
      "Saved output to output_incomestatement_final/LEWIS_UNIVERSITY.xlsx\n",
      "Processing school: MOLLOY_COLLEGE\n",
      "Extracting data from Financial_Operating_Filing_for_the_year_ended_06_30_2024_Document1__304_KB_.pdf\n"
     ]
    },
    {
     "name": "stderr",
     "output_type": "stream",
     "text": [
      "Uploading files: 100%|██████████| 1/1 [00:01<00:00,  1.13s/it]\n",
      "Creating extraction jobs: 100%|██████████| 1/1 [00:01<00:00,  1.88s/it]\n",
      "Extracting files: 100%|██████████| 1/1 [00:10<00:00, 10.50s/it]\n"
     ]
    },
    {
     "name": "stdout",
     "output_type": "stream",
     "text": [
      "Extracting data from Financial_Operating_Filing_for_the_year_ended_06_30_2024_Document2__142_KB_.pdf\n"
     ]
    },
    {
     "name": "stderr",
     "output_type": "stream",
     "text": [
      "Uploading files: 100%|██████████| 1/1 [00:01<00:00,  1.33s/it]\n",
      "Creating extraction jobs: 100%|██████████| 1/1 [00:01<00:00,  1.06s/it]\n",
      "Extracting files: 100%|██████████| 1/1 [00:57<00:00, 57.04s/it]\n"
     ]
    },
    {
     "name": "stdout",
     "output_type": "stream",
     "text": [
      "Saved output to output_incomestatement_final/MOLLOY_COLLEGE.xlsx\n",
      "Processing school: MOUNT_ST_MARY_S_UNIVERSITY_INC\n",
      "Extracting data from Audited_Annual_Financials_for_the_year_ended_06_30_2024_Document1__29.1_MB_.pdf\n"
     ]
    },
    {
     "name": "stderr",
     "output_type": "stream",
     "text": [
      "Uploading files: 100%|██████████| 1/1 [00:03<00:00,  3.47s/it]\n",
      "Creating extraction jobs: 100%|██████████| 1/1 [00:01<00:00,  1.19s/it]\n",
      "Extracting files: 100%|██████████| 1/1 [00:25<00:00, 25.29s/it]\n"
     ]
    },
    {
     "name": "stdout",
     "output_type": "stream",
     "text": [
      "Extracting data from Audited_Annual_Financials_for_the_year_ended_06_30_2024_Document2__5_MB_.pdf\n"
     ]
    },
    {
     "name": "stderr",
     "output_type": "stream",
     "text": [
      "Uploading files: 100%|██████████| 1/1 [00:01<00:00,  1.83s/it]\n",
      "Creating extraction jobs: 100%|██████████| 1/1 [00:01<00:00,  1.83s/it]\n",
      "Extracting files: 100%|██████████| 1/1 [02:22<00:00, 142.96s/it]\n"
     ]
    },
    {
     "name": "stdout",
     "output_type": "stream",
     "text": [
      "Saved output to output_incomestatement_final/MOUNT_ST_MARY_S_UNIVERSITY_INC.xlsx\n",
      "Processing school: NEW_YORK_UNIVERSITY\n",
      "Extracting data from 2024_Certificate_of_Compliance_-_Audit_for_the_year_ended_06_30_2024__330_KB_.pdf\n"
     ]
    },
    {
     "name": "stderr",
     "output_type": "stream",
     "text": [
      "Uploading files: 100%|██████████| 1/1 [00:00<00:00,  1.00it/s]\n",
      "Creating extraction jobs: 100%|██████████| 1/1 [00:01<00:00,  1.40s/it]\n",
      "Extracting files: 100%|██████████| 1/1 [00:11<00:00, 11.54s/it]\n"
     ]
    },
    {
     "name": "stdout",
     "output_type": "stream",
     "text": [
      "Extracting data from 2024_Certificate_of_Compliance_for_the_year_ended_06_30_2024__323_KB_.pdf\n"
     ]
    },
    {
     "name": "stderr",
     "output_type": "stream",
     "text": [
      "Uploading files: 100%|██████████| 1/1 [00:00<00:00,  1.10it/s]\n",
      "Creating extraction jobs: 100%|██████████| 1/1 [00:02<00:00,  2.21s/it]\n",
      "Extracting files: 100%|██████████| 1/1 [00:09<00:00,  9.31s/it]\n"
     ]
    },
    {
     "name": "stdout",
     "output_type": "stream",
     "text": [
      "Extracting data from 2024_Consolidated_Financial_Statements_New_York_University_for_the_year_ended_06_30_2024__466_KB_.pdf\n"
     ]
    },
    {
     "name": "stderr",
     "output_type": "stream",
     "text": [
      "Uploading files: 100%|██████████| 1/1 [00:00<00:00,  1.10it/s]\n",
      "Creating extraction jobs: 100%|██████████| 1/1 [00:00<00:00,  1.22it/s]\n",
      "Extracting files: 100%|██████████| 1/1 [00:13<00:00, 13.14s/it]\n"
     ]
    },
    {
     "name": "stdout",
     "output_type": "stream",
     "text": [
      "Extracting data from 2024_Operating_Data_for_the_year_ended_06_30_2024__244_KB_.pdf\n"
     ]
    },
    {
     "name": "stderr",
     "output_type": "stream",
     "text": [
      "Uploading files: 100%|██████████| 1/1 [00:01<00:00,  1.41s/it]\n",
      "Creating extraction jobs: 100%|██████████| 1/1 [00:02<00:00,  2.06s/it]\n",
      "Extracting files: 100%|██████████| 1/1 [00:08<00:00,  8.13s/it]\n"
     ]
    },
    {
     "name": "stdout",
     "output_type": "stream",
     "text": [
      "Saved output to output_incomestatement_final/NEW_YORK_UNIVERSITY.xlsx\n",
      "Processing school: PRESIDENT___FELLOWS_OF_HARVARD_COLLEGE\n",
      "Extracting data from Harvard_University_Audited_Financial_Information_for_the_year_ended_06_30_2024__10.6_MB_.pdf\n"
     ]
    },
    {
     "name": "stderr",
     "output_type": "stream",
     "text": [
      "Uploading files: 100%|██████████| 1/1 [00:02<00:00,  2.23s/it]\n",
      "Creating extraction jobs: 100%|██████████| 1/1 [00:01<00:00,  1.44s/it]\n",
      "Extracting files: 100%|██████████| 1/1 [00:19<00:00, 19.29s/it]\n"
     ]
    },
    {
     "name": "stdout",
     "output_type": "stream",
     "text": [
      "Extracting data from Harvard_University_Financial_Report_for_the_year_ended_06_30_2024__10.6_MB_.pdf\n"
     ]
    },
    {
     "name": "stderr",
     "output_type": "stream",
     "text": [
      "Uploading files: 100%|██████████| 1/1 [00:03<00:00,  3.26s/it]\n",
      "Creating extraction jobs: 100%|██████████| 1/1 [00:01<00:00,  1.38s/it]\n",
      "Extracting files: 100%|██████████| 1/1 [00:16<00:00, 16.38s/it]\n"
     ]
    },
    {
     "name": "stdout",
     "output_type": "stream",
     "text": [
      "Extracting data from Harvard_University_Student_Applications_and_Enrollment_for_the_year_ended_06_30_2024__557_KB_.pdf\n"
     ]
    },
    {
     "name": "stderr",
     "output_type": "stream",
     "text": [
      "Uploading files: 100%|██████████| 1/1 [00:01<00:00,  1.00s/it]\n",
      "Creating extraction jobs: 100%|██████████| 1/1 [00:01<00:00,  1.09s/it]\n",
      "Extracting files: 100%|██████████| 1/1 [00:09<00:00,  9.04s/it]\n"
     ]
    },
    {
     "name": "stdout",
     "output_type": "stream",
     "text": [
      "Saved output to output_incomestatement_final/PRESIDENT___FELLOWS_OF_HARVARD_COLLEGE.xlsx\n",
      "Processing school: STEVENSON_UNIVERSITY_INC\n",
      "Extracting data from 2024_Annual_Compliance_Certificate__EagleBank__for_the_year_ended_06_30_2024__3_MB_.pdf\n"
     ]
    },
    {
     "name": "stderr",
     "output_type": "stream",
     "text": [
      "Uploading files: 100%|██████████| 1/1 [00:01<00:00,  1.51s/it]\n",
      "Creating extraction jobs: 100%|██████████| 1/1 [00:01<00:00,  1.74s/it]\n",
      "Extracting files: 100%|██████████| 1/1 [00:11<00:00, 11.57s/it]\n"
     ]
    },
    {
     "name": "stdout",
     "output_type": "stream",
     "text": [
      "Extracting data from 2024_Annual_Compliance_Certificate_for_the_year_ended_06_30_2024__2.8_MB_.pdf\n"
     ]
    },
    {
     "name": "stderr",
     "output_type": "stream",
     "text": [
      "Uploading files: 100%|██████████| 1/1 [00:01<00:00,  1.33s/it]\n",
      "Creating extraction jobs: 100%|██████████| 1/1 [00:00<00:00,  1.07it/s]\n",
      "Extracting files: 100%|██████████| 1/1 [00:12<00:00, 12.36s/it]\n"
     ]
    },
    {
     "name": "stdout",
     "output_type": "stream",
     "text": [
      "Extracting data from 2024_Audited_Financial_Statements_for_the_year_ended_06_30_2024__348_KB_.pdf\n"
     ]
    },
    {
     "name": "stderr",
     "output_type": "stream",
     "text": [
      "Uploading files: 100%|██████████| 1/1 [00:01<00:00,  1.01s/it]\n",
      "Creating extraction jobs: 100%|██████████| 1/1 [00:01<00:00,  1.05s/it]\n",
      "Extracting files: 100%|██████████| 1/1 [00:13<00:00, 13.19s/it]\n"
     ]
    },
    {
     "name": "stdout",
     "output_type": "stream",
     "text": [
      "Extracting data from 2024_Operating_Data_for_the_year_ended_06_30_2024__196_KB_.pdf\n"
     ]
    },
    {
     "name": "stderr",
     "output_type": "stream",
     "text": [
      "Uploading files: 100%|██████████| 1/1 [00:01<00:00,  1.00s/it]\n",
      "Creating extraction jobs: 100%|██████████| 1/1 [00:01<00:00,  1.50s/it]\n",
      "Extracting files: 100%|██████████| 1/1 [00:08<00:00,  8.25s/it]\n"
     ]
    },
    {
     "name": "stdout",
     "output_type": "stream",
     "text": [
      "Saved output to output_incomestatement_final/STEVENSON_UNIVERSITY_INC.xlsx\n",
      "Processing school: STEVENS_INSTITUTE_OF_TECHNOLOGY\n",
      "Extracting data from Annual_Report_for_the_year_ended_06_30_2024__216_KB_.pdf\n"
     ]
    },
    {
     "name": "stderr",
     "output_type": "stream",
     "text": [
      "Uploading files: 100%|██████████| 1/1 [00:01<00:00,  1.19s/it]\n",
      "Creating extraction jobs: 100%|██████████| 1/1 [00:00<00:00,  1.24it/s]\n",
      "Extracting files: 100%|██████████| 1/1 [00:10<00:00, 10.13s/it]\n"
     ]
    },
    {
     "name": "stdout",
     "output_type": "stream",
     "text": [
      "Extracting data from Audit_Financial_Statement_for_the_year_ended_06_30_2024__626_KB_.pdf\n"
     ]
    },
    {
     "name": "stderr",
     "output_type": "stream",
     "text": [
      "Uploading files: 100%|██████████| 1/1 [00:01<00:00,  1.20s/it]\n",
      "Creating extraction jobs: 100%|██████████| 1/1 [00:01<00:00,  1.99s/it]\n",
      "Extracting files: 100%|██████████| 1/1 [00:24<00:00, 24.53s/it]\n"
     ]
    },
    {
     "name": "stdout",
     "output_type": "stream",
     "text": [
      "Saved output to output_incomestatement_final/STEVENS_INSTITUTE_OF_TECHNOLOGY.xlsx\n",
      "Processing school: ST_LOUIS_UNIVERSITY_US\n",
      "Extracting data from Amendment_to_Continuing_Disclosure_Undertaking_dated_01_05_2024__392_KB_.pdf\n"
     ]
    },
    {
     "name": "stderr",
     "output_type": "stream",
     "text": [
      "Uploading files: 100%|██████████| 1/1 [00:01<00:00,  1.34s/it]\n",
      "Creating extraction jobs: 100%|██████████| 1/1 [00:01<00:00,  1.49s/it]\n",
      "Extracting files: 100%|██████████| 1/1 [00:06<00:00,  6.71s/it]\n"
     ]
    },
    {
     "name": "stdout",
     "output_type": "stream",
     "text": [
      "Extracting data from Audited_Financials_and_Operating_Data_for_the_year_ended_06_30_2024_Document1__561_KB_.pdf\n"
     ]
    },
    {
     "name": "stderr",
     "output_type": "stream",
     "text": [
      "Uploading files: 100%|██████████| 1/1 [00:01<00:00,  1.06s/it]\n",
      "Creating extraction jobs: 100%|██████████| 1/1 [00:00<00:00,  1.95it/s]\n",
      "Extracting files: 100%|██████████| 1/1 [00:10<00:00, 10.54s/it]\n"
     ]
    },
    {
     "name": "stdout",
     "output_type": "stream",
     "text": [
      "Extracting data from Audited_Financials_and_Operating_Data_for_the_year_ended_06_30_2024_Document2__174_KB_.pdf\n"
     ]
    },
    {
     "name": "stderr",
     "output_type": "stream",
     "text": [
      "Uploading files: 100%|██████████| 1/1 [00:00<00:00,  1.11it/s]\n",
      "Creating extraction jobs: 100%|██████████| 1/1 [00:01<00:00,  1.84s/it]\n",
      "Extracting files: 100%|██████████| 1/1 [00:11<00:00, 11.06s/it]"
     ]
    },
    {
     "name": "stdout",
     "output_type": "stream",
     "text": [
      "Saved output to output_incomestatement_final/ST_LOUIS_UNIVERSITY_US.xlsx\n",
      "Extraction complete.\n"
     ]
    },
    {
     "name": "stderr",
     "output_type": "stream",
     "text": [
      "\n"
     ]
    },
    {
     "name": "stderr",
     "output_type": "stream",
     "text": [
      "Uploading files: 100%|██████████| 1/1 [00:01<00:00,  1.07s/it]\n",
      "Creating extraction jobs: 100%|██████████| 1/1 [00:01<00:00,  1.24s/it]\n",
      "Extracting files: 100%|██████████| 1/1 [00:12<00:00, 12.77s/it]\n",
      "Uploading files: 100%|██████████| 1/1 [00:01<00:00,  1.20s/it]\n",
      "Creating extraction jobs: 100%|██████████| 1/1 [00:00<00:00,  1.10it/s]\n",
      "Extracting files: 100%|██████████| 1/1 [00:11<00:00, 11.69s/it]\n",
      "Uploading files: 100%|██████████| 1/1 [00:01<00:00,  1.10s/it]\n",
      "Creating extraction jobs: 100%|██████████| 1/1 [00:01<00:00,  1.54s/it]\n",
      "Extracting files: 100%|██████████| 1/1 [00:14<00:00, 14.75s/it]\n",
      "Uploading files: 100%|██████████| 1/1 [00:01<00:00,  1.52s/it]\n",
      "Creating extraction jobs: 100%|██████████| 1/1 [00:01<00:00,  1.43s/it]\n",
      "Extracting files: 100%|██████████| 1/1 [00:09<00:00,  9.26s/it]\n",
      "Uploading files: 100%|██████████| 1/1 [00:01<00:00,  1.31s/it]\n",
      "Creating extraction jobs: 100%|██████████| 1/1 [00:00<00:00,  1.14it/s]\n",
      "Extracting files: 100%|██████████| 1/1 [00:14<00:00, 14.11s/it]\n",
      "Uploading files: 100%|██████████| 1/1 [00:00<00:00,  1.37it/s]\n",
      "Creating extraction jobs: 100%|██████████| 1/1 [00:01<00:00,  1.11s/it]\n",
      "Extracting files: 100%|██████████| 1/1 [00:12<00:00, 12.70s/it]\n",
      "Uploading files: 100%|██████████| 1/1 [00:00<00:00,  1.27it/s]\n",
      "Creating extraction jobs: 100%|██████████| 1/1 [00:01<00:00,  1.65s/it]\n",
      "Extracting files: 100%|██████████| 1/1 [00:09<00:00,  9.12s/it]\n",
      "Uploading files: 100%|██████████| 1/1 [00:00<00:00,  1.26it/s]\n",
      "Creating extraction jobs: 100%|██████████| 1/1 [00:00<00:00,  1.08it/s]\n",
      "Extracting files: 100%|██████████| 1/1 [00:32<00:00, 32.75s/it]\n",
      "Uploading files: 100%|██████████| 1/1 [00:01<00:00,  1.50s/it]\n",
      "Creating extraction jobs: 100%|██████████| 1/1 [00:01<00:00,  1.75s/it]\n",
      "Extracting files: 100%|██████████| 1/1 [00:14<00:00, 14.74s/it]\n",
      "Uploading files: 100%|██████████| 1/1 [00:00<00:00,  1.19it/s]\n",
      "Creating extraction jobs: 100%|██████████| 1/1 [00:02<00:00,  2.32s/it]\n",
      "Extracting files: 100%|██████████| 1/1 [00:11<00:00, 11.27s/it]\n",
      "Uploading files: 100%|██████████| 1/1 [00:00<00:00,  1.13it/s]\n",
      "Creating extraction jobs: 100%|██████████| 1/1 [00:01<00:00,  1.54s/it]\n",
      "Extracting files: 100%|██████████| 1/1 [00:15<00:00, 15.77s/it]\n",
      "Uploading files: 100%|██████████| 1/1 [00:00<00:00,  1.10it/s]\n",
      "Creating extraction jobs: 100%|██████████| 1/1 [00:01<00:00,  1.07s/it]\n",
      "Extracting files: 100%|██████████| 1/1 [00:11<00:00, 11.93s/it]\n",
      "Uploading files: 100%|██████████| 1/1 [00:04<00:00,  4.58s/it]\n",
      "Creating extraction jobs: 100%|██████████| 1/1 [00:01<00:00,  1.13s/it]\n",
      "Extracting files: 100%|██████████| 1/1 [00:43<00:00, 43.31s/it]\n",
      "Uploading files: 100%|██████████| 1/1 [00:01<00:00,  1.50s/it]\n",
      "Creating extraction jobs: 100%|██████████| 1/1 [00:01<00:00,  1.86s/it]\n",
      "Extracting files: 100%|██████████| 1/1 [00:09<00:00,  9.59s/it]\n",
      "Uploading files: 100%|██████████| 1/1 [00:03<00:00,  3.14s/it]\n",
      "Creating extraction jobs: 100%|██████████| 1/1 [00:01<00:00,  1.92s/it]\n",
      "Extracting files: 100%|██████████| 1/1 [00:27<00:00, 27.61s/it]\n",
      "Uploading files: 100%|██████████| 1/1 [00:01<00:00,  1.72s/it]\n",
      "Creating extraction jobs: 100%|██████████| 1/1 [00:01<00:00,  1.33s/it]\n",
      "Extracting files: 100%|██████████| 1/1 [00:26<00:00, 26.11s/it]\n",
      "Uploading files: 100%|██████████| 1/1 [00:01<00:00,  1.00s/it]\n",
      "Creating extraction jobs: 100%|██████████| 1/1 [00:01<00:00,  1.74s/it]\n",
      "Extracting files: 100%|██████████| 1/1 [00:10<00:00, 10.14s/it]\n",
      "Uploading files: 100%|██████████| 1/1 [00:01<00:00,  1.06s/it]\n",
      "Creating extraction jobs: 100%|██████████| 1/1 [00:01<00:00,  1.37s/it]\n",
      "Extracting files: 100%|██████████| 1/1 [00:09<00:00,  9.23s/it]\n",
      "Uploading files: 100%|██████████| 1/1 [00:00<00:00,  1.03it/s]\n",
      "Creating extraction jobs: 100%|██████████| 1/1 [00:00<00:00,  1.03it/s]\n",
      "Extracting files: 100%|██████████| 1/1 [00:11<00:00, 11.24s/it]\n",
      "Uploading files: 100%|██████████| 1/1 [00:00<00:00,  1.21it/s]\n",
      "Creating extraction jobs: 100%|██████████| 1/1 [00:01<00:00,  1.61s/it]\n",
      "Extracting files: 100%|██████████| 1/1 [00:11<00:00, 11.52s/it]\n",
      "Uploading files: 100%|██████████| 1/1 [00:01<00:00,  1.98s/it]\n",
      "Creating extraction jobs: 100%|██████████| 1/1 [00:02<00:00,  2.65s/it]\n",
      "Extracting files: 100%|██████████| 1/1 [00:17<00:00, 17.51s/it]\n",
      "Uploading files: 100%|██████████| 1/1 [00:02<00:00,  2.13s/it]\n",
      "Creating extraction jobs: 100%|██████████| 1/1 [00:02<00:00,  2.43s/it]\n",
      "Uploading files: 100%|██████████| 1/1 [00:01<00:00,  1.49s/it]\n",
      "Creating extraction jobs: 100%|██████████| 1/1 [00:02<00:00,  2.49s/it]\n",
      "Extracting files: 100%|██████████| 1/1 [00:07<00:00,  7.68s/it]\n",
      "Uploading files: 100%|██████████| 1/1 [00:01<00:00,  1.42s/it]\n",
      "Creating extraction jobs: 100%|██████████| 1/1 [00:01<00:00,  1.41s/it]\n",
      "Extracting files: 100%|██████████| 1/1 [00:10<00:00, 10.43s/it]\n",
      "Uploading files: 100%|██████████| 1/1 [00:02<00:00,  2.75s/it]\n",
      "Creating extraction jobs: 100%|██████████| 1/1 [00:01<00:00,  1.13s/it]\n",
      "Extracting files: 100%|██████████| 1/1 [00:11<00:00, 11.26s/it]\n",
      "Uploading files: 100%|██████████| 1/1 [00:01<00:00,  1.82s/it]\n",
      "Creating extraction jobs: 100%|██████████| 1/1 [00:01<00:00,  1.84s/it]\n",
      "Extracting files: 100%|██████████| 1/1 [00:11<00:00, 11.57s/it]\n",
      "Uploading files: 100%|██████████| 1/1 [00:00<00:00,  1.26it/s]\n",
      "Creating extraction jobs: 100%|██████████| 1/1 [00:01<00:00,  1.02s/it]\n",
      "Extracting files:   0%|          | 0/1 [06:05<?, ?it/s]\n",
      "Extracting files: 100%|██████████| 1/1 [00:09<00:00,  9.11s/it]\n",
      "Uploading files: 100%|██████████| 1/1 [00:00<00:00,  1.34it/s]\n",
      "Creating extraction jobs: 100%|██████████| 1/1 [00:01<00:00,  1.57s/it]\n",
      "Extracting files: 100%|██████████| 1/1 [00:09<00:00,  9.53s/it]\n",
      "Uploading files: 100%|██████████| 1/1 [00:01<00:00,  1.42s/it]\n",
      "Creating extraction jobs: 100%|██████████| 1/1 [00:01<00:00,  1.12s/it]\n",
      "Extracting files: 100%|██████████| 1/1 [00:11<00:00, 11.06s/it]\n",
      "Uploading files: 100%|██████████| 1/1 [00:00<00:00,  1.00it/s]\n",
      "Creating extraction jobs: 100%|██████████| 1/1 [00:00<00:00,  1.08it/s]\n",
      "Extracting files: 100%|██████████| 1/1 [00:08<00:00,  8.09s/it]\n",
      "Uploading files: 100%|██████████| 1/1 [00:01<00:00,  1.00s/it]\n",
      "Creating extraction jobs: 100%|██████████| 1/1 [00:00<00:00,  2.44it/s]\n",
      "Extracting files: 100%|██████████| 1/1 [00:12<00:00, 12.59s/it]\n",
      "Uploading files: 100%|██████████| 1/1 [00:01<00:00,  1.93s/it]\n",
      "Creating extraction jobs: 100%|██████████| 1/1 [00:01<00:00,  1.33s/it]\n",
      "Extracting files: 100%|██████████| 1/1 [00:10<00:00, 10.34s/it]\n"
     ]
    }
   ],
   "source": [
    "# Loop over schools\n",
    "for school in sorted(os.listdir(PDF_ROOT)):\n",
    "    school_dir = os.path.join(PDF_ROOT, school)\n",
    "    if not os.path.isdir(school_dir):\n",
    "        continue\n",
    "    print(f\"Processing school: {school}\")\n",
    "    process_school(school, school_dir)\n",
    "\n",
    "print(\"Extraction complete.\")"
   ]
  },
  {
   "cell_type": "markdown",
   "id": "8b385406-d4f6-48e5-94b5-f999ee2e9f04",
   "metadata": {},
   "source": [
    "The following cell block extracts all the schools' info into one excel sheet but in different tabs."
   ]
  },
  {
   "cell_type": "code",
   "execution_count": 9,
   "id": "dbed9f78-2b07-4696-8bd9-2ad2281d255d",
   "metadata": {},
   "outputs": [
    {
     "name": "stdout",
     "output_type": "stream",
     "text": [
      "Extracting data from BRADLEY_UNIVERSITY/Annual_Financial_Information_and_Operating_Data__Rule_15c2-12__for_FY24_for_the_year_ended_05_31_2024__227_KB_.pdf\n",
      "Extracting data from BRADLEY_UNIVERSITY/Audited_Financial_Statements_or_ACFR__Rule_15c2-12__for_FY24_for_the_year_ended_05_31_2024__541_KB_.pdf\n",
      "Extracting data from CORNELL_UNIVERSITY/2024_Audited_Financial_Statements_for_the_year_ended_06_30_2024__788_KB_.pdf\n",
      "Extracting data from CORNELL_UNIVERSITY/2024_Operating_Data_for_the_year_ended_06_30_2024__109_KB_.pdf\n",
      "Extracting data from CORNELL_UNIVERSITY/Incorporate_OS_by_Reference_as_of_04_25_2024__2.4_MB_.pdf\n",
      "Extracting data from CULINARY_INSTITUTE_OF_AMERICA_THE/2024_Annual_Report_-_Corrected_for_the_year_ended_05_31_2024__130_KB_.pdf\n",
      "Extracting data from CULINARY_INSTITUTE_OF_AMERICA_THE/2024_Annual_Report_for_the_year_ended_05_31_2024__129_KB_.pdf\n",
      "Extracting data from CULINARY_INSTITUTE_OF_AMERICA_THE/2024_Audited_Financial_Statements_for_the_year_ended_05_31_2024__277_KB_.pdf\n",
      "Extracting data from GANNON_UNIVERSITY/Audited_Financial_Statements_for_the_year_ended_06_30_2024__786_KB_.pdf\n",
      "Extracting data from GANNON_UNIVERSITY/Continued_Disclosures_Fall_2024_for_the_year_ended_06_30_2024_Document1__203_KB_.pdf\n",
      "Extracting data from LEWIS_UNIVERSITY/Audited_Financial_Statements_for_the_year_ended_06_30_2024__430_KB_.pdf\n",
      "Extracting data from LEWIS_UNIVERSITY/Continuing_Disclosure_for_the_year_ended_06_30_2024__298_KB_.pdf\n",
      "Extracting data from MOLLOY_COLLEGE/Financial_Operating_Filing_for_the_year_ended_06_30_2024_Document1__304_KB_.pdf\n",
      "Extracting data from MOLLOY_COLLEGE/Financial_Operating_Filing_for_the_year_ended_06_30_2024_Document2__142_KB_.pdf\n",
      "Extracting data from MOUNT_ST_MARY_S_UNIVERSITY_INC/Audited_Annual_Financials_for_the_year_ended_06_30_2024_Document1__29.1_MB_.pdf\n",
      "Extracting data from MOUNT_ST_MARY_S_UNIVERSITY_INC/Audited_Annual_Financials_for_the_year_ended_06_30_2024_Document2__5_MB_.pdf\n",
      "Extracting data from NEW_YORK_UNIVERSITY/2024_Certificate_of_Compliance_-_Audit_for_the_year_ended_06_30_2024__330_KB_.pdf\n",
      "Extracting data from NEW_YORK_UNIVERSITY/2024_Certificate_of_Compliance_for_the_year_ended_06_30_2024__323_KB_.pdf\n",
      "Extracting data from NEW_YORK_UNIVERSITY/2024_Consolidated_Financial_Statements_New_York_University_for_the_year_ended_06_30_2024__466_KB_.pdf\n",
      "Extracting data from NEW_YORK_UNIVERSITY/2024_Operating_Data_for_the_year_ended_06_30_2024__244_KB_.pdf\n",
      "Extracting data from PRESIDENT___FELLOWS_OF_HARVARD_COLLEGE/Harvard_University_Audited_Financial_Information_for_the_year_ended_06_30_2024__10.6_MB_.pdf\n",
      "Extracting data from PRESIDENT___FELLOWS_OF_HARVARD_COLLEGE/Harvard_University_Financial_Report_for_the_year_ended_06_30_2024__10.6_MB_.pdf\n",
      "Skipped Harvard_University_Financial_Report_for_the_year_ended_06_30_2024__10.6_MB_.pdf: Network error: \n",
      "Extracting data from PRESIDENT___FELLOWS_OF_HARVARD_COLLEGE/Harvard_University_Student_Applications_and_Enrollment_for_the_year_ended_06_30_2024__557_KB_.pdf\n",
      "Extracting data from STEVENSON_UNIVERSITY_INC/2024_Annual_Compliance_Certificate__EagleBank__for_the_year_ended_06_30_2024__3_MB_.pdf\n",
      "Extracting data from STEVENSON_UNIVERSITY_INC/2024_Annual_Compliance_Certificate_for_the_year_ended_06_30_2024__2.8_MB_.pdf\n",
      "Extracting data from STEVENSON_UNIVERSITY_INC/2024_Audited_Financial_Statements_for_the_year_ended_06_30_2024__348_KB_.pdf\n",
      "Extracting data from STEVENSON_UNIVERSITY_INC/2024_Operating_Data_for_the_year_ended_06_30_2024__196_KB_.pdf\n",
      "Extracting data from STEVENS_INSTITUTE_OF_TECHNOLOGY/Annual_Report_for_the_year_ended_06_30_2024__216_KB_.pdf\n",
      "Extracting data from STEVENS_INSTITUTE_OF_TECHNOLOGY/Audit_Financial_Statement_for_the_year_ended_06_30_2024__626_KB_.pdf\n",
      "Extracting data from ST_LOUIS_UNIVERSITY_US/Amendment_to_Continuing_Disclosure_Undertaking_dated_01_05_2024__392_KB_.pdf\n",
      "Extracting data from ST_LOUIS_UNIVERSITY_US/Audited_Financials_and_Operating_Data_for_the_year_ended_06_30_2024_Document1__561_KB_.pdf\n",
      "Extracting data from ST_LOUIS_UNIVERSITY_US/Audited_Financials_and_Operating_Data_for_the_year_ended_06_30_2024_Document2__174_KB_.pdf\n",
      "All schools written to output_incomestatement_final/all_schools.xlsx\n"
     ]
    }
   ],
   "source": [
    "OUTPUT_FILE = os.path.join(OUTPUT_ROOT, \"all_schools.xlsx\")\n",
    "\n",
    "writer = pd.ExcelWriter(OUTPUT_FILE, engine=\"openpyxl\")\n",
    "\n",
    "for school in sorted(os.listdir(PDF_ROOT)):\n",
    "    school_dir = os.path.join(PDF_ROOT, school)\n",
    "    if not os.path.isdir(school_dir):\n",
    "        continue\n",
    "\n",
    "    combined   = {}\n",
    "    first_keys = None\n",
    "    for fname in sorted(os.listdir(school_dir)):\n",
    "        if not fname.lower().endswith(\".pdf\"):\n",
    "            continue\n",
    "        path = os.path.join(school_dir, fname)\n",
    "        print(f\"Extracting data from {school}/{fname}\")\n",
    "        try:\n",
    "            run  = agent.extract(path)\n",
    "            data = run.data or {}\n",
    "            if first_keys is None:\n",
    "                first_keys = list(data.keys())\n",
    "                combined  = {k: None for k in first_keys}\n",
    "            for k, v in data.items():\n",
    "                if v not in (None, \"\", []):\n",
    "                    combined[k] = v\n",
    "        except Exception as err:\n",
    "            print(f\"Skipped {fname}: {err}\")\n",
    "\n",
    "    if first_keys:\n",
    "        df = pd.DataFrame.from_dict(combined, orient=\"index\", columns=[f\"{FISCAL_YEAR - 1}-{str(FISCAL_YEAR)[-2:]}\"])\n",
    "        df.index.name = \"Metric\"\n",
    "        sheet_name = school[:31]\n",
    "        df.to_excel(writer, sheet_name=sheet_name)\n",
    "    else:\n",
    "        print(f\"No data for {school}.\")\n",
    "\n",
    "writer.close()\n",
    "print(f\"All schools written to {OUTPUT_FILE}\")"
   ]
  },
  {
   "cell_type": "code",
   "execution_count": null,
   "id": "47a6c073-4b51-4770-abc4-f5942a1f772a",
   "metadata": {},
   "outputs": [
    {
     "name": "stdout",
     "output_type": "stream",
     "text": [
      "Saved: output_incomestatement_final/all_schools_combined.xlsx\n"
     ]
    }
   ],
   "source": [
    "#Combine all the tabs into one sheet if wanted\n",
    "file_path   = \"output_incomestatement_final/all_schools.xlsx\"  #Change this if need be\n",
    "output_path = \"output_incomestatement_final/all_schools_combined.xlsx\"  #Change this if need be\n",
    "raw = pd.read_excel(file_path, sheet_name=None, index_col=0)\n",
    "\n",
    "school_series = {\n",
    "    school: df.iloc[:, 0]                      # first (only) value column\n",
    "    for school, df in raw.items()\n",
    "}\n",
    "\n",
    "df_comb = pd.DataFrame(school_series).T\n",
    "df_comb.index.name = \"School\"                 \n",
    "df_comb.insert(0, \"Year\", f\"{FISCAL_YEAR - 1}–{FISCAL_YEAR}\")\n",
    "\n",
    "with pd.ExcelWriter(output_path, engine=\"openpyxl\") as writer:\n",
    "    df_comb.to_excel(writer, sheet_name=\"Combined\")\n",
    "\n",
    "print(\"Saved:\", output_path)"
   ]
  }
 ],
 "metadata": {
  "kernelspec": {
   "display_name": "3.11.8",
   "language": "python",
   "name": "python3"
  },
  "language_info": {
   "codemirror_mode": {
    "name": "ipython",
    "version": 3
   },
   "file_extension": ".py",
   "mimetype": "text/x-python",
   "name": "python",
   "nbconvert_exporter": "python",
   "pygments_lexer": "ipython3",
   "version": "3.11.8"
  }
 },
 "nbformat": 4,
 "nbformat_minor": 5
}
