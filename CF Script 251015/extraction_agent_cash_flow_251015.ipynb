{
 "cells": [
  {
   "cell_type": "code",
   "execution_count": 1,
   "id": "eebc2532-837f-49ad-9e76-f9edf401ec2d",
   "metadata": {},
   "outputs": [],
   "source": [
    "import os\n",
    "import pandas as pd\n",
    "from llama_cloud_services import LlamaExtract\n",
    "\n",
    "\n",
    "from schemas17 import StatementOfCashFlows2024\n",
    "\n",
    "from dotenv import load_dotenv\n",
    "\n",
    "import schemas17\n",
    "from importlib import reload\n",
    "\n",
    "import numpy as np\n",
    "\n",
    "schemas16 = reload(schemas17)"
   ]
  },
  {
   "cell_type": "code",
   "execution_count": null,
   "id": "7cb28833-17f2-4981-8e3d-3886feb1b2a7",
   "metadata": {},
   "outputs": [],
   "source": [
    "PDF_ROOT = \"university_pdfs_hy\"\n",
    "OUTPUT_ROOT = \"output_cash_flow\"\n",
    "os.makedirs(OUTPUT_ROOT, exist_ok=True)  \n",
    "\n",
    "# Get this Agent ID by click on \"Extract\" in the left side toolbar and click button \"+ Create New Agent\"\n",
    "# Or, get this Agent ID by click on \"Extract\" in the left side toolbar, then click \"Extract\" in the upper toolbar, then look at the \"Name\" and \"ID\"\n",
    "# No need to update this if you are not creating new Agent ID\n",
    "AGENT_ID = \"304914f4-ada4-4c1e-80c9-c0327d46e9ca\""
   ]
  },
  {
   "cell_type": "code",
   "execution_count": null,
   "id": "aae2dfb1-91dd-4575-8177-a151e1a8dc8c",
   "metadata": {},
   "outputs": [],
   "source": [
    "load_dotenv() #make sure the API key is in the .env file\n",
    "\n",
    "# Get this API Key by click on \"API Key\" in the left side toolbar and click button \"+ Generate New Key\"\n",
    "# Update this if you are a new user: get your own API Key\n",
    "# No need to change Project ID\n",
    "extractor = LlamaExtract(api_key = \"llx-0iDIvL2kdA0ibfSAWf0k7REakRsBAJexNunAvlN0w8PXNT3K\", project_id = '8c10e62e-3810-4193-915d-d2d11105826d')\n",
    "\n",
    "# Uncomment the below line if you are creating the agent for the first time\n",
    "# agent = extractor.create_agent(name=\"statement_of_cash_flows-2024-16\", data_schema=StatementOfCashFlows2024)\n",
    "agent = extractor.get_agent(id = AGENT_ID)\n",
    "\n",
    "# Uncomment the following lines if you updated the schema\n",
    "agent.data_schema = StatementOfCashFlows2024\n",
    "\n",
    "agent.save()"
   ]
  },
  {
   "cell_type": "code",
   "execution_count": 4,
   "id": "b7ac9f60-f02e-4d5c-ad1f-096b32996557",
   "metadata": {},
   "outputs": [
    {
     "data": {
      "text/plain": [
       "{'additionalProperties': False,\n",
       " 'description': \"Statement of Cash Flows for the fiscal year {year}.\\nOnly extract data from the {year} fiscal period (e.g. statements labeled ‘Fiscal Year {year}').\\nIgnore any figures outside this period. Do not extract anything from {year-1}.\\n **Only extract values from the cash flow statement or table corresponding to the current year. Do not extract from the financial statement notes or other financial sections. Do not use unrelated financial statements (e.g., income statement, balance sheet, or footnotes).**\\nDo not extract anything from the condensed or summary table or statement. Only from the long, fully elaborated statement or table.\\nDo not derive or calculate values unless they appear explicitly in the document.\\nExtract the number as it is. Don't convert its unit.\\nNote: In financial tables, values shown in parentheses (e.g., (3,705)) represent negative numbers or cash outflows.\",\n",
       " 'properties': {'total_change_in_net_assets': {'anyOf': [{'type': 'number'},\n",
       "    {'type': 'null'}],\n",
       "   'description': \"Extract the line labeled 'Change in net assets' or 'Total Change in Net Assets' from the Statement of Cash Flows for fiscal year 2024. This amount is typically the first line in the operating activities section, shown before adjustments to reconcile to net cash from operating activities. Only extract this figure from the cash flow statement or detailed cash flow table for the current year, not from the statement of activities, balance sheet, footnotes, or prior years. Pay attention to the sign: values in parentheses represent negative numbers. Extract the number in its original form, without modifying its unit or sign.\"},\n",
       "  'total_non_cash_exp': {'anyOf': [{'type': 'integer'}, {'type': 'null'}],\n",
       "   'description': \"Depreciation and amortization expenses without donor restrictions for 2024. Extract ONLY from financial statement tables and from the 'Without Donor Restrictions' column. DO NOT extract from narrative text, footnotes, or explanatory paragraphs. EXTRACTION PRIORITY: 1. If 'Statement of Functional Expenses' exists in the PDF, extract 'Depreciation and Amortization', 'Depreciation', 'Amortization', or 'Depreciation Expense' from the total/bottom line of that statement. 2. If no 'Statement of Functional Expenses' exists, search notes after financial statements for functional expense breakdown TABLES    and extract 'Depreciation and Amortization', 'Depreciation', 'Amortization', or 'Depreciation Expense' from the total line. 3. If neither of the above apply, extract 'Depreciation and Amortization', 'Depreciation', 'Amortization', or 'Depreciation Expense' from the operating expenses section of the 'Statement of Activities'. This represents non-cash expenses for the allocation of asset costs over their useful lives. Extract the raw numeric value only — ignore formatting symbols such as commas, dollar signs, or footnote markers.\"},\n",
       "  'change_in_working_capital': {'anyOf': [{'type': 'number'},\n",
       "    {'type': 'null'}],\n",
       "   'description': \"Extract the change in working capital for fiscal year 2024 from the cash flow statement. This value represents the combined effect of changes in assets and liabilities within the operating activities section. Follow this order of priority: 1. If the cash flow statement contains a subsection labeled 'Change in Assets and Liabilities',    'Effect of Changes in Operating Assets and Liabilities', 'Changes in Operating Assets and Liabilities',    or similar wording, extract all line items indented beneath this subsection and add these line items together. 2. If no such indented subsection exists, calculate the change in working capital by summing all individual line items    within operating activities that represent changes in current assets and current liabilities.    Typical line items include: accounts receivable, student receivables, contributions or grants receivable,    other receivables, prepaid expenses, inventory, accounts payable, accrued expenses, accrued payroll and benefits,    deferred revenue, deposits, operating lease liabilities, postretirement benefits, split-interest obligations,    or other similar categories. 3. If the cash flow statement provides a subtotal labeled 'Net change in operating assets and liabilities',    'Effect of changes in operating assets and liabilities', or equivalent wording, extract that subtotal directly.    Values shown in parentheses represent negative amounts and must be treated as such. Extract only the figure reported for fiscal year 2024; ignore prior years and totals. Do not include non-cash adjustments such as depreciation, amortization, gains or losses on investments, or restricted contributions.\"},\n",
       "  'other_changes_in_operating_activities': {'anyOf': [{'type': 'number'},\n",
       "    {'type': 'null'}],\n",
       "   'description': \"Figure labeled 'Other Changes in Operating Activities' for the 2024 fiscal year. Ignore any amounts outside that period.Only extract values from the cash flow statement or table corresponding to the current year. Do not use other sections of the PDF or unrelated financial statements (e.g., income statement, balance sheet, or footnotes)\"},\n",
       "  'net_cash_from_operating_activities': {'anyOf': [{'type': 'number'},\n",
       "    {'type': 'null'}],\n",
       "   'description': \"Net cash from operating activities labeled 'Net Cash from Operating Activities' for the 2024 fiscal year. Only use the figure for that period.Only extract values from the cash flow statement or table corresponding to the current year. Do not use other sections of the PDF or unrelated financial statements (e.g., income statement, balance sheet, or footnotes)\"},\n",
       "  'capital_expenses': {'anyOf': [{'type': 'number'}, {'type': 'null'}],\n",
       "   'description': \"Cash outflow for capital expenditures during the 2024 fiscal year. Extract line items labeled 'Capital Expenses', 'Purchase of Property and Equipment', 'Purchase of Capital Assets', 'Acquisition of Fixed Assets', or similar. Pay attention to the sign: values in parentheses represent negative numbers. Extract the exact numeric value as reported for the {year} column, without modifying its unit or sign. If multiple related line items exist, sum them together into a single total. Only extract values from the cash flow statement or detailed cash flow table corresponding to the current year. Do not extract from income statements, balance sheets, footnotes, or narrative sections.\"},\n",
       "  'other_changes_in_investment_activities': {'anyOf': [{'type': 'number'},\n",
       "    {'type': 'null'}],\n",
       "   'description': \"Line item 'Other Changes in Investment Activities' for the 2024 fiscal year. Ignore entries outside that period.Extract the number in its original form, without modifying its unit or sign. Only extract values from the cash flow statement or table corresponding to the current year. Do not use other sections of the PDF or unrelated financial statements (e.g., income statement, balance sheet, or footnotes)\"},\n",
       "  'net_cash_from_investment_activities': {'anyOf': [{'type': 'number'},\n",
       "    {'type': 'null'}],\n",
       "   'description': \"Net cash from investing activities labeled 'Net Cash from Investment Activities' for the 2024 fiscal year. Use only the figure for that period.Extract the number in its original form, without modifying its unit or sign. Only extract values from the cash flow statement or table corresponding to the current year. Do not use other sections of the PDF or unrelated financial statements (e.g., income statement, balance sheet, or footnotes)\"},\n",
       "  'long_term_debt_net_proceeds': {'anyOf': [{'type': 'number'},\n",
       "    {'type': 'null'}],\n",
       "   'description': \"Net cash inflows from issuance of long-term debt for fiscal year 2024. Extract amounts reported as proceeds or net proceeds from issuing bonds, notes payable, lease obligations, loans, or other long-term debt. Include gross proceeds plus any separately listed incentives, premiums, or additions, and subtract issuance costs, discounts, or other deductions directly related to the issuance. Relevant line items include: 'Proceeds from Bonds Payable', 'Proceeds from Notes Payable', 'Proceeds from Notes and Bonds Payable', 'Proceeds from Lease Financing', 'Proceeds from Loan Obligations', 'Proceeds from Debt Issuance', 'Proceeds from Finance Lease Incentives', 'Net Proceeds from Bond Issuance', 'Bond Issuance Costs', or equivalent wording. If more than one applicable line exists, add these line items together into a single total. Values in parentheses represent negative amounts (e.g., issuance costs) and must be included as reported without flipping signs. Exclude principal repayments, refinancing transactions unrelated to new issuance, interest payments, and non-cash adjustments. Exclude proceeds from loans.Use only the column for fiscal year 2024; ignore prior years and total columns.\"},\n",
       "  'payments_on_lease_liabilities': {'anyOf': [{'type': 'number'},\n",
       "    {'type': 'null'}],\n",
       "   'description': \"Cash outflow labeled 'Payments on Lease Liabilities (Financing)' for fiscal year 2024. Extract only from the cash flow statement or statement of cash flows or detailed cash flow table for the current year. Do not extract from the financial statement notes or other financial sections，only from cash flow part. Only use the value for fiscal year 2024, and exclude prior year data or total rows. Note: Values in parentheses (e.g., (3,705)) represent negative cash flows and should be treated as such.\"},\n",
       "  'long_term_debt_principal_payments': {'anyOf': [{'type': 'number'},\n",
       "    {'type': 'null'}],\n",
       "   'description': \"Total cash outflows for payments, repayments, or retirements of debt during fiscal year 2024, including any principal reductions on bonds, notes, loans, or finance lease liabilities. Focus on items reported under the 'Financing Activities' or 'Capital and Related Financing Activities' sections of the cash flow statement, as these represent debt-related outflows. Extract every line item that represents a reduction of borrowing obligations, whether or not the word 'principal' appears, including all long-term and non-current debt unless explicitly identified as short-term. Relevant line items include: 'Repayment of Bonds Payable', 'Retirement of Bonds Payable', 'Payments on Bonds Payable', 'Payments on Notes Payable', 'Payments on Notes and Bonds Payable', 'Payments on Long-Term Debt', 'Payments on Debt Obligations', 'Repayment of Long-Term Debt', 'Repayment of Lease Liabilities', 'Repayment of Leases', 'Payments on Financial Leases', 'Payments on Finance Leases', 'Payments under Financing Leases', 'Repayment of Finance Lease Obligations', 'Debt Repayments', 'Repayments of Principal of Indebtedness', 'Principal Payments', 'Principal Payment of Non-Recourse Debt', 'Payments of Notes and Bonds Payable', 'Payments on Bonds, Notes Payable and Finance Leases', or equivalent wording. If multiple applicable line items exist, add all of these line items together into one total. Exclude proceeds from new issuances, refinancing transactions unrelated to repayment, interest payments, non-cash adjustments, and reclassifications (e.g., current-portion adjustments). Extract values only from the cash flow statement or detailed cash flow table for fiscal year 2024; ignore items outside the financing section, such as those under operating or investing activities. Values shown in parentheses represent negative cash flows and must be recorded as reported, without flipping their sign.\"},\n",
       "  'change_in_long_term_debt': {'anyOf': [{'type': 'number'}, {'type': 'null'}],\n",
       "   'description': \"Net change labeled 'Change in Long-Term Debt' for the 2024 fiscal year. Only extract values from the cash flow statement or table corresponding to the current year. Do not use other sections of the PDF or unrelated financial statements (e.g., income statement, balance sheet, or footnotes)Only extract the figure for that period.Extract the number in its original form, without modifying its unit or sign. \"},\n",
       "  'other_changes_in_financing_activities': {'anyOf': [{'type': 'number'},\n",
       "    {'type': 'null'}],\n",
       "   'description': \"Figure labeled 'Other Changes in Financing Activities' for the 2024 fiscal year. Only extract values from the cash flow statement or table corresponding to the current year. Do not use other sections of the PDF or unrelated financial statements (e.g., income statement, balance sheet, or footnotes)Only use that period's entry.Extract the number in its original form, without modifying its unit or sign. \"},\n",
       "  'net_cash_from_financing_activities': {'anyOf': [{'type': 'number'},\n",
       "    {'type': 'null'}],\n",
       "   'description': \"Net cash from financing activities labeled 'Net Cash from Financing Activities' for the 2024 fiscal year. Only extract values from the cash flow statement or table corresponding to the current year. Do not use other sections of the PDF or unrelated financial statements (e.g., income statement, balance sheet, or footnotes)If the both fields 'cash_flows_from_noncapital_financing_activities' and 'cash_flows_from_capital_and_related_financing_activities' are populated, this field should be the combination of these fields.Extract exclusively that period's figure.Extract the number in its original form, without modifying its unit or sign. \"},\n",
       "  'change_in_cash_and_equivalents': {'anyOf': [{'type': 'number'},\n",
       "    {'type': 'null'}],\n",
       "   'description': \"Overall 'Change in Cash & Equivalents' or 'Net change in cash and cash equivalents' for the 2024 fiscal year. Only extract values from the cash flow statement or table corresponding to the current year. Do not use other sections of the PDF or unrelated financial statements (e.g., income statement, balance sheet, or footnotes)Ignore any data from other periods.Extract the number in its original form, without modifying its unit or sign. \"},\n",
       "  'cash_flow_2024_unit_multiplier': {'anyOf': [{'type': 'number'},\n",
       "    {'type': 'null'}],\n",
       "   'description': \"Numeric multiplier corresponding to the unit (e.g., 'in thousands', 'in millions') used in the 2024 fiscal year's Statement of Cash Flows. Only extract values from the cash flow statement or table corresponding to the current year. Do not use other sections of the PDF or unrelated financial statements (e.g., income statement, balance sheet, or footnotes)Return 1 if values are reported in dollars (i.e., no multiplier). Ensure this is strictly from the 2024 period only; ignore units from other years or sections.\"}},\n",
       " 'required': ['total_change_in_net_assets',\n",
       "  'total_non_cash_exp',\n",
       "  'change_in_working_capital',\n",
       "  'other_changes_in_operating_activities',\n",
       "  'net_cash_from_operating_activities',\n",
       "  'capital_expenses',\n",
       "  'other_changes_in_investment_activities',\n",
       "  'net_cash_from_investment_activities',\n",
       "  'long_term_debt_net_proceeds',\n",
       "  'payments_on_lease_liabilities',\n",
       "  'long_term_debt_principal_payments',\n",
       "  'change_in_long_term_debt',\n",
       "  'other_changes_in_financing_activities',\n",
       "  'net_cash_from_financing_activities',\n",
       "  'change_in_cash_and_equivalents',\n",
       "  'cash_flow_2024_unit_multiplier'],\n",
       " 'type': 'object'}"
      ]
     },
     "execution_count": 4,
     "metadata": {},
     "output_type": "execute_result"
    }
   ],
   "source": [
    "agent.data_schema"
   ]
  },
  {
   "cell_type": "code",
   "execution_count": null,
   "id": "0e5d6aea-6a9b-49c8-aaed-c4c09a966766",
   "metadata": {},
   "outputs": [
    {
     "name": "stdout",
     "output_type": "stream",
     "text": [
      "Extracting data from AUGSBURG_UNIVERSITY/FY24_Augsburg_University_Financial_Statements_for_the_year_ended_05_31_2024__704_KB_.pdf\n"
     ]
    },
    {
     "name": "stderr",
     "output_type": "stream",
     "text": [
      "Uploading files: 100%|██████████| 1/1 [00:01<00:00,  1.68s/it]\n",
      "Creating extraction jobs: 100%|██████████| 1/1 [00:07<00:00,  7.47s/it]\n",
      "Extracting files: 100%|██████████| 1/1 [01:38<00:00, 98.42s/it]\n"
     ]
    },
    {
     "name": "stdout",
     "output_type": "stream",
     "text": [
      "Extracting data from ELIZABETHTOWN_COLLEGE/2024_Audited_Financial_Statements_-_Elizabethtown_College_for_the_year_ended_06_30_2024__889_KB_.pdf\n"
     ]
    },
    {
     "name": "stderr",
     "output_type": "stream",
     "text": [
      "Uploading files: 100%|██████████| 1/1 [00:01<00:00,  1.47s/it]\n",
      "Creating extraction jobs: 100%|██████████| 1/1 [00:04<00:00,  4.48s/it]\n",
      "Extracting files: 100%|██████████| 1/1 [01:51<00:00, 111.65s/it]\n"
     ]
    },
    {
     "name": "stdout",
     "output_type": "stream",
     "text": [
      "Extracting data from ITHACA_COLLEGE/2024_Audited_Financial_Statements_for_the_year_ended_06_30_2024__838_KB_.pdf\n"
     ]
    },
    {
     "name": "stderr",
     "output_type": "stream",
     "text": [
      "Uploading files: 100%|██████████| 1/1 [00:01<00:00,  1.21s/it]\n",
      "Creating extraction jobs: 100%|██████████| 1/1 [00:01<00:00,  1.83s/it]\n",
      "Extracting files: 100%|██████████| 1/1 [01:38<00:00, 98.01s/it]\n"
     ]
    },
    {
     "name": "stdout",
     "output_type": "stream",
     "text": [
      "Extracting data from WIDENER_UNIVERSITY/Financial_Statement_for_the_year_ended_06_30_2024__500_KB_.pdf\n"
     ]
    },
    {
     "name": "stderr",
     "output_type": "stream",
     "text": [
      "Uploading files: 100%|██████████| 1/1 [00:01<00:00,  1.16s/it]\n",
      "Creating extraction jobs: 100%|██████████| 1/1 [00:01<00:00,  1.13s/it]\n",
      "Extracting files: 100%|██████████| 1/1 [01:36<00:00, 96.96s/it]"
     ]
    },
    {
     "name": "stdout",
     "output_type": "stream",
     "text": [
      "All schools written to output_cash_flow\\all_update.xlsx\n"
     ]
    },
    {
     "name": "stderr",
     "output_type": "stream",
     "text": [
      "\n"
     ]
    }
   ],
   "source": [
    "# Set the path to the final Excel output file\n",
    "OUTPUT_FILE = os.path.join(OUTPUT_ROOT, \"all_update.xlsx\")\n",
    "\n",
    "# Create a Pandas Excel writer using openpyxl\n",
    "writer = pd.ExcelWriter(OUTPUT_FILE, engine=\"openpyxl\")\n",
    "\n",
    "# Track schools with mismatch between calculated and reported cash change\n",
    "test = []\n",
    "\n",
    "# Iterate through all schools (each school is a folder inside PDF_ROOT)\n",
    "for school in sorted(os.listdir(PDF_ROOT)):\n",
    "    school_dir = os.path.join(PDF_ROOT, school)\n",
    "    \n",
    "    # Skip if not a directory\n",
    "    if not os.path.isdir(school_dir):\n",
    "        continue\n",
    "\n",
    "    combined   = {}      # Store combined extracted values for the school\n",
    "    first_keys = None    # Store the order of extracted keys\n",
    "\n",
    "    # Loop through PDF files inside the school folder\n",
    "    for fname in sorted(os.listdir(school_dir)):\n",
    "        if not fname.lower().endswith(\".pdf\"):\n",
    "            continue\n",
    "\n",
    "        path = os.path.join(school_dir, fname)\n",
    "        print(f\"Extracting data from {school}/{fname}\")\n",
    "\n",
    "        try:\n",
    "            run  = agent.extract(path)          # Use the agent to extract data\n",
    "            data = run.data or {}               # Fallback to empty if no data\n",
    "\n",
    "            # The following code is to give all the numeric data (int, float) in USD 1,000 \n",
    "            mult = data.get(\"cash_flow_2024_unit_multiplier\", 1) or 1\n",
    "            for k, v in data.items():\n",
    "                if k != \"cash_flow_2024_unit_multiplier\" and isinstance(v, (int, float)):\n",
    "                    # Scale to dollars, then convert to thousands\n",
    "                    data[k] = (v * mult) / 1000\n",
    "            \n",
    "            # 'other_changes_in_investment_activities_calculated' is calculated from subtracting 'capital_expenses' from 'net_cash_from_investment_activities'\n",
    "            if (\n",
    "                \"net_cash_from_investment_activities\" in data \n",
    "                and \"capital_expenses\" in data\n",
    "            ):\n",
    "                net_inv = data.get(\"net_cash_from_investment_activities\")\n",
    "                capex   = data.get(\"capital_expenses\")\n",
    "                if net_inv is not None and capex is not None:\n",
    "                    data[\"other_changes_in_investment_activities_calculated\"] = net_inv - capex            \n",
    "\n",
    "            # Initialize keys on the first successful extraction\n",
    "            if first_keys is None:\n",
    "                first_keys = list(data.keys())\n",
    "                combined  = {k: None for k in first_keys}\n",
    "\n",
    "            # Update combined values only with non-empty results\n",
    "            for k, v in data.items():\n",
    "                if v not in (None, \"\", []):\n",
    "                    combined[k] = v\n",
    "\n",
    "        except Exception as err:\n",
    "            print(f\"Skipped {fname}: {err}\")  # Handle and log extraction failures\n",
    "\n",
    "    # Proceed only if we have valid keys\n",
    "    if first_keys:\n",
    "        # Convert combined dictionary to a single-column DataFrame\n",
    "        df_values = pd.DataFrame.from_dict(combined, orient=\"index\", columns=[\"2023-24\"])\n",
    "        df_values.index.name = \"Metric\"\n",
    "\n",
    "        # This is to add metadata of the extraction\n",
    "        field_meta = run.extraction_metadata.get(\"field_metadata\", {}) if run.extraction_metadata else {}\n",
    "        reasoning_map = {k: v.get(\"reasoning\") for k, v in field_meta.items()}\n",
    "        df_reasoning = pd.DataFrame.from_dict(reasoning_map, orient=\"index\", columns=[\"reasoning\"])\n",
    "        df = df_values.join(df_reasoning)\n",
    "        \n",
    "        # Sheet names in Excel are limited to 31 characters\n",
    "        sheet_name = school[:31]\n",
    "        df.to_excel(writer, sheet_name=sheet_name)\n",
    "\n",
    "        # In public universities, 'net_cash_from_financing_activities' is calculated by summing 'cash_flows_from_capital_and_related_financing_activities' and 'cash_flows_from_noncapital_financing_activities'\n",
    "        # As we are now focus on private universities, these part are commented\n",
    "        # cap = df.loc['cash_flows_from_capital_and_related_financing_activities', \"2023-24\"]\n",
    "        # noncap = df.loc['cash_flows_from_noncapital_financing_activities', \"2023-24\"]\n",
    "        # if pd.isna(df.loc['net_cash_from_financing_activities', \"2023-24\"]) or df.loc['net_cash_from_financing_activities', \"2023-24\"] == 0:\n",
    "        #     if not pd.isna(cap) or not pd.isna(noncap):\n",
    "        #         df.loc['net_cash_from_financing_activities', \"2023-24\"] = (cap or 0) + (noncap or 0)\n",
    "\n",
    "        # Pull out numeric columns only to calculate 'change_in_cash_and_equivalents'\n",
    "        s_op  = df.loc['net_cash_from_operating_activities', \"2023-24\"] or 0\n",
    "        s_inv = df.loc['net_cash_from_investment_activities', \"2023-24\"] or 0\n",
    "        s_fin = df.loc['net_cash_from_financing_activities', \"2023-24\"] or 0\n",
    "\n",
    "        # Compute total net change in cash (numeric only)\n",
    "        comb = s_op + s_inv + s_fin\n",
    "\n",
    "        # The total net change 'change_in_cash_and_equivalents' is to be compared with 'change_in_cash_and_equivalents' from extraction\n",
    "        orig = df.loc['change_in_cash_and_equivalents', \"2023-24\"]\n",
    "\n",
    "        # If calculated total doesn't match extracted value, flag the school\n",
    "        orig_val = orig if pd.notna(orig) else 0\n",
    "        comb_val = comb if pd.notna(comb) else 0\n",
    "\n",
    "        if not np.isclose(orig_val, comb_val, equal_nan=True):\n",
    "            test.append(school)\n",
    "    else:\n",
    "        print(f\"No data for {school}.\")\n",
    "\n",
    "# Save the Excel file\n",
    "writer.close()\n",
    "print(f\"All schools written to {OUTPUT_FILE}\")\n"
   ]
  },
  {
   "cell_type": "code",
   "execution_count": 6,
   "id": "c704394e-406c-49d0-9254-14754ce4031f",
   "metadata": {},
   "outputs": [
    {
     "name": "stdout",
     "output_type": "stream",
     "text": [
      "Saved: output_cash_flow/all_update_combined.xlsx\n"
     ]
    }
   ],
   "source": [
    "# Set file paths for input Excel (with multiple sheets) and output Excel (with single combined sheet)\n",
    "file_path   = \"output_cash_flow/all_update.xlsx\"\n",
    "output_path = \"output_cash_flow/all_update_combined.xlsx\"\n",
    "\n",
    "# Read all sheets from the Excel file into a dictionary of DataFrames\n",
    "# Each key in `raw` is a sheet name (i.e., school), and the value is its DataFrame\n",
    "raw = pd.read_excel(file_path, sheet_name=None, index_col=0)\n",
    "\n",
    "# Create a dictionary where:\n",
    "# - keys = school names\n",
    "# - values = the first (and only) column of each sheet (Series of metrics)\n",
    "# school_series = {\n",
    "#     school: df.iloc[:, 0]   # Extract the only column (i.e., \"2023‑24\") as a Series\n",
    "#     for school, df in raw.items()\n",
    "# }\n",
    "\n",
    "# Combine all school Series into one DataFrame:\n",
    "# - Each row = one school\n",
    "# - Each column = one financial metric\n",
    "# df_comb = pd.DataFrame(school_series).T\n",
    "# df_comb.index.name = \"School\"  # Name the row index\n",
    "\n",
    "# Insert a \"Year\" column at the front for context\n",
    "# df_comb.insert(0, \"Year\", \"2024\")\n",
    "\n",
    "# Write the combined DataFrame to a new Excel file with a single sheet\n",
    "# with pd.ExcelWriter(output_path, engine=\"openpyxl\") as writer:\n",
    "#     df_comb.to_excel(writer, sheet_name=\"Combined\")\n",
    "\n",
    "# Create dictionaries for values and reasoning\n",
    "school_values = {school: df[\"2023-24\"] for school, df in raw.items()}\n",
    "school_reasoning = {school: df[\"reasoning\"] for school, df in raw.items() if \"reasoning\" in df.columns}\n",
    "\n",
    "# Convert to DataFrames\n",
    "df_values_comb = pd.DataFrame(school_values).T\n",
    "df_reasoning_comb = pd.DataFrame(school_reasoning).T\n",
    "\n",
    "# Add School index name + Year column\n",
    "df_values_comb.index.name = \"School\"\n",
    "df_reasoning_comb.index.name = \"School\"\n",
    "df_values_comb.insert(0, \"Year\", \"2024\")\n",
    "df_reasoning_comb.insert(0, \"Year\", \"2024\")\n",
    "\n",
    "# Merge values + reasoning side by side\n",
    "df_comb = pd.concat(\n",
    "    {\"values\": df_values_comb, \"reasoning\": df_reasoning_comb},\n",
    "    axis=1\n",
    ")\n",
    "\n",
    "# Write to Excel\n",
    "with pd.ExcelWriter(output_path, engine=\"openpyxl\") as writer:\n",
    "    df_comb.to_excel(writer, sheet_name=\"Combined\")\n",
    "\n",
    "# Confirm that the file is saved\n",
    "print(\"Saved:\", output_path)"
   ]
  },
  {
   "cell_type": "code",
   "execution_count": 7,
   "id": "c00a768e-d144-47a0-8e69-d290108687da",
   "metadata": {},
   "outputs": [
    {
     "data": {
      "text/plain": [
       "[]"
      ]
     },
     "execution_count": 7,
     "metadata": {},
     "output_type": "execute_result"
    }
   ],
   "source": [
    "test"
   ]
  }
 ],
 "metadata": {
  "kernelspec": {
   "display_name": "base",
   "language": "python",
   "name": "python3"
  },
  "language_info": {
   "codemirror_mode": {
    "name": "ipython",
    "version": 3
   },
   "file_extension": ".py",
   "mimetype": "text/x-python",
   "name": "python",
   "nbconvert_exporter": "python",
   "pygments_lexer": "ipython3",
   "version": "3.12.7"
  }
 },
 "nbformat": 4,
 "nbformat_minor": 5
}
