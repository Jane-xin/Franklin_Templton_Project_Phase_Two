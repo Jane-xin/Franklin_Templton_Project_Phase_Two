{
 "cells": [
  {
   "cell_type": "code",
   "execution_count": 5,
   "id": "5c9627dd-5608-4da8-9f1a-8ea9589a003b",
   "metadata": {},
   "outputs": [],
   "source": [
    "import pydantic\n",
    "from pydantic import BaseModel, Field, model_validator\n",
    "import os\n",
    "import pandas as pd\n",
    "from llama_cloud_services import LlamaExtract\n",
    "from pydantic import BaseModel, Field, model_validator\n",
    "from llama_cloud.types import ExtractConfig, ExtractMode\n",
    "from income import generate_income_statement_schema \n",
    "# from realized import generate_realized_schema\n",
    "import os, re, pathlib, tempfile, shutil\n",
    "from dotenv import load_dotenv"
   ]
  },
  {
   "cell_type": "code",
   "execution_count": 6,
   "id": "cf875a82-1028-4b54-8807-1d1dde9cca33",
   "metadata": {},
   "outputs": [],
   "source": [
    "FISCAL_YEAR = 2024  #Change the year if you want different years\n",
    "IncomeStatement_2024_25 = generate_income_statement_schema(FISCAL_YEAR)\n",
    "PDF_ROOT = \"sample\" \n",
    "# PDF_ROOT = \"templates/data\"  # Change this to the point to the directory where you are storing the pdfs after scraping\n",
    "TARGET_DIR = \"templates\"\n",
    "os.makedirs(TARGET_DIR, exist_ok=True)\n",
    "OUTPUT_FILE = os.path.join(TARGET_DIR, \"all_schools_test.xlsx\")\n",
    "\n",
    "# api_key = os.getenv(\"LLAMACLOUD_API_KEY\")"
   ]
  },
  {
   "cell_type": "code",
   "execution_count": 7,
   "id": "47855a29-4fc8-4dae-b036-4626be1954da",
   "metadata": {},
   "outputs": [
    {
     "data": {
      "text/plain": [
       "{'additionalProperties': False,\n",
       " 'properties': {'unit_multiplier': {'anyOf': [{'type': 'number'},\n",
       "    {'type': 'null'}],\n",
       "   'description': \"Numeric multiplier corresponding to the unit (e.g., 'in thousands', 'in millions') used in the 2024 fiscal year's Statement of Activities or Statement of Changes in Net Assets. EXTRACT ONLY from financial statement table headers, column headers, or table footnotes. DO NOT extract from narrative text or MD&A sections. Return 1000 for 'in thousands', 1000000 for 'in millions', 1 if values are reported in dollars with no multiplier. Look for unit indicators near the financial statement headers, column headers, or at the top/bottom of tables. Ensure this is strictly from the {fy_label} period only; ignore units from incorrect years or sections.\"},\n",
       "  'gross_tuition_revenue': {'anyOf': [{'type': 'integer'}, {'type': 'null'}],\n",
       "   'description': \"Gross tuition and fees revenue BEFORE any deductions for 2024. Extract ONLY from the primary Statement of Activities/Operations/Revenues pages; IGNORE Notes/MD&A/supplementary schedules and do not combine across pages. Use ONLY the current-year 'Without Donor Restrictions' column. Look for labels including: 'Gross Tuition and Fees', 'Tuition and Fees – Gross', 'Total Student Tuition and Fees' (when explicitly gross), 'Tuition Revenue' (when before aid). If gross tuition is not directly shown, calculate as net_tuition_revenue + financial_aid. If net tuition includes a disclosed aid deduction (e.g., 'net of financial aid of $X'), use $X as financial_aid and add to net_tuition_revenue. Must be the amount BEFORE financial aid deductions. Extract the raw numeric value only – ignore formatting symbols; distinguish dollar signs ($) from digit 5.\"},\n",
       "  'financial_aid': {'anyOf': [{'type': 'integer'}, {'type': 'null'}],\n",
       "   'description': \"Institutional financial aid, scholarships, or tuition discounts for 2024. Extract ONLY from the primary Statement of Activities/Operations/Revenues pages; IGNORE Notes/MD&A/supplementary schedules and do not combine across pages. Use ONLY the current-year 'Without Donor Restrictions' column. Can appear as direct expense line items, including: 'Financial Aid', 'Scholarships and Fellowships', 'Tuition Discount', 'Student Aid', 'Allowances', 'Scholarship Allowance'. Can also appear as deductions from gross tuition (in parentheses) or as disclosed amounts in tuition notes, such as 'Net of Allowance of $X' or 'net of financial aid of $X' — extract the disclosed allowance/aid amount. Extract the raw numeric value only – ignore formatting symbols; distinguish dollar signs ($) from digit 5.\"},\n",
       "  'net_tuition_revenue': {'anyOf': [{'type': 'integer'}, {'type': 'null'}],\n",
       "   'description': \"Net tuition and fees revenue AFTER financial aid deductions for 2024. Extract ONLY from the primary Statement of Activities/Operations/Revenues pages; IGNORE Notes/MD&A/supplementary schedules and do not combine across pages. Use ONLY the current-year 'Without Donor Restrictions' column. Look for labels including: 'Tuition and Fees, Net', 'Net Tuition and Fees', 'Student Tuition and Fees' (when explicitly net), 'Tuition and Fees, net of financial aid of $X'. Should equal gross_tuition_revenue minus financial_aid when both are available. Extract the raw numeric value only – ignore formatting symbols; distinguish dollar signs ($) from digit 5.\"},\n",
       "  'government_grants_contracts_total': {'anyOf': [{'type': 'integer'},\n",
       "    {'type': 'null'}],\n",
       "   'description': \"TOTAL Government grants & contracts (Federal + State/Local combined) for 2024. Extract ONLY from the current-year 'Without Donor Restrictions' column. DO NOT extract from narrative text, footnotes, or explanatory paragraphs. SOURCE: Prefer the primary Statement of Activities/Operations table; notes allowed ONLY if all values in the gifts section come from the SAME note/table within a ≤2-page range. Look for labels including: 'Government Grants and Contracts', 'Government Contracts', 'Government Grants', 'Total Government Support', 'Government Revenue'. If both Federal and State/Local numbers are listed, return their SUM here; if a single combined line exists, return it here. If the report lists just 'Grants' (no qualifier) and it is not clearly private, default to GOVERNMENT and include it here. STRICT RULE: Do NOT include appropriations. If 'Government Grants AND Appropriations' are combined and cannot be separated, leave this field BLANK and include the combined amount only in total_gifts_contracts_other_support. Return raw numeric value only.\"},\n",
       "  'private_gifts_grants_contracts': {'anyOf': [{'type': 'integer'},\n",
       "    {'type': 'null'}],\n",
       "   'description': \"PRIVATE gifts, grants, contracts, and SUPPORT WITHOUT donor restrictions for 2024. Source: primary Statement of Activities/Operations (financial statement table), current-year 'Without Donor Restrictions' column. INCLUDE any OPERATING line whose label contains 'Contribution' (case-insensitive), e.g., 'Contributions of cash and other financial assets', 'Contributions of nonfinancial assets', 'Private Contributions'; also include 'Private Gifts and Grants', 'Private Support', 'Donations', 'Private Contracts'. EXCLUDE Government grants/contracts and any investment or non-operating items. If an explicit subtotal such as 'Private gifts, grants and contracts' or 'Private support' exists, use it; otherwise SUM all qualifying 'Contribution' rows (cash + nonfinancial) and other private-support rows. Return raw numeric value; preserve sign (parentheses = negative).\"},\n",
       "  'total_gifts_contracts_other_support': {'anyOf': [{'type': 'integer'},\n",
       "    {'type': 'null'}],\n",
       "   'description': \"TOTAL: All gifts, grants, contracts & support, including state appropriations, for 2024. If an explicit total line exists (e.g., 'Total Gifts, Grants & Contracts/Support'), return that. Otherwise compute as: government_grants_contracts_total + state_appropriations + private_gifts_grants_contracts + other contributions not already counted. EXCEPTION: If only a combined 'Government Grants and Appropriations' is shown and cannot be split, include that COMBINED value HERE and leave government_grants_contracts_total blank. Explicitly exclude tuition/fees, investment income, auxiliary/enterprise revenue, and unrelated appropriations. Avoid double-counting with subtotals/totals. Return raw numeric value only.\"},\n",
       "  'state_appropriations': {'anyOf': [{'type': 'integer'}, {'type': 'null'}],\n",
       "   'description': \"State appropriations or base state funding for 2024. Extract ONLY from the current-year 'Without Donor Restrictions' column. Prefer the primary Statement of Activities/Operations table; notes allowed ONLY if the gifts section values come from the SAME note/table within a ≤2-page range. INCLUDE any line that says 'Appropriations' (e.g., 'State Appropriations', 'Government Appropriations', 'Appropriations—State'); also include 'State Funding', 'State Support – Appropriations'. These are base funding/appropriation lines, not grants/contracts. If unsure, leave blank. Return raw number; preserve sign; ignore formatting.\"},\n",
       "  'private_gifts_with_donor_restrictions': {'anyOf': [{'type': 'integer'},\n",
       "    {'type': 'null'}],\n",
       "   'description': \"Private gifts and contributions WITH donor restrictions for 2024. Extract ONLY from the main Statement of Activities (financial statement tables). DO NOT extract from narrative text, footnotes, notes, supplementary schedules, or explanatory paragraphs. Look only for line item labels including: 'Private Gifts and Grants', 'Contributions', 'Private Contributions', 'Private Support', 'Donations', 'Private Contracts'. Extract strictly from the 'With Donor Restrictions' column (current year). Extract the raw numeric value only – ignore formatting symbols.\"},\n",
       "  'investment_income_operations': {'anyOf': [{'type': 'integer'},\n",
       "    {'type': 'null'}],\n",
       "   'description': \"Investment income/return REPORTED WITHIN THE OPERATING SECTION of the WITHOUT donor restrictions (WDR) column for 2024. Definition: the portion of investment return appropriated/designated for operations (spending distribution / payout used to fund annual expenses). Primary sources: Statement of Activities / Statement of Operations, WDR column only. Ignore Notes/MD&A/rollforwards/supplementary schedules. Recognize common labels/aliases for OPERATING amounts, including (case-insensitive):   - 'Operating investment return' / 'Investment return appropriated (allocated) for operations'   - 'Endowment income designated for operations'   - 'Endowment distribution' / 'Endowment distribution to operations' / 'Endowment transfer (to operations)'   - 'Interest earnings' / 'Other investment income' when clearly classified as operating   - 'Net investment return designated for operations' / 'Amounts distributed for spending' Equations (use ONLY if no explicit operating subtotal exists, and components are in WDR):   (1) Operating investment return = Endowment (investment) return appropriated for spending + Other investment income (operating) Precedence: prefer an explicit operating line/subtotal; otherwise compute from clearly labeled components without crossing pages/sections. Do NOT net with non-operating remeasurement/appreciation; do NOT mix donor-restricted columns. Return the raw number only (respecting signs/parentheses).\"},\n",
       "  'investment_income_total': {'anyOf': [{'type': 'integer'}, {'type': 'null'}],\n",
       "   'description': \"TOTAL net investment income/return in the WITHOUT donor restrictions (WDR) column for 2024. Primary sources: Statement of Activities / Operations (current FY), WDR column only. Ignore Notes/MD&A/rollforwards/supplementary schedules. Recognize labels/aliases for TOTAL WDR amounts:   - 'Total net investment return (Without donor restrictions)'   - 'Net investment return — Without donor restrictions'   - 'Investment return (WDR), total' If an explicit TOTAL is absent, SAFE computations (WDR only):       Total WDR = Endowment distribution for spending + Other investment income (operating)       (Use this identity only if line labels clearly indicate these components and no subtotal already includes them.) Precedence: use an explicit WDR total if present; otherwise sum clearly labeled WDR operating + WDR non-operating lines, avoiding double-counting if a subtotal already includes components. If only an operating WDR amount exists and the statement indicates no other WDR investment return, set total = operating; otherwise leave blank. Return the raw number only (respecting signs/parentheses).\"},\n",
       "  'investment_income_with_donor_restrictions': {'anyOf': [{'type': 'integer'},\n",
       "    {'type': 'null'}],\n",
       "   'description': \"OPERATING investment income WITH donor restrictions for 2024. Extract ONLY from the primary Statement of Activities/Operations/Revenues page(s); IGNORE Notes/MD&A/supplementary pages and DO NOT combine across pages. Use ONLY the current-year 'With Donor Restrictions' column (synonyms: 'Restricted', 'Temporarily Restricted'). Match operating payout labels such as 'Investment Return – Operating', 'Investment Income for Operations', 'Endowment Distribution to Operations', 'Amounts Appropriated for Expenditure', 'Endowment transfer','Interest earnings''Net Investment Return Designated for Current Operations'. Exclude non-operating sections and note rollforwards. If both components and a subtotal/total exist, use the subtotal; otherwise SUM qualifying lines on the same table. Return the raw number only.\"},\n",
       "  'auxiliary_enterprise_revenue': {'anyOf': [{'type': 'integer'},\n",
       "    {'type': 'null'}],\n",
       "   'description': \"Revenue from auxiliary enterprises for 2024. Extract ONLY from financial statement tables and from the 'Without Donor Restrictions' column. DO NOT extract from narrative text, footnotes, or explanatory paragraphs. Look for labels including: 'Auxiliary Enterprises', 'Auxiliary Services', 'Housing and Dining', 'Residence Halls', 'Food Service', 'Parking'. Revenue from self-supporting activities like dormitories, dining, bookstores, parking. Extract the raw numeric value only – ignore formatting symbols.\"},\n",
       "  'healthcare_clinical_revenue': {'anyOf': [{'type': 'integer'},\n",
       "    {'type': 'null'}],\n",
       "   'description': \"Healthcare/clinical services REVENUE for 2024. PRECONDITION: Extract ONLY if the institution operates a hospital/medical center/clinic. Before extracting, scan the document for any of these keywords (case-insensitive): 'hospital', 'medical center', 'health system', 'clinic', 'clinical services', 'patient care', 'healthcare', 'medical practice', 'physician group', 'health services revenue'. If NONE of the keywords appear anywhere in the report, LEAVE BLANK. SOURCE: Extract ONLY from financial statement TABLES (Statement of Activities/Operations) and ONLY from the current-year 'Without Donor Restrictions' column. Look for row labels such as: 'Medical Center Revenue', 'Clinical Services', 'Healthcare Revenue', 'Hospital Revenue', 'Patient Care Revenue'. If multiple qualifying rows exist for the same category, return their SUM while avoiding double-count with any displayed subtotal/total (prefer the category's explicit 'Total' line when present). EXCLUDE student health fees/auxiliary charges, insurance recoveries, and any non-clinical operating revenue. Return the raw numeric value only — ignore formatting symbols.\"},\n",
       "  'net_assets_released_from_restrictions': {'anyOf': [{'type': 'integer'},\n",
       "    {'type': 'null'}],\n",
       "   'description': \"Net assets released from donor restrictions for 2024. Extract ONLY from financial statement tables and from the 'Without Donor Restrictions' column. DO NOT extract from narrative text, footnotes, or explanatory paragraphs. Look for labels including: 'Net Assets Released from Restrictions', 'Released from Restrictions', 'Restrictions Satisfied'. Represents restricted funds that became available for use during the current year. Extract the raw numeric value only – ignore formatting symbols.\"},\n",
       "  'other_operating_rev': {'anyOf': [{'type': 'integer'}, {'type': 'null'}],\n",
       "   'description': \"Other operating revenues for 2024. Extract ONLY from financial statement tables and from the 'Without Donor Restrictions' column. DO NOT extract from narrative text, footnotes, or explanatory paragraphs. Look for labels including: 'Other Revenues', 'Other Income (Loss), Net', 'Miscellaneous Revenue', 'Other Operating Revenue'. Include operating revenue line items not captured in the main categories above. EXCLUDE net tuition, total gifts/grants, total investment income, auxiliary, healthcare, and net assets released (counted elsewhere). Extract the raw numeric value only – ignore formatting symbols. If not found, return NULL.\"},\n",
       "  'total_operating_revenue': {'anyOf': [{'type': 'integer'}, {'type': 'null'}],\n",
       "   'description': \"Total operating revenues for 2024. Extract ONLY from financial statement tables and from the 'Without Donor Restrictions' column. DO NOT extract from narrative text, footnotes, or explanatory paragraphs. Look for explicit total line items such as: 'Total Operating Revenues', 'Total Operating Revenue', 'Total Revenues'. Should represent the sum of all operating revenue sources. Extract the raw numeric value only – ignore formatting symbols.\"},\n",
       "  'instructional_expense': {'anyOf': [{'type': 'integer'}, {'type': 'null'}],\n",
       "   'description': \"Instructional expenses WITHOUT donor restrictions for 2024. MANDATORY: Extract ONLY from the detailed Functional Expenses Note, usually in the NOTES section (tables titled 'Statement of Functional Expenses', 'Functional Expenses', or similar; verify 'functional expenses' is explicitly mentioned). Locate the 'Instruction'/'Instructional' category and extract the TOTAL amount (bottom of column / rightmost value in row / explicit 'Instruction Total'). DO NOT extract from the Statement of Activities at the beginning of the report. DO NOT extract intermediate rows or subtotals. If NO functional expenses table exists anywhere, then extract from the operating expenses section of the Statement of Activities. Extract the raw numeric value only – ignore formatting symbols.\"},\n",
       "  'research_expense': {'anyOf': [{'type': 'integer'}, {'type': 'null'}],\n",
       "   'description': \"Research expenses WITHOUT donor restrictions for 2024. MANDATORY: Extract ONLY from the detailed Functional Expenses Note (see rules above). Locate 'Research'/'Sponsored Research' and extract the TOTAL amount (bottom of column / rightmost value in row / explicit 'Research Total'). DO NOT extract subtotals, intermediate amounts, or line-item details. If NO functional expenses table exists, extract from the operating expenses section of the Statement of Activities. Extract the raw numeric value only – ignore formatting symbols.\"},\n",
       "  'instructional_research_expense': {'anyOf': [{'type': 'integer'},\n",
       "    {'type': 'null'}],\n",
       "   'description': \"Combined INSTRUCTION + RESEARCH expenses WITHOUT donor restrictions for 2024. MANDATORY: Extract ONLY from the detailed Functional Expenses Note. Prefer a combined 'Instruction and Research' column TOTAL (bottom line). If NO combined column exists but separate 'Instruction' and 'Research' columns exist, SUM their bottom-row totals. DO NOT extract from the Statement of Activities; DO NOT use intermediate rows/subtotals. If NO functional table exists, then extract from the operating expenses section of the Statement of Activities. Extract the raw numeric value only – ignore formatting symbols.\"},\n",
       "  'auxiliary_enterprise_expense': {'anyOf': [{'type': 'integer'},\n",
       "    {'type': 'null'}],\n",
       "   'description': \"Auxiliary enterprise expenses WITHOUT donor restrictions for 2024. MANDATORY: Extract ONLY from the detailed Functional Expenses Note. Locate 'Auxiliary Enterprises'/'Auxiliary' and extract the TOTAL amount (bottom of column / rightmost value in row / explicit 'Auxiliary Total'). DO NOT extract from the Statement of Activities; do not take subtotals or line-item details. If NO functional expenses table exists, then extract from the operating expenses section of the Statement of Activities. Extract the raw numeric value only – ignore formatting symbols.\"},\n",
       "  'healthcare_clinical_expense': {'anyOf': [{'type': 'integer'},\n",
       "    {'type': 'null'}],\n",
       "   'description': \"Healthcare/clinical services EXPENSES WITHOUT donor restrictions for 2024. PRECONDITION: Only if the institution operates a hospital/medical center/clinic. Scan for keywords: 'hospital', 'medical center', 'health system', 'clinic', 'clinical services', 'patient care', 'healthcare', 'medical practice', 'physician group', 'health services expense'. If NONE are found, LEAVE BLANK. MANDATORY: Extract ONLY from the detailed Functional Expenses Note. DO NOT extract from the Statement of Activities; DO NOT take subtotals or intermediate components—take the category TOTAL only. Look for labels including: 'Medical Center Expenses', 'Clinical Services Expenses', 'Healthcare Expenses', 'Hospital Operations'. EXCLUDE depreciation/interest if presented separately from operating categories. Return the raw numeric value only—ignore formatting symbols.\"},\n",
       "  'academic_support': {'anyOf': [{'type': 'integer'}, {'type': 'null'}],\n",
       "   'description': \"Academic support expenses WITHOUT donor restrictions for 2024. MANDATORY: Extract ONLY from the detailed Functional Expenses Note. Locate 'Academic Support' and extract the TOTAL amount (bottom of column / rightmost value in row / explicit 'Academic Support Total'). If NO functional table exists, then extract from the operating expenses section of the Statement of Activities. Labels include: 'Academic Support', 'Library', 'Academic Services', 'Curriculum Development'. Extract the raw numeric value only – ignore formatting symbols.\"},\n",
       "  'student_services': {'anyOf': [{'type': 'integer'}, {'type': 'null'}],\n",
       "   'description': \"Student services expenses WITHOUT donor restrictions for 2024. MANDATORY: Extract ONLY from the detailed Functional Expenses Note. Locate 'Student Services' and extract the TOTAL amount (bottom of column / rightmost value in row / explicit 'Student Services Total'). If NO functional table exists, then extract from the operating expenses section of the Statement of Activities. Labels include: 'Student Services', 'Student Affairs', 'Student Support', 'Student Life'. Extract the raw numeric value only – ignore formatting symbols.\"},\n",
       "  'institutional_support': {'anyOf': [{'type': 'integer'}, {'type': 'null'}],\n",
       "   'description': \"Institutional support expenses WITHOUT donor restrictions for 2024. MANDATORY: Extract ONLY from the detailed Functional Expenses Note. Locate 'Institutional Support' / 'Management and General' / 'Administration' and extract the TOTAL amount (bottom of column / rightmost value in row / explicit total). If 'Fundraising' appears as a separate category, include it in this total. If NO functional table exists, then extract from the operating expenses section of the Statement of Activities. Extract the raw numeric value only – ignore formatting symbols.\"},\n",
       "  'public_service_expense': {'anyOf': [{'type': 'integer'}, {'type': 'null'}],\n",
       "   'description': \"Public service expenses WITHOUT donor restrictions for 2024. MANDATORY: Extract ONLY from the detailed Functional Expenses Note. Locate 'Public Service' and extract the TOTAL amount (bottom of column / rightmost value in row / explicit 'Public Service Total'). If NO functional table exists, then extract from the operating expenses section of the Statement of Activities. Labels include: 'Public Service', 'Community Service', 'Extension Services', 'Public Programs'. Extract the raw numeric value only – ignore formatting symbols.\"},\n",
       "  'student_aid_expense': {'anyOf': [{'type': 'integer'}, {'type': 'null'}],\n",
       "   'description': \"Student aid expenses WITHOUT donor restrictions for 2024. MANDATORY: Extract ONLY from the detailed Functional Expenses Note. Locate 'Student Aid' / 'Scholarships and Fellowships' / 'Student Financial Aid' and extract the TOTAL amount (bottom of column / rightmost value in row / explicit total). If NO functional table exists, then extract from the operating expenses section of the Statement of Activities. Extract the raw numeric value only – ignore formatting symbols.\"},\n",
       "  'total_operating_expense': {'anyOf': [{'type': 'integer'}, {'type': 'null'}],\n",
       "   'description': \"Total operating expenses WITHOUT donor restrictions for 2024. Extract ONLY from financial statement tables and from the 'Without Donor Restrictions' column. Look for explicit total line items such as: 'Total Operating Expenses', 'Total Operating Expense', 'Total Expenses'. VALIDATION: If both a Statement of Functional Expenses and Statement of Activities exist, the amount should be identical in both statements; use as a cross-check. Extract the raw numeric value only – ignore formatting symbols.\"},\n",
       "  'net_operating_income': {'anyOf': [{'type': 'integer'}, {'type': 'null'}],\n",
       "   'description': \"Net operating income (operating revenues minus operating expenses) WITHOUT donor restrictions for 2024. Extract ONLY from financial statement tables and from the 'Without Donor Restrictions' column. Look for labels including: 'Change in Net Assets from Operations', 'Operating Income', 'Net Operating Income', 'Operating Surplus/Deficit'. Should equal total_operating_revenue minus total_operating_expense. Extract the raw numeric value only – ignore formatting symbols.\"},\n",
       "  'operation_maintenance_expense': {'anyOf': [{'type': 'integer'},\n",
       "    {'type': 'null'}],\n",
       "   'description': \"Operation and maintenance of plant expenses WITHOUT donor restrictions for 2024. Extract ONLY from financial statement tables and from the 'Without Donor Restrictions' column. Look for labels including: 'Operation and Maintenance of Plant', 'Facilities Operations', 'Plant Operations', 'O&M'. Costs to operate and maintain physical plant including utilities, repairs, custodial services. Extract the raw numeric value only – ignore formatting symbols.\"},\n",
       "  'depreciation_amortization_expense': {'anyOf': [{'type': 'integer'},\n",
       "    {'type': 'null'}],\n",
       "   'description': \"Depreciation and amortization expenses WITHOUT donor restrictions for 2024. EXTRACTION PRIORITY: 1) If Statement of Functional Expenses exists, extract 'Depreciation' from the TOTAL/bottom line of that statement; 2) If not, search NOTES for functional breakdown TABLES and extract 'Depreciation' total; 3) Otherwise extract from operating expenses section of Statement of Activities. Look for: 'Depreciation and Amortization', 'Depreciation', 'Amortization', 'Depreciation Expense'. Non-cash allocation of asset costs over useful lives. Extract the raw numeric value only – ignore formatting symbols.\"},\n",
       "  'interest_expense': {'anyOf': [{'type': 'integer'}, {'type': 'null'}],\n",
       "   'description': \"Interest expenses WITHOUT donor restrictions for 2024. Extract ONLY from financial statement tables and from the 'Without Donor Restrictions' column. Look for labels including: 'Interest Expense', 'Interest on Debt', 'Debt Service Interest', 'Interest on Indebtedness'. Interest payments on institutional debt and borrowings. Extract the raw numeric value only – ignore formatting symbols.\"},\n",
       "  'non_op_realized_investment_net_with_donor': {'anyOf': [{'type': 'integer'},\n",
       "    {'type': 'null'}],\n",
       "   'description': \"NON-OPERATING REALIZED investment result WITH donor restrictions for 2024. Definition: realized gains or losses from investment activities that are restricted by donors, reported in the 'With Donor Restrictions' column of the primary Statement of Activities / Operations. Represents the realized portion of total investment return related to restricted endowments, excluding operating investment income and unrealized appreciation. Typical labels include (case-insensitive):   - 'Investment return above (in deficit to) amounts designated for current operations'   - 'Non-operating realized investment return (with donor restrictions)'   - 'Net realized gains (losses) — with donor restrictions'   - 'Endowment return above spending distribution' Primary extraction source: Statement of Activities / Operations, current-year 'With Donor Restrictions' column only. IGNORE Notes, MD&A, liquidity disclosures, and supplementary schedules. EXCLUDE unrealized gains/losses, combined realized+unrealized totals, operating investment income, appropriations, grants, or transfers. If both component lines (realized gain and loss) and a subtotal exist, use the subtotal only. When explicitly labeled totals exist (e.g., 'Total realized investment income (with donor restrictions)'), prefer the subtotal rather than reconstructing it. Maintain sign conventions (parentheses = negative) and respect scale indicators (e.g., 'in thousands'). Return the raw numeric value only.\"},\n",
       "  'non_op_realized_investment_net_without_donor': {'anyOf': [{'type': 'integer'},\n",
       "    {'type': 'null'}],\n",
       "   'description': \"NET REALIZED non-operating investment activity WITHOUT donor restrictions (WDR) for 2024. Definition: realized investment income, gains, or losses that occur in the non-operating section of the Statement of Activities, excluding the portion appropriated for operations. Reflects the realized component of total investment return for the unrestricted portion of the endowment and other investment pools. Primary source: current-year 'Without Donor Restrictions' column of the Statement of Activities / Operations table. Include all clearly labeled non-operating realized investment lines (e.g., 'Realized investment gain/loss — non-operating', 'Net realized gains (losses) — Without donor restrictions'). Preferred extraction pattern: if a subtotal block titled 'Net Investment Appreciation Less Return' or similar appears, compute:   NET_REALIZED = 'Designated for Current Operations' + 'Allocation of Endowment Income to Operations' (if both present). Related terminology: 'Investment return', 'Endowment distribution', 'Amounts distributed for spending', 'Other investment income'. Conceptually, total investment income equals:   (Endowment investment return + Other investment income), and the operating portion equals:   (Endowment distribution to operations + Other investment income (operating)). Thus, the non-operating realized component may be derived as:   (Total WDR investment return − Endowment distribution for spending), when explicit non-operating lines are missing but component structure is evident. EXCLUDE unrealized changes, reclassifications, transfers, and operating amounts. If separate realized gain and realized loss lines exist, sum with proper signs. Use subtotal if clearly labeled 'realized only'. Maintain sign conventions (parentheses = negative) and respect scale headings. Return the raw numeric value only.\"},\n",
       "  'extraordinary_gain_or_loss': {'anyOf': [{'type': 'integer'},\n",
       "    {'type': 'null'}],\n",
       "   'description': \"Extraordinary or unusual gains/losses WITHOUT donor restrictions for {fy_label}. Extract from the 'Without Donor Restrictions' column if multiple columns exist. EXTRACT ONLY from financial statement tables (Statement of Activities; Statement of Changes in Net Assets). DO NOT extract from narrative text, footnotes, MD&A, or explanatory paragraphs. Look for labels such as: 'Extraordinary Items', 'Unusual Gains/Losses', 'Gain/Loss on Disposal', 'Non-recurring Items'. Include one-time, unusual, or non-recurring gains/losses including asset disposals. Preserve sign and respect scale headings. Extract the raw numeric value only.\"},\n",
       "  'net_assets_released_for_capital': {'anyOf': [{'type': 'integer'},\n",
       "    {'type': 'null'}],\n",
       "   'description': \"Net assets released from restrictions for CAPITAL purposes for {fy_label}. EXTRACT ONLY from financial statement tables (Statement of Activities; Statement of Changes in Net Assets). DO NOT extract from narrative text, footnotes, MD&A, or supplementary schedules. Look for labels including: 'Net Assets Released for Capital', 'Released for Capital Purposes', 'Capital Releases'. Represents restricted funds released for capital projects/asset acquisitions. Preserve sign and respect scale headings. Extract the raw numeric value only.\"},\n",
       "  'change_fair_value_derivatives': {'anyOf': [{'type': 'integer'},\n",
       "    {'type': 'null'}],\n",
       "   'description': \"Change in fair value of financial derivative instruments WITHOUT donor restrictions for {fy_label}. Extract from the 'Without Donor Restrictions' column if multiple columns exist. EXTRACT ONLY from financial statement tables (Statement of Activities; Statement of Changes in Net Assets). DO NOT extract from narrative text, footnotes, MD&A, or explanatory paragraphs. Look for labels including: 'Swap Contract Gain', 'Change in Fair Value of Derivatives', 'Derivative Gains/Losses', 'Fair Value Adjustments'. Typically UNREALIZED gains/losses on derivative instruments. Preserve sign and respect scale headings. Extract the raw numeric value only.\"},\n",
       "  'capital_grants_gifts': {'anyOf': [{'type': 'integer'}, {'type': 'null'}],\n",
       "   'description': \"Capital grants and gifts WITHOUT donor restrictions for {fy_label}. Extract from the 'Without Donor Restrictions' column if multiple columns exist. EXTRACT ONLY from financial statement tables (Statement of Activities; Statement of Changes in Net Assets). DO NOT extract from narrative text, footnotes, MD&A, or supplementary schedules. Look for labels including: 'Capital Grants and Gifts', 'Capital Contributions', 'Gifts for Capital', 'Capital Additions'. Represents grants/donations designated for capital projects and asset acquisitions. Preserve sign and respect scale headings. Extract the raw numeric value only.\"},\n",
       "  'change_net_assets_without_donor_restrictions': {'anyOf': [{'type': 'integer'},\n",
       "    {'type': 'null'}],\n",
       "   'description': \"Change in net assets WITHOUT donor restrictions for {fy_label}. EXTRACT ONLY from financial statement tables (Statement of Activities; Statement of Changes in Net Assets). DO NOT extract from narrative text, footnotes, or MD&A. Look for labels including: 'Change in Net Assets Without Donor Restrictions', 'Change in Unrestricted Net Assets', 'Unrestricted — Change'. Preserve sign and respect scale headings. Extract the raw numeric value only.\"},\n",
       "  'change_net_assets_with_donor_restrictions': {'anyOf': [{'type': 'integer'},\n",
       "    {'type': 'null'}],\n",
       "   'description': \"Change in net assets WITH donor restrictions for {fy_label}. EXTRACT ONLY from financial statement tables (Statement of Activities; Statement of Changes in Net Assets). DO NOT extract from narrative text, footnotes, or MD&A. Look for labels including: 'Change in Net Assets With Donor Restrictions', 'Change in Restricted Net Assets', 'Restricted — Change'. Preserve sign and respect scale headings. Extract the raw numeric value only.\"},\n",
       "  'total_change_in_net_assets': {'anyOf': [{'type': 'integer'},\n",
       "    {'type': 'null'}],\n",
       "   'description': \"TOTAL change in net assets for {fy_label}. EXTRACT ONLY from financial statement tables (Statement of Activities; Statement of Changes in Net Assets). Prefer explicit totals such as: 'Total Change in Net Assets', 'Change in Net Assets — Total', 'Net Assets — Total Change'. If no explicit total exists, compute: change_net_assets_without_donor_restrictions + change_net_assets_with_donor_restrictions. Represents the bottom-line change in net assets for the fiscal year. Preserve sign and respect scale headings. Extract the raw numeric value only.\"}},\n",
       " 'required': ['unit_multiplier',\n",
       "  'gross_tuition_revenue',\n",
       "  'financial_aid',\n",
       "  'net_tuition_revenue',\n",
       "  'government_grants_contracts_total',\n",
       "  'private_gifts_grants_contracts',\n",
       "  'total_gifts_contracts_other_support',\n",
       "  'state_appropriations',\n",
       "  'private_gifts_with_donor_restrictions',\n",
       "  'investment_income_operations',\n",
       "  'investment_income_total',\n",
       "  'investment_income_with_donor_restrictions',\n",
       "  'auxiliary_enterprise_revenue',\n",
       "  'healthcare_clinical_revenue',\n",
       "  'net_assets_released_from_restrictions',\n",
       "  'other_operating_rev',\n",
       "  'total_operating_revenue',\n",
       "  'instructional_expense',\n",
       "  'research_expense',\n",
       "  'instructional_research_expense',\n",
       "  'auxiliary_enterprise_expense',\n",
       "  'healthcare_clinical_expense',\n",
       "  'academic_support',\n",
       "  'student_services',\n",
       "  'institutional_support',\n",
       "  'public_service_expense',\n",
       "  'student_aid_expense',\n",
       "  'total_operating_expense',\n",
       "  'net_operating_income',\n",
       "  'operation_maintenance_expense',\n",
       "  'depreciation_amortization_expense',\n",
       "  'interest_expense',\n",
       "  'non_op_realized_investment_net_with_donor',\n",
       "  'non_op_realized_investment_net_without_donor',\n",
       "  'extraordinary_gain_or_loss',\n",
       "  'net_assets_released_for_capital',\n",
       "  'change_fair_value_derivatives',\n",
       "  'capital_grants_gifts',\n",
       "  'change_net_assets_without_donor_restrictions',\n",
       "  'change_net_assets_with_donor_restrictions',\n",
       "  'total_change_in_net_assets'],\n",
       " 'type': 'object'}"
      ]
     },
     "execution_count": 7,
     "metadata": {},
     "output_type": "execute_result"
    }
   ],
   "source": [
    "AGENT_ID = \"49cba8ec-d3b6-4a1a-a914-32b81d3ce7ad\" # all multi model\n",
    "# AGENT_ID = \"87c36b46-e9f0-4737-8467-355b3865bfc4\" # all balance model\n",
    "\n",
    "load_dotenv() #make sure the API key is in the .env file\n",
    "\n",
    "extractor = LlamaExtract(project_id = '8c10e62e-3810-4193-915d-d2d11105826d')\n",
    "\n",
    "agent = extractor.get_agent(id = AGENT_ID)\n",
    "\n",
    "agent.data_schema = IncomeStatement_2024_25\n",
    "agent.save()\n",
    "agent = extractor.get_agent(id = AGENT_ID)\n",
    "agent.data_schema"
   ]
  },
  {
   "cell_type": "markdown",
   "id": "6449229a-af1c-4e6f-8219-6497a0a1bc94",
   "metadata": {},
   "source": [
    "The following two cell blocks extract all schools' info into one excel file per school."
   ]
  },
  {
   "cell_type": "code",
   "execution_count": 8,
   "id": "ea6cb8df",
   "metadata": {},
   "outputs": [
    {
     "name": "stdout",
     "output_type": "stream",
     "text": [
      "\n",
      "=== BRADLEY_UNIVERSITY ===\n",
      "Extracting data from BRADLEY_UNIVERSITY/Audited_Financial_Statements_or_ACFR__Rule_15c2-12__for_FY24_for_the_year_ended_05_31_2024__541_KB_.pdf\n"
     ]
    },
    {
     "name": "stderr",
     "output_type": "stream",
     "text": [
      "Uploading files: 100%|██████████| 1/1 [00:01<00:00,  1.13s/it]\n",
      "Creating extraction jobs: 100%|██████████| 1/1 [00:00<00:00,  1.01it/s]\n",
      "Extracting files: 100%|██████████| 1/1 [04:44<00:00, 284.77s/it]\n",
      "Extracting files: 100%|██████████| 1/1 [06:14<00:00, 374.41s/it]\n"
     ]
    },
    {
     "name": "stdout",
     "output_type": "stream",
     "text": [
      "Saved BRADLEY_UNIVERSITY to templates/csv_outputs/BRADLEY_UNIVERSITY.csv\n",
      "All schools written to templates/all_schools_test.xlsx\n",
      "\n",
      "=== CORNELL_UNIVERSITY ===\n",
      "Extracting data from CORNELL_UNIVERSITY/2024_Audited_Financial_Statements_for_the_year_ended_06_30_2024__788_KB_.pdf\n"
     ]
    },
    {
     "name": "stderr",
     "output_type": "stream",
     "text": [
      "Uploading files: 100%|██████████| 1/1 [00:01<00:00,  1.25s/it]\n",
      "Creating extraction jobs: 100%|██████████| 1/1 [00:01<00:00,  1.53s/it]\n",
      "Extracting files: 100%|██████████| 1/1 [02:47<00:00, 167.76s/it]\n"
     ]
    },
    {
     "name": "stdout",
     "output_type": "stream",
     "text": [
      "Extracting data from CORNELL_UNIVERSITY/Incorporate_OS_by_Reference_as_of_04_25_2024__2.4_MB_.pdf\n"
     ]
    },
    {
     "name": "stderr",
     "output_type": "stream",
     "text": [
      "Uploading files: 100%|██████████| 1/1 [00:01<00:00,  1.44s/it]\n",
      "Creating extraction jobs: 100%|██████████| 1/1 [00:01<00:00,  1.95s/it]\n",
      "Extracting files: 100%|██████████| 1/1 [01:51<00:00, 111.58s/it]\n"
     ]
    },
    {
     "name": "stdout",
     "output_type": "stream",
     "text": [
      "Saved CORNELL_UNIVERSITY to templates/csv_outputs/CORNELL_UNIVERSITY.csv\n",
      "All schools written to templates/all_schools_test.xlsx\n",
      "\n",
      "=== CULINARY_INSTITUTE_OF_AMERICA_THE ===\n",
      "Extracting data from CULINARY_INSTITUTE_OF_AMERICA_THE/2024_Audited_Financial_Statements_for_the_year_ended_05_31_2024__277_KB_.pdf\n"
     ]
    },
    {
     "name": "stderr",
     "output_type": "stream",
     "text": [
      "Uploading files: 100%|██████████| 1/1 [00:01<00:00,  1.10s/it]\n",
      "Creating extraction jobs: 100%|██████████| 1/1 [00:03<00:00,  3.18s/it]\n",
      "Extracting files: 100%|██████████| 1/1 [02:37<00:00, 157.94s/it]\n"
     ]
    },
    {
     "name": "stdout",
     "output_type": "stream",
     "text": [
      "Saved CULINARY_INSTITUTE_OF_AMERICA_THE to templates/csv_outputs/CULINARY_INSTITUTE_OF_AMERICA_THE.csv\n",
      "All schools written to templates/all_schools_test.xlsx\n",
      "\n",
      "=== GANNON_UNIVERSITY ===\n",
      "Extracting data from GANNON_UNIVERSITY/Audited_Financial_Statements_for_the_year_ended_06_30_2024__786_KB_.pdf\n"
     ]
    },
    {
     "name": "stderr",
     "output_type": "stream",
     "text": [
      "Uploading files: 100%|██████████| 1/1 [00:01<00:00,  1.09s/it]\n",
      "Creating extraction jobs: 100%|██████████| 1/1 [00:01<00:00,  1.26s/it]\n",
      "Extracting files: 100%|██████████| 1/1 [02:00<00:00, 120.71s/it]\n"
     ]
    },
    {
     "name": "stdout",
     "output_type": "stream",
     "text": [
      "Saved GANNON_UNIVERSITY to templates/csv_outputs/GANNON_UNIVERSITY.csv\n",
      "All schools written to templates/all_schools_test.xlsx\n",
      "\n",
      "=== LEWIS_UNIVERSITY ===\n",
      "Extracting data from LEWIS_UNIVERSITY/Audited_Financial_Statements_for_the_year_ended_06_30_2024__430_KB_.pdf\n"
     ]
    },
    {
     "name": "stderr",
     "output_type": "stream",
     "text": [
      "Uploading files: 100%|██████████| 1/1 [00:01<00:00,  1.00s/it]\n",
      "Creating extraction jobs: 100%|██████████| 1/1 [00:01<00:00,  1.29s/it]\n",
      "Extracting files: 100%|██████████| 1/1 [01:23<00:00, 83.64s/it]\n"
     ]
    },
    {
     "name": "stdout",
     "output_type": "stream",
     "text": [
      "Saved LEWIS_UNIVERSITY to templates/csv_outputs/LEWIS_UNIVERSITY.csv\n",
      "All schools written to templates/all_schools_test.xlsx\n",
      "\n",
      "=== MOLLOY_COLLEGE ===\n",
      "Extracting data from MOLLOY_COLLEGE/Financial_Operating_Filing_for_the_year_ended_06_30_2024_Document1__304_KB_.pdf\n"
     ]
    },
    {
     "name": "stderr",
     "output_type": "stream",
     "text": [
      "Uploading files: 100%|██████████| 1/1 [00:01<00:00,  1.50s/it]\n",
      "Creating extraction jobs: 100%|██████████| 1/1 [00:03<00:00,  3.32s/it]\n",
      "Extracting files: 100%|██████████| 1/1 [04:39<00:00, 279.98s/it]"
     ]
    },
    {
     "name": "stdout",
     "output_type": "stream",
     "text": [
      "Saved MOLLOY_COLLEGE to templates/csv_outputs/MOLLOY_COLLEGE.csv\n",
      "All schools written to templates/all_schools_test.xlsx\n",
      "All schools written to templates/all_schools_test.xlsx\n"
     ]
    },
    {
     "name": "stderr",
     "output_type": "stream",
     "text": [
      "\n",
      "/Users/lizhengning/opt/anaconda3/lib/python3.9/site-packages/xlsxwriter/workbook.py:379: UserWarning: Calling close() on already closed file.\n",
      "  warn(\"Calling close() on already closed file.\")\n"
     ]
    }
   ],
   "source": [
    "writer = pd.ExcelWriter(\n",
    "    OUTPUT_FILE,\n",
    "    engine=\"xlsxwriter\",\n",
    "    engine_kwargs={\"options\": {\"use_zip64\": True}}\n",
    ")\n",
    "\n",
    "def is_pdf(name: str) -> bool:\n",
    "    return name.lower().endswith(\".pdf\")\n",
    "\n",
    "OUTPUT_DIR = \"templates/csv_outputs\"\n",
    "os.makedirs(OUTPUT_DIR, exist_ok=True)\n",
    "\n",
    "for school in sorted(os.listdir(PDF_ROOT)):\n",
    "    school_dir = os.path.join(PDF_ROOT, school)\n",
    "    if not os.path.isdir(school_dir) or school.startswith(\".\"):\n",
    "        continue\n",
    "\n",
    "    print(f\"\\n=== {school} ===\")\n",
    "    combined = {}\n",
    "    first_keys = None\n",
    "    pdfs = [f for f in sorted(os.listdir(school_dir)) if is_pdf(f)]\n",
    "\n",
    "    if not pdfs:\n",
    "        print(\"  (no PDFs found)\")\n",
    "        continue\n",
    "\n",
    "    for fname in pdfs:\n",
    "        path = os.path.join(school_dir, fname)\n",
    "        print(f\"Extracting data from {school}/{fname}\")\n",
    "\n",
    "        try:\n",
    "            run  = agent.extract(path)\n",
    "            data = run.data or {}\n",
    "            if first_keys is None:\n",
    "                first_keys = list(data.keys())\n",
    "                combined  = {k: None for k in first_keys}\n",
    "            for k, v in data.items():\n",
    "                if v not in (None, \"\", []):\n",
    "                    combined[k] = v\n",
    "        except Exception as err:\n",
    "            print(f\"Skipped {fname}: {err}\")\n",
    "\n",
    "    if first_keys:\n",
    "        df = pd.DataFrame.from_dict(combined, orient=\"index\", columns=[f\"{FISCAL_YEAR - 1}-{str(FISCAL_YEAR)[-2:]}\"])\n",
    "        df.index.name = \"Metric\"\n",
    "        sheet_name = school[:31]\n",
    "        \n",
    "        year = f\"{FISCAL_YEAR - 1}-{str(FISCAL_YEAR)[-2:]}\"            \n",
    "        if pd.isna(df.loc['instructional_research_expense'].iloc[0]) and (not pd.isna(df.loc['instructional_expense'].iloc[0]) or not pd.isna(df.loc['research_expense'].iloc[0])):\n",
    "            df.loc['instructional_research_expense'] = (df.loc['instructional_expense'].iloc[0] + df.loc['research_expense'].iloc[0])\n",
    "        if (\n",
    "            not pd.isna(df.loc['non_op_realized_investment_net_without_donor'].iloc[0])\n",
    "            or not pd.isna(df.loc['extraordinary_gain_or_loss'].iloc[0])\n",
    "            or not pd.isna(df.loc['net_assets_released_for_capital'].iloc[0])\n",
    "            or not pd.isna(df.loc['change_fair_value_derivatives'].iloc[0])\n",
    "            or not pd.isna(df.loc['capital_grants_gifts'].iloc[0])\n",
    "        ):\n",
    "            df.loc['other_non_op'] = (\n",
    "                df.loc['non_op_realized_investment_net_without_donor'].iloc[0]\n",
    "                - (\n",
    "                    df.loc['extraordinary_gain_or_loss'].iloc[0]\n",
    "                    + df.loc['net_assets_released_for_capital'].iloc[0]\n",
    "                    + df.loc['change_fair_value_derivatives'].iloc[0]\n",
    "                    + df.loc['capital_grants_gifts'].iloc[0]\n",
    "                )\n",
    "            )\n",
    "\n",
    "        df.to_excel(writer, sheet_name=sheet_name)\n",
    "        if os.path.exists(\"templates/final.parquet\"):\n",
    "            existing = pd.read_parquet(\"templates/final.parquet\")\n",
    "            df['school'] = school\n",
    "            combined = pd.concat([existing, df])\n",
    "        else:\n",
    "            df['school'] = school\n",
    "            combined = df\n",
    "        combined.to_parquet(\"templates/final.parquet\", index=True)\n",
    "    if not df.empty:\n",
    "        output_file = os.path.join(OUTPUT_DIR, f\"{school}.csv\")\n",
    "        df.to_csv(output_file, index=True) # write to csv file\n",
    "        print(f\"Saved {school} to {output_file}\")\n",
    "    else:\n",
    "        print(f\"No data for {school}.\")\n",
    "\n",
    "    df.to_parquet(\"templates/final.parquet\", index=True)\n",
    "\n",
    "    # Write via temp file + ZIP64; then atomic move\n",
    "    dest = pathlib.Path(OUTPUT_FILE) \n",
    "    dest.parent.mkdir(parents=True, exist_ok=True)\n",
    "\n",
    "    with tempfile.TemporaryDirectory() as td:\n",
    "        tmp = pathlib.Path(td) / dest.name\n",
    "        with pd.ExcelWriter(\n",
    "            tmp,\n",
    "            engine=\"xlsxwriter\",\n",
    "            engine_kwargs={\"options\": {\"use_zip64\": True, \"strings_to_urls\": False}}\n",
    "        ) as writer:\n",
    "            df.to_excel(writer, sheet_name=sheet_name)\n",
    "        shutil.move(str(tmp), dest)\n",
    "\n",
    "    print(f\"All schools written to {dest}\")\n",
    "\n",
    "writer.close()\n",
    "print(f\"All schools written to {OUTPUT_FILE}\")\n"
   ]
  },
  {
   "cell_type": "code",
   "execution_count": null,
   "id": "de5c2116",
   "metadata": {},
   "outputs": [
    {
     "name": "stdout",
     "output_type": "stream",
     "text": [
      "Saved: templates/all_schools_combined_test.xlsx\n"
     ]
    }
   ],
   "source": [
    "# In case experiencing operation time out for Excel, we sort the data in csv and store it to the \"all_schools_combined_test\"\n",
    "# Path to the folder where your CSV files are stored\n",
    "CSV_DIR = \"templates/csv_outputs\"\n",
    "OUTPUT_FILE = \"templates/all_schools_combined_test.xlsx\"\n",
    "\n",
    "\n",
    "rows = []\n",
    "\n",
    "for fname in sorted(os.listdir(CSV_DIR)):\n",
    "    if not fname.endswith(\".csv\"):\n",
    "        continue\n",
    "    path = os.path.join(CSV_DIR, fname)\n",
    "    df = pd.read_csv(path)\n",
    "\n",
    "    # Clean up\n",
    "    df.columns = [c.strip() for c in df.columns]\n",
    "    df[\"Metric\"] = df[\"Metric\"].astype(str).str.strip()\n",
    "    df = df.dropna(subset=[\"Metric\"]).drop_duplicates(subset=[\"Metric\"], keep=\"last\")\n",
    "\n",
    "    # Get university name (prefer the column; fall back to file name)\n",
    "    school = (\n",
    "        df.get(\"school\").dropna().iloc[0]\n",
    "        if \"school\" in df.columns and df[\"school\"].notna().any()\n",
    "        else fname.replace(\".csv\", \"\")\n",
    "    )\n",
    "\n",
    "    series = (\n",
    "        df.set_index(\"Metric\")[\"2023-24\"]\n",
    "          .rename(school)\n",
    "          .apply(pd.to_numeric, errors=\"coerce\")\n",
    "    )\n",
    "    rows.append(series)\n",
    "\n",
    "# Combine to a DataFrame: index = schools, columns = metrics\n",
    "combined = pd.DataFrame(rows)\n",
    "\n",
    "# Sort: rows by university, columns (metrics) alphabetically\n",
    "combined = combined.sort_index(axis=0)\n",
    "combined = combined.reindex(sorted(combined.columns), axis=1)\n",
    "\n",
    "combined.index.name = \"school\"\n",
    "combined.to_excel(OUTPUT_FILE)\n",
    "\n",
    "print(f\"Saved: {OUTPUT_FILE}\")\n",
    "\n"
   ]
  },
  {
   "cell_type": "markdown",
   "id": "729ec751",
   "metadata": {},
   "source": [
    "The following cell block extracts all the schools' info into one excel sheet but in different tabs."
   ]
  },
  {
   "cell_type": "code",
   "execution_count": null,
   "id": "5a1052cc",
   "metadata": {},
   "outputs": [
    {
     "name": "stdout",
     "output_type": "stream",
     "text": [
      "Saved: templates/all_schools_combined.xlsx\n"
     ]
    }
   ],
   "source": [
    "# #Combine all the tabs into one sheet if wanted\n",
    "# file_path   = \"templates/all_schools_combined_test.xlsx\"\n",
    "# output_path = \"templates/all_schools_combined.xlsx\"\n",
    "\n",
    "# raw = pd.read_excel(file_path, sheet_name=None, index_col=0)\n",
    "\n",
    "# school_series = {\n",
    "#     school: df.iloc[:, 0]                      # first (only) value column\n",
    "#     for school, df in raw.items()\n",
    "# }\n",
    "\n",
    "# # df_comb = pd.DataFrame(school_series).T\n",
    "# df_comb = pd.DataFrame(school_series)\n",
    "# df_comb.index.name = \"School\"                 \n",
    "# # df = pd.DataFrame.from_dict(combined, orient=\"index\", columns=[\"Value\"])\n",
    "# # df.index.name = \"Metric\"\n",
    "\n",
    "# # write or keep using `transposed`\n",
    "\n",
    "\n",
    "# with pd.ExcelWriter(output_path, engine=\"openpyxl\") as writer:\n",
    "#     df_comb.to_excel(writer, sheet_name=\"Combined\")\n",
    "\n",
    "# print(\"Saved:\", output_path)"
   ]
  },
  {
   "cell_type": "code",
   "execution_count": null,
   "id": "ce11bc3d",
   "metadata": {},
   "outputs": [],
   "source": [
    "# import os, pathlib\n",
    "# print(\"ABS:\", os.path.realpath(OUTPUT_FILE))"
   ]
  },
  {
   "cell_type": "code",
   "execution_count": null,
   "id": "53bcba8f",
   "metadata": {},
   "outputs": [],
   "source": [
    "# from pandas import ExcelWriter\n",
    "# import pandas as pd, os\n",
    "# probe = os.path.join(os.path.dirname(OUTPUT_FILE), \"probe.xlsx\")\n",
    "# with ExcelWriter(probe, engine=\"openpyxl\") as w:\n",
    "#     pd.DataFrame({\"a\":[1]}).to_excel(w, index=False)\n"
   ]
  },
  {
   "cell_type": "code",
   "execution_count": null,
   "id": "47a6c073-4b51-4770-abc4-f5942a1f772a",
   "metadata": {},
   "outputs": [],
   "source": [
    "# #Combine all the tabs into one sheet if wanted\n",
    "# file_path   = \"output_incomestatement_final/all_schools_sample.xlsx\"  #Change this if need be\n",
    "# output_path = \"output_incomestatement_final/all_schools_combined.xlsx\"  #Change this if need be\n",
    "# raw = pd.read_excel(file_path, sheet_name=None, index_col=0)\n",
    "\n",
    "# raw = pd.read_excel(file_path, sheet_name=None, index_col=0)\n",
    "\n",
    "# # school_series = {\n",
    "# #     school: df.iloc[:, 0]                      # first (only) value column\n",
    "# #     for school, df in raw.items()\n",
    "# # }\n",
    "# school_series = {}\n",
    "# for school, df in raw.items():\n",
    "#     # helpful debug: print shapes\n",
    "#     # print(f\"{school}: {df.shape}\")\n",
    "#     if df.shape[1] == 0:                 # only an index column or completely empty\n",
    "#         print(f\"Skipping '{school}': no value column found\")\n",
    "#         continue\n",
    "#     s = df.iloc[:, 0].dropna()\n",
    "#     school_series[school] = s\n",
    "\n",
    "# df_comb = pd.DataFrame(school_series).T\n",
    "# df_comb.index.name = \"School\"                 \n",
    "# #df_comb.insert(0, \"Year\", \"2024‑2025\")\n",
    "# # df_comb.loc['Texas_A&M', ['Total_Headcount','Undergraduate_Headcount']] = \\\n",
    "# #     df_comb.loc['Texas_A&M', ['Undergraduate_Headcount','Total_Headcount']].values\n",
    "\n",
    "# # df_comb.loc['California_state_university', 'Undergraduate_Headcount'] = None \n",
    "# with pd.ExcelWriter(output_path, engine=\"openpyxl\") as writer:\n",
    "#     df_comb.to_excel(writer, sheet_name=\"Combined\")\n",
    "\n",
    "# print(\"Saved:\", output_path)\n"
   ]
  }
 ],
 "metadata": {
  "kernelspec": {
   "display_name": "base",
   "language": "python",
   "name": "python3"
  },
  "language_info": {
   "codemirror_mode": {
    "name": "ipython",
    "version": 3
   },
   "file_extension": ".py",
   "mimetype": "text/x-python",
   "name": "python",
   "nbconvert_exporter": "python",
   "pygments_lexer": "ipython3",
   "version": "3.9.18"
  }
 },
 "nbformat": 4,
 "nbformat_minor": 5
}
