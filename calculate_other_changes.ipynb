{
 "cells": [
  {
   "cell_type": "markdown",
   "id": "9ef56d19",
   "metadata": {},
   "source": [
    "# calculate other_changes"
   ]
  },
  {
   "cell_type": "code",
   "execution_count": 53,
   "id": "f11afa15",
   "metadata": {},
   "outputs": [],
   "source": [
    "import pandas as pd\n",
    "\n",
    "# Load your data\n",
    "df = pd.read_excel(\"output_cash_flow/all_schools_combined.xlsx\")\n",
    "\n",
    "# Clean column names\n",
    "df.columns = df.columns.str.strip()\n",
    "\n",
    "# Convert all columns to numeric where possible, coercing errors to NaN\n",
    "df = df.apply(pd.to_numeric, errors=\"coerce\")\n"
   ]
  },
  {
   "cell_type": "code",
   "execution_count": null,
   "id": "26c050fc",
   "metadata": {},
   "outputs": [],
   "source": [
    "# Compute other_changes_in_investment_activities\n",
    "def compute_other_changes(row):\n",
    "    if pd.notna(row[\"net_cash_from_investment_activities\"]) and pd.notna(row[\"capital_expenses\"]):\n",
    "        return row[\"net_cash_from_investment_activities\"] + row[\"capital_expenses\"]\n",
    "    else:\n",
    "        return None\n",
    "\n",
    "df[\"other_changes_in_investment_activities\"] = df.apply(compute_other_changes, axis=1)"
   ]
  },
  {
   "cell_type": "markdown",
   "id": "e5597da2",
   "metadata": {},
   "source": [
    "$$\n",
    "\\begin{aligned}\n",
    "\\text{other\\_changes\\_in\\_investment\\_activities} =\\ & \n",
    "\\text{net\\_cash\\_from\\_investment\\_activities} \\\\\n",
    "& +\\ \\text{capital\\_expenses}\n",
    "\\end{aligned}\n",
    "$$"
   ]
  },
  {
   "cell_type": "code",
   "execution_count": null,
   "id": "b1086334",
   "metadata": {},
   "outputs": [],
   "source": [
    "#other_changes_in_operating_activities\n",
    "def compute_operating_changes(row):\n",
    "    if pd.notna(row[\"net_cash_from_operating_activities\"]) and \\\n",
    "       pd.notna(row[\"total_change_in_net_assets\"]) and \\\n",
    "       pd.notna(row[\"total_non_cash_exp\"]) and \\\n",
    "       pd.notna(row[\"change_in_working_capital\"]):\n",
    "        return row[\"net_cash_from_operating_activities\"] - (\n",
    "            row[\"total_change_in_net_assets\"] +\n",
    "            row[\"total_non_cash_exp\"] +\n",
    "            row[\"change_in_working_capital\"]\n",
    "        )\n",
    "    else:\n",
    "        return None  # Leave cell empty if any input is missing\n",
    "\n",
    "# Apply the function to compute the new column\n",
    "df[\"other_changes_in_operating_activities\"] = df.apply(compute_operating_changes, axis=1)"
   ]
  },
  {
   "cell_type": "markdown",
   "id": "0f580aac",
   "metadata": {},
   "source": [
    "$$\n",
    "\\begin{aligned}\n",
    "\\text{other\\_changes\\_in\\_operating\\_activities} =\\ & \n",
    "\\text{net\\_cash\\_from\\_operating\\_activities} \\\\\n",
    "& - \\Big( \n",
    "\\text{total\\_change\\_in\\_net\\_assets} \n",
    "+ \\text{total\\_non\\_cash\\_exp} \n",
    "+ \\text{change\\_in\\_working\\_capital}\n",
    "\\Big)\n",
    "\\end{aligned}\n",
    "$$\n"
   ]
  },
  {
   "cell_type": "code",
   "execution_count": null,
   "id": "d03a4b2a",
   "metadata": {},
   "outputs": [],
   "source": [
    "# Compute change_in_long_term_debt \n",
    "def compute_change_in_long_term_debt(row):\n",
    "    if pd.notna(row[\"long_term_debt_net_proceeds\"]) and pd.notna(row[\"long_term_debt_principal_payments\"]):\n",
    "        return row[\"long_term_debt_net_proceeds\"] - row[\"long_term_debt_principal_payments\"]\n",
    "    else:\n",
    "        return None\n",
    "\n",
    "df[\"change_in_long_term_debt\"] = df.apply(compute_change_in_long_term_debt, axis=1)\n"
   ]
  },
  {
   "cell_type": "markdown",
   "id": "95f30e86",
   "metadata": {},
   "source": [
    "$$\n",
    "\\begin{aligned}\n",
    "\\text{change\\_in\\_long\\_term\\_debt} =\\ & \n",
    "\\text{long\\_term\\_debt\\_net\\_proceeds} \\\\\n",
    "& -\\ \\text{long\\_term\\_debt\\_principal\\_payments}\n",
    "\\end{aligned}\n",
    "$$"
   ]
  },
  {
   "cell_type": "code",
   "execution_count": null,
   "id": "568a3fa4",
   "metadata": {},
   "outputs": [],
   "source": [
    "# Compute other_changes_in_financing_activities using the given formula\n",
    "def compute_other_changes_in_financing(row):\n",
    "    if pd.notna(row[\"net_cash_from_financing_activities\"]) and \\\n",
    "       pd.notna(row[\"long_term_debt_net_proceeds\"]) and \\\n",
    "       pd.notna(row[\"long_term_debt_principal_payments\"]) and \\\n",
    "       pd.notna(row[\"cash_flows_from_noncapital_financing_activities\"]) and \\\n",
    "       pd.notna(row[\"cash_flows_from_capital_and_related_financing_activities\"]):\n",
    "        \n",
    "        debt_change = row[\"long_term_debt_net_proceeds\"] - row[\"long_term_debt_principal_payments\"]\n",
    "        financing_sum = (\n",
    "            debt_change +\n",
    "            row[\"cash_flows_from_noncapital_financing_activities\"] +\n",
    "            row[\"cash_flows_from_capital_and_related_financing_activities\"]\n",
    "        )\n",
    "        return row[\"net_cash_from_financing_activities\"] - financing_sum\n",
    "    else:\n",
    "        return None\n",
    "\n",
    "df[\"other_changes_in_financing_activities\"] = df.apply(compute_other_changes_in_financing, axis=1)\n"
   ]
  },
  {
   "cell_type": "markdown",
   "id": "d87daa46",
   "metadata": {},
   "source": [
    "$$\n",
    "\\begin{aligned}\n",
    "\\text{other\\_changes\\_in\\_financing\\_activities} =\\ & \n",
    "\\text{net\\_cash\\_from\\_financing\\_activities} \\\\\n",
    "& - \\Big( \n",
    "\\text{long\\_term\\_debt\\_net\\_proceeds} \n",
    "- \\text{long\\_term\\_debt\\_principal\\_payments} \\\\\n",
    "& \\quad + \\text{cash\\_flows\\_from\\_noncapital\\_financing\\_activities} \\\\\n",
    "& \\quad + \\text{cash\\_flows\\_from\\_capital\\_and\\_related\\_financing\\_activities} \n",
    "\\Big)\n",
    "\\end{aligned}\n",
    "$$"
   ]
  },
  {
   "cell_type": "code",
   "execution_count": 58,
   "id": "db260cec",
   "metadata": {},
   "outputs": [],
   "source": [
    "# Save results\n",
    "df.to_excel(\"output_cash_flow/all_schools_combined_filled.xlsx\", index=False)\n"
   ]
  }
 ],
 "metadata": {
  "kernelspec": {
   "display_name": "base",
   "language": "python",
   "name": "python3"
  },
  "language_info": {
   "codemirror_mode": {
    "name": "ipython",
    "version": 3
   },
   "file_extension": ".py",
   "mimetype": "text/x-python",
   "name": "python",
   "nbconvert_exporter": "python",
   "pygments_lexer": "ipython3",
   "version": "3.12.7"
  }
 },
 "nbformat": 4,
 "nbformat_minor": 5
}
