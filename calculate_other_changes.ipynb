{
 "cells": [
  {
   "cell_type": "markdown",
   "id": "9ef56d19",
   "metadata": {},
   "source": [
    "# calculate other_changes"
   ]
  },
  {
   "cell_type": "code",
   "execution_count": 65,
   "id": "f11afa15",
   "metadata": {},
   "outputs": [],
   "source": [
    "import pandas as pd\n",
    "\n",
    "# Load your data\n",
    "df = pd.read_excel(\"output_cash_flow/all_update_combined.xlsx\")\n",
    "\n",
    "# Clean column names\n",
    "df.columns = df.columns.str.strip()\n",
    "\n",
    "# Convert all columns to numeric where possible, coercing errors to NaN\n",
    "df = df.apply(pd.to_numeric, errors=\"coerce\")\n"
   ]
  },
  {
   "cell_type": "code",
   "execution_count": 66,
   "id": "2faee061",
   "metadata": {},
   "outputs": [],
   "source": [
    "def compute_long_term_debt_principal_payments(row):\n",
    "    original = row.get(\"long_term_debt_principal_payments\")\n",
    "    \n",
    "    bonds = row.get(\"payments_on_bonds_payable\", 0)\n",
    "    notes = row.get(\"payments_on_notes_payable\", 0)\n",
    "    lease = row.get(\"payments_on_lease_liabilities\", 0)\n",
    "\n",
    "    # 替换 NaN 为 0\n",
    "    bonds = 0 if pd.isna(bonds) else bonds\n",
    "    notes = 0 if pd.isna(notes) else notes\n",
    "    lease = 0 if pd.isna(lease) else lease\n",
    "\n",
    "    total = bonds + notes + lease\n",
    "\n",
    "    if total != 0:\n",
    "        return total, True  # 用新的值覆盖\n",
    "    else:\n",
    "        return original, False  # 保留原值（哪怕是NaN）\n",
    "\n",
    "\n"
   ]
  },
  {
   "cell_type": "code",
   "execution_count": 67,
   "id": "a5d44bd1",
   "metadata": {},
   "outputs": [],
   "source": [
    "df[[\"long_term_debt_principal_payments\", \"computed_flag\"]] = df.apply(\n",
    "    compute_long_term_debt_principal_payments, axis=1, result_type=\"expand\"\n",
    ")"
   ]
  },
  {
   "cell_type": "code",
   "execution_count": 68,
   "id": "26c050fc",
   "metadata": {},
   "outputs": [],
   "source": [
    "# Compute other_changes_in_investment_activities, treating missing values as 0 during computation\n",
    "def compute_other_changes(row):\n",
    "    net_cash = row[\"net_cash_from_investment_activities\"]\n",
    "    capex = row[\"capital_expenses\"]\n",
    "    \n",
    "    return (0 if pd.isna(net_cash) else net_cash) + (0 if pd.isna(capex) else capex)\n",
    "\n",
    "df[\"other_changes_in_investment_activities\"] = df.apply(compute_other_changes, axis=1)\n"
   ]
  },
  {
   "cell_type": "markdown",
   "id": "e5597da2",
   "metadata": {},
   "source": [
    "$$\n",
    "\\begin{aligned}\n",
    "\\text{other\\_changes\\_in\\_investment\\_activities} =\\ & \n",
    "\\text{net\\_cash\\_from\\_investment\\_activities} \\\\\n",
    "& +\\ \\text{capital\\_expenses}\n",
    "\\end{aligned}\n",
    "$$"
   ]
  },
  {
   "cell_type": "code",
   "execution_count": 69,
   "id": "b1086334",
   "metadata": {},
   "outputs": [],
   "source": [
    "# Compute other_changes_in_operating_activities, treating missing values as 0 during computation\n",
    "def compute_operating_changes(row):\n",
    "    net_cash = row[\"net_cash_from_operating_activities\"]\n",
    "    net_assets = row[\"total_change_in_net_assets\"]\n",
    "    non_cash = row[\"total_non_cash_exp\"]\n",
    "    working_cap = row[\"change_in_working_capital\"]\n",
    "\n",
    "    return (0 if pd.isna(net_cash) else net_cash) - (\n",
    "        (0 if pd.isna(net_assets) else net_assets) +\n",
    "        (0 if pd.isna(non_cash) else non_cash) +\n",
    "        (0 if pd.isna(working_cap) else working_cap)\n",
    "    )\n",
    "\n",
    "df[\"other_changes_in_operating_activities\"] = df.apply(compute_operating_changes, axis=1)\n"
   ]
  },
  {
   "cell_type": "markdown",
   "id": "0f580aac",
   "metadata": {},
   "source": [
    "$$\n",
    "\\begin{aligned}\n",
    "\\text{other\\_changes\\_in\\_operating\\_activities} =\\ & \n",
    "\\text{net\\_cash\\_from\\_operating\\_activities} \\\\\n",
    "& - \\Big( \n",
    "\\text{total\\_change\\_in\\_net\\_assets} \n",
    "+ \\text{total\\_non\\_cash\\_exp} \n",
    "+ \\text{change\\_in\\_working\\_capital}\n",
    "\\Big)\n",
    "\\end{aligned}\n",
    "$$\n"
   ]
  },
  {
   "cell_type": "code",
   "execution_count": 70,
   "id": "d03a4b2a",
   "metadata": {},
   "outputs": [],
   "source": [
    "# Compute change_in_long_term_debt, treating missing values as 0 during computation\n",
    "def compute_change_in_long_term_debt(row):\n",
    "    proceeds = row[\"long_term_debt_net_proceeds\"]\n",
    "    payments = row[\"long_term_debt_principal_payments\"]\n",
    "\n",
    "    return (0 if pd.isna(proceeds) else proceeds) - (0 if pd.isna(payments) else payments)\n",
    "\n",
    "df[\"change_in_long_term_debt\"] = df.apply(compute_change_in_long_term_debt, axis=1)\n",
    "\n"
   ]
  },
  {
   "cell_type": "markdown",
   "id": "95f30e86",
   "metadata": {},
   "source": [
    "$$\n",
    "\\begin{aligned}\n",
    "\\text{change\\_in\\_long\\_term\\_debt} =\\ & \n",
    "\\text{long\\_term\\_debt\\_net\\_proceeds} \\\\\n",
    "& -\\ \\text{long\\_term\\_debt\\_principal\\_payments}\n",
    "\\end{aligned}\n",
    "$$"
   ]
  },
  {
   "cell_type": "code",
   "execution_count": 71,
   "id": "568a3fa4",
   "metadata": {},
   "outputs": [],
   "source": [
    "# Compute other_changes_in_financing_activities, treating missing values as 0 during computation\n",
    "def compute_other_changes_in_financing(row):\n",
    "    net_cash = 0 if pd.isna(row[\"net_cash_from_financing_activities\"]) else row[\"net_cash_from_financing_activities\"]\n",
    "    debt_proceeds = 0 if pd.isna(row[\"long_term_debt_net_proceeds\"]) else row[\"long_term_debt_net_proceeds\"]\n",
    "    debt_payments = 0 if pd.isna(row[\"long_term_debt_principal_payments\"]) else row[\"long_term_debt_principal_payments\"]\n",
    "    noncapital_flows = 0 if pd.isna(row[\"cash_flows_from_noncapital_financing_activities\"]) else row[\"cash_flows_from_noncapital_financing_activities\"]\n",
    "    capital_flows = 0 if pd.isna(row[\"cash_flows_from_capital_and_related_financing_activities\"]) else row[\"cash_flows_from_capital_and_related_financing_activities\"]\n",
    "\n",
    "    debt_change = debt_proceeds - debt_payments\n",
    "    financing_sum = debt_change + noncapital_flows + capital_flows\n",
    "\n",
    "    return net_cash - financing_sum\n",
    "\n",
    "df[\"other_changes_in_financing_activities\"] = df.apply(compute_other_changes_in_financing, axis=1)\n",
    "\n",
    "\n",
    "\n"
   ]
  },
  {
   "cell_type": "markdown",
   "id": "d87daa46",
   "metadata": {},
   "source": [
    "$$\n",
    "\\begin{aligned}\n",
    "\\text{other\\_changes\\_in\\_financing\\_activities} =\\ & \n",
    "\\text{net\\_cash\\_from\\_financing\\_activities} \\\\\n",
    "& - \\Big( \n",
    "\\text{long\\_term\\_debt\\_net\\_proceeds} \n",
    "- \\text{long\\_term\\_debt\\_principal\\_payments} \\\\\n",
    "& \\quad + \\text{cash\\_flows\\_from\\_noncapital\\_financing\\_activities} \\\\\n",
    "& \\quad + \\text{cash\\_flows\\_from\\_capital\\_and\\_related\\_financing\\_activities} \n",
    "\\Big)\n",
    "\\end{aligned}\n",
    "$$"
   ]
  },
  {
   "cell_type": "code",
   "execution_count": 72,
   "id": "db260cec",
   "metadata": {},
   "outputs": [],
   "source": [
    "# Save results\n",
    "df.to_excel(\"output_cash_flow/all_update_combined_filled.xlsx\", index=False)\n"
   ]
  }
 ],
 "metadata": {
  "kernelspec": {
   "display_name": "base",
   "language": "python",
   "name": "python3"
  },
  "language_info": {
   "codemirror_mode": {
    "name": "ipython",
    "version": 3
   },
   "file_extension": ".py",
   "mimetype": "text/x-python",
   "name": "python",
   "nbconvert_exporter": "python",
   "pygments_lexer": "ipython3",
   "version": "3.12.7"
  }
 },
 "nbformat": 4,
 "nbformat_minor": 5
}
