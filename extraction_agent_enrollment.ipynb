{
 "cells": [
  {
   "cell_type": "code",
   "execution_count": 1,
   "id": "5c9627dd-5608-4da8-9f1a-8ea9589a003b",
   "metadata": {},
   "outputs": [],
   "source": [
    "import os\n",
    "import pandas as pd\n",
    "from llama_cloud_services import LlamaExtract\n",
    "#from schemas import Enrollment2024_25  #This could be adjusted through schemas.py\n",
    "from enrollment_latest import Enrollment2024_25\n",
    "#from enrollment_optimal import Enrollment2024_25\n",
    "from dotenv import load_dotenv"
   ]
  },
  {
   "cell_type": "code",
   "execution_count": 2,
   "id": "cf875a82-1028-4b54-8807-1d1dde9cca33",
   "metadata": {},
   "outputs": [
    {
     "data": {
      "text/plain": [
       "True"
      ]
     },
     "execution_count": 2,
     "metadata": {},
     "output_type": "execute_result"
    }
   ],
   "source": [
    "#PDF_ROOT = \"scraper/university_pdfs_hy_e\"\n",
    "#PDF_ROOT = \"sample\"\n",
    "PDF_ROOT = \"university_pdfs_sample\"\n",
    "OUTPUT_ROOT = \"output_scrapping\"\n",
    "os.makedirs(OUTPUT_ROOT, exist_ok=True)  \n",
    "#AGENT_ID = \"ca221e4c-b3b2-4bf1-8862-d26016c9943a\" #Different based on your LLamaCloud account - enrollment\n",
    "\n",
    "#AGENT_ID = \"09371b77-6cdd-4fee-89db-93b1f88544f5\" # enrollment with all variables have yrs\n",
    "#AGENT_ID = \"1a3fb0ee-4ec7-4d73-8ccb-81dfaa1f3e01\" #enrollment with important variables have yrs\n",
    "AGENT_ID = \"99a9123b-734a-462b-a3c0-2887f5e6a634\" #enrollment grabs latest data no matter which yr\n",
    "\n",
    "load_dotenv() #make sure the API key is in the .env file"
   ]
  },
  {
   "cell_type": "code",
   "execution_count": 3,
   "id": "47855a29-4fc8-4dae-b036-4626be1954da",
   "metadata": {},
   "outputs": [],
   "source": [
    "extractor = LlamaExtract(project_id = '8c10e62e-3810-4193-915d-d2d11105826d')\n",
    "\n",
    "#uncomment the below line if you are creating the agent for the first time\n",
    "# agent = extractor.create_agent(name = \"enrollment-parser-2024\", data_schema=Enrollment2024_25)\n",
    "\n",
    "agent = extractor.get_agent(id = AGENT_ID)\n",
    "\n",
    "#uncomment the following lines if you updated the schema\n",
    "agent.data_schema = Enrollment2024_25\n",
    "agent.save()\n",
    "agent = extractor.get_agent(id = AGENT_ID)\n"
   ]
  },
  {
   "cell_type": "code",
   "execution_count": 4,
   "id": "f81a8d24-9e3e-40eb-a1c0-9fe4e2025a35",
   "metadata": {},
   "outputs": [
    {
     "data": {
      "text/plain": [
       "{'additionalProperties': False,\n",
       " 'properties': {'Year_Headcount': {'anyOf': [{'type': 'string'},\n",
       "    {'type': 'null'}],\n",
       "   'description': \"Collect the academic year or term (e.g., '2024–25','Fall 2024', 'AY 2024–2025') associated with the following fields:Undergraduate Headcount, Graduate Headcount, Total Headcount, and Total full-time equivalent students (FTE).If all of them refer to a year equivalent to 'Fall 2024', such as 'Fall 2024', 'AY 2024–2025','Academic Year 2024–2025', '2024-25', or 'AY 24–25',then convert it and return only the standardized value '2024–2025'.For example, convert 'Fall 2023', 'AY 2023–2024', '2023–24' to '2023–2024'; convert 'Fall 2022' to '2022–2023'; and so on.Always convert when a clearly matching year or term is present.Do not infer or guess — only convert when the input explicitly matches a known academic year.\"},\n",
       "  'Year_Fee': {'anyOf': [{'type': 'string'}, {'type': 'null'}],\n",
       "   'description': \"Collect the academic year or term (e.g.,'2024–25', 'Fall 2024', 'AY 2024–2025') associated with the following fields:Tuition, Room & board cost (20-meal plan).If all of them refer to a year equivalent to 'Fall 2024', such as 'Fall 2024', 'AY 2024–2025','Academic Year 2024–2025', '2024-25', or 'AY 24–25',then convert it and return only the standardized value '2024–2025'.For example, convert 'Fall 2023', 'AY 2023–2024', '2023–24' to '2023–2024'; convert 'Fall 2022' to '2022–2023'; and so on.Always convert when a clearly matching year or term is present.Do not infer or guess — only convert when the input explicitly matches a known academic year.\"},\n",
       "  'Undergraduate_Headcount': {'anyOf': [{'type': 'integer'}, {'type': 'null'}],\n",
       "   'description': \"Total undergraduate headcount for most recent academic year available. (Different than undergraduate FTE. Sometimes you need to combine both full-time and part time). Search around the tables to locate what type of enrollment information it is. Look for the latest academic year or term, such as 'Fall 2024', 'Fall 2023', 'AY 2024–25', '2024-25','2023', 'Fall 2023', 'Fall 2022'.it's possible for a school to have multiple campuses, so combine all campuses' count or online and in-person count if applicable. If it didn't specify what kind of headcount it is, do not assume it's undergraduate headcount!!! Combine online and in-person if applicable. look around the table to see what type of data it is. Do not derive or hallucinate the data unless the field is actually in the document.\"},\n",
       "  'Undergraduate_Headcount_Full_Time': {'anyOf': [{'type': 'integer'},\n",
       "    {'type': 'null'}],\n",
       "   'description': \"Undergraduate full-time or FT headcount for the most recent academic year available. This is different from FTE (full-time equivalent). Search around the tables to identify what type of enrollment information it is. Look for the latest academic year or term, such as 'Fall 2024', 'AY 2024–25','2024-25', '2024-2025','Fall 2023', '2023', etc. Combine across all campuses if the institution has multiple locations. Don't assume it's undergraduate full-time unless it explicitly says so in the data description. When there is no specification of what kind of full-time it is, it should be total full-time. \"},\n",
       "  'Undergraduate_Headcount_Part_Time': {'anyOf': [{'type': 'integer'},\n",
       "    {'type': 'null'}],\n",
       "   'description': \"Undergraduate part-time (PT) headcount for the most recent academic year available. Search around the tables to identify what type of enrollment information it is. Look for the latest academic year or term, such as 'Fall 2024', 'AY 2024–25','2024-25', '2024-2025','Fall 2023', '2023', etc. Combine across all campuses if the institution has multiple locations. Don't assume it's undergraduate full-time unless it explicitly says so in the data description. When there is no specification of what kind of part-time it is, it should be total part-time.\"},\n",
       "  'Graduate_Headcount': {'anyOf': [{'type': 'integer'}, {'type': 'null'}],\n",
       "   'description': \"Total graduate headcount for the most recent academic year available. Post-baccalaureate is considered a graduate headcount. (Different than graduate FTE. Sometimes you need to combine both full-time and part-time). Combine enrollment across all graduate schools (e.g., Business, Education, etc.). If the graduate headcount includes both professional and graduate headcount, it's fine to include under graduate headcount. Combine online and in-person if applicable. Graduate headcount may be labeled as 'GR', 'Grad', or 'Graduate'. Look for the latest academic year or term, such as 'Fall 2024', 'AY 2024–25','2024-25', '2024-2025','Fall 2023', '2023', etc. It’s possible for a school to have multiple campuses — combine all campuses' counts or online and in-person counts if applicable. Do not derive or hallucinate the data unless the field is actually in the document.\"},\n",
       "  'Graduate_Headcount_Full_Time': {'anyOf': [{'type': 'integer'},\n",
       "    {'type': 'null'}],\n",
       "   'description': \"Graduate full-time (FT) headcount for the most recent academic year available. Post-baccalaureate is considered a graduate headcount. This is different from FTE (full-time equivalent). Combine across all graduate schools. Look for the latest academic year or term, such as 'Fall 2024', 'AY 2024–25','2024-25', '2024-2025','Fall 2023', '2023', etc. Combine across campuses if needed. Don't assume it's graduate full-time unless it explicitly says so in the data description. When there is no specification of what kind of full-time it is, it should be total full-time. Do not derive or hallucinate the data unless the field is actually in the document.\"},\n",
       "  'Graduate_Headcount_Part_Time': {'anyOf': [{'type': 'integer'},\n",
       "    {'type': 'null'}],\n",
       "   'description': \"Graduate part-time (PT) headcount for the most recent academic year available. Post-baccalaureate is considered a graduate headcount. Combine across all graduate schools. Look for the latest academic year or term, such as 'Fall 2024', 'AY 2024–25','2024-25', '2024-2025','Fall 2023', '2023', etc. Combine across campuses if needed. Don't assume it's graduate part-time unless it explicitly says so in the data description. When there is no specification of what kind of part-time it is, it should be total part-time. Do not derive or hallucinate the data unless the field is actually in the document.\"},\n",
       "  'Professional_Headcount': {'anyOf': [{'type': 'integer'}, {'type': 'null'}],\n",
       "   'description': \"Combined professional school headcount (e.g., medicine, law) for the most recent academic year available. This is different from professional FTE. Sometimes you need to combine both full-time and part-time. Search around the tables to identify what type of enrollment information it is. Look for the latest academic year or term, such as 'Fall 2024', 'AY 2024–25','2024-25', '2024-2025','Fall 2023', '2023', etc. It’s possible for a school to have multiple campuses — combine all campuses' counts if applicable. Do not derive or hallucinate the data unless the field is actually in the document.\"},\n",
       "  'Non_Degree_Headcount': {'anyOf': [{'type': 'integer'}, {'type': 'null'}],\n",
       "   'description': \"Non-degree headcount for the most recent academic year available. This is different from Non-Degree FTE. Sometimes you need to combine both full-time and part-time. Sometimes, Non-Degree is labeled as Non-Credit. Search around the tables to identify what type of enrollment information it is. Look for the latest academic year or term, such as 'Fall 2024', 'AY 2024–25','2024-25', '2024-2025','Fall 2023', '2023', etc. It’s possible for a school to have multiple campuses — combine all campuses' counts if applicable. Do not derive or hallucinate the data unless the field is actually in the document.\"},\n",
       "  'Total_Headcount': {'anyOf': [{'type': 'integer'}, {'type': 'null'}],\n",
       "   'description': \"Overall student headcount for the most recent academic year available. Do **not** compute it by adding Undergraduate, Graduate, Professional, etc. Search around the tables to identify what type of enrollment information it is. Look for the latest academic year or term, such as 'Fall 2024', 'AY 2024–25','2024-25', '2024-2025','Fall 2023', '2023', etc. Compare all academic years present (e.g., '2023–24', '2024–25') and extract **only the value associated with the latest year**. For example, if both '2023–24' and '2024–25' appear, return the value for '2024–25' only.Do not extract values for earlier years. It’s possible for a school to have multiple campuses — combine all campuses' counts if applicable. Do not derive or hallucinate the data unless the field is actually in the document.\"},\n",
       "  'Total_Headcount_Full_Time': {'anyOf': [{'type': 'integer'},\n",
       "    {'type': 'null'}],\n",
       "   'description': \"Total full-time headcount for the most recent academic year available across all student categories. This is different from FTE (full-time equivalent). If not explicitly provided, sum Undergraduate_Headcount_Full_Time + Graduate_Headcount_Full_Time. Search around the tables to identify what type of enrollment information it is. Look for the latest academic year or term, such as 'Fall 2024', 'AY 2024–25','2024-25', '2024-2025','Fall 2023', '2023', etc. Compare all academic years present (e.g., '2023–24', '2024–25') and extract **only the value associated with the latest year**. For example, if both '2023–24' and '2024–25' appear, return the value for '2024–25' only.Do not extract values for earlier years. Do **not** derive it by summing individual full-time headcounts unless instructed. Do not derive or hallucinate the data unless the field is actually in the document. When there is no specification of what kind of full-time it is, it should be total full-time.\"},\n",
       "  'Total_Headcount_Part_Time': {'anyOf': [{'type': 'integer'},\n",
       "    {'type': 'null'}],\n",
       "   'description': \"Total part-time headcount for the most recent academic year available across all student categories. If not explicitly provided, sum Undergraduate_Headcount_Part_Time + Graduate_Headcount_Part_Time. Search around the tables to identify what type of enrollment information it is. Look for the latest academic year or term, such as 'Fall 2024', 'AY 2024–25','2024-25', '2024-2025','Fall 2023', '2023', etc. Compare all academic years present (e.g., '2023–24', '2024–25') and extract **only the value associated with the latest year**. For example, if both '2023–24' and '2024–25' appear, return the value for '2024–25' only.Do not extract values for earlier years. Do **not** derive it by summing individual part-time headcounts unless instructed. Do not derive or hallucinate the data unless the field is actually in the document. When there is no specification of what kind of part-time it is, it should be total part-time.\"},\n",
       "  'Undergraduate_FTE': {'anyOf': [{'type': 'integer'}, {'type': 'null'}],\n",
       "   'description': \"Undergraduate full-time equivalent (FTE) headcount for the most recent academic year available. FTE (full-time equivalent) is different from full-time or part-time. Search the table for a 'Undergraduate' or equivalent column/section and look for the value under the 'FTEs' label.Always ensure the FTE corresponds to the 'Undergraduate' category explicitly. Look for the latest academic year or term, such as 'Fall 2024', 'AY 2024–25','2024-25','2024-2025','Fall 2023', '2023', etc. It’s possible for a school to have multiple campuses — combine all campuses' counts if applicable. Do not derive or hallucinate the data unless the field is actually in the document.\"},\n",
       "  'Graduate_FTE': {'anyOf': [{'type': 'integer'}, {'type': 'null'}],\n",
       "   'description': \"Graduate full-time equivalent (FTE) headcount for the most recent academic year available. Post-baccalaureate is considered a graduate headcount. FTE (full-time equivalent) is different from full-time. Combine enrollment across all graduate schools (e.g., Business, Education, etc.). Search the table for a 'Graduate' or equivalent column/section and look for the value under the 'FTEs' label.Always ensure the FTE corresponds to the 'Graduate' category explicitly. Look for the latest academic year or term, such as 'Fall 2024', 'AY 2024–25','2024-25','2024-2025','Fall 2023', '2023', etc. It’s possible for a school to have multiple campuses — combine all campuses' counts if applicable. Do not derive or hallucinate the data unless the field is actually in the document.\"},\n",
       "  'Professional_FTE': {'anyOf': [{'type': 'integer'}, {'type': 'null'}],\n",
       "   'description': \"Professional school full-time equivalent (FTE) headcount for the most recent academic year available. FTE (full-time equivalent) is different from full-time. Search the table for a 'Professional' or equivalent column/section and look for the value under the 'FTEs' label.Always ensure the FTE corresponds to the 'Professional' category explicitly. Look for the latest academic year or term, such as 'Fall 2024', 'AY 2024–25','2024-25','2024-2025','Fall 2023', '2023', etc. It’s possible for a school to have multiple campuses — combine all campuses' counts if applicable. Do not derive or hallucinate the data unless the field is actually in the document.\"},\n",
       "  'Total_Full_Time_Equivalent_Students': {'anyOf': [{'type': 'integer'},\n",
       "    {'type': 'null'}],\n",
       "   'description': \"Total full-time equivalent (FTE) students for the most recent academic year available. FTE reflects enrollment intensity, and should not be confused with full-time enrollment. Search around the tables to identify what type of FTE data it is. Look for the latest academic year or term, such as 'Fall 2024', 'AY 2024–25','2024-25','Academic Year 2024-25','2024-2025','Fall 2023', '2023', etc. Compare all academic years present (e.g., '2023–24', '2024–25') and extract **only the value associated with the latest year**. For example, if both '2023–24' and '2024–25' appear, return the value for '2024–25' only.Do not extract values for earlier years. It’s possible for a school to have multiple campuses — combine across all campuses if applicable. Do **not** derive it by summing individual FTE fields. Do not derive or hallucinate the data unless the field is actually in the document.\"},\n",
       "  'Undergraduate_Applications_Rcvd': {'anyOf': [{'type': 'integer'},\n",
       "    {'type': 'null'}],\n",
       "   'description': \"Total undergraduate applications received for the most recent applications cycle. Search around the tables to identify the application cycle year, such as 'Fall 2024','2024-25','2024-2025,'2023-2024', 'Fall 2023', or '2023'. Compare all academic years present (e.g., '2023–24', '2024–25') and extract **only the value associated with the latest year**. For example, if both '2023–24' and '2024–25' appear, return the value for '2024–25' only.Do not extract values for earlier years. Ignore older years or terms. Combine across all campuses if applicable. Do not derive or hallucinate the data unless the field is actually in the document.\"},\n",
       "  'Graduate_Applications_Rcvd': {'anyOf': [{'type': 'integer'},\n",
       "    {'type': 'null'}],\n",
       "   'description': \"Total graduate applications received for the most recent applications cycle. Search around the tables to identify the application cycle year, such as 'Fall 2024','2024-25','2024-2025,'2023-2024', 'Fall 2023', or '2023'. Compare all academic years present (e.g., '2023–24', '2024–25') and extract **only the value associated with the latest year**. For example, if both '2023–24' and '2024–25' appear, return the value for '2024–25' only.Do not extract values for earlier years. Ignore older years or terms. Combine across all campuses if applicable. Do not derive or hallucinate the data unless the field is actually in the document.\"},\n",
       "  'Transfer_Applications_Rcvd': {'anyOf': [{'type': 'integer'},\n",
       "    {'type': 'null'}],\n",
       "   'description': \"Total transfer applications received for the most recent applications cycle. Search around the tables to identify the application cycle year, such as 'Fall 2024','2024-25','2024-2025,'2023-2024', 'Fall 2023', or '2023'. Compare all academic years present (e.g., '2023–24', '2024–25') and extract **only the value associated with the latest year**. For example, if both '2023–24' and '2024–25' appear, return the value for '2024–25' only.Do not extract values for earlier years. Ignore older years or terms. Combine across all campuses if applicable. Do not derive or hallucinate the data unless the field is actually in the document.\"},\n",
       "  'Undergraduate_Acceptances': {'anyOf': [{'type': 'integer'},\n",
       "    {'type': 'null'}],\n",
       "   'description': \"Total undergraduate acceptances for the most recent admissions cycle. Search around the tables to identify the application cycle year, such as 'Fall 2024','2024-25','2024-2025,'2023-2024', 'Fall 2023', or '2023'. Compare all academic years present (e.g., '2023–24', '2024–25') and extract **only the value associated with the latest year**. For example, if both '2023–24' and '2024–25' appear, return the value for '2024–25' only.Do not extract values for earlier years. Ignore older years or terms. Combine across all campuses if applicable. Do not derive or hallucinate the data unless the field is actually in the document.\"},\n",
       "  'Graduate_Acceptances': {'anyOf': [{'type': 'integer'}, {'type': 'null'}],\n",
       "   'description': \"Total graduate acceptances for the most recent admissions cycle. Search around the tables to identify the application cycle year, such as 'Fall 2024','2024-25','2024-2025,'2023-2024', 'Fall 2023', or '2023'. If multiple years are present (e.g., '2023–24' and '2024–25'), always choose the one that represents the latest year.Ignore older years or terms. Combine across all campuses if applicable. Do not derive or hallucinate the data unless the field is actually in the document.\"},\n",
       "  'Transfer_Acceptances': {'anyOf': [{'type': 'integer'}, {'type': 'null'}],\n",
       "   'description': \"Total transfer acceptances for the most recent admissions cycle. Search around the tables to identify the application cycle year, such as 'Fall 2024','2024-25','2024-2025,'2023-2024', 'Fall 2023', or '2023'. If multiple years are present (e.g., '2023–24' and '2024–25'), always choose the one that represents the latest year.Ignore older years or terms. Combine across all campuses if applicable. Do not derive or hallucinate the data unless the field is actually in the document.\"},\n",
       "  'Undergraduate_Matriculants': {'anyOf': [{'type': 'integer'},\n",
       "    {'type': 'null'}],\n",
       "   'description': \"Number of undergraduate students who matriculated in the most recent academic year. Look for the latest academic year or term, such as 'Fall 2024', 'AY 2024–25','2024-25','2024-2025','Fall 2023', '2023', etc. Ignore older years or terms. Combine across all campuses if applicable. Do not derive or hallucinate the data unless the field is actually in the document.\"},\n",
       "  'Graduate_Matriculants': {'anyOf': [{'type': 'integer'}, {'type': 'null'}],\n",
       "   'description': \"Number of graduate students who matriculated in the most recent academic year. Look for the latest academic year or term, such as 'Fall 2024', 'AY 2024–25','2024-25','2024-2025','Fall 2023', '2023', etc. Ignore older years or terms. Combine across all campuses if applicable. Do not derive or hallucinate the data unless the field is actually in the document.\"},\n",
       "  'Transfer_Matriculants': {'anyOf': [{'type': 'integer'}, {'type': 'null'}],\n",
       "   'description': \"Number of transfer students who matriculated in the most recent academic year. Look for the latest academic year or term, such as 'Fall 2024', 'AY 2024–25','2024-25','2024-2025','Fall 2023', '2023', etc. Ignore older years or terms. Combine across all campuses if applicable. Do not derive or hallucinate the data unless the field is actually in the document.\"},\n",
       "  'Retention_Rate': {'anyOf': [{'type': 'number'}, {'type': 'null'}],\n",
       "   'description': 'Retention rate (%) for the most recent entering cohort (e.g., Fall 2024, Fall 2023). Search around the tables to identify which cohort year the retention rate applies to. Ignore data outside this period. It’s possible for a school to have multiple campuses — combine across all campuses if applicable. Do not derive or hallucinate the data unless the field is actually in the document.'},\n",
       "  'Full_Time_Employee_Equivalents': {'anyOf': [{'type': 'integer'},\n",
       "    {'type': 'null'}],\n",
       "   'description': \"Full-time employee equivalents (staff/faculty) for the most recent academic year available. Search around the tables to identify the latest year (e.g., Fall 2024, AY 2024–25, 2023-24,2023-2024, 2023,etc.). If multiple years are present (e.g., '2023–24' and '2024–25'), always choose the one that represents the latest year.Compare all academic years present (e.g., '2023–24', '2024–25') and extract **only the value associated with the latest year**. For example, if both '2023–24' and '2024–25' appear, return the value for '2024–25' only.Do not extract values for earlier years. Ignore data outside this period. It’s possible for a school to have multiple campuses — combine across all campuses if applicable. Do not derive or hallucinate the data unless the field is actually in the document.\"},\n",
       "  'Tuition': {'anyOf': [{'type': 'integer'}, {'type': 'null'}],\n",
       "   'description': \"Undergraduate tuition rate for the most recent academic year available. This is different from revenue generated by tuition or any financial accounting data. Search around the tables to identify the latest year or term, such as 'Fall 2024', 'AY 2024–25', '2024-25', '2024-2025' ,'Fall 2023', '2023-2024',or '2023'. Compare all academic years present (e.g., '2023–24', '2024–25') and extract **only the value associated with the latest year**. For example, if both '2023–24' and '2024–25' appear, return the value for '2024–25' only.Do not extract values for earlier years. Ignore any data outside this period. If multiple campuses exist, average the tuition per student across campuses. Do not derive or hallucinate the data unless the field is actually in the document.\"},\n",
       "  'Room_and_Board_20_meals': {'anyOf': [{'type': 'integer'}, {'type': 'null'}],\n",
       "   'description': \"Room & board cost (20-meal plan) for the most recent academic year available. Search around the tables to identify the latest year or term, such as 'Fall 2024', 'AY 2024–25', '2024-2025','2024-25' ,'Fall 2023', '2023-2024',or '2023'. Ignore any data outside this period. If multiple campuses exist, combine values across all campuses if applicable. Compare all academic years present (e.g., '2023–24', '2024–25') and extract **only the value associated with the latest year**. For example, if both '2023–24' and '2024–25' appear, return the value for '2024–25' only.Do not extract values for earlier years. Do not derive or hallucinate the data unless the field is actually in the document.\"}},\n",
       " 'required': ['Year_Headcount',\n",
       "  'Year_Fee',\n",
       "  'Undergraduate_Headcount',\n",
       "  'Undergraduate_Headcount_Full_Time',\n",
       "  'Undergraduate_Headcount_Part_Time',\n",
       "  'Graduate_Headcount',\n",
       "  'Graduate_Headcount_Full_Time',\n",
       "  'Graduate_Headcount_Part_Time',\n",
       "  'Professional_Headcount',\n",
       "  'Non_Degree_Headcount',\n",
       "  'Total_Headcount',\n",
       "  'Total_Headcount_Full_Time',\n",
       "  'Total_Headcount_Part_Time',\n",
       "  'Undergraduate_FTE',\n",
       "  'Graduate_FTE',\n",
       "  'Professional_FTE',\n",
       "  'Total_Full_Time_Equivalent_Students',\n",
       "  'Undergraduate_Applications_Rcvd',\n",
       "  'Graduate_Applications_Rcvd',\n",
       "  'Transfer_Applications_Rcvd',\n",
       "  'Undergraduate_Acceptances',\n",
       "  'Graduate_Acceptances',\n",
       "  'Transfer_Acceptances',\n",
       "  'Undergraduate_Matriculants',\n",
       "  'Graduate_Matriculants',\n",
       "  'Transfer_Matriculants',\n",
       "  'Retention_Rate',\n",
       "  'Full_Time_Employee_Equivalents',\n",
       "  'Tuition',\n",
       "  'Room_and_Board_20_meals'],\n",
       " 'type': 'object'}"
      ]
     },
     "execution_count": 4,
     "metadata": {},
     "output_type": "execute_result"
    }
   ],
   "source": [
    "agent.data_schema"
   ]
  },
  {
   "cell_type": "markdown",
   "id": "8b385406-d4f6-48e5-94b5-f999ee2e9f04",
   "metadata": {},
   "source": [
    "The following cell block extracts all the schools' info into one excel sheet but in different tabs."
   ]
  },
  {
   "cell_type": "code",
   "execution_count": 5,
   "id": "dbed9f78-2b07-4696-8bd9-2ad2281d255d",
   "metadata": {},
   "outputs": [
    {
     "name": "stdout",
     "output_type": "stream",
     "text": [
      "Extracting data from BRADLEY_UNIVERSITY/Annual_Financial_Information_and_Operating_Data__Rule_15c2-12__for_FY24_for_the_year_ended_05_31_2024__227_KB_.pdf\n"
     ]
    },
    {
     "name": "stderr",
     "output_type": "stream",
     "text": [
      "Uploading files: 100%|██████████| 1/1 [00:00<00:00,  1.02it/s]\n",
      "Creating extraction jobs: 100%|██████████| 1/1 [00:02<00:00,  2.33s/it]\n",
      "Extracting files: 100%|██████████| 1/1 [00:06<00:00,  6.67s/it]\n"
     ]
    },
    {
     "name": "stdout",
     "output_type": "stream",
     "text": [
      "Extracting data from CULINARY_INSTITUTE_OF_AMERICA_THE/2024_Annual_Report_-_Corrected_for_the_year_ended_05_31_2024__130_KB_.pdf\n"
     ]
    },
    {
     "name": "stderr",
     "output_type": "stream",
     "text": [
      "Uploading files: 100%|██████████| 1/1 [00:00<00:00,  1.27it/s]\n",
      "Creating extraction jobs: 100%|██████████| 1/1 [00:00<00:00,  1.88it/s]\n",
      "Extracting files: 100%|██████████| 1/1 [00:11<00:00, 11.63s/it]\n"
     ]
    },
    {
     "name": "stdout",
     "output_type": "stream",
     "text": [
      "Extracting data from FLORIDA_INSTITUTE_OF_TECHNOLOGY_INC/2024_Annual_Report_-_Florida_Institute_of_Technology_for_the_year_ended_06_30_2024__162_KB_.pdf\n"
     ]
    },
    {
     "name": "stderr",
     "output_type": "stream",
     "text": [
      "Uploading files: 100%|██████████| 1/1 [00:00<00:00,  1.08it/s]\n",
      "Creating extraction jobs: 100%|██████████| 1/1 [00:01<00:00,  1.30s/it]\n",
      "Extracting files: 100%|██████████| 1/1 [00:06<00:00,  6.55s/it]\n"
     ]
    },
    {
     "name": "stdout",
     "output_type": "stream",
     "text": [
      "Extracting data from GANNON_UNIVERSITY/Audited_Financial_Statements_for_the_year_ended_06_30_2024__203_KB_.pdf\n"
     ]
    },
    {
     "name": "stderr",
     "output_type": "stream",
     "text": [
      "Uploading files: 100%|██████████| 1/1 [00:01<00:00,  1.08s/it]\n",
      "Creating extraction jobs: 100%|██████████| 1/1 [00:00<00:00,  2.07it/s]\n",
      "Extracting files: 100%|██████████| 1/1 [00:08<00:00,  8.87s/it]\n"
     ]
    },
    {
     "name": "stdout",
     "output_type": "stream",
     "text": [
      "Extracting data from GWYNEDD_MERCY_UNIVERSITY/Gwynedd_Mercy_University_Summary_of_Financial_Performance_and_Operating_Data_for_the_year_ended_06_30_2024__243_KB_.pdf\n"
     ]
    },
    {
     "name": "stderr",
     "output_type": "stream",
     "text": [
      "Uploading files: 100%|██████████| 1/1 [00:00<00:00,  1.10it/s]\n",
      "Creating extraction jobs: 100%|██████████| 1/1 [00:01<00:00,  1.30s/it]\n",
      "Extracting files: 100%|██████████| 1/1 [00:08<00:00,  8.96s/it]\n"
     ]
    },
    {
     "name": "stdout",
     "output_type": "stream",
     "text": [
      "Extracting data from LEWIS_UNIVERSITY/Continuing_Disclosure_for_the_year_ended_06_30_2024__298_KB_.pdf\n"
     ]
    },
    {
     "name": "stderr",
     "output_type": "stream",
     "text": [
      "Uploading files: 100%|██████████| 1/1 [00:01<00:00,  1.03s/it]\n",
      "Creating extraction jobs: 100%|██████████| 1/1 [00:02<00:00,  2.02s/it]\n",
      "Extracting files: 100%|██████████| 1/1 [00:10<00:00, 10.00s/it]\n"
     ]
    },
    {
     "name": "stdout",
     "output_type": "stream",
     "text": [
      "Extracting data from MOLLOY_COLLEGE/Financial_Operating_Filing_for_the_year_ended_06_30_2024_Document2__142_KB_.pdf\n"
     ]
    },
    {
     "name": "stderr",
     "output_type": "stream",
     "text": [
      "Uploading files: 100%|██████████| 1/1 [00:01<00:00,  1.22s/it]\n",
      "Creating extraction jobs: 100%|██████████| 1/1 [00:01<00:00,  1.08s/it]\n",
      "Extracting files: 100%|██████████| 1/1 [00:08<00:00,  8.13s/it]\n"
     ]
    },
    {
     "name": "stdout",
     "output_type": "stream",
     "text": [
      "Extracting data from NATIONAL_UNIVERSITY/2024_Operating_Data_Annual_Report_-_National_University_for_the_year_ended_06_30_2024__573_KB_.pdf\n"
     ]
    },
    {
     "name": "stderr",
     "output_type": "stream",
     "text": [
      "Uploading files: 100%|██████████| 1/1 [00:01<00:00,  1.17s/it]\n",
      "Creating extraction jobs: 100%|██████████| 1/1 [00:00<00:00,  1.43it/s]\n",
      "Extracting files: 100%|██████████| 1/1 [00:07<00:00,  8.00s/it]\n"
     ]
    },
    {
     "name": "stdout",
     "output_type": "stream",
     "text": [
      "Extracting data from ROSALIND_FRANKLIN_UNIVERSITY_OF_MEDICINE_AND_SCIENCE/2024_Operating_Data_for_the_year_ended_06_30_2024__172_KB_.pdf\n"
     ]
    },
    {
     "name": "stderr",
     "output_type": "stream",
     "text": [
      "Uploading files: 100%|██████████| 1/1 [00:01<00:00,  1.06s/it]\n",
      "Creating extraction jobs: 100%|██████████| 1/1 [00:00<00:00,  1.68it/s]\n",
      "Extracting files: 100%|██████████| 1/1 [00:06<00:00,  6.68s/it]\n"
     ]
    },
    {
     "name": "stdout",
     "output_type": "stream",
     "text": [
      "Extracting data from STEVENS_INSTITUTE_OF_TECHNOLOGY/Annual_Report_for_the_year_ended_06_30_2024__216_KB_.pdf\n"
     ]
    },
    {
     "name": "stderr",
     "output_type": "stream",
     "text": [
      "Uploading files: 100%|██████████| 1/1 [00:00<00:00,  1.15it/s]\n",
      "Creating extraction jobs: 100%|██████████| 1/1 [00:01<00:00,  1.08s/it]\n",
      "Extracting files: 100%|██████████| 1/1 [00:07<00:00,  7.08s/it]\n"
     ]
    },
    {
     "name": "stdout",
     "output_type": "stream",
     "text": [
      "Extracting data from ST_LAWRENCE_UNIVERSITY/SEC_Operating_Info-_SLU_2023-2024_for_the_year_ended_06_30_2024__80_KB_.pdf\n"
     ]
    },
    {
     "name": "stderr",
     "output_type": "stream",
     "text": [
      "Uploading files: 100%|██████████| 1/1 [00:00<00:00,  1.33it/s]\n",
      "Creating extraction jobs: 100%|██████████| 1/1 [00:00<00:00,  2.04it/s]\n",
      "Extracting files: 100%|██████████| 1/1 [00:07<00:00,  7.69s/it]\n"
     ]
    },
    {
     "name": "stdout",
     "output_type": "stream",
     "text": [
      "Extracting data from UNIVERSITY_OF_REDLANDS/Annual_Report_for_the_year_ended_06_30_2024__329_KB_.pdf\n"
     ]
    },
    {
     "name": "stderr",
     "output_type": "stream",
     "text": [
      "Uploading files: 100%|██████████| 1/1 [00:00<00:00,  1.02it/s]\n",
      "Creating extraction jobs: 100%|██████████| 1/1 [00:01<00:00,  1.26s/it]\n",
      "Extracting files: 100%|██████████| 1/1 [00:08<00:00,  8.05s/it]"
     ]
    },
    {
     "name": "stdout",
     "output_type": "stream",
     "text": [
      "All schools written to output_scrapping/all_schools_sample.xlsx\n"
     ]
    },
    {
     "name": "stderr",
     "output_type": "stream",
     "text": [
      "\n"
     ]
    }
   ],
   "source": [
    "# Set the output Excel file path\n",
    "OUTPUT_FILE = os.path.join(OUTPUT_ROOT, \"all_schools_sample.xlsx\")\n",
    "\n",
    "# Create an Excel writer using the openpyxl engine\n",
    "writer = pd.ExcelWriter(OUTPUT_FILE, engine=\"openpyxl\")\n",
    "\n",
    "# Iterate through each folder (school) in the PDF_ROOT directory\n",
    "for school in sorted(os.listdir(PDF_ROOT)):\n",
    "    school_dir = os.path.join(PDF_ROOT, school)\n",
    "    \n",
    "    # Skip if not a directory (e.g., if it's a file)\n",
    "    if not os.path.isdir(school_dir):\n",
    "        continue\n",
    "\n",
    "    combined   = {}       # Dictionary to accumulate extracted values\n",
    "    first_keys = None     # Tracks the metric keys from the first valid PDF\n",
    "\n",
    "    # Loop over each PDF file within the school's folder\n",
    "    for fname in sorted(os.listdir(school_dir)):\n",
    "        if not fname.lower().endswith(\".pdf\"):\n",
    "            continue  # Skip non-PDF files\n",
    "\n",
    "        path = os.path.join(school_dir, fname)\n",
    "        print(f\"Extracting data from {school}/{fname}\")\n",
    "        try:\n",
    "            # Extract data from the PDF using the agent\n",
    "            run  = agent.extract(path)\n",
    "            data = run.data or {}  # Use empty dict if data is None\n",
    "\n",
    "            # Initialize keys on the first successful PDF extraction\n",
    "            if first_keys is None:\n",
    "                first_keys = list(data.keys())\n",
    "                combined   = {k: None for k in first_keys}\n",
    "\n",
    "            # Update combined dictionary with non-empty values\n",
    "            for k, v in data.items():\n",
    "                if v not in (None, \"\", []):\n",
    "                    combined[k] = v\n",
    "\n",
    "        except Exception as err:\n",
    "            print(f\"Skipped {fname}: {err}\")  # Log extraction errors\n",
    "\n",
    "    # If we have extracted any data at all, write to Excel\n",
    "    if first_keys:\n",
    "        # Create a DataFrame from the combined dictionary\n",
    "        df = pd.DataFrame.from_dict(combined, orient=\"index\", columns=[\"2024-25\"])\n",
    "        df.index.name = \"Metric\"  # Set index name for clarity\n",
    "\n",
    "        # Sheet name must be ≤31 characters due to Excel limitations\n",
    "        sheet_name = school[:31]\n",
    "        df.to_excel(writer, sheet_name=sheet_name)\n",
    "    else:\n",
    "        print(f\"No data for {school}.\")  # Log schools with no extractable content\n",
    "\n",
    "# Save the Excel file with all the individual sheets\n",
    "writer.close()\n",
    "print(f\"All schools written to {OUTPUT_FILE}\")\n"
   ]
  },
  {
   "cell_type": "code",
   "execution_count": 6,
   "id": "47a6c073-4b51-4770-abc4-f5942a1f772a",
   "metadata": {},
   "outputs": [
    {
     "name": "stdout",
     "output_type": "stream",
     "text": [
      "Saved: output_scrapping/all_schools_combined_sample.xlsx\n"
     ]
    }
   ],
   "source": [
    "#Combine all the tabs into one sheet if wanted\n",
    "file_path   = \"output_scrapping/all_schools_sample.xlsx\"\n",
    "output_path = \"output_scrapping/all_schools_combined_sample.xlsx\"\n",
    "\n",
    "raw = pd.read_excel(file_path, sheet_name=None, index_col=0)\n",
    "\n",
    "school_series = {\n",
    "    school: df.iloc[:, 0]                      # first (only) value column\n",
    "    for school, df in raw.items()\n",
    "}\n",
    "\n",
    "df_comb = pd.DataFrame(school_series).T\n",
    "df_comb.index.name = \"School\"                 \n",
    "#df_comb.insert(0, \"Year\", \"2024‑2025\")\n",
    "# df_comb.loc['Texas_A&M', ['Total_Headcount','Undergraduate_Headcount']] = \\\n",
    "#     df_comb.loc['Texas_A&M', ['Undergraduate_Headcount','Total_Headcount']].values\n",
    "\n",
    "# df_comb.loc['California_state_university', 'Undergraduate_Headcount'] = None \n",
    "with pd.ExcelWriter(output_path, engine=\"openpyxl\") as writer:\n",
    "    df_comb.to_excel(writer, sheet_name=\"Combined\")\n",
    "\n",
    "print(\"Saved:\", output_path)"
   ]
  },
  {
   "cell_type": "code",
   "execution_count": 7,
   "id": "d5825cbb",
   "metadata": {},
   "outputs": [],
   "source": [
    "df = pd.read_excel(\"output_scrapping/all_schools_combined_sample.xlsx\")\n",
    "valid_years = {\n",
    "    \"Fall 2024\", \"AY 2024–2025\", \"2024–2025\", \"2024-25\", \"AY 24–25\", \"Fall 24\", \"2024\"\n",
    "}\n",
    "\n",
    "for col in df.columns:\n",
    "    if col.startswith(\"Year_\"):\n",
    "        value_col = col.replace(\"Year_\", \"\")\n",
    "        if value_col in df.columns:\n",
    "            mask_invalid = ~df[col].isin(valid_years)\n",
    "            df.loc[mask_invalid, value_col] = None\n",
    "\n",
    "\n",
    "df.to_excel(\"output_scrapping/all_schools_cleaned_fall_2024.xlsx\", index=False)\n"
   ]
  },
  {
   "cell_type": "code",
   "execution_count": 8,
   "id": "7a740c34",
   "metadata": {},
   "outputs": [],
   "source": [
    "# import pandas as pd\n",
    "\n",
    "# df = pd.read_excel(\"output_scrapping/all_schools_combined_sample.xlsx\")\n",
    "# import re\n",
    "# import numpy as np\n",
    "\n",
    "# equivalence_map = {\n",
    "#     r\"2024-25|2024-2025|Fall 2024 (FY2024-25)|AY 2024–25|Fall 2024|Fiscal 2025|2024\": \"2024-2025\",\n",
    "#     r\"2023-24|2023-2024|AY 2023–24|Fall 2023|Fiscal 2024|2023\": \"2023-2024\"\n",
    "# }\n",
    "\n",
    "# # def standardize_year(value):\n",
    "# #     if isinstance(value, str):\n",
    "# #         for pattern, standard in equivalence_map.items():\n",
    "# #             if re.search(pattern, value):\n",
    "# #                 return standard\n",
    "# #     return np.nan\n",
    "\n",
    "# # # Apply to each column that starts with 'Year_'\n",
    "# # for col in df.columns:\n",
    "# #     if col.startswith(\"Year_\"):\n",
    "# #         category = col.replace(\"Year_\", \"\")\n",
    "# #         new_col = f\"year_{'fee' if 'Tuition' in category or 'Room' in category else 'headcount'}\"\n",
    "# #         df[new_col] = df[col].apply(standardize_year)\n",
    "\n",
    "# # # Combine year_headcount and year_fee into year_combine\n",
    "# # def combine_years(row):\n",
    "# #     if pd.notnull(row['year_headcount']):\n",
    "# #         return row['year_headcount']\n",
    "# #     elif pd.notnull(row['year_fee']):\n",
    "# #         return row['year_fee']\n",
    "# #     else:\n",
    "# #         return np.nan\n",
    "\n",
    "# # df['year_combine'] = df.apply(combine_years, axis=1)\n",
    "# # import pandas as pd\n",
    "# import re\n",
    "# from pathlib import Path\n",
    "\n",
    "\n",
    "# # Define function to standardize year format\n",
    "# def normalize_year(text):\n",
    "#     if pd.isna(text):\n",
    "#         return None\n",
    "#     text = str(text)\n",
    "#     matches = re.findall(r\"20\\d{2}\", text)\n",
    "#     if len(matches) >= 2:\n",
    "#         return f\"{matches[0]}-{matches[1]}\"\n",
    "#     elif len(matches) == 1:\n",
    "#         try:\n",
    "#             y1 = int(matches[0])\n",
    "#             return f\"{y1}-{y1+1}\"\n",
    "#         except:\n",
    "#             return None\n",
    "#     else:\n",
    "#         return None\n",
    "\n",
    "# # Apply normalization for headcount, fee, and combine\n",
    "# year_headcount_cols = [col for col in df.columns if \"Year_\" in col and any(x in col for x in [\"Headcount\", \"Full\", \"Total\"])]\n",
    "# year_fee_cols = [col for col in df.columns if \"Year_\" in col and any(x in col for x in [\"Tuition\", \"Room\"])]\n",
    "\n",
    "# df[\"year_headcount\"] = df[year_headcount_cols].bfill(axis=1).iloc[:, 0].apply(normalize_year)\n",
    "# df[\"year_fee\"] = df[year_fee_cols].bfill(axis=1).iloc[:, 0].apply(normalize_year)\n",
    "\n",
    "# def combine_years(row):\n",
    "#     y1 = row[\"year_headcount\"]\n",
    "#     y2 = row[\"year_fee\"]\n",
    "#     return y1 if y1 else y2\n",
    "\n",
    "# df[\"year_combine\"] = df.apply(combine_years, axis=1)\n",
    "\n",
    "# df.to_excel(\"output_scrapping/all_schools_cleaned_fall_2024.xlsx\", index=False)\n"
   ]
  },
  {
   "cell_type": "code",
   "execution_count": null,
   "id": "f133d13e",
   "metadata": {},
   "outputs": [],
   "source": []
  }
 ],
 "metadata": {
  "kernelspec": {
   "display_name": "base",
   "language": "python",
   "name": "python3"
  },
  "language_info": {
   "codemirror_mode": {
    "name": "ipython",
    "version": 3
   },
   "file_extension": ".py",
   "mimetype": "text/x-python",
   "name": "python",
   "nbconvert_exporter": "python",
   "pygments_lexer": "ipython3",
   "version": "3.9.18"
  }
 },
 "nbformat": 4,
 "nbformat_minor": 5
}
