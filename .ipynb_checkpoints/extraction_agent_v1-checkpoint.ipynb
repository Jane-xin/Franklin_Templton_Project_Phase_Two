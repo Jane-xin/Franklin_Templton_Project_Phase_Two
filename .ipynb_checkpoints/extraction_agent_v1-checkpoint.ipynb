{
 "cells": [
  {
   "cell_type": "code",
   "execution_count": 2,
   "id": "5c9627dd-5608-4da8-9f1a-8ea9589a003b",
   "metadata": {},
   "outputs": [],
   "source": [
    "import os\n",
    "import pandas as pd\n",
    "from llama_cloud_services import LlamaExtract\n",
    "from schemas import Enrollment2024_25  #This could be adjusted through schemas.py\n",
    "from dotenv import load_dotenv"
   ]
  },
  {
   "cell_type": "code",
   "execution_count": 3,
   "id": "cf875a82-1028-4b54-8807-1d1dde9cca33",
   "metadata": {},
   "outputs": [
    {
     "data": {
      "text/plain": [
       "True"
      ]
     },
     "execution_count": 3,
     "metadata": {},
     "output_type": "execute_result"
    }
   ],
   "source": [
    "PDF_ROOT = \"university_pdfs_test\"\n",
    "OUTPUT_ROOT = \"output_1\"\n",
    "os.makedirs(OUTPUT_ROOT, exist_ok=True)  \n",
    "AGENT_ID = \"ca221e4c-b3b2-4bf1-8862-d26016c9943a\" #Different based on your LLamaCloud account\n",
    "load_dotenv() #make sure the API key is in the .env file"
   ]
  },
  {
   "cell_type": "code",
   "execution_count": 14,
   "id": "47855a29-4fc8-4dae-b036-4626be1954da",
   "metadata": {},
   "outputs": [],
   "source": [
    "extractor = LlamaExtract(project_id = '8c10e62e-3810-4193-915d-d2d11105826d')\n",
    "\n",
    "#uncomment the below line if you are creating the agent for the first time\n",
    "agent = extractor.create_agent(name = \"enrollment-parser-2024\", data_schema=Enrollment2024_25)\n",
    "\n",
    "agent = extractor.get_agent(id = AGENT_ID)\n",
    "\n",
    "#uncomment the following lines if you updated the schema\n",
    "agent.data_schema = Enrollment2024_25\n",
    "agent.save()\n",
    "agent = extractor.get_agent(id = AGENT_ID)\n"
   ]
  },
  {
   "cell_type": "code",
   "execution_count": 16,
   "id": "f81a8d24-9e3e-40eb-a1c0-9fe4e2025a35",
   "metadata": {},
   "outputs": [
    {
     "data": {
      "text/plain": [
       "{'additionalProperties': False,\n",
       " 'properties': {'Undergraduate_Headcount': {'anyOf': [{'type': 'integer'},\n",
       "    {'type': 'null'}],\n",
       "   'description': \"Total undergraduate headcount for the 2024–2025 academic year (Different than undergraduate FTE. Sometimes you need to combine both full-time and part time).Search around the tables to locate what type of enrollment information it is.Ex: Texas A&M's first table is just says 'total enrollment headcount', but if you look around the table, it's for combination of undergraduate and graduate, so it doesn't belong to this undergraduate_headcount, it should be total headcount.DO NOT include the first table information on Texas A&M for this field, it should be for total headcount.Only extract data for the 2024–2025 year or terms labeled Fall 2024, etcignore any data from other years or terms (e.g., 2023–2024, Fall 2023). it's possible for a school to have multiple campuses, so combine all campuses' count or online and in-person count if applicable. Do not derive or hallucinate the data unless the field is actually in the document.\"},\n",
       "  'Undergraduate_Headcount_Full_Time': {'anyOf': [{'type': 'integer'},\n",
       "    {'type': 'null'}],\n",
       "   'description': 'Undergraduate full-time or FT headcount for the 2024–2025 academic year. This is different than FTE(full-time equivalent).Only extract data for the 2024–2025 year or terms labeled Fall 2024, etc. Ignore any data from other years or terms. Combine across all campuses if the institution has multiple locations. Do not derive or hallucinate the data unless the field is actually in the document.'},\n",
       "  'Undergraduate_Headcount_Part_Time': {'anyOf': [{'type': 'integer'},\n",
       "    {'type': 'null'}],\n",
       "   'description': 'Undergraduate part-time (PT) headcount for the 2024–2025 academic year. Only extract data for the 2024–2025 year or terms labeled Fall 2024, etc. Ignore any data from other years or terms. Combine across all campuses if the institution has multiple locations. Do not derive or hallucinate the data unless the field is actually in the document.'},\n",
       "  'Graduate_Headcount': {'anyOf': [{'type': 'integer'}, {'type': 'null'}],\n",
       "   'description': \"Total graduate headcount for the 2024–2025 academic year (Different than graduate FTE. Sometimes you need to combine both full-time and part time), Combine enrollment across all graduate schools (e.g. Business, Education, etc.), which may be labeled “GR”, “Grad”, or “Graduate”. Only extract data for the 2024–2025 year or terms labeled Fall 2024, etcignore any data from other years or terms (e.g., 2023–2024, Fall 2023). it's possible for a school to have multiple campuses, so combine all campuses' count or online and in-person count if applicable. Do not derive or hallucinate the data unless the field is actually in the document.\"},\n",
       "  'Graduate_Headcount_Full_Time': {'anyOf': [{'type': 'integer'},\n",
       "    {'type': 'null'}],\n",
       "   'description': 'Graduate full-time (FT) headcount for the 2024–2025 academic year. This is different than FTE(full-time equivalent).Combine across all graduate schools. Only extract data for the 2024–2025 year or terms labeled Fall 2024, etc. Ignore any data from other years or terms. Combine across campuses if needed. Do not derive or hallucinate the data unless the field is actually in the document.'},\n",
       "  'Graduate_Headcount_Part_Time': {'anyOf': [{'type': 'integer'},\n",
       "    {'type': 'null'}],\n",
       "   'description': 'Graduate part-time (PT) headcount for the 2024–2025 academic year. Combine across all graduate schools. Only extract data for the 2024–2025 year or terms labeled Fall 2024, etc. Ignore any data from other years or terms. Combine across campuses if needed. Do not derive or hallucinate the data unless the field is actually in the document.'},\n",
       "  'Professional_Headcount': {'anyOf': [{'type': 'integer'}, {'type': 'null'}],\n",
       "   'description': \"Combined professional school headcount (e.g. med, law) for 2024–2025 (Different than professional FTE. Sometimes you need to combine both full-time and part time).Only extract data for the 2024–2025 year or terms labeled Fall 2024, etcignore any data from other years or terms (e.g., 2023–2024, Fall 2023). it's possible for a school to have multiple campuses, so combine all campuses' count if applicable. Do not derive or hallucinate the data unless the field is actually in the document.\"},\n",
       "  'Non_Degree_Headcount': {'anyOf': [{'type': 'integer'}, {'type': 'null'}],\n",
       "   'description': \"(Different than Non-Degree FTE. Sometimes you need to combine both full-time and part time).Sometimes, Non-Degree is listed as Non-creditOnly extract data for the 2024–2025 year or terms labeled Fall 2024, etcignore any data from other years or terms (e.g., 2023–2024, Fall 2023). it's possible for a school to have multiple campuses, so combine all campuses' count if applicable. Do not derive or hallucinate the data unless the field is actually in the document.\"},\n",
       "  'Total_Headcount': {'anyOf': [{'type': 'integer'}, {'type': 'null'}],\n",
       "   'description': \"Overall student headcount for 2024–2025 do **not** compute it by adding Undergraduate, Graduate, Professional, etc.Only extract data for the 2024–2025 year or terms labeled Fall 2024, etcignore any data from other years or terms (e.g., 2023–2024, Fall 2023). it's possible for a school to have multiple campuses, so combine all campuses' count if applicable. Do not derive or hallucinate the data unless the field is actually in the document.\"},\n",
       "  'Total_Headcount_Full_Time': {'anyOf': [{'type': 'integer'},\n",
       "    {'type': 'null'}],\n",
       "   'description': 'Total full-time headcount for 2024–2025 across all student categories. This is different than FTE(full-time equivalent).If not explicitly provided, sum Undergraduate_Headcount_Full_Time + Graduate_Headcount_Full_Time. Only extract data for the 2024–2025 year or terms labeled Fall 2024. Ignore any data from other years or terms.do **not** derive it by summing individual full‑time headcounts. Do not derive or hallucinate the data unless the field is actually in the document.'},\n",
       "  'Total_Headcount_Part_Time': {'anyOf': [{'type': 'integer'},\n",
       "    {'type': 'null'}],\n",
       "   'description': 'Total part-time headcount for 2024–2025 across all student categories. If not explicitly provided, sum Undergraduate_Headcount_Part_Time + Graduate_Headcount_Part_Time. Only extract data for the 2024–2025 year or terms labeled Fall 2024. Ignore any data from other years or terms.do **not** derive it by summing individual part‑time headcounts. Do not derive or hallucinate the data unless the field is actually in the document.'},\n",
       "  'Undergraduate_FTE': {'anyOf': [{'type': 'integer'}, {'type': 'null'}],\n",
       "   'description': \"Undergraduate full-time equivalent headcount or FTE for 2024–2025 FTE (full-time equivalent) is different than full-time, or FT.Only extract data for the 2024–2025 year or terms labeled Fall 2024, etcignore any data from other years or terms (e.g., 2023–2024, Fall 2023). it's possible for a school to have multiple campuses, so combine all campuses' count if applicable. Do not derive or hallucinate the data unless the field is actually in the document.\"},\n",
       "  'Graduate_FTE': {'anyOf': [{'type': 'integer'}, {'type': 'null'}],\n",
       "   'description': \"Graduate full-time headcount or FTE for 2024–2025 FTE (full-time equivalent) is different than full-time, or FT.Combine enrollment across all graduate schools (e.g. Business, Education, etc.), which may be labeled “GR”, “Grad”, or “Graduate”. Only extract data for the 2024–2025 year or terms labeled Fall 2024, etcignore any data from other years or terms (e.g., 2023–2024, Fall 2023). it's possible for a school to have multiple campuses, so combine all campuses' count if applicable. Do not derive or hallucinate the data unless the field is actually in the document.\"},\n",
       "  'Professional_FTE': {'anyOf': [{'type': 'integer'}, {'type': 'null'}],\n",
       "   'description': \"Professional school full-time headcount or FTE for 2024–2025 FTE (full-time equivalent) is different than full-time, or FT.Only extract data for the 2024–2025 year or terms labeled Fall 2024, etcignore any data from other years or terms (e.g., 2023–2024, Fall 2023). it's possible for a school to have multiple campuses, so combine all campuses' count if applicable. Do not derive or hallucinate the data unless the field is actually in the document.\"},\n",
       "  'Total_Full_Time_Equivalent_Students': {'anyOf': [{'type': 'integer'},\n",
       "    {'type': 'null'}],\n",
       "   'description': \"Total full-time equivalent students (FTE) for the 2024–2025 academic year.Only extract data for the 2024–2025 year or terms labeled Fall 2024, etcignore any data from other years or terms (e.g., 2023–2024, Fall 2023). it's possible for a school to have multiple campuses, so combine all campuses' count if applicable.do **not** derive it by summing the individual FTE fields. Do not derive or hallucinate the data unless the field is actually in the document.\"},\n",
       "  'Undergraduate_Applications_Rcvd': {'anyOf': [{'type': 'integer'},\n",
       "    {'type': 'null'}],\n",
       "   'description': 'Total undergraduate applications received for the 2024–2025 cycle (e.g. Fall\\xa02024). Ignore other years/terms. Combine all campuses if applicable. Do not derive or hallucinate the data unless the field is actually in the document.'},\n",
       "  'Graduate_Applications_Rcvd': {'anyOf': [{'type': 'integer'},\n",
       "    {'type': 'null'}],\n",
       "   'description': 'Total graduate applications received for the 2024–2025 cycle (e.g. Fall\\xa02024). Ignore other years/terms. Combine all campuses if applicable. Do not derive or hallucinate the data unless the field is actually in the document.'},\n",
       "  'Transfer_Applications_Rcvd': {'anyOf': [{'type': 'integer'},\n",
       "    {'type': 'null'}],\n",
       "   'description': 'Total transfer applications received for the 2024–2025 cycle (e.g. Fall\\xa02024). Ignore other years/terms. Combine all campuses if applicable. Do not derive or hallucinate the data unless the field is actually in the document.'},\n",
       "  'Undergraduate_Acceptances': {'anyOf': [{'type': 'integer'},\n",
       "    {'type': 'null'}],\n",
       "   'description': 'Total undergraduate acceptances for the 2024–2025 cycle (e.g. Fall\\xa02024). Ignore other years/terms. Combine all campuses if applicable. Do not derive or hallucinate the data unless the field is actually in the document.'},\n",
       "  'Graduate_Acceptances': {'anyOf': [{'type': 'integer'}, {'type': 'null'}],\n",
       "   'description': 'Total graduate acceptances for the 2024–2025 cycle (e.g. Fall\\xa02024). Ignore other years/terms. Combine all campuses if applicable. Do not derive or hallucinate the data unless the field is actually in the document.'},\n",
       "  'Transfer_Acceptances': {'anyOf': [{'type': 'integer'}, {'type': 'null'}],\n",
       "   'description': 'Total transfer acceptances for the 2024–2025 cycle (e.g. Fall\\xa02024). Ignore other years/terms. Combine all campuses if applicable. Do not derive or hallucinate the data unless the field is actually in the document.'},\n",
       "  'Undergraduate_Matriculants': {'anyOf': [{'type': 'integer'},\n",
       "    {'type': 'null'}],\n",
       "   'description': 'Number of undergraduate students who matriculated in Fall\\xa02024 / 2024–2025. Ignore other years/terms. Combine all campuses if applicable. Do not derive or hallucinate the data unless the field is actually in the document.'},\n",
       "  'Graduate_Matriculants': {'anyOf': [{'type': 'integer'}, {'type': 'null'}],\n",
       "   'description': 'Number of graduate students who matriculated in Fall\\xa02024 / 2024–2025. Ignore other years/terms. Combine all campuses if applicable. Do not derive or hallucinate the data unless the field is actually in the document.'},\n",
       "  'Transfer_Matriculants': {'anyOf': [{'type': 'integer'}, {'type': 'null'}],\n",
       "   'description': 'Number of transfer students who matriculated in Fall\\xa02024 / 2024–2025. Ignore other years/terms. Combine all campuses if applicable. Do not derive or hallucinate the data unless the field is actually in the document.'},\n",
       "  'Retention_Rate': {'anyOf': [{'type': 'number'}, {'type': 'null'}],\n",
       "   'description': \"Retention rate % for the 2024–2025 entering class. Only extract data for the 2024–2025 year or terms labeled Fall 2024, etc.; ignore any data from other years or terms (e.g., 2023–2024, Fall 2023).it's possible for a school to have multiple campuses, so combine all campuses' count if applicable. Do not derive or hallucinate the data unless the field is actually in the document.\"},\n",
       "  'Full_Time_Employee_Equivalents': {'anyOf': [{'type': 'integer'},\n",
       "    {'type': 'null'}],\n",
       "   'description': \"Full-time employee equivalents (staff/faculty) in 2024–2025. Only extract data for the 2024–2025 year or terms labeled Fall 2024, etc.; ignore any data from other years or terms (e.g., 2023–2024, Fall 2023).it's possible for a school to have multiple campuses, so combine all campuses' count if applicable. Do not derive or hallucinate the data unless the field is actually in the document.\"},\n",
       "  'Tuition': {'anyOf': [{'type': 'integer'}, {'type': 'null'}],\n",
       "   'description': \"Undergraduate tuition rate for the 2024–2025 academic year. This is different than revenue generated by tuition or any financial accounting dataOnly extract data for the 2024–2025 year or terms labeled Fall 2024, etc.; ignore any data from other years or terms (e.g., 2023–2024, Fall 2023).it's possible for a school to have multiple campuses, so average the tuition per student per campus. Do not derive or hallucinate the data unless the field is actually in the document.\"},\n",
       "  'Room_and_Board_20_meals': {'anyOf': [{'type': 'integer'}, {'type': 'null'}],\n",
       "   'description': \"Room & board cost (20-meal plan) for the 2024–2025 year. Only extract data for the 2024–2025 year or terms labeled Fall 2024, etc.; ignore any data from other years or terms (e.g., 2023–2024, Fall 2023).it's possible for a school to have multiple campuses, so combine all campuses' count if applicable. Do not derive or hallucinate the data unless the field is actually in the document.\"}},\n",
       " 'required': ['Undergraduate_Headcount',\n",
       "  'Undergraduate_Headcount_Full_Time',\n",
       "  'Undergraduate_Headcount_Part_Time',\n",
       "  'Graduate_Headcount',\n",
       "  'Graduate_Headcount_Full_Time',\n",
       "  'Graduate_Headcount_Part_Time',\n",
       "  'Professional_Headcount',\n",
       "  'Non_Degree_Headcount',\n",
       "  'Total_Headcount',\n",
       "  'Total_Headcount_Full_Time',\n",
       "  'Total_Headcount_Part_Time',\n",
       "  'Undergraduate_FTE',\n",
       "  'Graduate_FTE',\n",
       "  'Professional_FTE',\n",
       "  'Total_Full_Time_Equivalent_Students',\n",
       "  'Undergraduate_Applications_Rcvd',\n",
       "  'Graduate_Applications_Rcvd',\n",
       "  'Transfer_Applications_Rcvd',\n",
       "  'Undergraduate_Acceptances',\n",
       "  'Graduate_Acceptances',\n",
       "  'Transfer_Acceptances',\n",
       "  'Undergraduate_Matriculants',\n",
       "  'Graduate_Matriculants',\n",
       "  'Transfer_Matriculants',\n",
       "  'Retention_Rate',\n",
       "  'Full_Time_Employee_Equivalents',\n",
       "  'Tuition',\n",
       "  'Room_and_Board_20_meals'],\n",
       " 'type': 'object'}"
      ]
     },
     "execution_count": 16,
     "metadata": {},
     "output_type": "execute_result"
    }
   ],
   "source": [
    "agent.data_schema"
   ]
  },
  {
   "cell_type": "markdown",
   "id": "6449229a-af1c-4e6f-8219-6497a0a1bc94",
   "metadata": {},
   "source": [
    "The following two cell blocks extract all schools' info into one excel file per school."
   ]
  },
  {
   "cell_type": "code",
   "execution_count": 31,
   "id": "36077e96-e5ec-4352-afef-d76b8f78be2d",
   "metadata": {},
   "outputs": [],
   "source": [
    "def process_school(school_name, school_dir):\n",
    "    combined   = {}\n",
    "    first_keys = None\n",
    "\n",
    "    for fname in sorted(os.listdir(school_dir)):\n",
    "        if not fname.lower().endswith(\".pdf\"):\n",
    "            continue\n",
    "        path = os.path.join(school_dir, fname)\n",
    "        print(f\"Extracting data from {fname}\")\n",
    "        try:\n",
    "            run  = agent.extract(path)\n",
    "            data = run.data or {}\n",
    "            if first_keys is None:\n",
    "                first_keys = list(data.keys())\n",
    "                combined  = {k: None for k in first_keys}\n",
    "            for k, v in data.items():\n",
    "                if v not in (None, \"\", []):\n",
    "                    combined[k] = v\n",
    "        except Exception as err:\n",
    "            print(f\"Skipped {fname}: {err}\")\n",
    "\n",
    "    if first_keys:\n",
    "        df = pd.DataFrame.from_dict(combined, orient=\"index\", columns=[\"2024-25\"])\n",
    "        df.index.name = \"Metric\"\n",
    "        outfile = os.path.join(OUTPUT_ROOT, f\"{school_name}.xlsx\")\n",
    "        df.to_excel(outfile)\n",
    "        print(f\"Saved output to {outfile}\")\n",
    "    else:\n",
    "        print(f\"No PDF data found for {school_name}\")"
   ]
  },
  {
   "cell_type": "code",
   "execution_count": null,
   "id": "a7256b8f-8158-48f2-8b89-5e1ae36760c1",
   "metadata": {},
   "outputs": [],
   "source": [
    "# Loop over schools\n",
    "for school in sorted(os.listdir(PDF_ROOT)):\n",
    "    school_dir = os.path.join(PDF_ROOT, school)\n",
    "    if not os.path.isdir(school_dir):\n",
    "        continue\n",
    "    print(f\"Processing school: {school}\")\n",
    "    process_school(school, school_dir)\n",
    "\n",
    "print(\"Extraction complete.\")"
   ]
  },
  {
   "cell_type": "markdown",
   "id": "8b385406-d4f6-48e5-94b5-f999ee2e9f04",
   "metadata": {},
   "source": [
    "The following cell block extracts all the schools' info into one excel sheet but in different tabs."
   ]
  },
  {
   "cell_type": "code",
   "execution_count": 10,
   "id": "dbed9f78-2b07-4696-8bd9-2ad2281d255d",
   "metadata": {},
   "outputs": [
    {
     "name": "stdout",
     "output_type": "stream",
     "text": [
      "Extracting data from ASU/P11817713-P11393130-P11833489.pdf\n"
     ]
    },
    {
     "name": "stderr",
     "output_type": "stream",
     "text": [
      "Uploading files: 100%|██████████████████████████████| 1/1 [00:00<00:00,  1.34it/s]\n",
      "Creating extraction jobs: 100%|█████████████████████| 1/1 [00:00<00:00,  1.39it/s]\n",
      "Extracting files: 100%|█████████████████████████████| 1/1 [00:15<00:00, 15.98s/it]\n"
     ]
    },
    {
     "name": "stdout",
     "output_type": "stream",
     "text": [
      "Extracting data from Bradley University/P21862068-P21425154-P21869099.pdf\n"
     ]
    },
    {
     "name": "stderr",
     "output_type": "stream",
     "text": [
      "Uploading files: 100%|██████████████████████████████| 1/1 [00:01<00:00,  1.30s/it]\n",
      "Creating extraction jobs: 100%|█████████████████████| 1/1 [00:00<00:00,  2.28it/s]\n",
      "Extracting files: 100%|█████████████████████████████| 1/1 [00:16<00:00, 16.33s/it]\n"
     ]
    },
    {
     "name": "stdout",
     "output_type": "stream",
     "text": [
      "Extracting data from California_state_university/P21878315-P21436983-P21882690.pdf\n"
     ]
    },
    {
     "name": "stderr",
     "output_type": "stream",
     "text": [
      "Uploading files: 100%|██████████████████████████████| 1/1 [00:01<00:00,  1.09s/it]\n",
      "Creating extraction jobs: 100%|█████████████████████| 1/1 [00:00<00:00,  2.08it/s]\n",
      "Extracting files: 100%|█████████████████████████████| 1/1 [00:14<00:00, 14.44s/it]\n"
     ]
    },
    {
     "name": "stdout",
     "output_type": "stream",
     "text": [
      "Extracting data from Cornell_university/P11799657-P11380074-P11818843.pdf\n"
     ]
    },
    {
     "name": "stderr",
     "output_type": "stream",
     "text": [
      "Uploading files: 100%|██████████████████████████████| 1/1 [00:01<00:00,  1.01s/it]\n",
      "Creating extraction jobs: 100%|█████████████████████| 1/1 [00:01<00:00,  1.49s/it]\n",
      "Extracting files: 100%|█████████████████████████████| 1/1 [00:10<00:00, 10.70s/it]\n"
     ]
    },
    {
     "name": "stdout",
     "output_type": "stream",
     "text": [
      "Extracting data from Culinary_institute_of_America/P11790595-P11373821-P11811978.pdf\n"
     ]
    },
    {
     "name": "stderr",
     "output_type": "stream",
     "text": [
      "Uploading files: 100%|██████████████████████████████| 1/1 [00:00<00:00,  1.30it/s]\n",
      "Creating extraction jobs: 100%|█████████████████████| 1/1 [00:00<00:00,  1.72it/s]\n",
      "Extracting files: 100%|█████████████████████████████| 1/1 [00:11<00:00, 11.31s/it]\n"
     ]
    },
    {
     "name": "stdout",
     "output_type": "stream",
     "text": [
      "Extracting data from Gannon_university/P21859160-P21423095-P21866877.pdf\n"
     ]
    },
    {
     "name": "stderr",
     "output_type": "stream",
     "text": [
      "Uploading files: 100%|██████████████████████████████| 1/1 [00:00<00:00,  1.04it/s]\n",
      "Creating extraction jobs: 100%|█████████████████████| 1/1 [00:00<00:00,  2.67it/s]\n",
      "Extracting files: 100%|█████████████████████████████| 1/1 [00:10<00:00, 10.38s/it]\n"
     ]
    },
    {
     "name": "stdout",
     "output_type": "stream",
     "text": [
      "Extracting data from Harvard_university/P21889042-P21444694-P21891364.pdf\n"
     ]
    },
    {
     "name": "stderr",
     "output_type": "stream",
     "text": [
      "Uploading files: 100%|██████████████████████████████| 1/1 [00:01<00:00,  1.08s/it]\n",
      "Creating extraction jobs: 100%|█████████████████████| 1/1 [00:00<00:00,  2.11it/s]\n",
      "Extracting files: 100%|█████████████████████████████| 1/1 [00:10<00:00, 10.50s/it]\n"
     ]
    },
    {
     "name": "stdout",
     "output_type": "stream",
     "text": [
      "Extracting data from Lewis_univsersity/P11819634-P11394595-P11835096.pdf\n"
     ]
    },
    {
     "name": "stderr",
     "output_type": "stream",
     "text": [
      "Uploading files: 100%|██████████████████████████████| 1/1 [00:00<00:00,  1.08it/s]\n",
      "Creating extraction jobs: 100%|█████████████████████| 1/1 [00:00<00:00,  2.44it/s]\n",
      "Extracting files: 100%|█████████████████████████████| 1/1 [00:11<00:00, 11.55s/it]\n"
     ]
    },
    {
     "name": "stdout",
     "output_type": "stream",
     "text": [
      "Extracting data from MT_ST_MARY/Mt St Mary's fall 24 continuing disclosure.pdf\n"
     ]
    },
    {
     "name": "stderr",
     "output_type": "stream",
     "text": [
      "Uploading files: 100%|██████████████████████████████| 1/1 [00:01<00:00,  1.44s/it]\n",
      "Creating extraction jobs: 100%|█████████████████████| 1/1 [00:00<00:00,  2.25it/s]\n",
      "Extracting files: 100%|█████████████████████████████| 1/1 [00:39<00:00, 39.04s/it]\n"
     ]
    },
    {
     "name": "stdout",
     "output_type": "stream",
     "text": [
      "Extracting data from Michigan_state_university/P21870305-P21430806-P21875444.pdf\n"
     ]
    },
    {
     "name": "stderr",
     "output_type": "stream",
     "text": [
      "Uploading files: 100%|██████████████████████████████| 1/1 [00:00<00:00,  1.38it/s]\n",
      "Creating extraction jobs: 100%|█████████████████████| 1/1 [00:00<00:00,  1.90it/s]\n",
      "Extracting files: 100%|█████████████████████████████| 1/1 [00:14<00:00, 14.04s/it]\n"
     ]
    },
    {
     "name": "stdout",
     "output_type": "stream",
     "text": [
      "Extracting data from Molloy_college/P21874771-P21434198-P21879428.pdf\n"
     ]
    },
    {
     "name": "stderr",
     "output_type": "stream",
     "text": [
      "Uploading files: 100%|██████████████████████████████| 1/1 [00:00<00:00,  1.32it/s]\n",
      "Creating extraction jobs: 100%|█████████████████████| 1/1 [00:04<00:00,  4.53s/it]\n",
      "Extracting files: 100%|█████████████████████████████| 1/1 [00:07<00:00,  7.82s/it]\n"
     ]
    },
    {
     "name": "stdout",
     "output_type": "stream",
     "text": [
      "Extracting data from New_York_University/P11812334-P11389223-P11829036.pdf\n"
     ]
    },
    {
     "name": "stderr",
     "output_type": "stream",
     "text": [
      "Uploading files: 100%|██████████████████████████████| 1/1 [00:01<00:00,  1.08s/it]\n",
      "Creating extraction jobs: 100%|█████████████████████| 1/1 [00:00<00:00,  2.05it/s]\n",
      "Extracting files: 100%|█████████████████████████████| 1/1 [00:09<00:00,  9.53s/it]\n"
     ]
    },
    {
     "name": "stdout",
     "output_type": "stream",
     "text": [
      "Extracting data from Ohio_state/P21875437-P21434721-P21880042.pdf\n"
     ]
    },
    {
     "name": "stderr",
     "output_type": "stream",
     "text": [
      "Uploading files: 100%|██████████████████████████████| 1/1 [00:00<00:00,  1.11it/s]\n",
      "Creating extraction jobs: 100%|█████████████████████| 1/1 [00:00<00:00,  2.55it/s]\n",
      "Extracting files:   0%|                                     | 0/1 [00:00<?, ?it/s]/Users/kevinsu/anaconda3/lib/python3.12/site-packages/llama_cloud_services/extract/extract.py:294: UserWarning: Failure in job: bae58609-92b4-4421-9084-c0ab1544f3c0, status: StatusEnum.ERROR, error: parsing_error: Error on parsing: Organization Quota exceeded.\n",
      "  warnings.warn(\n",
      "Extracting files: 100%|█████████████████████████████| 1/1 [00:02<00:00,  2.96s/it]\n"
     ]
    },
    {
     "name": "stdout",
     "output_type": "stream",
     "text": [
      "No data for Ohio_state.\n",
      "Extracting data from ST_Louis_univ/P21874807-P21434222-P21879459.pdf\n"
     ]
    },
    {
     "name": "stderr",
     "output_type": "stream",
     "text": [
      "Uploading files: 100%|██████████████████████████████| 1/1 [00:02<00:00,  2.65s/it]\n",
      "Creating extraction jobs: 100%|█████████████████████| 1/1 [00:00<00:00,  1.54it/s]\n",
      "Extracting files:   0%|                                     | 0/1 [00:00<?, ?it/s]/Users/kevinsu/anaconda3/lib/python3.12/site-packages/llama_cloud_services/extract/extract.py:294: UserWarning: Failure in job: 4b477a3b-f36e-47fa-8d4f-dbd9edd2e0a7, status: StatusEnum.ERROR, error: parsing_error: Error on parsing: Organization Quota exceeded.\n",
      "  warnings.warn(\n",
      "Extracting files: 100%|█████████████████████████████| 1/1 [00:01<00:00,  1.74s/it]\n"
     ]
    },
    {
     "name": "stdout",
     "output_type": "stream",
     "text": [
      "No data for ST_Louis_univ.\n",
      "Extracting data from Stevenson/P21870783-P21431172-P21875933.pdf\n"
     ]
    },
    {
     "name": "stderr",
     "output_type": "stream",
     "text": [
      "Uploading files: 100%|██████████████████████████████| 1/1 [00:00<00:00,  1.23it/s]\n",
      "Creating extraction jobs: 100%|█████████████████████| 1/1 [00:00<00:00,  2.25it/s]\n",
      "Extracting files:   0%|                                     | 0/1 [00:00<?, ?it/s]/Users/kevinsu/anaconda3/lib/python3.12/site-packages/llama_cloud_services/extract/extract.py:294: UserWarning: Failure in job: 2936ce3b-8623-4ac0-97dc-d82c91b5bd59, status: StatusEnum.ERROR, error: parsing_error: Error on parsing: Organization Quota exceeded.\n",
      "  warnings.warn(\n",
      "Extracting files: 100%|█████████████████████████████| 1/1 [00:01<00:00,  1.63s/it]\n"
     ]
    },
    {
     "name": "stdout",
     "output_type": "stream",
     "text": [
      "No data for Stevenson.\n",
      "Extracting data from Texas_A&M/P21898799-P21452091-P21899985.pdf\n"
     ]
    },
    {
     "name": "stderr",
     "output_type": "stream",
     "text": [
      "Uploading files: 100%|██████████████████████████████| 1/1 [00:01<00:00,  1.26s/it]\n",
      "Creating extraction jobs: 100%|█████████████████████| 1/1 [00:00<00:00,  1.71it/s]\n",
      "Extracting files:   0%|                                     | 0/1 [00:00<?, ?it/s]/Users/kevinsu/anaconda3/lib/python3.12/site-packages/llama_cloud_services/extract/extract.py:294: UserWarning: Failure in job: 3831a68e-bf85-4f73-a67f-695a48858bfe, status: StatusEnum.ERROR, error: parsing_error: Error on parsing: Organization Quota exceeded.\n",
      "  warnings.warn(\n",
      "Extracting files: 100%|█████████████████████████████| 1/1 [00:02<00:00,  2.73s/it]\n"
     ]
    },
    {
     "name": "stdout",
     "output_type": "stream",
     "text": [
      "No data for Texas_A&M.\n",
      "Extracting data from The_catholic_university_of_america/P21849198-P11371813-P21859547.pdf\n"
     ]
    },
    {
     "name": "stderr",
     "output_type": "stream",
     "text": [
      "Uploading files: 100%|██████████████████████████████| 1/1 [00:00<00:00,  1.18it/s]\n",
      "Creating extraction jobs: 100%|█████████████████████| 1/1 [00:00<00:00,  2.06it/s]\n",
      "Extracting files:   0%|                                     | 0/1 [00:00<?, ?it/s]/Users/kevinsu/anaconda3/lib/python3.12/site-packages/llama_cloud_services/extract/extract.py:294: UserWarning: Failure in job: e42a3586-395c-4323-af07-ca5c3a6bd618, status: StatusEnum.ERROR, error: parsing_error: Error on parsing: Organization Quota exceeded.\n",
      "  warnings.warn(\n",
      "Extracting files: 100%|█████████████████████████████| 1/1 [00:01<00:00,  1.44s/it]\n"
     ]
    },
    {
     "name": "stdout",
     "output_type": "stream",
     "text": [
      "No data for The_catholic_university_of_america.\n",
      "Extracting data from University_of_colorado/P21915816-P21464707-P21913817.pdf\n"
     ]
    },
    {
     "name": "stderr",
     "output_type": "stream",
     "text": [
      "Uploading files: 100%|██████████████████████████████| 1/1 [00:00<00:00,  1.19it/s]\n",
      "Creating extraction jobs: 100%|█████████████████████| 1/1 [00:00<00:00,  1.88it/s]\n",
      "Extracting files:   0%|                                     | 0/1 [00:00<?, ?it/s]/Users/kevinsu/anaconda3/lib/python3.12/site-packages/llama_cloud_services/extract/extract.py:294: UserWarning: Failure in job: 95bf9cbf-524e-4898-bd62-a46d251fb623, status: StatusEnum.ERROR, error: parsing_error: Error on parsing: Organization Quota exceeded.\n",
      "  warnings.warn(\n",
      "Extracting files: 100%|█████████████████████████████| 1/1 [00:01<00:00,  1.49s/it]\n"
     ]
    },
    {
     "name": "stdout",
     "output_type": "stream",
     "text": [
      "No data for University_of_colorado.\n",
      "Extracting data from University_of_minesota/P11814086-P21430908-P11830336.pdf\n"
     ]
    },
    {
     "name": "stderr",
     "output_type": "stream",
     "text": [
      "Uploading files: 100%|██████████████████████████████| 1/1 [00:00<00:00,  1.05it/s]\n",
      "Creating extraction jobs: 100%|█████████████████████| 1/1 [00:00<00:00,  1.28it/s]\n",
      "Extracting files:   0%|                                     | 0/1 [00:00<?, ?it/s]/Users/kevinsu/anaconda3/lib/python3.12/site-packages/llama_cloud_services/extract/extract.py:294: UserWarning: Failure in job: 4e019712-d4b6-400e-a1e3-3daa360adef4, status: StatusEnum.ERROR, error: parsing_error: Error on parsing: Organization Quota exceeded.\n",
      "  warnings.warn(\n",
      "Extracting files: 100%|█████████████████████████████| 1/1 [00:01<00:00,  1.77s/it]\n"
     ]
    },
    {
     "name": "stdout",
     "output_type": "stream",
     "text": [
      "No data for University_of_minesota.\n",
      "Extracting data from stevens_institue_of_technology/P21870185-P21430712-P21875325.pdf\n"
     ]
    },
    {
     "name": "stderr",
     "output_type": "stream",
     "text": [
      "Uploading files: 100%|██████████████████████████████| 1/1 [00:00<00:00,  1.14it/s]\n",
      "Creating extraction jobs: 100%|█████████████████████| 1/1 [00:00<00:00,  2.34it/s]\n",
      "Extracting files:   0%|                                     | 0/1 [00:00<?, ?it/s]/Users/kevinsu/anaconda3/lib/python3.12/site-packages/llama_cloud_services/extract/extract.py:294: UserWarning: Failure in job: 698e0fb5-4f73-4f88-ad58-f65d9bb94556, status: StatusEnum.ERROR, error: parsing_error: Error on parsing: Organization Quota exceeded.\n",
      "  warnings.warn(\n",
      "Extracting files: 100%|█████████████████████████████| 1/1 [00:04<00:00,  4.03s/it]"
     ]
    },
    {
     "name": "stdout",
     "output_type": "stream",
     "text": [
      "No data for stevens_institue_of_technology.\n",
      "All schools written to output_1/all_schools.xlsx\n"
     ]
    },
    {
     "name": "stderr",
     "output_type": "stream",
     "text": [
      "\n"
     ]
    }
   ],
   "source": [
    "OUTPUT_FILE = os.path.join(OUTPUT_ROOT, \"all_schools.xlsx\")\n",
    "\n",
    "writer = pd.ExcelWriter(OUTPUT_FILE, engine=\"openpyxl\")\n",
    "\n",
    "for school in sorted(os.listdir(PDF_ROOT)):\n",
    "    school_dir = os.path.join(PDF_ROOT, school)\n",
    "    if not os.path.isdir(school_dir):\n",
    "        continue\n",
    "\n",
    "    combined   = {}\n",
    "    first_keys = None\n",
    "    for fname in sorted(os.listdir(school_dir)):\n",
    "        if not fname.lower().endswith(\".pdf\"):\n",
    "            continue\n",
    "        path = os.path.join(school_dir, fname)\n",
    "        print(f\"Extracting data from {school}/{fname}\")\n",
    "        try:\n",
    "            run  = agent.extract(path)\n",
    "            data = run.data or {}\n",
    "            if first_keys is None:\n",
    "                first_keys = list(data.keys())\n",
    "                combined  = {k: None for k in first_keys}\n",
    "            for k, v in data.items():\n",
    "                if v not in (None, \"\", []):\n",
    "                    combined[k] = v\n",
    "        except Exception as err:\n",
    "            print(f\"Skipped {fname}: {err}\")\n",
    "\n",
    "    if first_keys:\n",
    "        df = pd.DataFrame.from_dict(combined, orient=\"index\", columns=[\"2024-25\"])\n",
    "        df.index.name = \"Metric\"\n",
    "        sheet_name = school[:31]\n",
    "        df.to_excel(writer, sheet_name=sheet_name)\n",
    "    else:\n",
    "        print(f\"No data for {school}.\")\n",
    "\n",
    "writer.close()\n",
    "print(f\"All schools written to {OUTPUT_FILE}\")"
   ]
  },
  {
   "cell_type": "code",
   "execution_count": 11,
   "id": "47a6c073-4b51-4770-abc4-f5942a1f772a",
   "metadata": {},
   "outputs": [
    {
     "ename": "KeyError",
     "evalue": "'Texas_A&M'",
     "output_type": "error",
     "traceback": [
      "\u001b[0;31m---------------------------------------------------------------------------\u001b[0m",
      "\u001b[0;31mKeyError\u001b[0m                                  Traceback (most recent call last)",
      "File \u001b[0;32m~/anaconda3/lib/python3.12/site-packages/pandas/core/indexes/base.py:3805\u001b[0m, in \u001b[0;36mIndex.get_loc\u001b[0;34m(self, key)\u001b[0m\n\u001b[1;32m   3804\u001b[0m \u001b[38;5;28;01mtry\u001b[39;00m:\n\u001b[0;32m-> 3805\u001b[0m     \u001b[38;5;28;01mreturn\u001b[39;00m \u001b[38;5;28mself\u001b[39m\u001b[38;5;241m.\u001b[39m_engine\u001b[38;5;241m.\u001b[39mget_loc(casted_key)\n\u001b[1;32m   3806\u001b[0m \u001b[38;5;28;01mexcept\u001b[39;00m \u001b[38;5;167;01mKeyError\u001b[39;00m \u001b[38;5;28;01mas\u001b[39;00m err:\n",
      "File \u001b[0;32mindex.pyx:167\u001b[0m, in \u001b[0;36mpandas._libs.index.IndexEngine.get_loc\u001b[0;34m()\u001b[0m\n",
      "File \u001b[0;32mindex.pyx:196\u001b[0m, in \u001b[0;36mpandas._libs.index.IndexEngine.get_loc\u001b[0;34m()\u001b[0m\n",
      "File \u001b[0;32mpandas/_libs/hashtable_class_helper.pxi:7081\u001b[0m, in \u001b[0;36mpandas._libs.hashtable.PyObjectHashTable.get_item\u001b[0;34m()\u001b[0m\n",
      "File \u001b[0;32mpandas/_libs/hashtable_class_helper.pxi:7089\u001b[0m, in \u001b[0;36mpandas._libs.hashtable.PyObjectHashTable.get_item\u001b[0;34m()\u001b[0m\n",
      "\u001b[0;31mKeyError\u001b[0m: 'Texas_A&M'",
      "\nThe above exception was the direct cause of the following exception:\n",
      "\u001b[0;31mKeyError\u001b[0m                                  Traceback (most recent call last)",
      "Cell \u001b[0;32mIn[11], line 17\u001b[0m\n\u001b[1;32m     13\u001b[0m df_comb\u001b[38;5;241m.\u001b[39mindex\u001b[38;5;241m.\u001b[39mname \u001b[38;5;241m=\u001b[39m \u001b[38;5;124m\"\u001b[39m\u001b[38;5;124mSchool\u001b[39m\u001b[38;5;124m\"\u001b[39m                 \n\u001b[1;32m     14\u001b[0m df_comb\u001b[38;5;241m.\u001b[39minsert(\u001b[38;5;241m0\u001b[39m, \u001b[38;5;124m\"\u001b[39m\u001b[38;5;124mYear\u001b[39m\u001b[38;5;124m\"\u001b[39m, \u001b[38;5;124m\"\u001b[39m\u001b[38;5;124m2024‑2025\u001b[39m\u001b[38;5;124m\"\u001b[39m)\n\u001b[1;32m     16\u001b[0m df_comb\u001b[38;5;241m.\u001b[39mloc[\u001b[38;5;124m'\u001b[39m\u001b[38;5;124mTexas_A&M\u001b[39m\u001b[38;5;124m'\u001b[39m, [\u001b[38;5;124m'\u001b[39m\u001b[38;5;124mTotal_Headcount\u001b[39m\u001b[38;5;124m'\u001b[39m,\u001b[38;5;124m'\u001b[39m\u001b[38;5;124mUndergraduate_Headcount\u001b[39m\u001b[38;5;124m'\u001b[39m]] \u001b[38;5;241m=\u001b[39m \\\n\u001b[0;32m---> 17\u001b[0m     df_comb\u001b[38;5;241m.\u001b[39mloc[\u001b[38;5;124m'\u001b[39m\u001b[38;5;124mTexas_A&M\u001b[39m\u001b[38;5;124m'\u001b[39m, [\u001b[38;5;124m'\u001b[39m\u001b[38;5;124mUndergraduate_Headcount\u001b[39m\u001b[38;5;124m'\u001b[39m,\u001b[38;5;124m'\u001b[39m\u001b[38;5;124mTotal_Headcount\u001b[39m\u001b[38;5;124m'\u001b[39m]]\u001b[38;5;241m.\u001b[39mvalues\n\u001b[1;32m     19\u001b[0m \u001b[38;5;28;01mwith\u001b[39;00m pd\u001b[38;5;241m.\u001b[39mExcelWriter(output_path, engine\u001b[38;5;241m=\u001b[39m\u001b[38;5;124m\"\u001b[39m\u001b[38;5;124mopenpyxl\u001b[39m\u001b[38;5;124m\"\u001b[39m) \u001b[38;5;28;01mas\u001b[39;00m writer:\n\u001b[1;32m     20\u001b[0m     df_comb\u001b[38;5;241m.\u001b[39mto_excel(writer, sheet_name\u001b[38;5;241m=\u001b[39m\u001b[38;5;124m\"\u001b[39m\u001b[38;5;124mCombined\u001b[39m\u001b[38;5;124m\"\u001b[39m)\n",
      "File \u001b[0;32m~/anaconda3/lib/python3.12/site-packages/pandas/core/indexing.py:1184\u001b[0m, in \u001b[0;36m_LocationIndexer.__getitem__\u001b[0;34m(self, key)\u001b[0m\n\u001b[1;32m   1182\u001b[0m     \u001b[38;5;28;01mif\u001b[39;00m \u001b[38;5;28mself\u001b[39m\u001b[38;5;241m.\u001b[39m_is_scalar_access(key):\n\u001b[1;32m   1183\u001b[0m         \u001b[38;5;28;01mreturn\u001b[39;00m \u001b[38;5;28mself\u001b[39m\u001b[38;5;241m.\u001b[39mobj\u001b[38;5;241m.\u001b[39m_get_value(\u001b[38;5;241m*\u001b[39mkey, takeable\u001b[38;5;241m=\u001b[39m\u001b[38;5;28mself\u001b[39m\u001b[38;5;241m.\u001b[39m_takeable)\n\u001b[0;32m-> 1184\u001b[0m     \u001b[38;5;28;01mreturn\u001b[39;00m \u001b[38;5;28mself\u001b[39m\u001b[38;5;241m.\u001b[39m_getitem_tuple(key)\n\u001b[1;32m   1185\u001b[0m \u001b[38;5;28;01melse\u001b[39;00m:\n\u001b[1;32m   1186\u001b[0m     \u001b[38;5;66;03m# we by definition only have the 0th axis\u001b[39;00m\n\u001b[1;32m   1187\u001b[0m     axis \u001b[38;5;241m=\u001b[39m \u001b[38;5;28mself\u001b[39m\u001b[38;5;241m.\u001b[39maxis \u001b[38;5;129;01mor\u001b[39;00m \u001b[38;5;241m0\u001b[39m\n",
      "File \u001b[0;32m~/anaconda3/lib/python3.12/site-packages/pandas/core/indexing.py:1368\u001b[0m, in \u001b[0;36m_LocIndexer._getitem_tuple\u001b[0;34m(self, tup)\u001b[0m\n\u001b[1;32m   1366\u001b[0m \u001b[38;5;28;01mwith\u001b[39;00m suppress(IndexingError):\n\u001b[1;32m   1367\u001b[0m     tup \u001b[38;5;241m=\u001b[39m \u001b[38;5;28mself\u001b[39m\u001b[38;5;241m.\u001b[39m_expand_ellipsis(tup)\n\u001b[0;32m-> 1368\u001b[0m     \u001b[38;5;28;01mreturn\u001b[39;00m \u001b[38;5;28mself\u001b[39m\u001b[38;5;241m.\u001b[39m_getitem_lowerdim(tup)\n\u001b[1;32m   1370\u001b[0m \u001b[38;5;66;03m# no multi-index, so validate all of the indexers\u001b[39;00m\n\u001b[1;32m   1371\u001b[0m tup \u001b[38;5;241m=\u001b[39m \u001b[38;5;28mself\u001b[39m\u001b[38;5;241m.\u001b[39m_validate_tuple_indexer(tup)\n",
      "File \u001b[0;32m~/anaconda3/lib/python3.12/site-packages/pandas/core/indexing.py:1065\u001b[0m, in \u001b[0;36m_LocationIndexer._getitem_lowerdim\u001b[0;34m(self, tup)\u001b[0m\n\u001b[1;32m   1061\u001b[0m \u001b[38;5;28;01mfor\u001b[39;00m i, key \u001b[38;5;129;01min\u001b[39;00m \u001b[38;5;28menumerate\u001b[39m(tup):\n\u001b[1;32m   1062\u001b[0m     \u001b[38;5;28;01mif\u001b[39;00m is_label_like(key):\n\u001b[1;32m   1063\u001b[0m         \u001b[38;5;66;03m# We don't need to check for tuples here because those are\u001b[39;00m\n\u001b[1;32m   1064\u001b[0m         \u001b[38;5;66;03m#  caught by the _is_nested_tuple_indexer check above.\u001b[39;00m\n\u001b[0;32m-> 1065\u001b[0m         section \u001b[38;5;241m=\u001b[39m \u001b[38;5;28mself\u001b[39m\u001b[38;5;241m.\u001b[39m_getitem_axis(key, axis\u001b[38;5;241m=\u001b[39mi)\n\u001b[1;32m   1067\u001b[0m         \u001b[38;5;66;03m# We should never have a scalar section here, because\u001b[39;00m\n\u001b[1;32m   1068\u001b[0m         \u001b[38;5;66;03m#  _getitem_lowerdim is only called after a check for\u001b[39;00m\n\u001b[1;32m   1069\u001b[0m         \u001b[38;5;66;03m#  is_scalar_access, which that would be.\u001b[39;00m\n\u001b[1;32m   1070\u001b[0m         \u001b[38;5;28;01mif\u001b[39;00m section\u001b[38;5;241m.\u001b[39mndim \u001b[38;5;241m==\u001b[39m \u001b[38;5;28mself\u001b[39m\u001b[38;5;241m.\u001b[39mndim:\n\u001b[1;32m   1071\u001b[0m             \u001b[38;5;66;03m# we're in the middle of slicing through a MultiIndex\u001b[39;00m\n\u001b[1;32m   1072\u001b[0m             \u001b[38;5;66;03m# revise the key wrt to `section` by inserting an _NS\u001b[39;00m\n",
      "File \u001b[0;32m~/anaconda3/lib/python3.12/site-packages/pandas/core/indexing.py:1431\u001b[0m, in \u001b[0;36m_LocIndexer._getitem_axis\u001b[0;34m(self, key, axis)\u001b[0m\n\u001b[1;32m   1429\u001b[0m \u001b[38;5;66;03m# fall thru to straight lookup\u001b[39;00m\n\u001b[1;32m   1430\u001b[0m \u001b[38;5;28mself\u001b[39m\u001b[38;5;241m.\u001b[39m_validate_key(key, axis)\n\u001b[0;32m-> 1431\u001b[0m \u001b[38;5;28;01mreturn\u001b[39;00m \u001b[38;5;28mself\u001b[39m\u001b[38;5;241m.\u001b[39m_get_label(key, axis\u001b[38;5;241m=\u001b[39maxis)\n",
      "File \u001b[0;32m~/anaconda3/lib/python3.12/site-packages/pandas/core/indexing.py:1381\u001b[0m, in \u001b[0;36m_LocIndexer._get_label\u001b[0;34m(self, label, axis)\u001b[0m\n\u001b[1;32m   1379\u001b[0m \u001b[38;5;28;01mdef\u001b[39;00m \u001b[38;5;21m_get_label\u001b[39m(\u001b[38;5;28mself\u001b[39m, label, axis: AxisInt):\n\u001b[1;32m   1380\u001b[0m     \u001b[38;5;66;03m# GH#5567 this will fail if the label is not present in the axis.\u001b[39;00m\n\u001b[0;32m-> 1381\u001b[0m     \u001b[38;5;28;01mreturn\u001b[39;00m \u001b[38;5;28mself\u001b[39m\u001b[38;5;241m.\u001b[39mobj\u001b[38;5;241m.\u001b[39mxs(label, axis\u001b[38;5;241m=\u001b[39maxis)\n",
      "File \u001b[0;32m~/anaconda3/lib/python3.12/site-packages/pandas/core/generic.py:4301\u001b[0m, in \u001b[0;36mNDFrame.xs\u001b[0;34m(self, key, axis, level, drop_level)\u001b[0m\n\u001b[1;32m   4299\u001b[0m             new_index \u001b[38;5;241m=\u001b[39m index[loc]\n\u001b[1;32m   4300\u001b[0m \u001b[38;5;28;01melse\u001b[39;00m:\n\u001b[0;32m-> 4301\u001b[0m     loc \u001b[38;5;241m=\u001b[39m index\u001b[38;5;241m.\u001b[39mget_loc(key)\n\u001b[1;32m   4303\u001b[0m     \u001b[38;5;28;01mif\u001b[39;00m \u001b[38;5;28misinstance\u001b[39m(loc, np\u001b[38;5;241m.\u001b[39mndarray):\n\u001b[1;32m   4304\u001b[0m         \u001b[38;5;28;01mif\u001b[39;00m loc\u001b[38;5;241m.\u001b[39mdtype \u001b[38;5;241m==\u001b[39m np\u001b[38;5;241m.\u001b[39mbool_:\n",
      "File \u001b[0;32m~/anaconda3/lib/python3.12/site-packages/pandas/core/indexes/base.py:3812\u001b[0m, in \u001b[0;36mIndex.get_loc\u001b[0;34m(self, key)\u001b[0m\n\u001b[1;32m   3807\u001b[0m     \u001b[38;5;28;01mif\u001b[39;00m \u001b[38;5;28misinstance\u001b[39m(casted_key, \u001b[38;5;28mslice\u001b[39m) \u001b[38;5;129;01mor\u001b[39;00m (\n\u001b[1;32m   3808\u001b[0m         \u001b[38;5;28misinstance\u001b[39m(casted_key, abc\u001b[38;5;241m.\u001b[39mIterable)\n\u001b[1;32m   3809\u001b[0m         \u001b[38;5;129;01mand\u001b[39;00m \u001b[38;5;28many\u001b[39m(\u001b[38;5;28misinstance\u001b[39m(x, \u001b[38;5;28mslice\u001b[39m) \u001b[38;5;28;01mfor\u001b[39;00m x \u001b[38;5;129;01min\u001b[39;00m casted_key)\n\u001b[1;32m   3810\u001b[0m     ):\n\u001b[1;32m   3811\u001b[0m         \u001b[38;5;28;01mraise\u001b[39;00m InvalidIndexError(key)\n\u001b[0;32m-> 3812\u001b[0m     \u001b[38;5;28;01mraise\u001b[39;00m \u001b[38;5;167;01mKeyError\u001b[39;00m(key) \u001b[38;5;28;01mfrom\u001b[39;00m \u001b[38;5;21;01merr\u001b[39;00m\n\u001b[1;32m   3813\u001b[0m \u001b[38;5;28;01mexcept\u001b[39;00m \u001b[38;5;167;01mTypeError\u001b[39;00m:\n\u001b[1;32m   3814\u001b[0m     \u001b[38;5;66;03m# If we have a listlike key, _check_indexing_error will raise\u001b[39;00m\n\u001b[1;32m   3815\u001b[0m     \u001b[38;5;66;03m#  InvalidIndexError. Otherwise we fall through and re-raise\u001b[39;00m\n\u001b[1;32m   3816\u001b[0m     \u001b[38;5;66;03m#  the TypeError.\u001b[39;00m\n\u001b[1;32m   3817\u001b[0m     \u001b[38;5;28mself\u001b[39m\u001b[38;5;241m.\u001b[39m_check_indexing_error(key)\n",
      "\u001b[0;31mKeyError\u001b[0m: 'Texas_A&M'"
     ]
    }
   ],
   "source": [
    "#Combine all the tabs into one sheet if wanted\n",
    "file_path   = \"output_1/all_schools.xlsx\"\n",
    "output_path = \"output_1/all_schools_combined.xlsx\"\n",
    "\n",
    "raw = pd.read_excel(file_path, sheet_name=None, index_col=0)\n",
    "\n",
    "school_series = {\n",
    "    school: df.iloc[:, 0]                      # first (only) value column\n",
    "    for school, df in raw.items()\n",
    "}\n",
    "\n",
    "df_comb = pd.DataFrame(school_series).T\n",
    "df_comb.index.name = \"School\"                 \n",
    "df_comb.insert(0, \"Year\", \"2024‑2025\")\n",
    "\n",
    "df_comb.loc['Texas_A&M', ['Total_Headcount','Undergraduate_Headcount']] = \\\n",
    "    df_comb.loc['Texas_A&M', ['Undergraduate_Headcount','Total_Headcount']].values\n",
    "\n",
    "with pd.ExcelWriter(output_path, engine=\"openpyxl\") as writer:\n",
    "    df_comb.to_excel(writer, sheet_name=\"Combined\")\n",
    "\n",
    "print(\"Saved:\", output_path)"
   ]
  },
  {
   "cell_type": "code",
   "execution_count": null,
   "id": "cdd5ba9c-4240-49fe-8707-9c4fde4a09b6",
   "metadata": {},
   "outputs": [],
   "source": []
  }
 ],
 "metadata": {
  "kernelspec": {
   "display_name": "Python [conda env:base] *",
   "language": "python",
   "name": "conda-base-py"
  },
  "language_info": {
   "codemirror_mode": {
    "name": "ipython",
    "version": 3
   },
   "file_extension": ".py",
   "mimetype": "text/x-python",
   "name": "python",
   "nbconvert_exporter": "python",
   "pygments_lexer": "ipython3",
   "version": "3.12.7"
  }
 },
 "nbformat": 4,
 "nbformat_minor": 5
}
