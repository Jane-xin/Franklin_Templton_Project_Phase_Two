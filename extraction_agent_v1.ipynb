{
 "cells": [
  {
   "cell_type": "code",
   "execution_count": 26,
   "id": "5c9627dd-5608-4da8-9f1a-8ea9589a003b",
   "metadata": {},
   "outputs": [],
   "source": [
    "import os\n",
    "import pandas as pd\n",
    "from llama_extract import LlamaExtract\n",
    "from schemas import Enrollment2024_25  #This could be adjusted through schemas.py\n",
    "from dotenv import load_dotenv"
   ]
  },
  {
   "cell_type": "code",
   "execution_count": 28,
   "id": "cf875a82-1028-4b54-8807-1d1dde9cca33",
   "metadata": {},
   "outputs": [
    {
     "data": {
      "text/plain": [
       "True"
      ]
     },
     "execution_count": 28,
     "metadata": {},
     "output_type": "execute_result"
    }
   ],
   "source": [
    "PDF_ROOT = \"university_pdfs_test\"\n",
    "OUTPUT_ROOT = \"output\"\n",
    "AGENT_ID = \"711c6031-269c-4c51-9f10-d92990c296fe\" #Different based on your LLamaCloud account\n",
    "load_dotenv() #make sure the API key is in the .env file"
   ]
  },
  {
   "cell_type": "code",
   "execution_count": 30,
   "id": "47855a29-4fc8-4dae-b036-4626be1954da",
   "metadata": {},
   "outputs": [
    {
     "name": "stdout",
     "output_type": "stream",
     "text": [
      "No project_id provided, fetching default project.\n"
     ]
    }
   ],
   "source": [
    "extractor = LlamaExtract()\n",
    "\n",
    "#uncomment the below line if you are creating the agent for the first time\n",
    "# agent = extractor.create_agent(name = \"enrollment-parser-2024\", data_schema=Enrollment2024)\n",
    "\n",
    "agent = extractor.get_agent(id = AGENT_ID)\n",
    "\n",
    "#uncomment the following lines if you updated the schema\n",
    "# agent.data_schema = Enrollment2024_25\n",
    "# agent.save()"
   ]
  },
  {
   "cell_type": "markdown",
   "id": "6449229a-af1c-4e6f-8219-6497a0a1bc94",
   "metadata": {},
   "source": [
    "The following two cell blocks extract all schools' info into one excel file per school."
   ]
  },
  {
   "cell_type": "code",
   "execution_count": 31,
   "id": "36077e96-e5ec-4352-afef-d76b8f78be2d",
   "metadata": {},
   "outputs": [],
   "source": [
    "def process_school(school_name, school_dir):\n",
    "    combined   = {}\n",
    "    first_keys = None\n",
    "\n",
    "    for fname in sorted(os.listdir(school_dir)):\n",
    "        if not fname.lower().endswith(\".pdf\"):\n",
    "            continue\n",
    "        path = os.path.join(school_dir, fname)\n",
    "        print(f\"Extracting data from {fname}\")\n",
    "        try:\n",
    "            run  = agent.extract(path)\n",
    "            data = run.data or {}\n",
    "            if first_keys is None:\n",
    "                first_keys = list(data.keys())\n",
    "                combined  = {k: None for k in first_keys}\n",
    "            for k, v in data.items():\n",
    "                if v not in (None, \"\", []):\n",
    "                    combined[k] = v\n",
    "        except Exception as err:\n",
    "            print(f\"Skipped {fname}: {err}\")\n",
    "\n",
    "    if first_keys:\n",
    "        df = pd.DataFrame.from_dict(combined, orient=\"index\", columns=[\"2024-25\"])\n",
    "        df.index.name = \"Metric\"\n",
    "        outfile = os.path.join(OUTPUT_ROOT, f\"{school_name}.xlsx\")\n",
    "        df.to_excel(outfile)\n",
    "        print(f\"Saved output to {outfile}\")\n",
    "    else:\n",
    "        print(f\"No PDF data found for {school_name}\")"
   ]
  },
  {
   "cell_type": "code",
   "execution_count": 16,
   "id": "a7256b8f-8158-48f2-8b89-5e1ae36760c1",
   "metadata": {},
   "outputs": [
    {
     "name": "stdout",
     "output_type": "stream",
     "text": [
      "Processing school: ASU\n",
      "Extracting data from P11817713-P11393130-P11833489.pdf...\n"
     ]
    },
    {
     "name": "stderr",
     "output_type": "stream",
     "text": [
      "Uploading files: 100%|██████████████████████████████| 1/1 [00:00<00:00,  1.09it/s]\n",
      "Creating extraction jobs: 100%|█████████████████████| 1/1 [00:00<00:00,  3.14it/s]\n",
      "Extracting files: 100%|█████████████████████████████| 1/1 [00:03<00:00,  3.75s/it]\n"
     ]
    },
    {
     "name": "stdout",
     "output_type": "stream",
     "text": [
      "Saved output to output/ASU.xlsx\n",
      "Processing school: Bradley University\n",
      "Extracting data from P21862068-P21425154-P21869099.pdf...\n"
     ]
    },
    {
     "name": "stderr",
     "output_type": "stream",
     "text": [
      "Uploading files: 100%|██████████████████████████████| 1/1 [00:00<00:00,  1.20it/s]\n",
      "Creating extraction jobs: 100%|█████████████████████| 1/1 [00:00<00:00,  4.00it/s]\n",
      "Extracting files: 100%|█████████████████████████████| 1/1 [00:04<00:00,  4.08s/it]\n"
     ]
    },
    {
     "name": "stdout",
     "output_type": "stream",
     "text": [
      "Saved output to output/Bradley University.xlsx\n",
      "Processing school: California_state_university\n",
      "Extracting data from P21878315-P21436983-P21882690.pdf...\n"
     ]
    },
    {
     "name": "stderr",
     "output_type": "stream",
     "text": [
      "Uploading files: 100%|██████████████████████████████| 1/1 [00:01<00:00,  1.06s/it]\n",
      "Creating extraction jobs: 100%|█████████████████████| 1/1 [00:00<00:00,  4.30it/s]\n",
      "Extracting files: 100%|█████████████████████████████| 1/1 [00:03<00:00,  3.76s/it]\n"
     ]
    },
    {
     "name": "stdout",
     "output_type": "stream",
     "text": [
      "Saved output to output/California_state_university.xlsx\n",
      "Processing school: Cornell_university\n",
      "Extracting data from P11799657-P11380074-P11818843.pdf...\n"
     ]
    },
    {
     "name": "stderr",
     "output_type": "stream",
     "text": [
      "Uploading files: 100%|██████████████████████████████| 1/1 [00:00<00:00,  1.43it/s]\n",
      "Creating extraction jobs: 100%|█████████████████████| 1/1 [00:00<00:00,  2.71it/s]\n",
      "Extracting files: 100%|█████████████████████████████| 1/1 [00:05<00:00,  5.67s/it]\n"
     ]
    },
    {
     "name": "stdout",
     "output_type": "stream",
     "text": [
      "Saved output to output/Cornell_university.xlsx\n",
      "Processing school: Culinary_institute_of_America\n",
      "Extracting data from P11790595-P11373821-P11811978.pdf...\n"
     ]
    },
    {
     "name": "stderr",
     "output_type": "stream",
     "text": [
      "Uploading files: 100%|██████████████████████████████| 1/1 [00:00<00:00,  1.36it/s]\n",
      "Creating extraction jobs: 100%|█████████████████████| 1/1 [00:00<00:00,  2.88it/s]\n",
      "Extracting files: 100%|█████████████████████████████| 1/1 [00:03<00:00,  3.78s/it]\n"
     ]
    },
    {
     "name": "stdout",
     "output_type": "stream",
     "text": [
      "Saved output to output/Culinary_institute_of_America.xlsx\n",
      "Processing school: Gannon_university\n",
      "Extracting data from P21859160-P21423095-P21866877.pdf...\n"
     ]
    },
    {
     "name": "stderr",
     "output_type": "stream",
     "text": [
      "Uploading files: 100%|██████████████████████████████| 1/1 [00:00<00:00,  1.07it/s]\n",
      "Creating extraction jobs: 100%|█████████████████████| 1/1 [00:00<00:00,  3.34it/s]\n",
      "Extracting files: 100%|█████████████████████████████| 1/1 [00:02<00:00,  2.63s/it]\n"
     ]
    },
    {
     "name": "stdout",
     "output_type": "stream",
     "text": [
      "Saved output to output/Gannon_university.xlsx\n",
      "Processing school: Harvard_university\n",
      "Extracting data from P21889042-P21444694-P21891364.pdf...\n"
     ]
    },
    {
     "name": "stderr",
     "output_type": "stream",
     "text": [
      "Uploading files: 100%|██████████████████████████████| 1/1 [00:01<00:00,  1.18s/it]\n",
      "Creating extraction jobs: 100%|█████████████████████| 1/1 [00:00<00:00,  2.98it/s]\n",
      "Extracting files: 100%|█████████████████████████████| 1/1 [00:03<00:00,  3.45s/it]\n"
     ]
    },
    {
     "name": "stdout",
     "output_type": "stream",
     "text": [
      "Saved output to output/Harvard_university.xlsx\n",
      "Processing school: Lewis_univsersity\n",
      "Extracting data from P11819634-P11394595-P11835096.pdf...\n"
     ]
    },
    {
     "name": "stderr",
     "output_type": "stream",
     "text": [
      "Uploading files: 100%|██████████████████████████████| 1/1 [00:00<00:00,  1.15it/s]\n",
      "Creating extraction jobs: 100%|█████████████████████| 1/1 [00:00<00:00,  3.01it/s]\n",
      "Extracting files: 100%|█████████████████████████████| 1/1 [00:03<00:00,  3.78s/it]\n"
     ]
    },
    {
     "name": "stdout",
     "output_type": "stream",
     "text": [
      "Saved output to output/Lewis_univsersity.xlsx\n",
      "Processing school: MT_ST_MARY\n",
      "Extracting data from Mt St Mary's fall 24 continuing disclosure.pdf...\n"
     ]
    },
    {
     "name": "stderr",
     "output_type": "stream",
     "text": [
      "Uploading files: 100%|██████████████████████████████| 1/1 [00:02<00:00,  2.89s/it]\n",
      "Creating extraction jobs: 100%|█████████████████████| 1/1 [00:00<00:00,  3.64it/s]\n",
      "Extracting files: 100%|█████████████████████████████| 1/1 [00:05<00:00,  5.06s/it]\n"
     ]
    },
    {
     "name": "stdout",
     "output_type": "stream",
     "text": [
      "Saved output to output/MT_ST_MARY.xlsx\n",
      "Processing school: Michigan_state_university\n",
      "Extracting data from P21870305-P21430806-P21875444.pdf...\n"
     ]
    },
    {
     "name": "stderr",
     "output_type": "stream",
     "text": [
      "Uploading files: 100%|██████████████████████████████| 1/1 [00:00<00:00,  1.21it/s]\n",
      "Creating extraction jobs: 100%|█████████████████████| 1/1 [00:00<00:00,  3.22it/s]\n",
      "Extracting files: 100%|█████████████████████████████| 1/1 [00:04<00:00,  4.02s/it]\n"
     ]
    },
    {
     "name": "stdout",
     "output_type": "stream",
     "text": [
      "Saved output to output/Michigan_state_university.xlsx\n",
      "Processing school: Molloy_college\n",
      "Extracting data from P21874771-P21434198-P21879428.pdf...\n"
     ]
    },
    {
     "name": "stderr",
     "output_type": "stream",
     "text": [
      "Uploading files: 100%|██████████████████████████████| 1/1 [00:00<00:00,  1.24it/s]\n",
      "Creating extraction jobs: 100%|█████████████████████| 1/1 [00:00<00:00,  3.02it/s]\n",
      "Extracting files: 100%|█████████████████████████████| 1/1 [00:03<00:00,  3.85s/it]\n"
     ]
    },
    {
     "name": "stdout",
     "output_type": "stream",
     "text": [
      "Saved output to output/Molloy_college.xlsx\n",
      "Processing school: New_York_University\n",
      "Extracting data from P11812334-P11389223-P11829036.pdf...\n"
     ]
    },
    {
     "name": "stderr",
     "output_type": "stream",
     "text": [
      "Uploading files: 100%|██████████████████████████████| 1/1 [00:00<00:00,  1.20it/s]\n",
      "Creating extraction jobs: 100%|█████████████████████| 1/1 [00:00<00:00,  3.59it/s]\n",
      "Extracting files: 100%|█████████████████████████████| 1/1 [00:03<00:00,  3.82s/it]\n"
     ]
    },
    {
     "name": "stdout",
     "output_type": "stream",
     "text": [
      "Saved output to output/New_York_University.xlsx\n",
      "Processing school: Ohio_state\n",
      "Extracting data from P21875437-P21434721-P21880042.pdf...\n"
     ]
    },
    {
     "name": "stderr",
     "output_type": "stream",
     "text": [
      "Uploading files: 100%|██████████████████████████████| 1/1 [00:01<00:00,  1.05s/it]\n",
      "Creating extraction jobs: 100%|█████████████████████| 1/1 [00:00<00:00,  4.01it/s]\n",
      "Extracting files: 100%|█████████████████████████████| 1/1 [00:04<00:00,  4.94s/it]\n"
     ]
    },
    {
     "name": "stdout",
     "output_type": "stream",
     "text": [
      "Saved output to output/Ohio_state.xlsx\n",
      "Processing school: ST_Louis_univ\n",
      "Extracting data from P21874807-P21434222-P21879459.pdf...\n"
     ]
    },
    {
     "name": "stderr",
     "output_type": "stream",
     "text": [
      "Uploading files: 100%|██████████████████████████████| 1/1 [00:00<00:00,  1.28it/s]\n",
      "Creating extraction jobs: 100%|█████████████████████| 1/1 [00:00<00:00,  3.20it/s]\n",
      "Extracting files: 100%|█████████████████████████████| 1/1 [00:03<00:00,  3.79s/it]\n"
     ]
    },
    {
     "name": "stdout",
     "output_type": "stream",
     "text": [
      "Saved output to output/ST_Louis_univ.xlsx\n",
      "Processing school: Stevenson\n",
      "Extracting data from P21870783-P21431172-P21875933.pdf...\n"
     ]
    },
    {
     "name": "stderr",
     "output_type": "stream",
     "text": [
      "Uploading files: 100%|██████████████████████████████| 1/1 [00:00<00:00,  1.15it/s]\n",
      "Creating extraction jobs: 100%|█████████████████████| 1/1 [00:00<00:00,  3.99it/s]\n",
      "Extracting files: 100%|█████████████████████████████| 1/1 [00:03<00:00,  3.74s/it]\n"
     ]
    },
    {
     "name": "stdout",
     "output_type": "stream",
     "text": [
      "Saved output to output/Stevenson.xlsx\n",
      "Processing school: Texas_A&M\n",
      "Extracting data from P21898799-P21452091-P21899985.pdf...\n"
     ]
    },
    {
     "name": "stderr",
     "output_type": "stream",
     "text": [
      "Uploading files: 100%|██████████████████████████████| 1/1 [00:02<00:00,  2.25s/it]\n",
      "Creating extraction jobs: 100%|█████████████████████| 1/1 [00:00<00:00,  3.77it/s]\n",
      "Extracting files: 100%|█████████████████████████████| 1/1 [00:05<00:00,  5.04s/it]\n"
     ]
    },
    {
     "name": "stdout",
     "output_type": "stream",
     "text": [
      "Saved output to output/Texas_A&M.xlsx\n",
      "Processing school: The_catholic_university_of_america\n",
      "Extracting data from P21849198-P11371813-P21859547.pdf...\n"
     ]
    },
    {
     "name": "stderr",
     "output_type": "stream",
     "text": [
      "Uploading files: 100%|██████████████████████████████| 1/1 [00:00<00:00,  1.11it/s]\n",
      "Creating extraction jobs: 100%|█████████████████████| 1/1 [00:00<00:00,  3.03it/s]\n",
      "Extracting files: 100%|█████████████████████████████| 1/1 [00:04<00:00,  4.89s/it]\n"
     ]
    },
    {
     "name": "stdout",
     "output_type": "stream",
     "text": [
      "Saved output to output/The_catholic_university_of_america.xlsx\n",
      "Processing school: University_of_colorado\n",
      "Extracting data from P21915816-P21464707-P21913817.pdf...\n"
     ]
    },
    {
     "name": "stderr",
     "output_type": "stream",
     "text": [
      "Uploading files: 100%|██████████████████████████████| 1/1 [00:00<00:00,  1.05it/s]\n",
      "Creating extraction jobs: 100%|█████████████████████| 1/1 [00:00<00:00,  3.77it/s]\n",
      "Extracting files: 100%|█████████████████████████████| 1/1 [00:03<00:00,  3.77s/it]\n"
     ]
    },
    {
     "name": "stdout",
     "output_type": "stream",
     "text": [
      "Saved output to output/University_of_colorado.xlsx\n",
      "Processing school: University_of_minesota\n",
      "Extracting data from P11814086-P21430908-P11830336.pdf...\n"
     ]
    },
    {
     "name": "stderr",
     "output_type": "stream",
     "text": [
      "Uploading files: 100%|██████████████████████████████| 1/1 [00:00<00:00,  1.08it/s]\n",
      "Creating extraction jobs: 100%|█████████████████████| 1/1 [00:00<00:00,  2.43it/s]\n",
      "Extracting files: 100%|█████████████████████████████| 1/1 [00:05<00:00,  5.12s/it]\n"
     ]
    },
    {
     "name": "stdout",
     "output_type": "stream",
     "text": [
      "Saved output to output/University_of_minesota.xlsx\n",
      "Processing school: stevens_institue_of_technology\n",
      "Extracting data from P21870185-P21430712-P21875325.pdf...\n"
     ]
    },
    {
     "name": "stderr",
     "output_type": "stream",
     "text": [
      "Uploading files: 100%|██████████████████████████████| 1/1 [00:00<00:00,  1.16it/s]\n",
      "Creating extraction jobs: 100%|█████████████████████| 1/1 [00:00<00:00,  3.48it/s]\n",
      "Extracting files: 100%|█████████████████████████████| 1/1 [00:03<00:00,  3.34s/it]"
     ]
    },
    {
     "name": "stdout",
     "output_type": "stream",
     "text": [
      "Saved output to output/stevens_institue_of_technology.xlsx\n",
      "Extraction complete.\n"
     ]
    },
    {
     "name": "stderr",
     "output_type": "stream",
     "text": [
      "\n",
      "Uploading files: 100%|██████████████████████████████| 1/1 [00:00<00:00,  1.15it/s]\n",
      "Creating extraction jobs: 100%|█████████████████████| 1/1 [00:00<00:00,  3.52it/s]\n",
      "Extracting files: 100%|█████████████████████████████| 1/1 [00:02<00:00,  2.66s/it]\n",
      "Uploading files: 100%|██████████████████████████████| 1/1 [00:00<00:00,  1.11it/s]\n",
      "Creating extraction jobs: 100%|█████████████████████| 1/1 [00:00<00:00,  3.25it/s]\n",
      "Extracting files: 100%|█████████████████████████████| 1/1 [00:02<00:00,  2.62s/it]\n",
      "Uploading files: 100%|██████████████████████████████| 1/1 [00:00<00:00,  1.03it/s]\n",
      "Creating extraction jobs: 100%|█████████████████████| 1/1 [00:00<00:00,  2.78it/s]\n",
      "Extracting files: 100%|█████████████████████████████| 1/1 [00:04<00:00,  4.03s/it]\n",
      "Uploading files: 100%|██████████████████████████████| 1/1 [00:00<00:00,  1.34it/s]\n",
      "Creating extraction jobs: 100%|█████████████████████| 1/1 [00:00<00:00,  2.18it/s]\n",
      "Extracting files: 100%|█████████████████████████████| 1/1 [00:03<00:00,  3.85s/it]\n",
      "Uploading files: 100%|██████████████████████████████| 1/1 [00:00<00:00,  1.32it/s]\n",
      "Creating extraction jobs: 100%|█████████████████████| 1/1 [00:00<00:00,  3.30it/s]\n",
      "Extracting files: 100%|█████████████████████████████| 1/1 [00:02<00:00,  2.81s/it]\n",
      "Uploading files: 100%|██████████████████████████████| 1/1 [00:00<00:00,  1.08it/s]\n",
      "Creating extraction jobs: 100%|█████████████████████| 1/1 [00:00<00:00,  3.79it/s]\n",
      "Extracting files: 100%|█████████████████████████████| 1/1 [00:02<00:00,  2.60s/it]\n",
      "Uploading files: 100%|██████████████████████████████| 1/1 [00:01<00:00,  1.07s/it]\n",
      "Creating extraction jobs: 100%|█████████████████████| 1/1 [00:00<00:00,  3.52it/s]\n",
      "Extracting files: 100%|█████████████████████████████| 1/1 [00:02<00:00,  2.63s/it]\n",
      "Uploading files: 100%|██████████████████████████████| 1/1 [00:00<00:00,  1.02it/s]\n",
      "Creating extraction jobs: 100%|█████████████████████| 1/1 [00:00<00:00,  2.32it/s]\n",
      "Extracting files: 100%|█████████████████████████████| 1/1 [00:03<00:00,  3.90s/it]\n",
      "Uploading files: 100%|██████████████████████████████| 1/1 [00:06<00:00,  6.21s/it]\n",
      "Creating extraction jobs: 100%|█████████████████████| 1/1 [00:00<00:00,  3.01it/s]\n",
      "Extracting files: 100%|█████████████████████████████| 1/1 [00:03<00:00,  3.80s/it]\n",
      "Uploading files: 100%|██████████████████████████████| 1/1 [00:00<00:00,  1.28it/s]\n",
      "Creating extraction jobs: 100%|█████████████████████| 1/1 [00:00<00:00,  3.89it/s]\n",
      "Extracting files: 100%|█████████████████████████████| 1/1 [00:03<00:00,  3.73s/it]\n",
      "Uploading files: 100%|██████████████████████████████| 1/1 [00:00<00:00,  1.33it/s]\n",
      "Creating extraction jobs: 100%|█████████████████████| 1/1 [00:00<00:00,  3.68it/s]\n",
      "Extracting files: 100%|█████████████████████████████| 1/1 [00:02<00:00,  2.78s/it]\n",
      "Uploading files: 100%|██████████████████████████████| 1/1 [00:00<00:00,  1.16it/s]\n",
      "Creating extraction jobs: 100%|█████████████████████| 1/1 [00:00<00:00,  3.21it/s]\n",
      "Extracting files: 100%|█████████████████████████████| 1/1 [00:03<00:00,  3.73s/it]\n",
      "Uploading files: 100%|██████████████████████████████| 1/1 [00:00<00:00,  1.06it/s]\n",
      "Creating extraction jobs: 100%|█████████████████████| 1/1 [00:00<00:00,  1.84it/s]\n",
      "Extracting files: 100%|█████████████████████████████| 1/1 [00:04<00:00,  4.01s/it]\n",
      "Uploading files: 100%|██████████████████████████████| 1/1 [00:00<00:00,  1.08it/s]\n",
      "Creating extraction jobs: 100%|█████████████████████| 1/1 [00:00<00:00,  2.53it/s]\n",
      "Extracting files: 100%|█████████████████████████████| 1/1 [00:03<00:00,  3.71s/it]\n",
      "Uploading files: 100%|██████████████████████████████| 1/1 [00:00<00:00,  1.16it/s]\n",
      "Creating extraction jobs: 100%|█████████████████████| 1/1 [00:00<00:00,  4.07it/s]\n",
      "Extracting files: 100%|█████████████████████████████| 1/1 [00:03<00:00,  3.96s/it]\n",
      "Uploading files: 100%|██████████████████████████████| 1/1 [00:01<00:00,  1.73s/it]\n",
      "Creating extraction jobs: 100%|█████████████████████| 1/1 [00:00<00:00,  3.89it/s]\n",
      "Extracting files: 100%|█████████████████████████████| 1/1 [00:03<00:00,  3.73s/it]\n",
      "Uploading files: 100%|██████████████████████████████| 1/1 [00:00<00:00,  1.37it/s]\n",
      "Creating extraction jobs: 100%|█████████████████████| 1/1 [00:00<00:00,  3.76it/s]\n",
      "Extracting files: 100%|█████████████████████████████| 1/1 [00:03<00:00,  3.89s/it]\n",
      "Uploading files: 100%|██████████████████████████████| 1/1 [00:00<00:00,  1.04it/s]\n",
      "Creating extraction jobs: 100%|█████████████████████| 1/1 [00:00<00:00,  3.24it/s]\n",
      "Extracting files: 100%|█████████████████████████████| 1/1 [00:03<00:00,  3.77s/it]\n",
      "Uploading files: 100%|██████████████████████████████| 1/1 [00:00<00:00,  1.00it/s]\n",
      "Creating extraction jobs: 100%|█████████████████████| 1/1 [00:00<00:00,  3.43it/s]\n",
      "Extracting files: 100%|█████████████████████████████| 1/1 [00:03<00:00,  3.83s/it]\n",
      "Uploading files: 100%|██████████████████████████████| 1/1 [00:00<00:00,  1.20it/s]\n",
      "Creating extraction jobs: 100%|█████████████████████| 1/1 [00:00<00:00,  2.09it/s]\n",
      "Extracting files: 100%|█████████████████████████████| 1/1 [00:03<00:00,  3.81s/it]\n",
      "Uploading files: 100%|██████████████████████████████| 1/1 [00:00<00:00,  1.09it/s]\n",
      "Creating extraction jobs: 100%|█████████████████████| 1/1 [00:00<00:00,  3.59it/s]\n",
      "Extracting files: 100%|█████████████████████████████| 1/1 [00:02<00:00,  2.56s/it]\n",
      "Uploading files: 100%|██████████████████████████████| 1/1 [00:00<00:00,  1.17it/s]\n",
      "Creating extraction jobs: 100%|█████████████████████| 1/1 [00:00<00:00,  2.92it/s]\n",
      "Extracting files: 100%|█████████████████████████████| 1/1 [00:03<00:00,  3.81s/it]\n",
      "Uploading files: 100%|██████████████████████████████| 1/1 [00:00<00:00,  1.10it/s]\n",
      "Creating extraction jobs: 100%|█████████████████████| 1/1 [00:00<00:00,  3.48it/s]\n",
      "Extracting files:   0%|                                     | 0/1 [00:02<?, ?it/s]\n",
      "Uploading files: 100%|██████████████████████████████| 1/1 [00:00<00:00,  1.22it/s]\n",
      "Creating extraction jobs: 100%|█████████████████████| 1/1 [00:00<00:00,  2.98it/s]\n",
      "Extracting files: 100%|█████████████████████████████| 1/1 [00:03<00:00,  3.85s/it]\n"
     ]
    }
   ],
   "source": [
    "# Loop over schools\n",
    "for school in sorted(os.listdir(PDF_ROOT)):\n",
    "    school_dir = os.path.join(PDF_ROOT, school)\n",
    "    if not os.path.isdir(school_dir):\n",
    "        continue\n",
    "    print(f\"Processing school: {school}\")\n",
    "    process_school(school, school_dir)\n",
    "\n",
    "print(\"Extraction complete.\")"
   ]
  },
  {
   "cell_type": "markdown",
   "id": "8b385406-d4f6-48e5-94b5-f999ee2e9f04",
   "metadata": {},
   "source": [
    "The following cell block extracts all the schools' info into one excel sheet but in different tabs."
   ]
  },
  {
   "cell_type": "code",
   "execution_count": 34,
   "id": "dbed9f78-2b07-4696-8bd9-2ad2281d255d",
   "metadata": {},
   "outputs": [
    {
     "name": "stdout",
     "output_type": "stream",
     "text": [
      "Extracting data from ASU/P11817713-P11393130-P11833489.pdf\n"
     ]
    },
    {
     "name": "stderr",
     "output_type": "stream",
     "text": [
      "Uploading files: 100%|██████████████████████████████| 1/1 [00:00<00:00,  1.24it/s]\n",
      "Creating extraction jobs: 100%|█████████████████████| 1/1 [00:00<00:00,  3.63it/s]\n",
      "Extracting files: 100%|█████████████████████████████| 1/1 [00:02<00:00,  2.63s/it]\n"
     ]
    },
    {
     "name": "stdout",
     "output_type": "stream",
     "text": [
      "Extracting data from Bradley University/P21862068-P21425154-P21869099.pdf\n"
     ]
    },
    {
     "name": "stderr",
     "output_type": "stream",
     "text": [
      "Uploading files: 100%|██████████████████████████████| 1/1 [00:00<00:00,  1.14it/s]\n",
      "Creating extraction jobs: 100%|█████████████████████| 1/1 [00:00<00:00,  3.19it/s]\n",
      "Extracting files: 100%|█████████████████████████████| 1/1 [00:06<00:00,  6.43s/it]\n"
     ]
    },
    {
     "name": "stdout",
     "output_type": "stream",
     "text": [
      "Extracting data from California_state_university/P21878315-P21436983-P21882690.pdf\n"
     ]
    },
    {
     "name": "stderr",
     "output_type": "stream",
     "text": [
      "Uploading files: 100%|██████████████████████████████| 1/1 [00:00<00:00,  1.12it/s]\n",
      "Creating extraction jobs: 100%|█████████████████████| 1/1 [00:00<00:00,  3.87it/s]\n",
      "Extracting files: 100%|█████████████████████████████| 1/1 [00:02<00:00,  2.65s/it]\n"
     ]
    },
    {
     "name": "stdout",
     "output_type": "stream",
     "text": [
      "Extracting data from Cornell_university/P11799657-P11380074-P11818843.pdf\n"
     ]
    },
    {
     "name": "stderr",
     "output_type": "stream",
     "text": [
      "Uploading files: 100%|██████████████████████████████| 1/1 [00:00<00:00,  1.24it/s]\n",
      "Creating extraction jobs: 100%|█████████████████████| 1/1 [00:00<00:00,  3.56it/s]\n",
      "Extracting files: 100%|█████████████████████████████| 1/1 [00:02<00:00,  2.56s/it]\n"
     ]
    },
    {
     "name": "stdout",
     "output_type": "stream",
     "text": [
      "Extracting data from Culinary_institute_of_America/P11790595-P11373821-P11811978.pdf\n"
     ]
    },
    {
     "name": "stderr",
     "output_type": "stream",
     "text": [
      "Uploading files: 100%|██████████████████████████████| 1/1 [00:00<00:00,  1.24it/s]\n",
      "Creating extraction jobs: 100%|█████████████████████| 1/1 [00:00<00:00,  2.45it/s]\n",
      "Extracting files: 100%|█████████████████████████████| 1/1 [00:04<00:00,  4.30s/it]\n"
     ]
    },
    {
     "name": "stdout",
     "output_type": "stream",
     "text": [
      "Extracting data from Gannon_university/P21859160-P21423095-P21866877.pdf\n"
     ]
    },
    {
     "name": "stderr",
     "output_type": "stream",
     "text": [
      "Uploading files: 100%|██████████████████████████████| 1/1 [00:00<00:00,  1.24it/s]\n",
      "Creating extraction jobs: 100%|█████████████████████| 1/1 [00:00<00:00,  3.32it/s]\n",
      "Extracting files: 100%|█████████████████████████████| 1/1 [00:02<00:00,  2.68s/it]\n"
     ]
    },
    {
     "name": "stdout",
     "output_type": "stream",
     "text": [
      "Extracting data from Harvard_university/P21889042-P21444694-P21891364.pdf\n"
     ]
    },
    {
     "name": "stderr",
     "output_type": "stream",
     "text": [
      "Uploading files: 100%|██████████████████████████████| 1/1 [00:01<00:00,  1.19s/it]\n",
      "Creating extraction jobs: 100%|█████████████████████| 1/1 [00:00<00:00,  2.21it/s]\n",
      "Extracting files: 100%|█████████████████████████████| 1/1 [00:02<00:00,  2.63s/it]\n"
     ]
    },
    {
     "name": "stdout",
     "output_type": "stream",
     "text": [
      "Extracting data from Lewis_univsersity/P11819634-P11394595-P11835096.pdf\n"
     ]
    },
    {
     "name": "stderr",
     "output_type": "stream",
     "text": [
      "Uploading files: 100%|██████████████████████████████| 1/1 [00:00<00:00,  1.08it/s]\n",
      "Creating extraction jobs: 100%|█████████████████████| 1/1 [00:00<00:00,  1.11it/s]\n",
      "Extracting files: 100%|█████████████████████████████| 1/1 [00:03<00:00,  3.69s/it]\n"
     ]
    },
    {
     "name": "stdout",
     "output_type": "stream",
     "text": [
      "Extracting data from MT_ST_MARY/Mt St Mary's fall 24 continuing disclosure.pdf\n"
     ]
    },
    {
     "name": "stderr",
     "output_type": "stream",
     "text": [
      "Uploading files: 100%|██████████████████████████████| 1/1 [00:06<00:00,  6.50s/it]\n",
      "Creating extraction jobs: 100%|█████████████████████| 1/1 [00:00<00:00,  3.74it/s]\n",
      "Extracting files: 100%|█████████████████████████████| 1/1 [00:03<00:00,  3.89s/it]\n"
     ]
    },
    {
     "name": "stdout",
     "output_type": "stream",
     "text": [
      "Extracting data from Michigan_state_university/P21870305-P21430806-P21875444.pdf\n"
     ]
    },
    {
     "name": "stderr",
     "output_type": "stream",
     "text": [
      "Uploading files: 100%|██████████████████████████████| 1/1 [00:00<00:00,  1.35it/s]\n",
      "Creating extraction jobs: 100%|█████████████████████| 1/1 [00:00<00:00,  2.41it/s]\n",
      "Extracting files: 100%|█████████████████████████████| 1/1 [00:05<00:00,  5.06s/it]\n"
     ]
    },
    {
     "name": "stdout",
     "output_type": "stream",
     "text": [
      "Extracting data from Molloy_college/P21874771-P21434198-P21879428.pdf\n"
     ]
    },
    {
     "name": "stderr",
     "output_type": "stream",
     "text": [
      "Uploading files: 100%|██████████████████████████████| 1/1 [00:00<00:00,  1.34it/s]\n",
      "Creating extraction jobs: 100%|█████████████████████| 1/1 [00:00<00:00,  4.19it/s]\n",
      "Extracting files: 100%|█████████████████████████████| 1/1 [00:02<00:00,  2.55s/it]\n"
     ]
    },
    {
     "name": "stdout",
     "output_type": "stream",
     "text": [
      "Extracting data from New_York_University/P11812334-P11389223-P11829036.pdf\n"
     ]
    },
    {
     "name": "stderr",
     "output_type": "stream",
     "text": [
      "Uploading files: 100%|██████████████████████████████| 1/1 [00:00<00:00,  1.08it/s]\n",
      "Creating extraction jobs: 100%|█████████████████████| 1/1 [00:00<00:00,  3.98it/s]\n",
      "Extracting files: 100%|█████████████████████████████| 1/1 [00:03<00:00,  3.86s/it]\n"
     ]
    },
    {
     "name": "stdout",
     "output_type": "stream",
     "text": [
      "Extracting data from Ohio_state/P21875437-P21434721-P21880042.pdf\n"
     ]
    },
    {
     "name": "stderr",
     "output_type": "stream",
     "text": [
      "Uploading files: 100%|██████████████████████████████| 1/1 [00:01<00:00,  1.10s/it]\n",
      "Creating extraction jobs: 100%|█████████████████████| 1/1 [00:00<00:00,  2.47it/s]\n",
      "Extracting files: 100%|█████████████████████████████| 1/1 [00:03<00:00,  3.93s/it]\n"
     ]
    },
    {
     "name": "stdout",
     "output_type": "stream",
     "text": [
      "Extracting data from ST_Louis_univ/P21874807-P21434222-P21879459.pdf\n"
     ]
    },
    {
     "name": "stderr",
     "output_type": "stream",
     "text": [
      "Uploading files: 100%|██████████████████████████████| 1/1 [00:00<00:00,  1.04it/s]\n",
      "Creating extraction jobs: 100%|█████████████████████| 1/1 [00:00<00:00,  3.65it/s]\n",
      "Extracting files: 100%|█████████████████████████████| 1/1 [00:03<00:00,  3.82s/it]\n"
     ]
    },
    {
     "name": "stdout",
     "output_type": "stream",
     "text": [
      "Extracting data from Stevenson/P21870783-P21431172-P21875933.pdf\n"
     ]
    },
    {
     "name": "stderr",
     "output_type": "stream",
     "text": [
      "Uploading files: 100%|██████████████████████████████| 1/1 [00:01<00:00,  1.02s/it]\n",
      "Creating extraction jobs: 100%|█████████████████████| 1/1 [00:00<00:00,  2.38it/s]\n",
      "Extracting files: 100%|█████████████████████████████| 1/1 [00:03<00:00,  3.86s/it]\n"
     ]
    },
    {
     "name": "stdout",
     "output_type": "stream",
     "text": [
      "Extracting data from Texas_A&M/P21898799-P21452091-P21899985.pdf\n"
     ]
    },
    {
     "name": "stderr",
     "output_type": "stream",
     "text": [
      "Uploading files: 100%|██████████████████████████████| 1/1 [00:01<00:00,  1.67s/it]\n",
      "Creating extraction jobs: 100%|█████████████████████| 1/1 [00:00<00:00,  2.45it/s]\n",
      "Extracting files: 100%|█████████████████████████████| 1/1 [00:03<00:00,  3.75s/it]\n"
     ]
    },
    {
     "name": "stdout",
     "output_type": "stream",
     "text": [
      "Extracting data from The_catholic_university_of_america/P21849198-P11371813-P21859547.pdf\n"
     ]
    },
    {
     "name": "stderr",
     "output_type": "stream",
     "text": [
      "Uploading files: 100%|██████████████████████████████| 1/1 [00:00<00:00,  1.00it/s]\n",
      "Creating extraction jobs: 100%|█████████████████████| 1/1 [00:00<00:00,  3.88it/s]\n",
      "Extracting files: 100%|█████████████████████████████| 1/1 [00:03<00:00,  3.75s/it]\n"
     ]
    },
    {
     "name": "stdout",
     "output_type": "stream",
     "text": [
      "Extracting data from University_of_colorado/P21915816-P21464707-P21913817.pdf\n"
     ]
    },
    {
     "name": "stderr",
     "output_type": "stream",
     "text": [
      "Uploading files: 100%|██████████████████████████████| 1/1 [00:00<00:00,  1.11it/s]\n",
      "Creating extraction jobs: 100%|█████████████████████| 1/1 [00:00<00:00,  3.57it/s]\n",
      "Extracting files: 100%|█████████████████████████████| 1/1 [00:03<00:00,  3.79s/it]\n"
     ]
    },
    {
     "name": "stdout",
     "output_type": "stream",
     "text": [
      "Extracting data from University_of_minesota/P11814086-P21430908-P11830336.pdf\n"
     ]
    },
    {
     "name": "stderr",
     "output_type": "stream",
     "text": [
      "Uploading files: 100%|██████████████████████████████| 1/1 [00:01<00:00,  1.01s/it]\n",
      "Creating extraction jobs: 100%|█████████████████████| 1/1 [00:00<00:00,  3.21it/s]\n",
      "Extracting files: 100%|█████████████████████████████| 1/1 [00:03<00:00,  3.87s/it]\n"
     ]
    },
    {
     "name": "stdout",
     "output_type": "stream",
     "text": [
      "Extracting data from stevens_institue_of_technology/P21870185-P21430712-P21875325.pdf\n"
     ]
    },
    {
     "name": "stderr",
     "output_type": "stream",
     "text": [
      "Uploading files: 100%|██████████████████████████████| 1/1 [00:00<00:00,  1.16it/s]\n",
      "Creating extraction jobs: 100%|█████████████████████| 1/1 [00:00<00:00,  3.78it/s]\n",
      "Extracting files: 100%|█████████████████████████████| 1/1 [00:03<00:00,  3.77s/it]"
     ]
    },
    {
     "name": "stdout",
     "output_type": "stream",
     "text": [
      "All schools written to output/all_schools.xlsx\n"
     ]
    },
    {
     "name": "stderr",
     "output_type": "stream",
     "text": [
      "\n"
     ]
    }
   ],
   "source": [
    "OUTPUT_FILE = os.path.join(OUTPUT_ROOT, \"all_schools.xlsx\")\n",
    "\n",
    "writer = pd.ExcelWriter(OUTPUT_FILE, engine=\"openpyxl\")\n",
    "\n",
    "for school in sorted(os.listdir(PDF_ROOT)):\n",
    "    school_dir = os.path.join(PDF_ROOT, school)\n",
    "    if not os.path.isdir(school_dir):\n",
    "        continue\n",
    "\n",
    "    combined   = {}\n",
    "    first_keys = None\n",
    "    for fname in sorted(os.listdir(school_dir)):\n",
    "        if not fname.lower().endswith(\".pdf\"):\n",
    "            continue\n",
    "        path = os.path.join(school_dir, fname)\n",
    "        print(f\"Extracting data from {school}/{fname}\")\n",
    "        try:\n",
    "            run  = agent.extract(path)\n",
    "            data = run.data or {}\n",
    "            if first_keys is None:\n",
    "                first_keys = list(data.keys())\n",
    "                combined  = {k: None for k in first_keys}\n",
    "            for k, v in data.items():\n",
    "                if v not in (None, \"\", []):\n",
    "                    combined[k] = v\n",
    "        except Exception as err:\n",
    "            print(f\"Skipped {fname}: {err}\")\n",
    "\n",
    "    if first_keys:\n",
    "        df = pd.DataFrame.from_dict(combined, orient=\"index\", columns=[\"2024-25\"])\n",
    "        df.index.name = \"Metric\"\n",
    "        sheet_name = school[:31]\n",
    "        df.to_excel(writer, sheet_name=sheet_name)\n",
    "    else:\n",
    "        print(f\"No data for {school}.\")\n",
    "\n",
    "writer.close()\n",
    "print(f\"All schools written to {OUTPUT_FILE}\")"
   ]
  },
  {
   "cell_type": "code",
   "execution_count": 41,
   "id": "47a6c073-4b51-4770-abc4-f5942a1f772a",
   "metadata": {},
   "outputs": [],
   "source": [
    "#Combine all the tabs into one sheet if wanted\n",
    "file_path = \"output/all_schools.xlsx\"\n",
    "\n",
    "sheets = pd.read_excel(file_path, sheet_name=None, index_col=0)\n",
    "\n",
    "df_comb = pd.concat(sheets, axis=1)\n",
    "df_comb.columns = df_comb.columns.get_level_values(0)\n",
    "\n",
    "output_path = \"output/all_schools_combined.xlsx\"\n",
    "with pd.ExcelWriter(output_path, engine=\"openpyxl\") as writer:\n",
    "    df_comb.to_excel(writer, sheet_name=\"Combined\")"
   ]
  },
  {
   "cell_type": "code",
   "execution_count": null,
   "id": "049ff3e9-7399-45d9-9854-e230bcbd5868",
   "metadata": {},
   "outputs": [],
   "source": []
  }
 ],
 "metadata": {
  "kernelspec": {
   "display_name": "Python [conda env:base] *",
   "language": "python",
   "name": "conda-base-py"
  },
  "language_info": {
   "codemirror_mode": {
    "name": "ipython",
    "version": 3
   },
   "file_extension": ".py",
   "mimetype": "text/x-python",
   "name": "python",
   "nbconvert_exporter": "python",
   "pygments_lexer": "ipython3",
   "version": "3.12.7"
  }
 },
 "nbformat": 4,
 "nbformat_minor": 5
}
